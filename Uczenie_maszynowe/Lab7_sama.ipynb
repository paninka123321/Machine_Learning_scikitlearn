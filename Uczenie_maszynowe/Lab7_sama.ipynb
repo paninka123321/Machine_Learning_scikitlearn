{
  "nbformat": 4,
  "nbformat_minor": 0,
  "metadata": {
    "colab": {
      "provenance": []
    },
    "kernelspec": {
      "name": "python3",
      "display_name": "Python 3"
    },
    "language_info": {
      "name": "python"
    }
  },
  "cells": [
    {
      "cell_type": "code",
      "execution_count": null,
      "metadata": {
        "id": "AEPDv44STJ1v"
      },
      "outputs": [],
      "source": [
        "# 7.1"
      ]
    },
    {
      "cell_type": "code",
      "source": [
        "import numpy as np\n",
        "import pandas as pd\n",
        "from sklearn.model_selection import train_test_split\n",
        "from sklearn.metrics import roc_auc_score, roc_curve\n",
        "from sklearn.preprocessing import LabelEncoder\n",
        "import matplotlib.pyplot as plt"
      ],
      "metadata": {
        "id": "zFJBlXVdThHX"
      },
      "execution_count": null,
      "outputs": []
    },
    {
      "cell_type": "code",
      "source": [
        "n = 100\n",
        "b0 = 1\n",
        "b1 = 1\n",
        "x = np.random.normal(0,1, n)\n",
        "epsilon = np.random.normal(0,1,n)"
      ],
      "metadata": {
        "id": "ColuTqnGTWli"
      },
      "execution_count": null,
      "outputs": []
    },
    {
      "cell_type": "code",
      "source": [
        "y = b0 + b1*x + epsilon"
      ],
      "metadata": {
        "id": "EufP41JJT_dw"
      },
      "execution_count": null,
      "outputs": []
    },
    {
      "cell_type": "code",
      "source": [
        "x = np.append((x), [4])"
      ],
      "metadata": {
        "id": "9VbMkL2HT_8M"
      },
      "execution_count": null,
      "outputs": []
    },
    {
      "cell_type": "code",
      "source": [
        "y = np.append((y), [-3])"
      ],
      "metadata": {
        "id": "Yuzk-XAnVBbs"
      },
      "execution_count": null,
      "outputs": []
    },
    {
      "cell_type": "code",
      "source": [
        "plt.scatter(x, y)"
      ],
      "metadata": {
        "colab": {
          "base_uri": "https://localhost:8080/",
          "height": 284
        },
        "id": "9KkBVT14VQAV",
        "outputId": "bc520fb5-c034-4b87-9ae3-2c552de24a13"
      },
      "execution_count": null,
      "outputs": [
        {
          "output_type": "execute_result",
          "data": {
            "text/plain": [
              "<matplotlib.collections.PathCollection at 0x7f683e615e50>"
            ]
          },
          "metadata": {},
          "execution_count": 16
        },
        {
          "output_type": "display_data",
          "data": {
            "text/plain": [
              "<Figure size 432x288 with 1 Axes>"
            ],
            "image/png": "[encoded data removed]"
          },
          "metadata": {
            "needs_background": "light"
          }
        }
      ]
    },
    {
      "cell_type": "code",
      "source": [
        "from sklearn.linear_model import LogisticRegression"
      ],
      "metadata": {
        "id": "57POgnhiVVNI"
      },
      "execution_count": null,
      "outputs": []
    },
    {
      "cell_type": "code",
      "source": [
        "model1 = LogisticRegression(penalty = 'l2', max_iter=1000).fit(X,y)"
      ],
      "metadata": {
        "colab": {
          "base_uri": "https://localhost:8080/",
          "height": 312
        },
        "id": "B0_aq4i4VmgK",
        "outputId": "51bf3410-eb10-425c-d864-d249de0e6246"
      },
      "execution_count": null,
      "outputs": [
        {
          "output_type": "error",
          "ename": "ValueError",
          "evalue": "ignored",
          "traceback": [
            "\u001b[0;31m---------------------------------------------------------------------------\u001b[0m",
            "\u001b[0;31mValueError\u001b[0m                                Traceback (most recent call last)",
            "\u001b[0;32m<ipython-input-23-00fec008ab89>\u001b[0m in \u001b[0;36m<module>\u001b[0;34m\u001b[0m\n\u001b[0;32m----> 1\u001b[0;31m \u001b[0mmodel1\u001b[0m \u001b[0;34m=\u001b[0m \u001b[0mLogisticRegression\u001b[0m\u001b[0;34m(\u001b[0m\u001b[0mpenalty\u001b[0m \u001b[0;34m=\u001b[0m \u001b[0;34m'l2'\u001b[0m\u001b[0;34m,\u001b[0m \u001b[0mmax_iter\u001b[0m\u001b[0;34m=\u001b[0m\u001b[0;36m1000\u001b[0m\u001b[0;34m)\u001b[0m\u001b[0;34m.\u001b[0m\u001b[0mfit\u001b[0m\u001b[0;34m(\u001b[0m\u001b[0mX\u001b[0m\u001b[0;34m,\u001b[0m\u001b[0my\u001b[0m\u001b[0;34m)\u001b[0m\u001b[0;34m\u001b[0m\u001b[0;34m\u001b[0m\u001b[0m\n\u001b[0m",
            "\u001b[0;32m/usr/local/lib/python3.7/dist-packages/sklearn/linear_model/_logistic.py\u001b[0m in \u001b[0;36mfit\u001b[0;34m(self, X, y, sample_weight)\u001b[0m\n\u001b[1;32m   1514\u001b[0m             \u001b[0maccept_large_sparse\u001b[0m\u001b[0;34m=\u001b[0m\u001b[0msolver\u001b[0m \u001b[0;32mnot\u001b[0m \u001b[0;32min\u001b[0m \u001b[0;34m[\u001b[0m\u001b[0;34m\"liblinear\"\u001b[0m\u001b[0;34m,\u001b[0m \u001b[0;34m\"sag\"\u001b[0m\u001b[0;34m,\u001b[0m \u001b[0;34m\"saga\"\u001b[0m\u001b[0;34m]\u001b[0m\u001b[0;34m,\u001b[0m\u001b[0;34m\u001b[0m\u001b[0;34m\u001b[0m\u001b[0m\n\u001b[1;32m   1515\u001b[0m         )\n\u001b[0;32m-> 1516\u001b[0;31m         \u001b[0mcheck_classification_targets\u001b[0m\u001b[0;34m(\u001b[0m\u001b[0my\u001b[0m\u001b[0;34m)\u001b[0m\u001b[0;34m\u001b[0m\u001b[0;34m\u001b[0m\u001b[0m\n\u001b[0m\u001b[1;32m   1517\u001b[0m         \u001b[0mself\u001b[0m\u001b[0;34m.\u001b[0m\u001b[0mclasses_\u001b[0m \u001b[0;34m=\u001b[0m \u001b[0mnp\u001b[0m\u001b[0;34m.\u001b[0m\u001b[0munique\u001b[0m\u001b[0;34m(\u001b[0m\u001b[0my\u001b[0m\u001b[0;34m)\u001b[0m\u001b[0;34m\u001b[0m\u001b[0;34m\u001b[0m\u001b[0m\n\u001b[1;32m   1518\u001b[0m \u001b[0;34m\u001b[0m\u001b[0m\n",
            "\u001b[0;32m/usr/local/lib/python3.7/dist-packages/sklearn/utils/multiclass.py\u001b[0m in \u001b[0;36mcheck_classification_targets\u001b[0;34m(y)\u001b[0m\n\u001b[1;32m    195\u001b[0m         \u001b[0;34m\"multilabel-sequences\"\u001b[0m\u001b[0;34m,\u001b[0m\u001b[0;34m\u001b[0m\u001b[0;34m\u001b[0m\u001b[0m\n\u001b[1;32m    196\u001b[0m     ]:\n\u001b[0;32m--> 197\u001b[0;31m         \u001b[0;32mraise\u001b[0m \u001b[0mValueError\u001b[0m\u001b[0;34m(\u001b[0m\u001b[0;34m\"Unknown label type: %r\"\u001b[0m \u001b[0;34m%\u001b[0m \u001b[0my_type\u001b[0m\u001b[0;34m)\u001b[0m\u001b[0;34m\u001b[0m\u001b[0;34m\u001b[0m\u001b[0m\n\u001b[0m\u001b[1;32m    198\u001b[0m \u001b[0;34m\u001b[0m\u001b[0m\n\u001b[1;32m    199\u001b[0m \u001b[0;34m\u001b[0m\u001b[0m\n",
            "\u001b[0;31mValueError\u001b[0m: Unknown label type: 'continuous'"
          ]
        }
      ]
    },
    {
      "cell_type": "code",
      "source": [
        "X = np.reshape(x, (-1,1))"
      ],
      "metadata": {
        "id": "RSLczOx8WSzj"
      },
      "execution_count": null,
      "outputs": []
    },
    {
      "cell_type": "code",
      "source": [
        "x.shape"
      ],
      "metadata": {
        "colab": {
          "base_uri": "https://localhost:8080/"
        },
        "id": "YJky8LBig5_T",
        "outputId": "4f09602a-da88-49b7-97f6-350b6f222c3a"
      },
      "execution_count": null,
      "outputs": [
        {
          "output_type": "execute_result",
          "data": {
            "text/plain": [
              "(101,)"
            ]
          },
          "metadata": {},
          "execution_count": 30
        }
      ]
    },
    {
      "cell_type": "code",
      "source": [
        "X.shape"
      ],
      "metadata": {
        "colab": {
          "base_uri": "https://localhost:8080/"
        },
        "id": "6eYnJzStg27_",
        "outputId": "3bac5364-b98a-4881-c914-4a760025fb8d"
      },
      "execution_count": null,
      "outputs": [
        {
          "output_type": "execute_result",
          "data": {
            "text/plain": [
              "(101, 1)"
            ]
          },
          "metadata": {},
          "execution_count": 29
        }
      ]
    },
    {
      "cell_type": "code",
      "source": [
        "from sklearn.linear_model import HuberRegressor"
      ],
      "metadata": {
        "id": "JVh4I5wkYXDA"
      },
      "execution_count": null,
      "outputs": []
    },
    {
      "cell_type": "code",
      "source": [
        "plt.scatter(x, y)\n",
        "m1 = LinearRegression() #definiujemy model liniowy \n",
        "m1.fit(X,y) #dopasowujemy go do danych\n",
        "predictions_m1 = m1.predict(X) #liczymy wartości dopasowane na danych treningowych \n",
        "plt.plot(x,predictions_m1,'r') #rysujemy prostą MNK (optymalną w sensie kwadratowej funkcji straty)\n",
        "#d\n",
        "m2 = HuberRegressor() #definiujemy model liniowy z huberowską funkcją straty\n",
        "m2.fit(X,y) #dopsaoujemy go do danych\n",
        "predictions_m2 = m2.predict(X) #liczymy wartości dopasowane na danych treningowych\n",
        "plt.plot(x,predictions_m2,'b') #rysujemy prostą (optymalną w sensie huberowskiej funkcji straty)\n",
        "print(m1.coef_) #współczynnik dla kwadratowej funkcji straty - odbiega od prawdziwego b1\n",
        "print(m2.coef_) #współczynnik dla huberowskiej funkcji straty - bliższy prawdziwemu b1"
      ],
      "metadata": {
        "colab": {
          "base_uri": "https://localhost:8080/",
          "height": 300
        },
        "id": "A4RkPmAOWX75",
        "outputId": "785ca250-c102-49c3-817b-e12c3c94f4c1"
      },
      "execution_count": null,
      "outputs": [
        {
          "output_type": "stream",
          "name": "stdout",
          "text": [
            "[0.75135742]\n",
            "[0.95635556]\n"
          ]
        },
        {
          "output_type": "display_data",
          "data": {
            "text/plain": [
              "<Figure size 432x288 with 1 Axes>"
            ],
            "image/png": "[encoded data removed]"
          },
          "metadata": {
            "needs_background": "light"
          }
        }
      ]
    },
    {
      "cell_type": "code",
      "source": [
        "plt.plot(np.arange(len(y)),y-predictions_m1,'o')"
      ],
      "metadata": {
        "colab": {
          "base_uri": "https://localhost:8080/",
          "height": 282
        },
        "id": "-iXpbpueV7w9",
        "outputId": "ce7d21ce-36c7-470c-dfc3-ea715740b1af"
      },
      "execution_count": null,
      "outputs": [
        {
          "output_type": "execute_result",
          "data": {
            "text/plain": [
              "[<matplotlib.lines.Line2D at 0x7f683d7fead0>]"
            ]
          },
          "metadata": {},
          "execution_count": 28
        },
        {
          "output_type": "display_data",
          "data": {
            "text/plain": [
              "<Figure size 432x288 with 1 Axes>"
            ],
            "image/png": "[encoded data removed]"
          },
          "metadata": {
            "needs_background": "light"
          }
        }
      ]
    },
    {
      "cell_type": "markdown",
      "source": [
        "# 7.3"
      ],
      "metadata": {
        "id": "XXZfc8ls0vGF"
      }
    },
    {
      "cell_type": "code",
      "source": [
        "import numpy as np\n",
        "import pandas as pd\n",
        "import matplotlib.pyplot as plt\n",
        "from sklearn.preprocessing import LabelEncoder\n",
        "from sklearn.linear_model import HuberRegressor\n",
        "from sklearn.linear_model import LinearRegression\n",
        "from sklearn.linear_model import QuantileRegressor\n",
        "from sklearn.svm import LinearSVC\n",
        "from sklearn.model_selection import train_test_split"
      ],
      "metadata": {
        "id": "wtGb_69bWPJv"
      },
      "execution_count": null,
      "outputs": []
    },
    {
      "cell_type": "code",
      "source": [
        "from google.colab import files\n",
        "uploaded = files.upload()"
      ],
      "metadata": {
        "colab": {
          "base_uri": "https://localhost:8080/",
          "height": 92
        },
        "id": "e_7AJArV2MTe",
        "outputId": "3e872109-d6df-4636-d41f-a81c99deaaa6"
      },
      "execution_count": null,
      "outputs": [
        {
          "output_type": "display_data",
          "data": {
            "text/plain": [
              "<IPython.core.display.HTML object>"
            ],
            "text/html": [
              "\n",
              "     <input type=\"file\" id=\"files-c601d832-90e3-46fd-a16a-34ab522207d9\" name=\"files[]\" multiple disabled\n",
              "        style=\"border:none\" />\n",
              "     <output id=\"result-c601d832-90e3-46fd-a16a-34ab522207d9\">\n",
              "      Upload widget is only available when the cell has been executed in the\n",
              "      current browser session. Please rerun this cell to enable.\n",
              "      </output>\n",
              "      <script>// Copyright 2017 Google LLC\n",
              "//\n",
              "// Licensed under the Apache License, Version 2.0 (the \"License\");\n",
              "// you may not use this file except in compliance with the License.\n",
              "// You may obtain a copy of the License at\n",
              "//\n",
              "//      http://www.apache.org/licenses/LICENSE-2.0\n",
              "//\n",
              "// Unless required by applicable law or agreed to in writing, software\n",
              "// distributed under the License is distributed on an \"AS IS\" BASIS,\n",
              "// WITHOUT WARRANTIES OR CONDITIONS OF ANY KIND, either express or implied.\n",
              "// See the License for the specific language governing permissions and\n",
              "// limitations under the License.\n",
              "\n",
              "/**\n",
              " * @fileoverview Helpers for google.colab Python module.\n",
              " */\n",
              "(function(scope) {\n",
              "function span(text, styleAttributes = {}) {\n",
              "  const element = document.createElement('span');\n",
              "  element.textContent = text;\n",
              "  for (const key of Object.keys(styleAttributes)) {\n",
              "    element.style[key] = styleAttributes[key];\n",
              "  }\n",
              "  return element;\n",
              "}\n",
              "\n",
              "// Max number of bytes which will be uploaded at a time.\n",
              "const MAX_PAYLOAD_SIZE = 100 * 1024;\n",
              "\n",
              "function _uploadFiles(inputId, outputId) {\n",
              "  const steps = uploadFilesStep(inputId, outputId);\n",
              "  const outputElement = document.getElementById(outputId);\n",
              "  // Cache steps on the outputElement to make it available for the next call\n",
              "  // to uploadFilesContinue from Python.\n",
              "  outputElement.steps = steps;\n",
              "\n",
              "  return _uploadFilesContinue(outputId);\n",
              "}\n",
              "\n",
              "// This is roughly an async generator (not supported in the browser yet),\n",
              "// where there are multiple asynchronous steps and the Python side is going\n",
              "// to poll for completion of each step.\n",
              "// This uses a Promise to block the python side on completion of each step,\n",
              "// then passes the result of the previous step as the input to the next step.\n",
              "function _uploadFilesContinue(outputId) {\n",
              "  const outputElement = document.getElementById(outputId);\n",
              "  const steps = outputElement.steps;\n",
              "\n",
              "  const next = steps.next(outputElement.lastPromiseValue);\n",
              "  return Promise.resolve(next.value.promise).then((value) => {\n",
              "    // Cache the last promise value to make it available to the next\n",
              "    // step of the generator.\n",
              "    outputElement.lastPromiseValue = value;\n",
              "    return next.value.response;\n",
              "  });\n",
              "}\n",
              "\n",
              "/**\n",
              " * Generator function which is called between each async step of the upload\n",
              " * process.\n",
              " * @param {string} inputId Element ID of the input file picker element.\n",
              " * @param {string} outputId Element ID of the output display.\n",
              " * @return {!Iterable<!Object>} Iterable of next steps.\n",
              " */\n",
              "function* uploadFilesStep(inputId, outputId) {\n",
              "  const inputElement = document.getElementById(inputId);\n",
              "  inputElement.disabled = false;\n",
              "\n",
              "  const outputElement = document.getElementById(outputId);\n",
              "  outputElement.innerHTML = '';\n",
              "\n",
              "  const pickedPromise = new Promise((resolve) => {\n",
              "    inputElement.addEventListener('change', (e) => {\n",
              "      resolve(e.target.files);\n",
              "    });\n",
              "  });\n",
              "\n",
              "  const cancel = document.createElement('button');\n",
              "  inputElement.parentElement.appendChild(cancel);\n",
              "  cancel.textContent = 'Cancel upload';\n",
              "  const cancelPromise = new Promise((resolve) => {\n",
              "    cancel.onclick = () => {\n",
              "      resolve(null);\n",
              "    };\n",
              "  });\n",
              "\n",
              "  // Wait for the user to pick the files.\n",
              "  const files = yield {\n",
              "    promise: Promise.race([pickedPromise, cancelPromise]),\n",
              "    response: {\n",
              "      action: 'starting',\n",
              "    }\n",
              "  };\n",
              "\n",
              "  cancel.remove();\n",
              "\n",
              "  // Disable the input element since further picks are not allowed.\n",
              "  inputElement.disabled = true;\n",
              "\n",
              "  if (!files) {\n",
              "    return {\n",
              "      response: {\n",
              "        action: 'complete',\n",
              "      }\n",
              "    };\n",
              "  }\n",
              "\n",
              "  for (const file of files) {\n",
              "    const li = document.createElement('li');\n",
              "    li.append(span(file.name, {fontWeight: 'bold'}));\n",
              "    li.append(span(\n",
              "        `(${file.type || 'n/a'}) - ${file.size} bytes, ` +\n",
              "        `last modified: ${\n",
              "            file.lastModifiedDate ? file.lastModifiedDate.toLocaleDateString() :\n",
              "                                    'n/a'} - `));\n",
              "    const percent = span('0% done');\n",
              "    li.appendChild(percent);\n",
              "\n",
              "    outputElement.appendChild(li);\n",
              "\n",
              "    const fileDataPromise = new Promise((resolve) => {\n",
              "      const reader = new FileReader();\n",
              "      reader.onload = (e) => {\n",
              "        resolve(e.target.result);\n",
              "      };\n",
              "      reader.readAsArrayBuffer(file);\n",
              "    });\n",
              "    // Wait for the data to be ready.\n",
              "    let fileData = yield {\n",
              "      promise: fileDataPromise,\n",
              "      response: {\n",
              "        action: 'continue',\n",
              "      }\n",
              "    };\n",
              "\n",
              "    // Use a chunked sending to avoid message size limits. See b/62115660.\n",
              "    let position = 0;\n",
              "    do {\n",
              "      const length = Math.min(fileData.byteLength - position, MAX_PAYLOAD_SIZE);\n",
              "      const chunk = new Uint8Array(fileData, position, length);\n",
              "      position += length;\n",
              "\n",
              "      const base64 = btoa(String.fromCharCode.apply(null, chunk));\n",
              "      yield {\n",
              "        response: {\n",
              "          action: 'append',\n",
              "          file: file.name,\n",
              "          data: base64,\n",
              "        },\n",
              "      };\n",
              "\n",
              "      let percentDone = fileData.byteLength === 0 ?\n",
              "          100 :\n",
              "          Math.round((position / fileData.byteLength) * 100);\n",
              "      percent.textContent = `${percentDone}% done`;\n",
              "\n",
              "    } while (position < fileData.byteLength);\n",
              "  }\n",
              "\n",
              "  // All done.\n",
              "  yield {\n",
              "    response: {\n",
              "      action: 'complete',\n",
              "    }\n",
              "  };\n",
              "}\n",
              "\n",
              "scope.google = scope.google || {};\n",
              "scope.google.colab = scope.google.colab || {};\n",
              "scope.google.colab._files = {\n",
              "  _uploadFiles,\n",
              "  _uploadFilesContinue,\n",
              "};\n",
              "})(self);\n",
              "</script> "
            ]
          },
          "metadata": {}
        },
        {
          "output_type": "stream",
          "name": "stdout",
          "text": [
            "Saving earthquake.csv to earthquake.csv\n"
          ]
        }
      ]
    },
    {
      "cell_type": "code",
      "source": [
        "df = pd.read_csv('earthquake.csv')"
      ],
      "metadata": {
        "id": "1t0Ndnuv2PTU"
      },
      "execution_count": null,
      "outputs": []
    },
    {
      "cell_type": "code",
      "source": [
        "df.head()"
      ],
      "metadata": {
        "colab": {
          "base_uri": "https://localhost:8080/",
          "height": 221
        },
        "id": "06nedqgt2bGp",
        "outputId": "44e04280-4805-452a-ea22-55a89ff1eda4"
      },
      "execution_count": null,
      "outputs": [
        {
          "output_type": "execute_result",
          "data": {
            "text/plain": [
              "     popn  body  surface\n",
              "0  equake  5.60     4.25\n",
              "1  equake  5.18     3.93\n",
              "2  equake  6.31     6.30\n",
              "3  equake  5.36     4.49\n",
              "4  equake  5.96     6.39"
            ],
            "text/html": [
              "\n",
              "  <div id=\"df-a6c12ebc-2b4a-4185-804e-75077ca7d416\">\n",
              "    <div class=\"colab-df-container\">\n",
              "      <div>\n",
              "<style scoped>\n",
              "    .dataframe tbody tr th:only-of-type {\n",
              "        vertical-align: middle;\n",
              "    }\n",
              "\n",
              "    .dataframe tbody tr th {\n",
              "        vertical-align: top;\n",
              "    }\n",
              "\n",
              "    .dataframe thead th {\n",
              "        text-align: right;\n",
              "    }\n",
              "</style>\n",
              "<table border=\"1\" class=\"dataframe\">\n",
              "  <thead>\n",
              "    <tr style=\"text-align: right;\">\n",
              "      <th></th>\n",
              "      <th>popn</th>\n",
              "      <th>body</th>\n",
              "      <th>surface</th>\n",
              "    </tr>\n",
              "  </thead>\n",
              "  <tbody>\n",
              "    <tr>\n",
              "      <th>0</th>\n",
              "      <td>equake</td>\n",
              "      <td>5.60</td>\n",
              "      <td>4.25</td>\n",
              "    </tr>\n",
              "    <tr>\n",
              "      <th>1</th>\n",
              "      <td>equake</td>\n",
              "      <td>5.18</td>\n",
              "      <td>3.93</td>\n",
              "    </tr>\n",
              "    <tr>\n",
              "      <th>2</th>\n",
              "      <td>equake</td>\n",
              "      <td>6.31</td>\n",
              "      <td>6.30</td>\n",
              "    </tr>\n",
              "    <tr>\n",
              "      <th>3</th>\n",
              "      <td>equake</td>\n",
              "      <td>5.36</td>\n",
              "      <td>4.49</td>\n",
              "    </tr>\n",
              "    <tr>\n",
              "      <th>4</th>\n",
              "      <td>equake</td>\n",
              "      <td>5.96</td>\n",
              "      <td>6.39</td>\n",
              "    </tr>\n",
              "  </tbody>\n",
              "</table>\n",
              "</div>\n",
              "      <button class=\"colab-df-convert\" onclick=\"convertToInteractive('df-a6c12ebc-2b4a-4185-804e-75077ca7d416')\"\n",
              "              title=\"Convert this dataframe to an interactive table.\"\n",
              "              style=\"display:none;\">\n",
              "        \n",
              "  <svg xmlns=\"http://www.w3.org/2000/svg\" height=\"24px\"viewBox=\"0 0 24 24\"\n",
              "       width=\"24px\">\n",
              "    <path d=\"M0 0h24v24H0V0z\" fill=\"none\"/>\n",
              "    <path d=\"M18.56 5.44l.94 2.06.94-2.06 2.06-.94-2.06-.94-.94-2.06-.94 2.06-2.06.94zm-11 1L8.5 8.5l.94-2.06 2.06-.94-2.06-.94L8.5 2.5l-.94 2.06-2.06.94zm10 10l.94 2.06.94-2.06 2.06-.94-2.06-.94-.94-2.06-.94 2.06-2.06.94z\"/><path d=\"M17.41 7.96l-1.37-1.37c-.4-.4-.92-.59-1.43-.59-.52 0-1.04.2-1.43.59L10.3 9.45l-7.72 7.72c-.78.78-.78 2.05 0 2.83L4 21.41c.39.39.9.59 1.41.59.51 0 1.02-.2 1.41-.59l7.78-7.78 2.81-2.81c.8-.78.8-2.07 0-2.86zM5.41 20L4 18.59l7.72-7.72 1.47 1.35L5.41 20z\"/>\n",
              "  </svg>\n",
              "      </button>\n",
              "      \n",
              "  <style>\n",
              "    .colab-df-container {\n",
              "      display:flex;\n",
              "      flex-wrap:wrap;\n",
              "      gap: 12px;\n",
              "    }\n",
              "\n",
              "    .colab-df-convert {\n",
              "      background-color: #E8F0FE;\n",
              "      border: none;\n",
              "      border-radius: 50%;\n",
              "      cursor: pointer;\n",
              "      display: none;\n",
              "      fill: #1967D2;\n",
              "      height: 32px;\n",
              "      padding: 0 0 0 0;\n",
              "      width: 32px;\n",
              "    }\n",
              "\n",
              "    .colab-df-convert:hover {\n",
              "      background-color: #E2EBFA;\n",
              "      box-shadow: 0px 1px 2px rgba(60, 64, 67, 0.3), 0px 1px 3px 1px rgba(60, 64, 67, 0.15);\n",
              "      fill: #174EA6;\n",
              "    }\n",
              "\n",
              "    [theme=dark] .colab-df-convert {\n",
              "      background-color: #3B4455;\n",
              "      fill: #D2E3FC;\n",
              "    }\n",
              "\n",
              "    [theme=dark] .colab-df-convert:hover {\n",
              "      background-color: #434B5C;\n",
              "      box-shadow: 0px 1px 3px 1px rgba(0, 0, 0, 0.15);\n",
              "      filter: drop-shadow(0px 1px 2px rgba(0, 0, 0, 0.3));\n",
              "      fill: #FFFFFF;\n",
              "    }\n",
              "  </style>\n",
              "\n",
              "      <script>\n",
              "        const buttonEl =\n",
              "          document.querySelector('#df-a6c12ebc-2b4a-4185-804e-75077ca7d416 button.colab-df-convert');\n",
              "        buttonEl.style.display =\n",
              "          google.colab.kernel.accessAllowed ? 'block' : 'none';\n",
              "\n",
              "        async function convertToInteractive(key) {\n",
              "          const element = document.querySelector('#df-a6c12ebc-2b4a-4185-804e-75077ca7d416');\n",
              "          const dataTable =\n",
              "            await google.colab.kernel.invokeFunction('convertToInteractive',\n",
              "                                                     [key], {});\n",
              "          if (!dataTable) return;\n",
              "\n",
              "          const docLinkHtml = 'Like what you see? Visit the ' +\n",
              "            '<a target=\"_blank\" href=https://colab.research.google.com/notebooks/data_table.ipynb>data table notebook</a>'\n",
              "            + ' to learn more about interactive tables.';\n",
              "          element.innerHTML = '';\n",
              "          dataTable['output_type'] = 'display_data';\n",
              "          await google.colab.output.renderOutput(dataTable, element);\n",
              "          const docLink = document.createElement('div');\n",
              "          docLink.innerHTML = docLinkHtml;\n",
              "          element.appendChild(docLink);\n",
              "        }\n",
              "      </script>\n",
              "    </div>\n",
              "  </div>\n",
              "  "
            ]
          },
          "metadata": {},
          "execution_count": 38
        }
      ]
    },
    {
      "cell_type": "code",
      "source": [
        "df = df.values"
      ],
      "metadata": {
        "id": "eHL9U57226LZ"
      },
      "execution_count": null,
      "outputs": []
    },
    {
      "cell_type": "code",
      "source": [
        "df[:,0]"
      ],
      "metadata": {
        "colab": {
          "base_uri": "https://localhost:8080/"
        },
        "id": "VWej0yBz7-vu",
        "outputId": "488d5442-9645-4034-bca8-b132ce33ff82"
      },
      "execution_count": null,
      "outputs": [
        {
          "output_type": "execute_result",
          "data": {
            "text/plain": [
              "array(['equake', 'equake', 'equake', 'equake', 'equake', 'equake',\n",
              "       'equake', 'equake', 'equake', 'equake', 'equake', 'equake',\n",
              "       'equake', 'equake', 'equake', 'equake', 'equake', 'equake',\n",
              "       'equake', 'equake', 'explosn', 'explosn', 'explosn', 'explosn',\n",
              "       'explosn', 'explosn', 'explosn', 'explosn', 'explosn'],\n",
              "      dtype=object)"
            ]
          },
          "metadata": {},
          "execution_count": 41
        }
      ]
    },
    {
      "cell_type": "code",
      "source": [
        "df[:,0].astype(\"str\")"
      ],
      "metadata": {
        "colab": {
          "base_uri": "https://localhost:8080/"
        },
        "id": "CoJ21u5G78HA",
        "outputId": "d50549c1-0e96-41f4-bced-31420d77eb26"
      },
      "execution_count": null,
      "outputs": [
        {
          "output_type": "execute_result",
          "data": {
            "text/plain": [
              "array(['equake', 'equake', 'equake', 'equake', 'equake', 'equake',\n",
              "       'equake', 'equake', 'equake', 'equake', 'equake', 'equake',\n",
              "       'equake', 'equake', 'equake', 'equake', 'equake', 'equake',\n",
              "       'equake', 'equake', 'explosn', 'explosn', 'explosn', 'explosn',\n",
              "       'explosn', 'explosn', 'explosn', 'explosn', 'explosn'], dtype='<U7')"
            ]
          },
          "metadata": {},
          "execution_count": 40
        }
      ]
    },
    {
      "cell_type": "code",
      "source": [
        "df[:,0] = LabelEncoder().fit_transform(df[:,0].astype(\"str\"))"
      ],
      "metadata": {
        "id": "NuJIiu7w2761"
      },
      "execution_count": null,
      "outputs": []
    },
    {
      "cell_type": "code",
      "source": [
        "df[:,0]"
      ],
      "metadata": {
        "colab": {
          "base_uri": "https://localhost:8080/"
        },
        "id": "m6mLqpMV8CBR",
        "outputId": "70ce849e-650a-469e-9aad-97fda03bc8da"
      },
      "execution_count": null,
      "outputs": [
        {
          "output_type": "execute_result",
          "data": {
            "text/plain": [
              "array([0, 0, 0, 0, 0, 0, 0, 0, 0, 0, 0, 0, 0, 0, 0, 0, 0, 0, 0, 0, 1, 1,\n",
              "       1, 1, 1, 1, 1, 1, 1], dtype=object)"
            ]
          },
          "metadata": {},
          "execution_count": 43
        }
      ]
    },
    {
      "cell_type": "code",
      "source": [
        "df[:,0]"
      ],
      "metadata": {
        "colab": {
          "base_uri": "https://localhost:8080/"
        },
        "id": "unaiA1pZ3roO",
        "outputId": "3d9b6014-22d9-44a1-b806-5544698ccb5d"
      },
      "execution_count": null,
      "outputs": [
        {
          "output_type": "execute_result",
          "data": {
            "text/plain": [
              "array([0, 0, 0, 0, 0, 0, 0, 0, 0, 0, 0, 0, 0, 0, 0, 0, 0, 0, 0, 0, 1, 1,\n",
              "       1, 1, 1, 1, 1, 1, 1], dtype=object)"
            ]
          },
          "metadata": {},
          "execution_count": 17
        }
      ]
    },
    {
      "cell_type": "code",
      "source": [
        "plt.scatter(x = df[:,2], y = df[:,1], c = df[:,0])"
      ],
      "metadata": {
        "colab": {
          "base_uri": "https://localhost:8080/",
          "height": 302
        },
        "id": "YbniUcW62fYX",
        "outputId": "437d4d78-ed4b-45ca-f194-f7540343862e"
      },
      "execution_count": null,
      "outputs": [
        {
          "output_type": "execute_result",
          "data": {
            "text/plain": [
              "<matplotlib.collections.PathCollection at 0x7f32df70e460>"
            ]
          },
          "metadata": {},
          "execution_count": 24
        },
        {
          "output_type": "display_data",
          "data": {
            "text/plain": [
              "<Figure size 432x288 with 1 Axes>"
            ],
            "image/png": "[encoded data removed]"
          },
          "metadata": {
            "needs_background": "light"
          }
        }
      ]
    },
    {
      "cell_type": "markdown",
      "source": [
        "zwracamy uwagę na to, że dane są liniowo separowalne"
      ],
      "metadata": {
        "id": "MiyLxcTw33Mx"
      }
    },
    {
      "cell_type": "markdown",
      "source": [
        "## b) metoda LinearSVC - maszyny wektorów nośnych o jądrze liniowym"
      ],
      "metadata": {
        "id": "94QTNHZ75NEg"
      }
    },
    {
      "cell_type": "markdown",
      "source": [
        "![Zrzut ekranu 2023-01-16 o 15.03.28.png](data:image/png;base64,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)"
      ],
      "metadata": {
        "id": "Jvyfw7gl6Iya"
      }
    },
    {
      "cell_type": "code",
      "source": [
        "x_train, x_test, y_train, y_test = train_test_split(df[:,1:], df[:,0], test_size=0.3)"
      ],
      "metadata": {
        "id": "2J76dBZz6c3o"
      },
      "execution_count": null,
      "outputs": []
    },
    {
      "cell_type": "code",
      "source": [
        "X,y = df[:,1:],df[:,0]"
      ],
      "metadata": {
        "id": "3Dqso1fg7dw4"
      },
      "execution_count": null,
      "outputs": []
    },
    {
      "cell_type": "code",
      "source": [
        "y"
      ],
      "metadata": {
        "colab": {
          "base_uri": "https://localhost:8080/"
        },
        "id": "LNLM14Nb7pKX",
        "outputId": "09238581-13e3-4c35-dfb8-16d316abf977"
      },
      "execution_count": null,
      "outputs": [
        {
          "output_type": "execute_result",
          "data": {
            "text/plain": [
              "array([0, 0, 0, 0, 0, 0, 0, 0, 0, 0, 0, 0, 0, 0, 0, 0, 0, 0, 0, 0, 1, 1,\n",
              "       1, 1, 1, 1, 1, 1, 1], dtype=object)"
            ]
          },
          "metadata": {},
          "execution_count": 35
        }
      ]
    },
    {
      "cell_type": "code",
      "source": [
        "y.type()"
      ],
      "metadata": {
        "colab": {
          "base_uri": "https://localhost:8080/",
          "height": 182
        },
        "id": "VFRHRSR_7kX_",
        "outputId": "ae610015-78ce-40de-c02a-eb381d96d6b4"
      },
      "execution_count": null,
      "outputs": [
        {
          "output_type": "error",
          "ename": "AttributeError",
          "evalue": "ignored",
          "traceback": [
            "\u001b[0;31m---------------------------------------------------------------------------\u001b[0m",
            "\u001b[0;31mAttributeError\u001b[0m                            Traceback (most recent call last)",
            "\u001b[0;32m<ipython-input-34-60a58d75d74e>\u001b[0m in \u001b[0;36m<module>\u001b[0;34m\u001b[0m\n\u001b[0;32m----> 1\u001b[0;31m \u001b[0my\u001b[0m\u001b[0;34m.\u001b[0m\u001b[0mtype\u001b[0m\u001b[0;34m(\u001b[0m\u001b[0;34m)\u001b[0m\u001b[0;34m\u001b[0m\u001b[0;34m\u001b[0m\u001b[0m\n\u001b[0m",
            "\u001b[0;31mAttributeError\u001b[0m: 'numpy.ndarray' object has no attribute 'type'"
          ]
        }
      ]
    },
    {
      "cell_type": "code",
      "source": [
        "model = LinearSVC(loss = 'hinge')\n",
        "model.fit(X,y)"
      ],
      "metadata": {
        "colab": {
          "base_uri": "https://localhost:8080/",
          "height": 354
        },
        "id": "hwn1MIbC3669",
        "outputId": "2a929512-02ae-44d5-aa6d-6a90b869b410"
      },
      "execution_count": null,
      "outputs": [
        {
          "output_type": "error",
          "ename": "ValueError",
          "evalue": "ignored",
          "traceback": [
            "\u001b[0;31m---------------------------------------------------------------------------\u001b[0m",
            "\u001b[0;31mValueError\u001b[0m                                Traceback (most recent call last)",
            "\u001b[0;32m<ipython-input-46-5a1105c5fed1>\u001b[0m in \u001b[0;36m<module>\u001b[0;34m\u001b[0m\n\u001b[1;32m      1\u001b[0m \u001b[0mmodel\u001b[0m \u001b[0;34m=\u001b[0m \u001b[0mLinearSVC\u001b[0m\u001b[0;34m(\u001b[0m\u001b[0mloss\u001b[0m \u001b[0;34m=\u001b[0m \u001b[0;34m'hinge'\u001b[0m\u001b[0;34m)\u001b[0m\u001b[0;34m\u001b[0m\u001b[0;34m\u001b[0m\u001b[0m\n\u001b[0;32m----> 2\u001b[0;31m \u001b[0mmodel\u001b[0m\u001b[0;34m.\u001b[0m\u001b[0mfit\u001b[0m\u001b[0;34m(\u001b[0m\u001b[0mX\u001b[0m\u001b[0;34m,\u001b[0m\u001b[0my\u001b[0m\u001b[0;34m)\u001b[0m\u001b[0;34m\u001b[0m\u001b[0;34m\u001b[0m\u001b[0m\n\u001b[0m",
            "\u001b[0;32m/usr/local/lib/python3.8/dist-packages/sklearn/svm/_classes.py\u001b[0m in \u001b[0;36mfit\u001b[0;34m(self, X, y, sample_weight)\u001b[0m\n\u001b[1;32m    252\u001b[0m             \u001b[0maccept_large_sparse\u001b[0m\u001b[0;34m=\u001b[0m\u001b[0;32mFalse\u001b[0m\u001b[0;34m,\u001b[0m\u001b[0;34m\u001b[0m\u001b[0;34m\u001b[0m\u001b[0m\n\u001b[1;32m    253\u001b[0m         )\n\u001b[0;32m--> 254\u001b[0;31m         \u001b[0mcheck_classification_targets\u001b[0m\u001b[0;34m(\u001b[0m\u001b[0my\u001b[0m\u001b[0;34m)\u001b[0m\u001b[0;34m\u001b[0m\u001b[0;34m\u001b[0m\u001b[0m\n\u001b[0m\u001b[1;32m    255\u001b[0m         \u001b[0mself\u001b[0m\u001b[0;34m.\u001b[0m\u001b[0mclasses_\u001b[0m \u001b[0;34m=\u001b[0m \u001b[0mnp\u001b[0m\u001b[0;34m.\u001b[0m\u001b[0munique\u001b[0m\u001b[0;34m(\u001b[0m\u001b[0my\u001b[0m\u001b[0;34m)\u001b[0m\u001b[0;34m\u001b[0m\u001b[0;34m\u001b[0m\u001b[0m\n\u001b[1;32m    256\u001b[0m \u001b[0;34m\u001b[0m\u001b[0m\n",
            "\u001b[0;32m/usr/local/lib/python3.8/dist-packages/sklearn/utils/multiclass.py\u001b[0m in \u001b[0;36mcheck_classification_targets\u001b[0;34m(y)\u001b[0m\n\u001b[1;32m    195\u001b[0m         \u001b[0;34m\"multilabel-sequences\"\u001b[0m\u001b[0;34m,\u001b[0m\u001b[0;34m\u001b[0m\u001b[0;34m\u001b[0m\u001b[0m\n\u001b[1;32m    196\u001b[0m     ]:\n\u001b[0;32m--> 197\u001b[0;31m         \u001b[0;32mraise\u001b[0m \u001b[0mValueError\u001b[0m\u001b[0;34m(\u001b[0m\u001b[0;34m\"Unknown label type: %r\"\u001b[0m \u001b[0;34m%\u001b[0m \u001b[0my_type\u001b[0m\u001b[0;34m)\u001b[0m\u001b[0;34m\u001b[0m\u001b[0;34m\u001b[0m\u001b[0m\n\u001b[0m\u001b[1;32m    198\u001b[0m \u001b[0;34m\u001b[0m\u001b[0m\n\u001b[1;32m    199\u001b[0m \u001b[0;34m\u001b[0m\u001b[0m\n",
            "\u001b[0;31mValueError\u001b[0m: Unknown label type: 'unknown'"
          ]
        }
      ]
    },
    {
      "cell_type": "code",
      "source": [
        "url = \"earthquake.csv\"\n",
        "dataframe = pd.read_csv(url,header = 0)\n",
        "data = dataframe.values\n",
        "X,y = data[:,1:],data[:,0]\n",
        "y = LabelEncoder().fit_transform(y)"
      ],
      "metadata": {
        "id": "NdasLQqB3PqZ"
      },
      "execution_count": null,
      "outputs": []
    },
    {
      "cell_type": "code",
      "source": [
        "m1 = LinearSVC(loss = 'hinge')\n",
        "m1.fit(X,y)"
      ],
      "metadata": {
        "colab": {
          "base_uri": "https://localhost:8080/"
        },
        "id": "vr0KAd-g8fUD",
        "outputId": "76995bc0-8e0c-40ee-81c5-ed41d0b48542"
      },
      "execution_count": null,
      "outputs": [
        {
          "output_type": "execute_result",
          "data": {
            "text/plain": [
              "LinearSVC(loss='hinge')"
            ]
          },
          "metadata": {},
          "execution_count": 52
        }
      ]
    },
    {
      "cell_type": "markdown",
      "source": [
        "## c) Marginesy i prosta separująca dane"
      ],
      "metadata": {
        "id": "NdtVtdCJ9hJ9"
      }
    },
    {
      "cell_type": "code",
      "source": [
        "m1.coef_"
      ],
      "metadata": {
        "colab": {
          "base_uri": "https://localhost:8080/"
        },
        "id": "rnqPdUWO-JgE",
        "outputId": "d375b0f4-989d-43b2-a690-4b508591590a"
      },
      "execution_count": null,
      "outputs": [
        {
          "output_type": "execute_result",
          "data": {
            "text/plain": [
              "array([[ 1.40837615, -1.67867421]])"
            ]
          },
          "metadata": {},
          "execution_count": 53
        }
      ]
    },
    {
      "cell_type": "code",
      "source": [
        "m1.intercept_"
      ],
      "metadata": {
        "colab": {
          "base_uri": "https://localhost:8080/"
        },
        "id": "j0Wk8c0_-WuY",
        "outputId": "8e5def62-2e2c-4493-a064-1dfc7c7932f3"
      },
      "execution_count": null,
      "outputs": [
        {
          "output_type": "execute_result",
          "data": {
            "text/plain": [
              "array([-0.57320446])"
            ]
          },
          "metadata": {},
          "execution_count": 54
        }
      ]
    },
    {
      "cell_type": "markdown",
      "source": [
        "0 = m1.coef_[0][0]* x_1 + m1.coef_[0][1]*x_2 + intercept\n",
        "\n",
        "1 = m1.coef_[0][0]* x_1 + m1.coef_[0][1]*x_2 + intercept\n",
        "\n",
        "-1 = m1.coef_[0][0]* x_1 + m1.coef_[0][1]*x_2 + intercept"
      ],
      "metadata": {
        "id": "UPozPy-N_M58"
      }
    },
    {
      "cell_type": "code",
      "source": [
        "plt.scatter(X[:,0],X[:,1],c = y)\n",
        "x_plot = np.array([4.5,6.5])\n",
        "plt.plot(x_plot, -(m1.coef_[0][0]*x_plot + m1.intercept_)/m1.coef_[0][1])\n",
        "plt.plot(x_plot, -(m1.coef_[0][0]*x_plot + m1.intercept_ + 1)/m1.coef_[0][1], 'black', linestyle = '--') # lewy margines\n",
        "plt.plot(x_plot, -(m1.coef_[0][0]*x_plot + m1.intercept_ - 1)/m1.coef_[0][1], 'black', linestyle = '--')"
      ],
      "metadata": {
        "colab": {
          "base_uri": "https://localhost:8080/",
          "height": 303
        },
        "id": "YHdP0Dga-6Mf",
        "outputId": "8f3a4f88-dc9d-41cd-9aa9-ebac4733b226"
      },
      "execution_count": null,
      "outputs": [
        {
          "output_type": "execute_result",
          "data": {
            "text/plain": [
              "[<matplotlib.lines.Line2D at 0x7f32df29ed60>]"
            ]
          },
          "metadata": {},
          "execution_count": 64
        },
        {
          "output_type": "display_data",
          "data": {
            "text/plain": [
              "<Figure size 432x288 with 1 Axes>"
            ],
            "image/png": "[encoded data removed]"
          },
          "metadata": {
            "needs_background": "light"
          }
        }
      ]
    },
    {
      "cell_type": "code",
      "source": [
        "m1.predict([[5,4.7]])"
      ],
      "metadata": {
        "colab": {
          "base_uri": "https://localhost:8080/"
        },
        "id": "-U0h-s4zBoz6",
        "outputId": "d77805af-8b52-42e4-b0f2-6a485bd44b2c"
      },
      "execution_count": null,
      "outputs": [
        {
          "output_type": "execute_result",
          "data": {
            "text/plain": [
              "array([0])"
            ]
          },
          "metadata": {},
          "execution_count": 66
        }
      ]
    },
    {
      "cell_type": "code",
      "source": [
        "[[5,4.7]]"
      ],
      "metadata": {
        "colab": {
          "base_uri": "https://localhost:8080/"
        },
        "id": "Los65DzRBvuO",
        "outputId": "f0146186-42ca-4f29-c08a-35f208e1e2bb"
      },
      "execution_count": null,
      "outputs": [
        {
          "output_type": "execute_result",
          "data": {
            "text/plain": [
              "[[5, 4.7]]"
            ]
          },
          "metadata": {},
          "execution_count": 67
        }
      ]
    },
    {
      "cell_type": "code",
      "source": [],
      "metadata": {
        "id": "5l6mnnYUCGuo"
      },
      "execution_count": null,
      "outputs": []
    }
  ]
}