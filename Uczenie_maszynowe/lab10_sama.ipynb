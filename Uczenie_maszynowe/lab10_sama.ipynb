{
  "nbformat": 4,
  "nbformat_minor": 0,
  "metadata": {
    "colab": {
      "provenance": []
    },
    "kernelspec": {
      "name": "python3",
      "display_name": "Python 3"
    },
    "language_info": {
      "name": "python"
    }
  },
  "cells": [
    {
      "cell_type": "code",
      "execution_count": null,
      "metadata": {
        "id": "1NNle5aBmeFX"
      },
      "outputs": [],
      "source": [
        "import numpy as np\n",
        "import pandas as pd\n",
        "import matplotlib.pyplot as plt\n",
        "from sklearn.model_selection import train_test_split\n",
        "from sklearn.decomposition import PCA\n",
        "from sklearn.feature_selection import SelectFromModel,SequentialFeatureSelector\n",
        "from sklearn.pipeline import Pipeline\n",
        "from sklearn.linear_model import LogisticRegression\n",
        "from sklearn.svm import LinearSVC\n",
        "from sklearn.metrics import roc_auc_score\n",
        "from sklearn.preprocessing import StandardScaler"
      ]
    },
    {
      "cell_type": "code",
      "source": [
        "df1 = pd.read_csv('titanic.csv')\n",
        "df1"
      ],
      "metadata": {
        "colab": {
          "base_uri": "https://localhost:8080/",
          "height": 477
        },
        "id": "TOsRejm3ooEd",
        "outputId": "85415da8-c91b-49a3-cc0b-2ba9eab7f032"
      },
      "execution_count": null,
      "outputs": [
        {
          "output_type": "execute_result",
          "data": {
            "text/plain": [
              "     Survived  Pclass  Sex   Age  Siblings.Spouses.Aboard  \\\n",
              "0           0       3    0  22.0                        1   \n",
              "1           1       1    1  38.0                        1   \n",
              "2           1       3    1  26.0                        0   \n",
              "3           1       1    1  35.0                        1   \n",
              "4           0       3    0  35.0                        0   \n",
              "..        ...     ...  ...   ...                      ...   \n",
              "882         0       2    0  27.0                        0   \n",
              "883         1       1    1  19.0                        0   \n",
              "884         0       3    1   7.0                        1   \n",
              "885         1       1    0  26.0                        0   \n",
              "886         0       3    0  32.0                        0   \n",
              "\n",
              "     Parents.Children.Aboard     Fare  \n",
              "0                          0   7.2500  \n",
              "1                          0  71.2833  \n",
              "2                          0   7.9250  \n",
              "3                          0  53.1000  \n",
              "4                          0   8.0500  \n",
              "..                       ...      ...  \n",
              "882                        0  13.0000  \n",
              "883                        0  30.0000  \n",
              "884                        2  23.4500  \n",
              "885                        0  30.0000  \n",
              "886                        0   7.7500  \n",
              "\n",
              "[887 rows x 7 columns]"
            ],
            "text/html": [
              "\n",
              "  <div id=\"df-76353dad-1339-4594-bef9-2166c0c33909\">\n",
              "    <div class=\"colab-df-container\">\n",
              "      <div>\n",
              "<style scoped>\n",
              "    .dataframe tbody tr th:only-of-type {\n",
              "        vertical-align: middle;\n",
              "    }\n",
              "\n",
              "    .dataframe tbody tr th {\n",
              "        vertical-align: top;\n",
              "    }\n",
              "\n",
              "    .dataframe thead th {\n",
              "        text-align: right;\n",
              "    }\n",
              "</style>\n",
              "<table border=\"1\" class=\"dataframe\">\n",
              "  <thead>\n",
              "    <tr style=\"text-align: right;\">\n",
              "      <th></th>\n",
              "      <th>Survived</th>\n",
              "      <th>Pclass</th>\n",
              "      <th>Sex</th>\n",
              "      <th>Age</th>\n",
              "      <th>Siblings.Spouses.Aboard</th>\n",
              "      <th>Parents.Children.Aboard</th>\n",
              "      <th>Fare</th>\n",
              "    </tr>\n",
              "  </thead>\n",
              "  <tbody>\n",
              "    <tr>\n",
              "      <th>0</th>\n",
              "      <td>0</td>\n",
              "      <td>3</td>\n",
              "      <td>0</td>\n",
              "      <td>22.0</td>\n",
              "      <td>1</td>\n",
              "      <td>0</td>\n",
              "      <td>7.2500</td>\n",
              "    </tr>\n",
              "    <tr>\n",
              "      <th>1</th>\n",
              "      <td>1</td>\n",
              "      <td>1</td>\n",
              "      <td>1</td>\n",
              "      <td>38.0</td>\n",
              "      <td>1</td>\n",
              "      <td>0</td>\n",
              "      <td>71.2833</td>\n",
              "    </tr>\n",
              "    <tr>\n",
              "      <th>2</th>\n",
              "      <td>1</td>\n",
              "      <td>3</td>\n",
              "      <td>1</td>\n",
              "      <td>26.0</td>\n",
              "      <td>0</td>\n",
              "      <td>0</td>\n",
              "      <td>7.9250</td>\n",
              "    </tr>\n",
              "    <tr>\n",
              "      <th>3</th>\n",
              "      <td>1</td>\n",
              "      <td>1</td>\n",
              "      <td>1</td>\n",
              "      <td>35.0</td>\n",
              "      <td>1</td>\n",
              "      <td>0</td>\n",
              "      <td>53.1000</td>\n",
              "    </tr>\n",
              "    <tr>\n",
              "      <th>4</th>\n",
              "      <td>0</td>\n",
              "      <td>3</td>\n",
              "      <td>0</td>\n",
              "      <td>35.0</td>\n",
              "      <td>0</td>\n",
              "      <td>0</td>\n",
              "      <td>8.0500</td>\n",
              "    </tr>\n",
              "    <tr>\n",
              "      <th>...</th>\n",
              "      <td>...</td>\n",
              "      <td>...</td>\n",
              "      <td>...</td>\n",
              "      <td>...</td>\n",
              "      <td>...</td>\n",
              "      <td>...</td>\n",
              "      <td>...</td>\n",
              "    </tr>\n",
              "    <tr>\n",
              "      <th>882</th>\n",
              "      <td>0</td>\n",
              "      <td>2</td>\n",
              "      <td>0</td>\n",
              "      <td>27.0</td>\n",
              "      <td>0</td>\n",
              "      <td>0</td>\n",
              "      <td>13.0000</td>\n",
              "    </tr>\n",
              "    <tr>\n",
              "      <th>883</th>\n",
              "      <td>1</td>\n",
              "      <td>1</td>\n",
              "      <td>1</td>\n",
              "      <td>19.0</td>\n",
              "      <td>0</td>\n",
              "      <td>0</td>\n",
              "      <td>30.0000</td>\n",
              "    </tr>\n",
              "    <tr>\n",
              "      <th>884</th>\n",
              "      <td>0</td>\n",
              "      <td>3</td>\n",
              "      <td>1</td>\n",
              "      <td>7.0</td>\n",
              "      <td>1</td>\n",
              "      <td>2</td>\n",
              "      <td>23.4500</td>\n",
              "    </tr>\n",
              "    <tr>\n",
              "      <th>885</th>\n",
              "      <td>1</td>\n",
              "      <td>1</td>\n",
              "      <td>0</td>\n",
              "      <td>26.0</td>\n",
              "      <td>0</td>\n",
              "      <td>0</td>\n",
              "      <td>30.0000</td>\n",
              "    </tr>\n",
              "    <tr>\n",
              "      <th>886</th>\n",
              "      <td>0</td>\n",
              "      <td>3</td>\n",
              "      <td>0</td>\n",
              "      <td>32.0</td>\n",
              "      <td>0</td>\n",
              "      <td>0</td>\n",
              "      <td>7.7500</td>\n",
              "    </tr>\n",
              "  </tbody>\n",
              "</table>\n",
              "<p>887 rows × 7 columns</p>\n",
              "</div>\n",
              "      <button class=\"colab-df-convert\" onclick=\"convertToInteractive('df-76353dad-1339-4594-bef9-2166c0c33909')\"\n",
              "              title=\"Convert this dataframe to an interactive table.\"\n",
              "              style=\"display:none;\">\n",
              "        \n",
              "  <svg xmlns=\"http://www.w3.org/2000/svg\" height=\"24px\"viewBox=\"0 0 24 24\"\n",
              "       width=\"24px\">\n",
              "    <path d=\"M0 0h24v24H0V0z\" fill=\"none\"/>\n",
              "    <path d=\"M18.56 5.44l.94 2.06.94-2.06 2.06-.94-2.06-.94-.94-2.06-.94 2.06-2.06.94zm-11 1L8.5 8.5l.94-2.06 2.06-.94-2.06-.94L8.5 2.5l-.94 2.06-2.06.94zm10 10l.94 2.06.94-2.06 2.06-.94-2.06-.94-.94-2.06-.94 2.06-2.06.94z\"/><path d=\"M17.41 7.96l-1.37-1.37c-.4-.4-.92-.59-1.43-.59-.52 0-1.04.2-1.43.59L10.3 9.45l-7.72 7.72c-.78.78-.78 2.05 0 2.83L4 21.41c.39.39.9.59 1.41.59.51 0 1.02-.2 1.41-.59l7.78-7.78 2.81-2.81c.8-.78.8-2.07 0-2.86zM5.41 20L4 18.59l7.72-7.72 1.47 1.35L5.41 20z\"/>\n",
              "  </svg>\n",
              "      </button>\n",
              "      \n",
              "  <style>\n",
              "    .colab-df-container {\n",
              "      display:flex;\n",
              "      flex-wrap:wrap;\n",
              "      gap: 12px;\n",
              "    }\n",
              "\n",
              "    .colab-df-convert {\n",
              "      background-color: #E8F0FE;\n",
              "      border: none;\n",
              "      border-radius: 50%;\n",
              "      cursor: pointer;\n",
              "      display: none;\n",
              "      fill: #1967D2;\n",
              "      height: 32px;\n",
              "      padding: 0 0 0 0;\n",
              "      width: 32px;\n",
              "    }\n",
              "\n",
              "    .colab-df-convert:hover {\n",
              "      background-color: #E2EBFA;\n",
              "      box-shadow: 0px 1px 2px rgba(60, 64, 67, 0.3), 0px 1px 3px 1px rgba(60, 64, 67, 0.15);\n",
              "      fill: #174EA6;\n",
              "    }\n",
              "\n",
              "    [theme=dark] .colab-df-convert {\n",
              "      background-color: #3B4455;\n",
              "      fill: #D2E3FC;\n",
              "    }\n",
              "\n",
              "    [theme=dark] .colab-df-convert:hover {\n",
              "      background-color: #434B5C;\n",
              "      box-shadow: 0px 1px 3px 1px rgba(0, 0, 0, 0.15);\n",
              "      filter: drop-shadow(0px 1px 2px rgba(0, 0, 0, 0.3));\n",
              "      fill: #FFFFFF;\n",
              "    }\n",
              "  </style>\n",
              "\n",
              "      <script>\n",
              "        const buttonEl =\n",
              "          document.querySelector('#df-76353dad-1339-4594-bef9-2166c0c33909 button.colab-df-convert');\n",
              "        buttonEl.style.display =\n",
              "          google.colab.kernel.accessAllowed ? 'block' : 'none';\n",
              "\n",
              "        async function convertToInteractive(key) {\n",
              "          const element = document.querySelector('#df-76353dad-1339-4594-bef9-2166c0c33909');\n",
              "          const dataTable =\n",
              "            await google.colab.kernel.invokeFunction('convertToInteractive',\n",
              "                                                     [key], {});\n",
              "          if (!dataTable) return;\n",
              "\n",
              "          const docLinkHtml = 'Like what you see? Visit the ' +\n",
              "            '<a target=\"_blank\" href=https://colab.research.google.com/notebooks/data_table.ipynb>data table notebook</a>'\n",
              "            + ' to learn more about interactive tables.';\n",
              "          element.innerHTML = '';\n",
              "          dataTable['output_type'] = 'display_data';\n",
              "          await google.colab.output.renderOutput(dataTable, element);\n",
              "          const docLink = document.createElement('div');\n",
              "          docLink.innerHTML = docLinkHtml;\n",
              "          element.appendChild(docLink);\n",
              "        }\n",
              "      </script>\n",
              "    </div>\n",
              "  </div>\n",
              "  "
            ]
          },
          "metadata": {},
          "execution_count": 4
        }
      ]
    },
    {
      "cell_type": "markdown",
      "source": [
        "## a"
      ],
      "metadata": {
        "id": "maLHGDdipEsF"
      }
    },
    {
      "cell_type": "code",
      "source": [
        "x, y = df1.values[:,1:], df1.values[:,0]\n",
        "x_train, x_test, y_train, y_test = train_test_split(x, y, test_size = 0.3)"
      ],
      "metadata": {
        "id": "-Ikw7YLKouug"
      },
      "execution_count": null,
      "outputs": []
    },
    {
      "cell_type": "markdown",
      "source": [
        "## b"
      ],
      "metadata": {
        "id": "7wGQQSX5pK34"
      }
    },
    {
      "cell_type": "code",
      "source": [
        "m1 = LogisticRegression(penalty = 'none', max_iter= 1000)\n",
        "m1.fit(x_train, y_train)\n",
        "print(m1.score(x_test, y_test))\n",
        "print(m1.coef_)"
      ],
      "metadata": {
        "colab": {
          "base_uri": "https://localhost:8080/"
        },
        "id": "vch2Q2abpHbv",
        "outputId": "4141dfd2-c9fc-429a-8d7a-ae9c5121b086"
      },
      "execution_count": null,
      "outputs": [
        {
          "output_type": "stream",
          "name": "stdout",
          "text": [
            "0.8277153558052435\n",
            "[[-1.31025653e+00  2.64561969e+00 -4.24487684e-02 -3.50988353e-01\n",
            "  -8.95191610e-02 -6.91844772e-04]]\n"
          ]
        }
      ]
    },
    {
      "cell_type": "markdown",
      "source": [
        "## c"
      ],
      "metadata": {
        "id": "B5lZ4lljqV28"
      }
    },
    {
      "cell_type": "code",
      "source": [
        "selector = SelectFromModel(estimator=LogisticRegression(penalty = 'none')).fit(x_train, y_train)"
      ],
      "metadata": {
        "id": "aBeozci7pV46"
      },
      "execution_count": null,
      "outputs": []
    },
    {
      "cell_type": "code",
      "source": [
        "selector.estimator_.coef_"
      ],
      "metadata": {
        "colab": {
          "base_uri": "https://localhost:8080/"
        },
        "id": "ZOmvsvnWqom-",
        "outputId": "06c5bbd6-a9c2-408e-94d4-8835bf83be7f"
      },
      "execution_count": null,
      "outputs": [
        {
          "output_type": "execute_result",
          "data": {
            "text/plain": [
              "array([[-1.31025653e+00,  2.64561969e+00, -4.24487684e-02,\n",
              "        -3.50988353e-01, -8.95191610e-02, -6.91844772e-04]])"
            ]
          },
          "metadata": {},
          "execution_count": 12
        }
      ]
    },
    {
      "cell_type": "code",
      "source": [
        "np.mean(abs(selector.estimator_.coef_))"
      ],
      "metadata": {
        "colab": {
          "base_uri": "https://localhost:8080/"
        },
        "id": "4Gq737dtrWFd",
        "outputId": "ffac4f1a-ee8a-43b5-d953-0d4bf0c14a4d"
      },
      "execution_count": null,
      "outputs": [
        {
          "output_type": "execute_result",
          "data": {
            "text/plain": [
              "0.739920724650954"
            ]
          },
          "metadata": {},
          "execution_count": 18
        }
      ]
    },
    {
      "cell_type": "code",
      "source": [
        "selector.threshold_"
      ],
      "metadata": {
        "colab": {
          "base_uri": "https://localhost:8080/"
        },
        "id": "25LQrR3qrD9B",
        "outputId": "d6d3db11-cd8c-48d4-9c9b-71eec6decef4"
      },
      "execution_count": null,
      "outputs": [
        {
          "output_type": "execute_result",
          "data": {
            "text/plain": [
              "0.739920724650954"
            ]
          },
          "metadata": {},
          "execution_count": 15
        }
      ]
    },
    {
      "cell_type": "code",
      "source": [
        "print(selector.get_support()) #które zmienne są wybrane po selekcji, a które nie (wybieramy te których wartości bezwzględne współczynników są większe \n",
        "                              #od wartości bezwzględnej thresholdu)"
      ],
      "metadata": {
        "colab": {
          "base_uri": "https://localhost:8080/"
        },
        "id": "O706RjSKrVmT",
        "outputId": "c179965d-62ec-429f-c1c0-a769cbeab044"
      },
      "execution_count": null,
      "outputs": [
        {
          "output_type": "stream",
          "name": "stdout",
          "text": [
            "[ True  True False False False False]\n"
          ]
        }
      ]
    },
    {
      "cell_type": "code",
      "source": [
        "x_train2 = selector.fit_transform(x_train, y_train)\n",
        "x_test2 = selector.transform(x_test)"
      ],
      "metadata": {
        "id": "Hcf4d3lgr0QS"
      },
      "execution_count": null,
      "outputs": []
    },
    {
      "cell_type": "code",
      "source": [
        "m2 = LogisticRegression(penalty = 'none', max_iter= 1000).fit(x_train2, y_train)"
      ],
      "metadata": {
        "id": "rGWsKFP_sbD2"
      },
      "execution_count": null,
      "outputs": []
    },
    {
      "cell_type": "code",
      "source": [
        "m2.score(x_test2,y_test)"
      ],
      "metadata": {
        "colab": {
          "base_uri": "https://localhost:8080/"
        },
        "id": "Xyh3mrAvs4r7",
        "outputId": "2b81584e-6b0e-47db-95f1-7badc8e60790"
      },
      "execution_count": null,
      "outputs": [
        {
          "output_type": "execute_result",
          "data": {
            "text/plain": [
              "0.8164794007490637"
            ]
          },
          "metadata": {},
          "execution_count": 25
        }
      ]
    },
    {
      "cell_type": "markdown",
      "source": [
        "##d"
      ],
      "metadata": {
        "id": "HBVt7gG9tH_T"
      }
    },
    {
      "cell_type": "code",
      "source": [
        "selector2 = SequentialFeatureSelector(estimator=LogisticRegression(penalty = 'none'))\n",
        "selector2.fit(x_train, y_train)\n",
        "selector2.get_support()"
      ],
      "metadata": {
        "colab": {
          "base_uri": "https://localhost:8080/"
        },
        "id": "Y4n4ntqwsotm",
        "outputId": "fe14fab7-603d-4d08-85e8-7ce5d17c94a5"
      },
      "execution_count": null,
      "outputs": [
        {
          "output_type": "execute_result",
          "data": {
            "text/plain": [
              "array([ True,  True, False,  True, False, False])"
            ]
          },
          "metadata": {},
          "execution_count": 52
        }
      ]
    },
    {
      "cell_type": "code",
      "source": [
        "x_train3 = selector2.transform(x_train)\n",
        "x_test3 = selector2.transform(x_test)"
      ],
      "metadata": {
        "id": "SptZdxJisqTZ"
      },
      "execution_count": null,
      "outputs": []
    },
    {
      "cell_type": "code",
      "source": [
        "x_train3.shape\n"
      ],
      "metadata": {
        "colab": {
          "base_uri": "https://localhost:8080/"
        },
        "id": "vva9XblZvPpf",
        "outputId": "d991d171-bcf8-48c9-bcc4-5132ffefb958"
      },
      "execution_count": null,
      "outputs": [
        {
          "output_type": "execute_result",
          "data": {
            "text/plain": [
              "(620, 3)"
            ]
          },
          "metadata": {},
          "execution_count": 56
        }
      ]
    },
    {
      "cell_type": "code",
      "source": [
        "m3 = LogisticRegression(penalty = 'none', max_iter= 1000).fit(x_train3, y_train)\n",
        "m1.fit(x_train3, y_train)\n",
        "m1.score(x_test3, y_test)"
      ],
      "metadata": {
        "colab": {
          "base_uri": "https://localhost:8080/"
        },
        "id": "FDeBq3s3uWx-",
        "outputId": "711dccfb-1721-45d4-a5e5-9a31ab216b5a"
      },
      "execution_count": null,
      "outputs": [
        {
          "output_type": "execute_result",
          "data": {
            "text/plain": [
              "0.7902621722846442"
            ]
          },
          "metadata": {},
          "execution_count": 59
        }
      ]
    },
    {
      "cell_type": "markdown",
      "source": [
        "#10.2"
      ],
      "metadata": {
        "id": "E0LMbu7gwflX"
      }
    },
    {
      "cell_type": "code",
      "source": [
        "np.random.seed(123)\n",
        "#a\n",
        "# zbior\n",
        "url = 'pima.csv'\n",
        "dataframe = pd.read_csv(url,header=0)\n",
        "print(dataframe)\n",
        "data = dataframe.values\n",
        "X, y = data[:,:-1], data[:, -1]\n",
        "X_train,X_test,y_train,y_test = train_test_split(X,y,train_size = 0.7,test_size = 0.3) "
      ],
      "metadata": {
        "colab": {
          "base_uri": "https://localhost:8080/"
        },
        "id": "cIfO647zuYQx",
        "outputId": "3e253a6f-c86d-4f9d-97c4-e0f147c56ff5"
      },
      "execution_count": null,
      "outputs": [
        {
          "output_type": "stream",
          "name": "stdout",
          "text": [
            "     times  glucose  blood  skin  insulin   BMI  pedigree  age  class\n",
            "0        6      148     72    35        0  33.6     0.627   50      1\n",
            "1        1       85     66    29        0  26.6     0.351   31      0\n",
            "2        8      183     64     0        0  23.3     0.672   32      1\n",
            "3        1       89     66    23       94  28.1     0.167   21      0\n",
            "4        0      137     40    35      168  43.1     2.288   33      1\n",
            "..     ...      ...    ...   ...      ...   ...       ...  ...    ...\n",
            "763     10      101     76    48      180  32.9     0.171   63      0\n",
            "764      2      122     70    27        0  36.8     0.340   27      0\n",
            "765      5      121     72    23      112  26.2     0.245   30      0\n",
            "766      1      126     60     0        0  30.1     0.349   47      1\n",
            "767      1       93     70    31        0  30.4     0.315   23      0\n",
            "\n",
            "[768 rows x 9 columns]\n"
          ]
        }
      ]
    },
    {
      "cell_type": "markdown",
      "source": [
        "## b"
      ],
      "metadata": {
        "id": "LqnYHSunw898"
      }
    },
    {
      "cell_type": "markdown",
      "source": [
        "Przed wykonaniem procedury PCA należy zestandaryzować dane!"
      ],
      "metadata": {
        "id": "jXsMAW4hCu79"
      }
    },
    {
      "cell_type": "code",
      "source": [
        "StandardScaler() #wykonuje standaryzacje danych (odejmujemy srednia i dzielimy przez odchylenie standardowe, dzieki temu są ulokowane wg rozkładu N(0,1))"
      ],
      "metadata": {
        "colab": {
          "base_uri": "https://localhost:8080/"
        },
        "id": "yGam8r7hEU9A",
        "outputId": "50067b99-f908-475a-c073-2e46ac24aa30"
      },
      "execution_count": null,
      "outputs": [
        {
          "output_type": "execute_result",
          "data": {
            "text/plain": [
              "StandardScaler()"
            ]
          },
          "metadata": {},
          "execution_count": 14
        }
      ]
    },
    {
      "cell_type": "code",
      "source": [
        "scaler = StandardScaler()\n",
        "X_train2 = scaler.fit_transform(X_train)\n",
        "X_test2 = scaler.transform(X_test)"
      ],
      "metadata": {
        "id": "0m3jE9VGA8PW"
      },
      "execution_count": null,
      "outputs": []
    },
    {
      "cell_type": "markdown",
      "source": [
        "Teraz możemy przystąpić do PCA."
      ],
      "metadata": {
        "id": "plf8PdLXG3eF"
      }
    },
    {
      "cell_type": "code",
      "source": [
        "pca = PCA().fit(X_train2)"
      ],
      "metadata": {
        "id": "WvAVsoKGGm7S"
      },
      "execution_count": null,
      "outputs": []
    },
    {
      "cell_type": "code",
      "source": [
        "#komponenty\n",
        "pca.components_"
      ],
      "metadata": {
        "colab": {
          "base_uri": "https://localhost:8080/"
        },
        "id": "Ir_dIi6YLAPE",
        "outputId": "04f97b88-f8d2-4a03-8e87-fd8ed2d6d930"
      },
      "execution_count": null,
      "outputs": [
        {
          "output_type": "execute_result",
          "data": {
            "text/plain": [
              "array([[ 0.04543539,  0.39069995,  0.34866528,  0.46827826,  0.46523685,\n",
              "         0.45305527,  0.2663456 ,  0.10859462],\n",
              "       [ 0.60007569,  0.19783585,  0.23280285, -0.26098377, -0.19828431,\n",
              "        -0.03890584, -0.09298726,  0.65496831],\n",
              "       [-0.05701538,  0.55709385, -0.46679756, -0.28908492,  0.36020635,\n",
              "        -0.38828447,  0.31640051,  0.06559659],\n",
              "       [-0.0579445 , -0.22827722,  0.05566128, -0.08909714, -0.36281231,\n",
              "         0.08176629,  0.88739806,  0.08775907],\n",
              "       [ 0.5481772 , -0.39014631, -0.5322577 ,  0.45365523,  0.20447503,\n",
              "        -0.05906921,  0.09768893,  0.05782684],\n",
              "       [ 0.01323738,  0.24030167, -0.52301302, -0.16959868, -0.29130951,\n",
              "         0.73689269, -0.10598542, -0.02585663],\n",
              "       [-0.5748441 , -0.1699269 , -0.20723605,  0.21997791,  0.03013871,\n",
              "        -0.00826839, -0.10556441,  0.73295395],\n",
              "       [ 0.01082858, -0.45488052,  0.05873292, -0.58149591,  0.59605118,\n",
              "         0.29867762,  0.03014813,  0.07736377]])"
            ]
          },
          "metadata": {},
          "execution_count": 30
        }
      ]
    },
    {
      "cell_type": "code",
      "source": [
        "pca.explained_variance_"
      ],
      "metadata": {
        "colab": {
          "base_uri": "https://localhost:8080/"
        },
        "id": "jT47rgHPHAOi",
        "outputId": "9feb2832-0a9d-46da-e9b1-3f61f4d2dc21"
      },
      "execution_count": null,
      "outputs": [
        {
          "output_type": "execute_result",
          "data": {
            "text/plain": [
              "array([2.12975413, 1.72033435, 1.01708364, 0.90681391, 0.78155956,\n",
              "       0.67572591, 0.41344868, 0.37020519])"
            ]
          },
          "metadata": {},
          "execution_count": 24
        }
      ]
    },
    {
      "cell_type": "code",
      "source": [
        "pca.explained_variance_ratio_"
      ],
      "metadata": {
        "colab": {
          "base_uri": "https://localhost:8080/"
        },
        "id": "_sGQHJ7nHQMf",
        "outputId": "54d324c8-0ba1-4c63-8d9a-6512ca66ce54"
      },
      "execution_count": null,
      "outputs": [
        {
          "output_type": "execute_result",
          "data": {
            "text/plain": [
              "array([0.26572351, 0.21464134, 0.1268987 , 0.11314066, 0.09751302,\n",
              "       0.08430845, 0.05158484, 0.04618947])"
            ]
          },
          "metadata": {},
          "execution_count": 25
        }
      ]
    },
    {
      "cell_type": "code",
      "source": [
        "plt.plot(pca.explained_variance_ratio_) # mówi nam jakk procent wariancji został objaśniony za pomocą pca (unowotowrzonych zmiennych), może to służyc do wyboru zmiennych tylko takich co wyjaśniają istotny odsetek wariancji"
      ],
      "metadata": {
        "colab": {
          "base_uri": "https://localhost:8080/",
          "height": 302
        },
        "id": "jOE7kBz2HS-q",
        "outputId": "c8b33427-2267-4fb1-b8e8-833584fb306d"
      },
      "execution_count": null,
      "outputs": [
        {
          "output_type": "execute_result",
          "data": {
            "text/plain": [
              "[<matplotlib.lines.Line2D at 0x7f2cf82291c0>]"
            ]
          },
          "metadata": {},
          "execution_count": 26
        },
        {
          "output_type": "display_data",
          "data": {
            "text/plain": [
              "<Figure size 432x288 with 1 Axes>"
            ],
            "image/png": "[encoded data removed]"
          },
          "metadata": {
            "needs_background": "light"
          }
        }
      ]
    },
    {
      "cell_type": "markdown",
      "source": [
        "## c"
      ],
      "metadata": {
        "id": "_3Ze4B5aIQhz"
      }
    },
    {
      "cell_type": "code",
      "source": [
        "X_train_3 = pca.transform(X_train2)\n",
        "X_test_3 = pca.transform(X_test2)"
      ],
      "metadata": {
        "id": "4QYypCfrIQKk"
      },
      "execution_count": null,
      "outputs": []
    },
    {
      "cell_type": "markdown",
      "source": [
        "Ręcznie:"
      ],
      "metadata": {
        "id": "7chQBtX2MmjJ"
      }
    },
    {
      "cell_type": "code",
      "source": [
        "X_train2@pca.components_.T"
      ],
      "metadata": {
        "colab": {
          "base_uri": "https://localhost:8080/"
        },
        "id": "k0XDAQFKHqka",
        "outputId": "0522465d-5648-435e-c2fa-322f206da7a7"
      },
      "execution_count": null,
      "outputs": [
        {
          "output_type": "execute_result",
          "data": {
            "text/plain": [
              "array([[ 0.48331904, -0.16408155, -0.8042853 , ..., -0.51257065,\n",
              "         1.23654084,  0.89364597],\n",
              "       [-1.47469983, -0.19844529,  0.17766589, ...,  0.84581617,\n",
              "        -0.55123642,  0.13525606],\n",
              "       [ 1.35284147,  2.7770311 , -0.35237892, ...,  0.07987999,\n",
              "         0.71620612, -1.32263849],\n",
              "       ...,\n",
              "       [-0.45377905, -1.43677049,  1.36065196, ..., -0.73433486,\n",
              "        -0.41418933,  0.80750754],\n",
              "       [-0.19342528, -0.43427905, -0.23150697, ...,  0.36626093,\n",
              "        -0.04226663,  0.05367319],\n",
              "       [-0.46537706,  2.01680135, -1.25682181, ..., -0.43300883,\n",
              "        -0.29313835, -0.27263634]])"
            ]
          },
          "metadata": {},
          "execution_count": 31
        }
      ]
    },
    {
      "cell_type": "markdown",
      "source": [
        "## d"
      ],
      "metadata": {
        "id": "h2WF6ib8M7Lx"
      }
    },
    {
      "cell_type": "code",
      "source": [
        "m2 = LogisticRegression(penalty = 'none')"
      ],
      "metadata": {
        "id": "XBgXvAZPM6ws"
      },
      "execution_count": null,
      "outputs": []
    },
    {
      "cell_type": "code",
      "source": [
        "m2.fit(X_train2, y_train)\n",
        "m2.score(X_test2, y_test)"
      ],
      "metadata": {
        "colab": {
          "base_uri": "https://localhost:8080/"
        },
        "id": "h8XsAhj9Mzd4",
        "outputId": "e9e6b6c3-00a5-4f7b-c845-a58260b0d71c"
      },
      "execution_count": null,
      "outputs": [
        {
          "output_type": "execute_result",
          "data": {
            "text/plain": [
              "0.8008658008658008"
            ]
          },
          "metadata": {},
          "execution_count": 36
        }
      ]
    },
    {
      "cell_type": "code",
      "source": [
        "m2.fit(X_train_3, y_train)\n",
        "m2.score(X_test_3, y_test)"
      ],
      "metadata": {
        "colab": {
          "base_uri": "https://localhost:8080/"
        },
        "id": "Id28MJKdNMzG",
        "outputId": "150d5ee9-27e0-4d50-99e2-b0256307fef6"
      },
      "execution_count": null,
      "outputs": [
        {
          "output_type": "execute_result",
          "data": {
            "text/plain": [
              "0.8008658008658008"
            ]
          },
          "metadata": {},
          "execution_count": 37
        }
      ]
    },
    {
      "cell_type": "code",
      "source": [
        "m2.fit(X_train_3[:,0:7], y_train)\n",
        "m2.score(X_test_3[:,0:7], y_test)"
      ],
      "metadata": {
        "colab": {
          "base_uri": "https://localhost:8080/"
        },
        "id": "ZLJagQ8jNpow",
        "outputId": "0ec182ce-a930-4dc2-8a5c-34d1011b7d15"
      },
      "execution_count": null,
      "outputs": [
        {
          "output_type": "execute_result",
          "data": {
            "text/plain": [
              "0.8051948051948052"
            ]
          },
          "metadata": {},
          "execution_count": 39
        }
      ]
    },
    {
      "cell_type": "code",
      "source": [
        "m2.fit(X_train_3[:,0:2], y_train)\n",
        "m2.score(X_test_3[:,0:2], y_test)"
      ],
      "metadata": {
        "colab": {
          "base_uri": "https://localhost:8080/"
        },
        "id": "GMSh8Y4dOMGx",
        "outputId": "aee815a4-b5aa-4398-c55d-c10abce292e2"
      },
      "execution_count": null,
      "outputs": [
        {
          "output_type": "execute_result",
          "data": {
            "text/plain": [
              "0.7359307359307359"
            ]
          },
          "metadata": {},
          "execution_count": 42
        }
      ]
    },
    {
      "cell_type": "code",
      "source": [],
      "metadata": {
        "id": "5zhqdhIvOROq"
      },
      "execution_count": null,
      "outputs": []
    }
  ]
}