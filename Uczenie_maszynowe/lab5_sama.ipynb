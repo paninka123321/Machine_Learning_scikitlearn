{
  "nbformat": 4,
  "nbformat_minor": 0,
  "metadata": {
    "colab": {
      "provenance": []
    },
    "kernelspec": {
      "name": "python3",
      "display_name": "Python 3"
    },
    "language_info": {
      "name": "python"
    }
  },
  "cells": [
    {
      "cell_type": "markdown",
      "source": [
        "# 5.1"
      ],
      "metadata": {
        "id": "KnOeHohTM4CC"
      }
    },
    {
      "cell_type": "code",
      "source": [
        "from google.colab import files"
      ],
      "metadata": {
        "id": "oQLCtTi_M8D5"
      },
      "execution_count": null,
      "outputs": []
    },
    {
      "cell_type": "code",
      "source": [
        "import pandas as pd\n",
        "import numpy as np"
      ],
      "metadata": {
        "id": "tg561nrTNBmB"
      },
      "execution_count": null,
      "outputs": []
    },
    {
      "cell_type": "code",
      "source": [
        "df1 = pd.read_csv('prostate.csv')"
      ],
      "metadata": {
        "id": "mnAcaKhkNE8a"
      },
      "execution_count": null,
      "outputs": []
    },
    {
      "cell_type": "markdown",
      "source": [
        "#a"
      ],
      "metadata": {
        "id": "tfH-KUCaN05s"
      }
    },
    {
      "cell_type": "code",
      "source": [
        "#liczba obserwacji i cech:\n",
        "df1.shape\n",
        "#odp mamy 102 cechy i 6034 obserwacje"
      ],
      "metadata": {
        "colab": {
          "base_uri": "https://localhost:8080/"
        },
        "id": "ccZjy8XpNqgS",
        "outputId": "2446d4c1-46f9-4f4a-c8b7-c17f7248b168"
      },
      "execution_count": null,
      "outputs": [
        {
          "output_type": "execute_result",
          "data": {
            "text/plain": [
              "(102, 6034)"
            ]
          },
          "metadata": {},
          "execution_count": 5
        }
      ]
    },
    {
      "cell_type": "code",
      "source": [
        "df1.head()"
      ],
      "metadata": {
        "colab": {
          "base_uri": "https://localhost:8080/",
          "height": 358
        },
        "id": "xMGdytLuN4iW",
        "outputId": "bd6c49e2-e861-4337-d0c3-9fdda957e8eb"
      },
      "execution_count": null,
      "outputs": [
        {
          "output_type": "execute_result",
          "data": {
            "text/plain": [
              "          1         2         3         4         5         6         7  \\\n",
              "0 -0.930895 -0.839996  0.062508 -0.361594 -1.124427 -1.180492 -1.092276   \n",
              "1 -0.751885 -0.848271  0.102895  2.421034  0.182211  0.639267 -0.224728   \n",
              "2 -0.545781 -0.851687 -0.003043 -0.122089  0.837907 -1.195882 -0.931749   \n",
              "3 -1.078519 -0.159610  0.215347 -0.096277  1.050548  0.654914  1.086128   \n",
              "4 -0.994677 -0.751905 -1.163109 -1.130144  1.695673  0.878677 -1.097698   \n",
              "\n",
              "          8         9        10  ...      6025      6026      6027      6028  \\\n",
              "0 -1.149624 -1.157503  0.219849  ...  0.492456 -0.753197  0.377710 -0.845797   \n",
              "1  0.119039  1.694874 -0.074817  ... -0.959873  1.374652 -0.903991  1.332845   \n",
              "2 -1.164679 -0.549045  3.828663  ... -0.869585 -0.362556 -0.907472 -0.341481   \n",
              "3 -1.127224  0.603476 -0.532284  ... -0.928211 -0.909437 -0.872889 -0.823525   \n",
              "4  1.490272  1.314783 -1.112842  ...  0.407184 -0.935771 -0.898889 -0.849075   \n",
              "\n",
              "       6029      6030      6031      6032      6033  y  \n",
              "0  0.686091 -1.091779  0.347228 -0.901310 -0.252259  0  \n",
              "1 -0.574808  2.143548  0.101821  1.326812 -0.091503  0  \n",
              "2 -0.577905 -0.006464 -0.920312 -0.085084 -0.704808  0  \n",
              "3 -1.055268 -1.069403 -0.792237 -0.879015 -0.672488  0  \n",
              "4 -1.082933 -1.097196 -0.911702 -0.905071 -0.696659  0  \n",
              "\n",
              "[5 rows x 6034 columns]"
            ],
            "text/html": [
              "\n",
              "  <div id=\"df-d352cee2-eb0f-4a2c-8022-518f18690c4c\">\n",
              "    <div class=\"colab-df-container\">\n",
              "      <div>\n",
              "<style scoped>\n",
              "    .dataframe tbody tr th:only-of-type {\n",
              "        vertical-align: middle;\n",
              "    }\n",
              "\n",
              "    .dataframe tbody tr th {\n",
              "        vertical-align: top;\n",
              "    }\n",
              "\n",
              "    .dataframe thead th {\n",
              "        text-align: right;\n",
              "    }\n",
              "</style>\n",
              "<table border=\"1\" class=\"dataframe\">\n",
              "  <thead>\n",
              "    <tr style=\"text-align: right;\">\n",
              "      <th></th>\n",
              "      <th>1</th>\n",
              "      <th>2</th>\n",
              "      <th>3</th>\n",
              "      <th>4</th>\n",
              "      <th>5</th>\n",
              "      <th>6</th>\n",
              "      <th>7</th>\n",
              "      <th>8</th>\n",
              "      <th>9</th>\n",
              "      <th>10</th>\n",
              "      <th>...</th>\n",
              "      <th>6025</th>\n",
              "      <th>6026</th>\n",
              "      <th>6027</th>\n",
              "      <th>6028</th>\n",
              "      <th>6029</th>\n",
              "      <th>6030</th>\n",
              "      <th>6031</th>\n",
              "      <th>6032</th>\n",
              "      <th>6033</th>\n",
              "      <th>y</th>\n",
              "    </tr>\n",
              "  </thead>\n",
              "  <tbody>\n",
              "    <tr>\n",
              "      <th>0</th>\n",
              "      <td>-0.930895</td>\n",
              "      <td>-0.839996</td>\n",
              "      <td>0.062508</td>\n",
              "      <td>-0.361594</td>\n",
              "      <td>-1.124427</td>\n",
              "      <td>-1.180492</td>\n",
              "      <td>-1.092276</td>\n",
              "      <td>-1.149624</td>\n",
              "      <td>-1.157503</td>\n",
              "      <td>0.219849</td>\n",
              "      <td>...</td>\n",
              "      <td>0.492456</td>\n",
              "      <td>-0.753197</td>\n",
              "      <td>0.377710</td>\n",
              "      <td>-0.845797</td>\n",
              "      <td>0.686091</td>\n",
              "      <td>-1.091779</td>\n",
              "      <td>0.347228</td>\n",
              "      <td>-0.901310</td>\n",
              "      <td>-0.252259</td>\n",
              "      <td>0</td>\n",
              "    </tr>\n",
              "    <tr>\n",
              "      <th>1</th>\n",
              "      <td>-0.751885</td>\n",
              "      <td>-0.848271</td>\n",
              "      <td>0.102895</td>\n",
              "      <td>2.421034</td>\n",
              "      <td>0.182211</td>\n",
              "      <td>0.639267</td>\n",
              "      <td>-0.224728</td>\n",
              "      <td>0.119039</td>\n",
              "      <td>1.694874</td>\n",
              "      <td>-0.074817</td>\n",
              "      <td>...</td>\n",
              "      <td>-0.959873</td>\n",
              "      <td>1.374652</td>\n",
              "      <td>-0.903991</td>\n",
              "      <td>1.332845</td>\n",
              "      <td>-0.574808</td>\n",
              "      <td>2.143548</td>\n",
              "      <td>0.101821</td>\n",
              "      <td>1.326812</td>\n",
              "      <td>-0.091503</td>\n",
              "      <td>0</td>\n",
              "    </tr>\n",
              "    <tr>\n",
              "      <th>2</th>\n",
              "      <td>-0.545781</td>\n",
              "      <td>-0.851687</td>\n",
              "      <td>-0.003043</td>\n",
              "      <td>-0.122089</td>\n",
              "      <td>0.837907</td>\n",
              "      <td>-1.195882</td>\n",
              "      <td>-0.931749</td>\n",
              "      <td>-1.164679</td>\n",
              "      <td>-0.549045</td>\n",
              "      <td>3.828663</td>\n",
              "      <td>...</td>\n",
              "      <td>-0.869585</td>\n",
              "      <td>-0.362556</td>\n",
              "      <td>-0.907472</td>\n",
              "      <td>-0.341481</td>\n",
              "      <td>-0.577905</td>\n",
              "      <td>-0.006464</td>\n",
              "      <td>-0.920312</td>\n",
              "      <td>-0.085084</td>\n",
              "      <td>-0.704808</td>\n",
              "      <td>0</td>\n",
              "    </tr>\n",
              "    <tr>\n",
              "      <th>3</th>\n",
              "      <td>-1.078519</td>\n",
              "      <td>-0.159610</td>\n",
              "      <td>0.215347</td>\n",
              "      <td>-0.096277</td>\n",
              "      <td>1.050548</td>\n",
              "      <td>0.654914</td>\n",
              "      <td>1.086128</td>\n",
              "      <td>-1.127224</td>\n",
              "      <td>0.603476</td>\n",
              "      <td>-0.532284</td>\n",
              "      <td>...</td>\n",
              "      <td>-0.928211</td>\n",
              "      <td>-0.909437</td>\n",
              "      <td>-0.872889</td>\n",
              "      <td>-0.823525</td>\n",
              "      <td>-1.055268</td>\n",
              "      <td>-1.069403</td>\n",
              "      <td>-0.792237</td>\n",
              "      <td>-0.879015</td>\n",
              "      <td>-0.672488</td>\n",
              "      <td>0</td>\n",
              "    </tr>\n",
              "    <tr>\n",
              "      <th>4</th>\n",
              "      <td>-0.994677</td>\n",
              "      <td>-0.751905</td>\n",
              "      <td>-1.163109</td>\n",
              "      <td>-1.130144</td>\n",
              "      <td>1.695673</td>\n",
              "      <td>0.878677</td>\n",
              "      <td>-1.097698</td>\n",
              "      <td>1.490272</td>\n",
              "      <td>1.314783</td>\n",
              "      <td>-1.112842</td>\n",
              "      <td>...</td>\n",
              "      <td>0.407184</td>\n",
              "      <td>-0.935771</td>\n",
              "      <td>-0.898889</td>\n",
              "      <td>-0.849075</td>\n",
              "      <td>-1.082933</td>\n",
              "      <td>-1.097196</td>\n",
              "      <td>-0.911702</td>\n",
              "      <td>-0.905071</td>\n",
              "      <td>-0.696659</td>\n",
              "      <td>0</td>\n",
              "    </tr>\n",
              "  </tbody>\n",
              "</table>\n",
              "<p>5 rows × 6034 columns</p>\n",
              "</div>\n",
              "      <button class=\"colab-df-convert\" onclick=\"convertToInteractive('df-d352cee2-eb0f-4a2c-8022-518f18690c4c')\"\n",
              "              title=\"Convert this dataframe to an interactive table.\"\n",
              "              style=\"display:none;\">\n",
              "        \n",
              "  <svg xmlns=\"http://www.w3.org/2000/svg\" height=\"24px\"viewBox=\"0 0 24 24\"\n",
              "       width=\"24px\">\n",
              "    <path d=\"M0 0h24v24H0V0z\" fill=\"none\"/>\n",
              "    <path d=\"M18.56 5.44l.94 2.06.94-2.06 2.06-.94-2.06-.94-.94-2.06-.94 2.06-2.06.94zm-11 1L8.5 8.5l.94-2.06 2.06-.94-2.06-.94L8.5 2.5l-.94 2.06-2.06.94zm10 10l.94 2.06.94-2.06 2.06-.94-2.06-.94-.94-2.06-.94 2.06-2.06.94z\"/><path d=\"M17.41 7.96l-1.37-1.37c-.4-.4-.92-.59-1.43-.59-.52 0-1.04.2-1.43.59L10.3 9.45l-7.72 7.72c-.78.78-.78 2.05 0 2.83L4 21.41c.39.39.9.59 1.41.59.51 0 1.02-.2 1.41-.59l7.78-7.78 2.81-2.81c.8-.78.8-2.07 0-2.86zM5.41 20L4 18.59l7.72-7.72 1.47 1.35L5.41 20z\"/>\n",
              "  </svg>\n",
              "      </button>\n",
              "      \n",
              "  <style>\n",
              "    .colab-df-container {\n",
              "      display:flex;\n",
              "      flex-wrap:wrap;\n",
              "      gap: 12px;\n",
              "    }\n",
              "\n",
              "    .colab-df-convert {\n",
              "      background-color: #E8F0FE;\n",
              "      border: none;\n",
              "      border-radius: 50%;\n",
              "      cursor: pointer;\n",
              "      display: none;\n",
              "      fill: #1967D2;\n",
              "      height: 32px;\n",
              "      padding: 0 0 0 0;\n",
              "      width: 32px;\n",
              "    }\n",
              "\n",
              "    .colab-df-convert:hover {\n",
              "      background-color: #E2EBFA;\n",
              "      box-shadow: 0px 1px 2px rgba(60, 64, 67, 0.3), 0px 1px 3px 1px rgba(60, 64, 67, 0.15);\n",
              "      fill: #174EA6;\n",
              "    }\n",
              "\n",
              "    [theme=dark] .colab-df-convert {\n",
              "      background-color: #3B4455;\n",
              "      fill: #D2E3FC;\n",
              "    }\n",
              "\n",
              "    [theme=dark] .colab-df-convert:hover {\n",
              "      background-color: #434B5C;\n",
              "      box-shadow: 0px 1px 3px 1px rgba(0, 0, 0, 0.15);\n",
              "      filter: drop-shadow(0px 1px 2px rgba(0, 0, 0, 0.3));\n",
              "      fill: #FFFFFF;\n",
              "    }\n",
              "  </style>\n",
              "\n",
              "      <script>\n",
              "        const buttonEl =\n",
              "          document.querySelector('#df-d352cee2-eb0f-4a2c-8022-518f18690c4c button.colab-df-convert');\n",
              "        buttonEl.style.display =\n",
              "          google.colab.kernel.accessAllowed ? 'block' : 'none';\n",
              "\n",
              "        async function convertToInteractive(key) {\n",
              "          const element = document.querySelector('#df-d352cee2-eb0f-4a2c-8022-518f18690c4c');\n",
              "          const dataTable =\n",
              "            await google.colab.kernel.invokeFunction('convertToInteractive',\n",
              "                                                     [key], {});\n",
              "          if (!dataTable) return;\n",
              "\n",
              "          const docLinkHtml = 'Like what you see? Visit the ' +\n",
              "            '<a target=\"_blank\" href=https://colab.research.google.com/notebooks/data_table.ipynb>data table notebook</a>'\n",
              "            + ' to learn more about interactive tables.';\n",
              "          element.innerHTML = '';\n",
              "          dataTable['output_type'] = 'display_data';\n",
              "          await google.colab.output.renderOutput(dataTable, element);\n",
              "          const docLink = document.createElement('div');\n",
              "          docLink.innerHTML = docLinkHtml;\n",
              "          element.appendChild(docLink);\n",
              "        }\n",
              "      </script>\n",
              "    </div>\n",
              "  </div>\n",
              "  "
            ]
          },
          "metadata": {},
          "execution_count": 6
        }
      ]
    },
    {
      "cell_type": "code",
      "source": [
        "from sklearn.model_selection import train_test_split"
      ],
      "metadata": {
        "id": "g4yxnsQwOUUh"
      },
      "execution_count": null,
      "outputs": []
    },
    {
      "cell_type": "code",
      "source": [
        "#dziele model:\n",
        "x, y = df1.values[:,:-1], df1.values[:,-1]\n",
        "x_tr, x_te, y_tr, y_te = train_test_split(x, y, test_size = 0.25)"
      ],
      "metadata": {
        "id": "D10-mPfxN6po"
      },
      "execution_count": null,
      "outputs": []
    },
    {
      "cell_type": "code",
      "source": [
        "from sklearn.linear_model import LogisticRegression"
      ],
      "metadata": {
        "id": "Vg-1b0DvPOsb"
      },
      "execution_count": null,
      "outputs": []
    },
    {
      "cell_type": "code",
      "source": [
        "model1 = LogisticRegression(penalty ='none', max_iter=1000).fit(x_tr, y_tr)"
      ],
      "metadata": {
        "id": "wHhD_VZNPs7L"
      },
      "execution_count": null,
      "outputs": []
    },
    {
      "cell_type": "markdown",
      "source": [
        "##b"
      ],
      "metadata": {
        "id": "ZTk9gE7OQuZw"
      }
    },
    {
      "cell_type": "code",
      "source": [
        "from sklearn.linear_model import LogisticRegressionCV"
      ],
      "metadata": {
        "id": "Ns7kV8sUP37p"
      },
      "execution_count": null,
      "outputs": []
    },
    {
      "cell_type": "code",
      "source": [
        "model1_2 = LogisticRegressionCV(penalty = 'l2', Cs = [0.001, 0.01,0.1, 1, 10, 100, 1000], max_iter=1000).fit(x_tr,y_tr)"
      ],
      "metadata": {
        "id": "J8VMsOpEQzmG"
      },
      "execution_count": null,
      "outputs": []
    },
    {
      "cell_type": "code",
      "source": [
        "#model z optymalnym par C\n",
        "model1_2.C_"
      ],
      "metadata": {
        "colab": {
          "base_uri": "https://localhost:8080/"
        },
        "id": "wtL_CDVvRVl2",
        "outputId": "099c912b-96fa-4fb2-8bc7-5f24e8fa7deb"
      },
      "execution_count": null,
      "outputs": [
        {
          "output_type": "execute_result",
          "data": {
            "text/plain": [
              "array([0.001])"
            ]
          },
          "metadata": {},
          "execution_count": 32
        }
      ]
    },
    {
      "cell_type": "markdown",
      "source": [
        "##c"
      ],
      "metadata": {
        "id": "FAfpenUTRvS4"
      }
    },
    {
      "cell_type": "code",
      "source": [
        "model1_3 = LogisticRegressionCV(penalty = 'l1', solver = 'liblinear', Cs = [0.001, 0.01,0.1, 1, 10, 100, 1000]).fit(x_tr,y_tr)"
      ],
      "metadata": {
        "id": "WYfKLsW5RcyN"
      },
      "execution_count": null,
      "outputs": []
    },
    {
      "cell_type": "code",
      "source": [
        "model1_3.C_"
      ],
      "metadata": {
        "colab": {
          "base_uri": "https://localhost:8080/"
        },
        "id": "FhfyCj6cR3GT",
        "outputId": "3450b93d-0e2f-4187-9e25-8611c57b3152"
      },
      "execution_count": null,
      "outputs": [
        {
          "output_type": "execute_result",
          "data": {
            "text/plain": [
              "array([100.])"
            ]
          },
          "metadata": {},
          "execution_count": 23
        }
      ]
    },
    {
      "cell_type": "markdown",
      "source": [],
      "metadata": {
        "id": "59jdWupjU-Dq"
      }
    },
    {
      "cell_type": "markdown",
      "source": [
        "## d"
      ],
      "metadata": {
        "id": "7Q-zw4GoSDMG"
      }
    },
    {
      "cell_type": "code",
      "source": [
        "model_l1 = LogisticRegressionCV(penalty = 'l1', solver = 'liblinear', Cs = [100]).fit(x_tr,y_tr)\n",
        "model_l2 = LogisticRegressionCV(penalty = 'l2', Cs = [0.001]).fit(x_tr,y_tr)"
      ],
      "metadata": {
        "id": "PJMqge2oR6Vi"
      },
      "execution_count": null,
      "outputs": []
    },
    {
      "cell_type": "markdown",
      "source": [
        "##e"
      ],
      "metadata": {
        "id": "wy2_Y0FuTBhZ"
      }
    },
    {
      "cell_type": "code",
      "source": [
        "from sklearn.metrics import roc_auc_score, roc_curve"
      ],
      "metadata": {
        "id": "DGUm-G9_Snoh"
      },
      "execution_count": null,
      "outputs": []
    },
    {
      "cell_type": "code",
      "source": [
        "fpr_l, trp_l, _ = roc_curve(y_te, model1.predict_proba(x_te)[:,1])\n",
        "fpr_l1, trp_l1, _ = roc_curve(y_te, model_l1.predict_proba(x_te)[:,1])\n",
        "fpr_l2, trp_l2, _ = roc_curve(y_te, model_l2.predict_proba(x_te)[:,1])"
      ],
      "metadata": {
        "id": "dNLx6le4TewQ"
      },
      "execution_count": null,
      "outputs": []
    },
    {
      "cell_type": "code",
      "source": [
        "# obliczenie auc\n",
        "a1 = roc_auc_score(y_te, model1.predict_proba(x_te)[:,1])\n",
        "a2 = roc_auc_score(y_te, model_l1.predict_proba(x_te)[:,1])\n",
        "a3 = roc_auc_score(y_te, model_l2.predict_proba(x_te)[:,1])"
      ],
      "metadata": {
        "id": "QKkKjip-TxOz"
      },
      "execution_count": null,
      "outputs": []
    },
    {
      "cell_type": "code",
      "source": [
        "print(a1, a2, a3)"
      ],
      "metadata": {
        "colab": {
          "base_uri": "https://localhost:8080/"
        },
        "id": "msWfE_FhUr9W",
        "outputId": "61303331-f990-47f7-bd86-f0114ea5a963"
      },
      "execution_count": null,
      "outputs": [
        {
          "output_type": "stream",
          "name": "stdout",
          "text": [
            "0.7797619047619048 0.9166666666666667 0.7619047619047619\n"
          ]
        }
      ]
    },
    {
      "cell_type": "code",
      "source": [],
      "metadata": {
        "id": "yIWiOzbDVpin"
      },
      "execution_count": null,
      "outputs": []
    },
    {
      "cell_type": "code",
      "source": [
        "import matplotlib.pyplot as plt"
      ],
      "metadata": {
        "id": "OWNfXvguVlas"
      },
      "execution_count": null,
      "outputs": []
    },
    {
      "cell_type": "code",
      "source": [
        "plt.plot(fpr_l, trp_l, c = 'blue', label='Logistic')\n",
        "plt.plot(fpr_l1, trp_l1, c= 'red', label='LogisticL2')\n",
        "plt.plot(fpr_l2, trp_l2, c= 'green', label='LogisticL1')\n",
        "plt.plot([0, 1], [0, 1], color='black', linestyle='--',label = 'random')\n",
        "# axis labels\n",
        "plt.xlabel('False Positive Rate')\n",
        "plt.ylabel('True Positive Rate')\n",
        "# show the legend\n",
        "plt.legend()\n",
        "# show the plot\n",
        "plt.show()"
      ],
      "metadata": {
        "colab": {
          "base_uri": "https://localhost:8080/",
          "height": 280
        },
        "id": "W6WTqOmCUwP5",
        "outputId": "6dbafef9-bfd2-4630-d229-6061e8bc5d04"
      },
      "execution_count": null,
      "outputs": [
        {
          "output_type": "display_data",
          "data": {
            "text/plain": [
              "<Figure size 432x288 with 1 Axes>"
            ],
            "image/png": "[encoded data removed]"
          },
          "metadata": {
            "needs_background": "light"
          }
        }
      ]
    },
    {
      "cell_type": "markdown",
      "source": [
        "#5.2"
      ],
      "metadata": {
        "id": "TfGAXyXFWFk1"
      }
    },
    {
      "cell_type": "code",
      "source": [
        "from google.colab import files"
      ],
      "metadata": {
        "id": "2-16VpajLaZ4"
      },
      "execution_count": null,
      "outputs": []
    },
    {
      "cell_type": "code",
      "source": [
        "files.upload()"
      ],
      "metadata": {
        "colab": {
          "base_uri": "https://localhost:8080/",
          "height": 150
        },
        "id": "Nivpq1H8WEyR",
        "outputId": "395c862a-2edc-42ae-d25a-9bc2bdde5d1f"
      },
      "execution_count": null,
      "outputs": [
        {
          "output_type": "display_data",
          "data": {
            "text/plain": [
              "<IPython.core.display.HTML object>"
            ],
            "text/html": [
              "\n",
              "     <input type=\"file\" id=\"files-e928fba2-d869-413a-b7a5-b91d7e8b0407\" name=\"files[]\" multiple disabled\n",
              "        style=\"border:none\" />\n",
              "     <output id=\"result-e928fba2-d869-413a-b7a5-b91d7e8b0407\">\n",
              "      Upload widget is only available when the cell has been executed in the\n",
              "      current browser session. Please rerun this cell to enable.\n",
              "      </output>\n",
              "      <script>// Copyright 2017 Google LLC\n",
              "//\n",
              "// Licensed under the Apache License, Version 2.0 (the \"License\");\n",
              "// you may not use this file except in compliance with the License.\n",
              "// You may obtain a copy of the License at\n",
              "//\n",
              "//      http://www.apache.org/licenses/LICENSE-2.0\n",
              "//\n",
              "// Unless required by applicable law or agreed to in writing, software\n",
              "// distributed under the License is distributed on an \"AS IS\" BASIS,\n",
              "// WITHOUT WARRANTIES OR CONDITIONS OF ANY KIND, either express or implied.\n",
              "// See the License for the specific language governing permissions and\n",
              "// limitations under the License.\n",
              "\n",
              "/**\n",
              " * @fileoverview Helpers for google.colab Python module.\n",
              " */\n",
              "(function(scope) {\n",
              "function span(text, styleAttributes = {}) {\n",
              "  const element = document.createElement('span');\n",
              "  element.textContent = text;\n",
              "  for (const key of Object.keys(styleAttributes)) {\n",
              "    element.style[key] = styleAttributes[key];\n",
              "  }\n",
              "  return element;\n",
              "}\n",
              "\n",
              "// Max number of bytes which will be uploaded at a time.\n",
              "const MAX_PAYLOAD_SIZE = 100 * 1024;\n",
              "\n",
              "function _uploadFiles(inputId, outputId) {\n",
              "  const steps = uploadFilesStep(inputId, outputId);\n",
              "  const outputElement = document.getElementById(outputId);\n",
              "  // Cache steps on the outputElement to make it available for the next call\n",
              "  // to uploadFilesContinue from Python.\n",
              "  outputElement.steps = steps;\n",
              "\n",
              "  return _uploadFilesContinue(outputId);\n",
              "}\n",
              "\n",
              "// This is roughly an async generator (not supported in the browser yet),\n",
              "// where there are multiple asynchronous steps and the Python side is going\n",
              "// to poll for completion of each step.\n",
              "// This uses a Promise to block the python side on completion of each step,\n",
              "// then passes the result of the previous step as the input to the next step.\n",
              "function _uploadFilesContinue(outputId) {\n",
              "  const outputElement = document.getElementById(outputId);\n",
              "  const steps = outputElement.steps;\n",
              "\n",
              "  const next = steps.next(outputElement.lastPromiseValue);\n",
              "  return Promise.resolve(next.value.promise).then((value) => {\n",
              "    // Cache the last promise value to make it available to the next\n",
              "    // step of the generator.\n",
              "    outputElement.lastPromiseValue = value;\n",
              "    return next.value.response;\n",
              "  });\n",
              "}\n",
              "\n",
              "/**\n",
              " * Generator function which is called between each async step of the upload\n",
              " * process.\n",
              " * @param {string} inputId Element ID of the input file picker element.\n",
              " * @param {string} outputId Element ID of the output display.\n",
              " * @return {!Iterable<!Object>} Iterable of next steps.\n",
              " */\n",
              "function* uploadFilesStep(inputId, outputId) {\n",
              "  const inputElement = document.getElementById(inputId);\n",
              "  inputElement.disabled = false;\n",
              "\n",
              "  const outputElement = document.getElementById(outputId);\n",
              "  outputElement.innerHTML = '';\n",
              "\n",
              "  const pickedPromise = new Promise((resolve) => {\n",
              "    inputElement.addEventListener('change', (e) => {\n",
              "      resolve(e.target.files);\n",
              "    });\n",
              "  });\n",
              "\n",
              "  const cancel = document.createElement('button');\n",
              "  inputElement.parentElement.appendChild(cancel);\n",
              "  cancel.textContent = 'Cancel upload';\n",
              "  const cancelPromise = new Promise((resolve) => {\n",
              "    cancel.onclick = () => {\n",
              "      resolve(null);\n",
              "    };\n",
              "  });\n",
              "\n",
              "  // Wait for the user to pick the files.\n",
              "  const files = yield {\n",
              "    promise: Promise.race([pickedPromise, cancelPromise]),\n",
              "    response: {\n",
              "      action: 'starting',\n",
              "    }\n",
              "  };\n",
              "\n",
              "  cancel.remove();\n",
              "\n",
              "  // Disable the input element since further picks are not allowed.\n",
              "  inputElement.disabled = true;\n",
              "\n",
              "  if (!files) {\n",
              "    return {\n",
              "      response: {\n",
              "        action: 'complete',\n",
              "      }\n",
              "    };\n",
              "  }\n",
              "\n",
              "  for (const file of files) {\n",
              "    const li = document.createElement('li');\n",
              "    li.append(span(file.name, {fontWeight: 'bold'}));\n",
              "    li.append(span(\n",
              "        `(${file.type || 'n/a'}) - ${file.size} bytes, ` +\n",
              "        `last modified: ${\n",
              "            file.lastModifiedDate ? file.lastModifiedDate.toLocaleDateString() :\n",
              "                                    'n/a'} - `));\n",
              "    const percent = span('0% done');\n",
              "    li.appendChild(percent);\n",
              "\n",
              "    outputElement.appendChild(li);\n",
              "\n",
              "    const fileDataPromise = new Promise((resolve) => {\n",
              "      const reader = new FileReader();\n",
              "      reader.onload = (e) => {\n",
              "        resolve(e.target.result);\n",
              "      };\n",
              "      reader.readAsArrayBuffer(file);\n",
              "    });\n",
              "    // Wait for the data to be ready.\n",
              "    let fileData = yield {\n",
              "      promise: fileDataPromise,\n",
              "      response: {\n",
              "        action: 'continue',\n",
              "      }\n",
              "    };\n",
              "\n",
              "    // Use a chunked sending to avoid message size limits. See b/62115660.\n",
              "    let position = 0;\n",
              "    do {\n",
              "      const length = Math.min(fileData.byteLength - position, MAX_PAYLOAD_SIZE);\n",
              "      const chunk = new Uint8Array(fileData, position, length);\n",
              "      position += length;\n",
              "\n",
              "      const base64 = btoa(String.fromCharCode.apply(null, chunk));\n",
              "      yield {\n",
              "        response: {\n",
              "          action: 'append',\n",
              "          file: file.name,\n",
              "          data: base64,\n",
              "        },\n",
              "      };\n",
              "\n",
              "      let percentDone = fileData.byteLength === 0 ?\n",
              "          100 :\n",
              "          Math.round((position / fileData.byteLength) * 100);\n",
              "      percent.textContent = `${percentDone}% done`;\n",
              "\n",
              "    } while (position < fileData.byteLength);\n",
              "  }\n",
              "\n",
              "  // All done.\n",
              "  yield {\n",
              "    response: {\n",
              "      action: 'complete',\n",
              "    }\n",
              "  };\n",
              "}\n",
              "\n",
              "scope.google = scope.google || {};\n",
              "scope.google.colab = scope.google.colab || {};\n",
              "scope.google.colab._files = {\n",
              "  _uploadFiles,\n",
              "  _uploadFilesContinue,\n",
              "};\n",
              "})(self);\n",
              "</script> "
            ]
          },
          "metadata": {}
        },
        {
          "output_type": "stream",
          "name": "stdout",
          "text": [
            "Saving earthquake.csv to earthquake (2).csv\n"
          ]
        },
        {
          "output_type": "execute_result",
          "data": {
            "text/plain": [
              "{'earthquake.csv': b'\"popn\",\"body\",\"surface\"\\r\\n\"equake\",5.6,4.25\\r\\n\"equake\",5.18,3.93\\r\\n\"equake\",6.31,6.3\\r\\n\"equake\",5.36,4.49\\r\\n\"equake\",5.96,6.39\\r\\n\"equake\",5.26,4.42\\r\\n\"equake\",5.17,5.1\\r\\n\"equake\",4.75,4.4\\r\\n\"equake\",5.35,5.49\\r\\n\"equake\",5.01,4.48\\r\\n\"equake\",5.27,4.41\\r\\n\"equake\",5.27,4.69\\r\\n\"equake\",4.98,3.66\\r\\n\"equake\",5.22,3.99\\r\\n\"equake\",5.06,4.58\\r\\n\"equake\",5.09,4.9\\r\\n\"equake\",5.15,4.82\\r\\n\"equake\",4.56,4.08\\r\\n\"equake\",5,4.94\\r\\n\"equake\",5.43,5.48\\r\\n\"explosn\",6.04,4.33\\r\\n\"explosn\",5.97,4.39\\r\\n\"explosn\",5.84,4.35\\r\\n\"explosn\",5.79,4.14\\r\\n\"explosn\",5.87,3.9\\r\\n\"explosn\",6.51,4.49\\r\\n\"explosn\",5.74,4.22\\r\\n\"explosn\",5.98,4.08\\r\\n\"explosn\",6.07,4.3\\r\\n'}"
            ]
          },
          "metadata": {},
          "execution_count": 15
        }
      ]
    },
    {
      "cell_type": "code",
      "source": [
        "df2 = pd.read_csv('earthquake.csv')"
      ],
      "metadata": {
        "id": "GiCatWnxVj-h"
      },
      "execution_count": null,
      "outputs": []
    },
    {
      "cell_type": "code",
      "source": [
        "df2.head()"
      ],
      "metadata": {
        "colab": {
          "base_uri": "https://localhost:8080/",
          "height": 260
        },
        "id": "UfLdUj8CXaqN",
        "outputId": "54c198ec-722d-4f69-8252-939b14ff06f6"
      },
      "execution_count": null,
      "outputs": [
        {
          "output_type": "execute_result",
          "data": {
            "text/plain": [
              "     popn  body  surface\n",
              "0  equake  5.60     4.25\n",
              "1  equake  5.18     3.93\n",
              "2  equake  6.31     6.30\n",
              "3  equake  5.36     4.49\n",
              "4  equake  5.96     6.39"
            ],
            "text/html": [
              "\n",
              "  <div id=\"df-0a41c3e4-b3df-4030-8e2e-15272e95f03f\">\n",
              "    <div class=\"colab-df-container\">\n",
              "      <div>\n",
              "<style scoped>\n",
              "    .dataframe tbody tr th:only-of-type {\n",
              "        vertical-align: middle;\n",
              "    }\n",
              "\n",
              "    .dataframe tbody tr th {\n",
              "        vertical-align: top;\n",
              "    }\n",
              "\n",
              "    .dataframe thead th {\n",
              "        text-align: right;\n",
              "    }\n",
              "</style>\n",
              "<table border=\"1\" class=\"dataframe\">\n",
              "  <thead>\n",
              "    <tr style=\"text-align: right;\">\n",
              "      <th></th>\n",
              "      <th>popn</th>\n",
              "      <th>body</th>\n",
              "      <th>surface</th>\n",
              "    </tr>\n",
              "  </thead>\n",
              "  <tbody>\n",
              "    <tr>\n",
              "      <th>0</th>\n",
              "      <td>equake</td>\n",
              "      <td>5.60</td>\n",
              "      <td>4.25</td>\n",
              "    </tr>\n",
              "    <tr>\n",
              "      <th>1</th>\n",
              "      <td>equake</td>\n",
              "      <td>5.18</td>\n",
              "      <td>3.93</td>\n",
              "    </tr>\n",
              "    <tr>\n",
              "      <th>2</th>\n",
              "      <td>equake</td>\n",
              "      <td>6.31</td>\n",
              "      <td>6.30</td>\n",
              "    </tr>\n",
              "    <tr>\n",
              "      <th>3</th>\n",
              "      <td>equake</td>\n",
              "      <td>5.36</td>\n",
              "      <td>4.49</td>\n",
              "    </tr>\n",
              "    <tr>\n",
              "      <th>4</th>\n",
              "      <td>equake</td>\n",
              "      <td>5.96</td>\n",
              "      <td>6.39</td>\n",
              "    </tr>\n",
              "  </tbody>\n",
              "</table>\n",
              "</div>\n",
              "      <button class=\"colab-df-convert\" onclick=\"convertToInteractive('df-0a41c3e4-b3df-4030-8e2e-15272e95f03f')\"\n",
              "              title=\"Convert this dataframe to an interactive table.\"\n",
              "              style=\"display:none;\">\n",
              "        \n",
              "  <svg xmlns=\"http://www.w3.org/2000/svg\" height=\"24px\"viewBox=\"0 0 24 24\"\n",
              "       width=\"24px\">\n",
              "    <path d=\"M0 0h24v24H0V0z\" fill=\"none\"/>\n",
              "    <path d=\"M18.56 5.44l.94 2.06.94-2.06 2.06-.94-2.06-.94-.94-2.06-.94 2.06-2.06.94zm-11 1L8.5 8.5l.94-2.06 2.06-.94-2.06-.94L8.5 2.5l-.94 2.06-2.06.94zm10 10l.94 2.06.94-2.06 2.06-.94-2.06-.94-.94-2.06-.94 2.06-2.06.94z\"/><path d=\"M17.41 7.96l-1.37-1.37c-.4-.4-.92-.59-1.43-.59-.52 0-1.04.2-1.43.59L10.3 9.45l-7.72 7.72c-.78.78-.78 2.05 0 2.83L4 21.41c.39.39.9.59 1.41.59.51 0 1.02-.2 1.41-.59l7.78-7.78 2.81-2.81c.8-.78.8-2.07 0-2.86zM5.41 20L4 18.59l7.72-7.72 1.47 1.35L5.41 20z\"/>\n",
              "  </svg>\n",
              "      </button>\n",
              "      \n",
              "  <style>\n",
              "    .colab-df-container {\n",
              "      display:flex;\n",
              "      flex-wrap:wrap;\n",
              "      gap: 12px;\n",
              "    }\n",
              "\n",
              "    .colab-df-convert {\n",
              "      background-color: #E8F0FE;\n",
              "      border: none;\n",
              "      border-radius: 50%;\n",
              "      cursor: pointer;\n",
              "      display: none;\n",
              "      fill: #1967D2;\n",
              "      height: 32px;\n",
              "      padding: 0 0 0 0;\n",
              "      width: 32px;\n",
              "    }\n",
              "\n",
              "    .colab-df-convert:hover {\n",
              "      background-color: #E2EBFA;\n",
              "      box-shadow: 0px 1px 2px rgba(60, 64, 67, 0.3), 0px 1px 3px 1px rgba(60, 64, 67, 0.15);\n",
              "      fill: #174EA6;\n",
              "    }\n",
              "\n",
              "    [theme=dark] .colab-df-convert {\n",
              "      background-color: #3B4455;\n",
              "      fill: #D2E3FC;\n",
              "    }\n",
              "\n",
              "    [theme=dark] .colab-df-convert:hover {\n",
              "      background-color: #434B5C;\n",
              "      box-shadow: 0px 1px 3px 1px rgba(0, 0, 0, 0.15);\n",
              "      filter: drop-shadow(0px 1px 2px rgba(0, 0, 0, 0.3));\n",
              "      fill: #FFFFFF;\n",
              "    }\n",
              "  </style>\n",
              "\n",
              "      <script>\n",
              "        const buttonEl =\n",
              "          document.querySelector('#df-0a41c3e4-b3df-4030-8e2e-15272e95f03f button.colab-df-convert');\n",
              "        buttonEl.style.display =\n",
              "          google.colab.kernel.accessAllowed ? 'block' : 'none';\n",
              "\n",
              "        async function convertToInteractive(key) {\n",
              "          const element = document.querySelector('#df-0a41c3e4-b3df-4030-8e2e-15272e95f03f');\n",
              "          const dataTable =\n",
              "            await google.colab.kernel.invokeFunction('convertToInteractive',\n",
              "                                                     [key], {});\n",
              "          if (!dataTable) return;\n",
              "\n",
              "          const docLinkHtml = 'Like what you see? Visit the ' +\n",
              "            '<a target=\"_blank\" href=https://colab.research.google.com/notebooks/data_table.ipynb>data table notebook</a>'\n",
              "            + ' to learn more about interactive tables.';\n",
              "          element.innerHTML = '';\n",
              "          dataTable['output_type'] = 'display_data';\n",
              "          await google.colab.output.renderOutput(dataTable, element);\n",
              "          const docLink = document.createElement('div');\n",
              "          docLink.innerHTML = docLinkHtml;\n",
              "          element.appendChild(docLink);\n",
              "        }\n",
              "      </script>\n",
              "    </div>\n",
              "  </div>\n",
              "  "
            ]
          },
          "metadata": {},
          "execution_count": 17
        }
      ]
    },
    {
      "cell_type": "markdown",
      "source": [
        "##a"
      ],
      "metadata": {
        "id": "R-Mgs9nyMN6T"
      }
    },
    {
      "cell_type": "code",
      "source": [
        "from sklearn.preprocessing import LabelEncoder"
      ],
      "metadata": {
        "id": "4T2hDU_ZYoNj"
      },
      "execution_count": null,
      "outputs": []
    },
    {
      "cell_type": "code",
      "source": [
        "df2.iloc[:,0]"
      ],
      "metadata": {
        "colab": {
          "base_uri": "https://localhost:8080/"
        },
        "id": "36bBn39QZI3O",
        "outputId": "9f16295f-f26e-427c-aa5a-37315744bb31"
      },
      "execution_count": null,
      "outputs": [
        {
          "output_type": "execute_result",
          "data": {
            "text/plain": [
              "0      equake\n",
              "1      equake\n",
              "2      equake\n",
              "3      equake\n",
              "4      equake\n",
              "5      equake\n",
              "6      equake\n",
              "7      equake\n",
              "8      equake\n",
              "9      equake\n",
              "10     equake\n",
              "11     equake\n",
              "12     equake\n",
              "13     equake\n",
              "14     equake\n",
              "15     equake\n",
              "16     equake\n",
              "17     equake\n",
              "18     equake\n",
              "19     equake\n",
              "20    explosn\n",
              "21    explosn\n",
              "22    explosn\n",
              "23    explosn\n",
              "24    explosn\n",
              "25    explosn\n",
              "26    explosn\n",
              "27    explosn\n",
              "28    explosn\n",
              "Name: popn, dtype: object"
            ]
          },
          "metadata": {},
          "execution_count": 19
        }
      ]
    },
    {
      "cell_type": "code",
      "source": [
        "df2.iloc[:,0] = LabelEncoder().fit_transform(df2.iloc[:,0])"
      ],
      "metadata": {
        "id": "0nxuoD8VY9yw"
      },
      "execution_count": null,
      "outputs": []
    },
    {
      "cell_type": "code",
      "source": [
        "df2.head()"
      ],
      "metadata": {
        "colab": {
          "base_uri": "https://localhost:8080/",
          "height": 260
        },
        "id": "gNJrPUyIZjuK",
        "outputId": "46df8bdb-7753-4b38-e0a7-a3c3a0828ae6"
      },
      "execution_count": null,
      "outputs": [
        {
          "output_type": "execute_result",
          "data": {
            "text/plain": [
              "   popn  body  surface\n",
              "0     0  5.60     4.25\n",
              "1     0  5.18     3.93\n",
              "2     0  6.31     6.30\n",
              "3     0  5.36     4.49\n",
              "4     0  5.96     6.39"
            ],
            "text/html": [
              "\n",
              "  <div id=\"df-174114ce-328b-4060-b293-e2887cecfd26\">\n",
              "    <div class=\"colab-df-container\">\n",
              "      <div>\n",
              "<style scoped>\n",
              "    .dataframe tbody tr th:only-of-type {\n",
              "        vertical-align: middle;\n",
              "    }\n",
              "\n",
              "    .dataframe tbody tr th {\n",
              "        vertical-align: top;\n",
              "    }\n",
              "\n",
              "    .dataframe thead th {\n",
              "        text-align: right;\n",
              "    }\n",
              "</style>\n",
              "<table border=\"1\" class=\"dataframe\">\n",
              "  <thead>\n",
              "    <tr style=\"text-align: right;\">\n",
              "      <th></th>\n",
              "      <th>popn</th>\n",
              "      <th>body</th>\n",
              "      <th>surface</th>\n",
              "    </tr>\n",
              "  </thead>\n",
              "  <tbody>\n",
              "    <tr>\n",
              "      <th>0</th>\n",
              "      <td>0</td>\n",
              "      <td>5.60</td>\n",
              "      <td>4.25</td>\n",
              "    </tr>\n",
              "    <tr>\n",
              "      <th>1</th>\n",
              "      <td>0</td>\n",
              "      <td>5.18</td>\n",
              "      <td>3.93</td>\n",
              "    </tr>\n",
              "    <tr>\n",
              "      <th>2</th>\n",
              "      <td>0</td>\n",
              "      <td>6.31</td>\n",
              "      <td>6.30</td>\n",
              "    </tr>\n",
              "    <tr>\n",
              "      <th>3</th>\n",
              "      <td>0</td>\n",
              "      <td>5.36</td>\n",
              "      <td>4.49</td>\n",
              "    </tr>\n",
              "    <tr>\n",
              "      <th>4</th>\n",
              "      <td>0</td>\n",
              "      <td>5.96</td>\n",
              "      <td>6.39</td>\n",
              "    </tr>\n",
              "  </tbody>\n",
              "</table>\n",
              "</div>\n",
              "      <button class=\"colab-df-convert\" onclick=\"convertToInteractive('df-174114ce-328b-4060-b293-e2887cecfd26')\"\n",
              "              title=\"Convert this dataframe to an interactive table.\"\n",
              "              style=\"display:none;\">\n",
              "        \n",
              "  <svg xmlns=\"http://www.w3.org/2000/svg\" height=\"24px\"viewBox=\"0 0 24 24\"\n",
              "       width=\"24px\">\n",
              "    <path d=\"M0 0h24v24H0V0z\" fill=\"none\"/>\n",
              "    <path d=\"M18.56 5.44l.94 2.06.94-2.06 2.06-.94-2.06-.94-.94-2.06-.94 2.06-2.06.94zm-11 1L8.5 8.5l.94-2.06 2.06-.94-2.06-.94L8.5 2.5l-.94 2.06-2.06.94zm10 10l.94 2.06.94-2.06 2.06-.94-2.06-.94-.94-2.06-.94 2.06-2.06.94z\"/><path d=\"M17.41 7.96l-1.37-1.37c-.4-.4-.92-.59-1.43-.59-.52 0-1.04.2-1.43.59L10.3 9.45l-7.72 7.72c-.78.78-.78 2.05 0 2.83L4 21.41c.39.39.9.59 1.41.59.51 0 1.02-.2 1.41-.59l7.78-7.78 2.81-2.81c.8-.78.8-2.07 0-2.86zM5.41 20L4 18.59l7.72-7.72 1.47 1.35L5.41 20z\"/>\n",
              "  </svg>\n",
              "      </button>\n",
              "      \n",
              "  <style>\n",
              "    .colab-df-container {\n",
              "      display:flex;\n",
              "      flex-wrap:wrap;\n",
              "      gap: 12px;\n",
              "    }\n",
              "\n",
              "    .colab-df-convert {\n",
              "      background-color: #E8F0FE;\n",
              "      border: none;\n",
              "      border-radius: 50%;\n",
              "      cursor: pointer;\n",
              "      display: none;\n",
              "      fill: #1967D2;\n",
              "      height: 32px;\n",
              "      padding: 0 0 0 0;\n",
              "      width: 32px;\n",
              "    }\n",
              "\n",
              "    .colab-df-convert:hover {\n",
              "      background-color: #E2EBFA;\n",
              "      box-shadow: 0px 1px 2px rgba(60, 64, 67, 0.3), 0px 1px 3px 1px rgba(60, 64, 67, 0.15);\n",
              "      fill: #174EA6;\n",
              "    }\n",
              "\n",
              "    [theme=dark] .colab-df-convert {\n",
              "      background-color: #3B4455;\n",
              "      fill: #D2E3FC;\n",
              "    }\n",
              "\n",
              "    [theme=dark] .colab-df-convert:hover {\n",
              "      background-color: #434B5C;\n",
              "      box-shadow: 0px 1px 3px 1px rgba(0, 0, 0, 0.15);\n",
              "      filter: drop-shadow(0px 1px 2px rgba(0, 0, 0, 0.3));\n",
              "      fill: #FFFFFF;\n",
              "    }\n",
              "  </style>\n",
              "\n",
              "      <script>\n",
              "        const buttonEl =\n",
              "          document.querySelector('#df-174114ce-328b-4060-b293-e2887cecfd26 button.colab-df-convert');\n",
              "        buttonEl.style.display =\n",
              "          google.colab.kernel.accessAllowed ? 'block' : 'none';\n",
              "\n",
              "        async function convertToInteractive(key) {\n",
              "          const element = document.querySelector('#df-174114ce-328b-4060-b293-e2887cecfd26');\n",
              "          const dataTable =\n",
              "            await google.colab.kernel.invokeFunction('convertToInteractive',\n",
              "                                                     [key], {});\n",
              "          if (!dataTable) return;\n",
              "\n",
              "          const docLinkHtml = 'Like what you see? Visit the ' +\n",
              "            '<a target=\"_blank\" href=https://colab.research.google.com/notebooks/data_table.ipynb>data table notebook</a>'\n",
              "            + ' to learn more about interactive tables.';\n",
              "          element.innerHTML = '';\n",
              "          dataTable['output_type'] = 'display_data';\n",
              "          await google.colab.output.renderOutput(dataTable, element);\n",
              "          const docLink = document.createElement('div');\n",
              "          docLink.innerHTML = docLinkHtml;\n",
              "          element.appendChild(docLink);\n",
              "        }\n",
              "      </script>\n",
              "    </div>\n",
              "  </div>\n",
              "  "
            ]
          },
          "metadata": {},
          "execution_count": 21
        }
      ]
    },
    {
      "cell_type": "code",
      "source": [
        "plt.scatter(df2.values[:,1], df2.values[:,2], c = df2.values[:,0])\n"
      ],
      "metadata": {
        "colab": {
          "base_uri": "https://localhost:8080/",
          "height": 290
        },
        "id": "sl1r7OCVXicu",
        "outputId": "38312a0a-bb52-470b-a3a9-c6325d2788a4"
      },
      "execution_count": null,
      "outputs": [
        {
          "output_type": "execute_result",
          "data": {
            "text/plain": [
              "<matplotlib.collections.PathCollection at 0x7f5b8c578e50>"
            ]
          },
          "metadata": {},
          "execution_count": 22
        },
        {
          "output_type": "display_data",
          "data": {
            "text/plain": [
              "<Figure size 432x288 with 1 Axes>"
            ],
            "image/png": "[encoded data removed]"
          },
          "metadata": {
            "needs_background": "light"
          }
        }
      ]
    },
    {
      "cell_type": "markdown",
      "source": [
        "## b"
      ],
      "metadata": {
        "id": "TnwByt4beJPp"
      }
    },
    {
      "cell_type": "markdown",
      "source": [
        "### macierz kowariancji"
      ],
      "metadata": {
        "id": "yiFm71b-eNxr"
      }
    },
    {
      "cell_type": "code",
      "source": [
        "X, y = df2.values[:, 1:], df2.values[:, 0]"
      ],
      "metadata": {
        "id": "sb4zpIr-X1QJ"
      },
      "execution_count": null,
      "outputs": []
    },
    {
      "cell_type": "code",
      "source": [
        "x0 = X[y==0,:]\n",
        "x1 = X[y==1,:]"
      ],
      "metadata": {
        "id": "JjFFSYymeMdG"
      },
      "execution_count": null,
      "outputs": []
    },
    {
      "cell_type": "markdown",
      "source": [
        "do wyza=naczania macierzy kowariancji mamy funkcje numpy'owa np.cov"
      ],
      "metadata": {
        "id": "7r96eiXMe2C0"
      }
    },
    {
      "cell_type": "code",
      "source": [
        "# macierz kowariancji dla klasy zerowej\n",
        "np.cov(x0.T,ddof = 1)"
      ],
      "metadata": {
        "colab": {
          "base_uri": "https://localhost:8080/"
        },
        "id": "3-0Y8-Bjeq6E",
        "outputId": "a40e6849-4ad0-47a9-bef7-a111cc5b4711"
      },
      "execution_count": null,
      "outputs": [
        {
          "output_type": "execute_result",
          "data": {
            "text/plain": [
              "array([[0.14782   , 0.20000526],\n",
              "       [0.20000526, 0.52703158]])"
            ]
          },
          "metadata": {},
          "execution_count": 25
        }
      ]
    },
    {
      "cell_type": "code",
      "source": [
        "# macierz kowariancji dla klasy pierwszej\n",
        "np.cov(x1.T, ddof= 1)"
      ],
      "metadata": {
        "colab": {
          "base_uri": "https://localhost:8080/"
        },
        "id": "xvBTIUbOfWq1",
        "outputId": "918c556a-5cd5-4c4e-f7de-29b4eaa27c83"
      },
      "execution_count": null,
      "outputs": [
        {
          "output_type": "execute_result",
          "data": {
            "text/plain": [
              "array([[0.05226111, 0.02345556],\n",
              "       [0.02345556, 0.03252778]])"
            ]
          },
          "metadata": {},
          "execution_count": 26
        }
      ]
    },
    {
      "cell_type": "markdown",
      "source": [
        "### macierz kowariancji wewnatrzgrupowej"
      ],
      "metadata": {
        "id": "WMR-dcPcfzTQ"
      }
    },
    {
      "cell_type": "markdown",
      "source": [
        "![Zrzut ekranu 2022-11-29 o 17.34.50.png](data:image/png;base64,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)"
      ],
      "metadata": {
        "id": "9-8c5vD0PfUy"
      }
    },
    {
      "cell_type": "code",
      "source": [
        "cov_w = (np.cov(x0.T,ddof=1)*(x0.shape[0]-1)+np.cov(x1.T,ddof=1)*(x1.shape[0]-1))/(X.shape[0]-2)"
      ],
      "metadata": {
        "id": "hhMa_He7fp5p"
      },
      "execution_count": null,
      "outputs": []
    },
    {
      "cell_type": "code",
      "source": [
        "cov_w"
      ],
      "metadata": {
        "colab": {
          "base_uri": "https://localhost:8080/"
        },
        "id": "M39eVQtSgP9K",
        "outputId": "b44485f9-6288-4c47-c315-820004b4e7bd"
      },
      "execution_count": null,
      "outputs": [
        {
          "output_type": "execute_result",
          "data": {
            "text/plain": [
              "array([[0.11950626, 0.14769424],\n",
              "       [0.14769424, 0.38051193]])"
            ]
          },
          "metadata": {},
          "execution_count": 28
        }
      ]
    },
    {
      "cell_type": "markdown",
      "source": [
        "### równanie prostej dzielącej"
      ],
      "metadata": {
        "id": "3vu8n7gtg83Y"
      }
    },
    {
      "cell_type": "markdown",
      "source": [
        "![Zrzut ekranu 2022-11-29 o 17.28.10.png](data:image/png;base64,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)"
      ],
      "metadata": {
        "id": "5aikHW9yNrne"
      }
    },
    {
      "cell_type": "code",
      "source": [
        "#współczynnik kierunkowy prostej:\n",
        "a = np.linalg.inv(cov_w)@(np.mean(x1, axis = 0)- np.mean(x0, axis = 0))\n",
        "a"
      ],
      "metadata": {
        "colab": {
          "base_uri": "https://localhost:8080/"
        },
        "id": "6KjNdm6OgSpb",
        "outputId": "dea45fc1-f875-44c3-9f65-5eec592cbecf"
      },
      "execution_count": null,
      "outputs": [
        {
          "output_type": "execute_result",
          "data": {
            "text/plain": [
              "array([14.83189373, -7.05928137])"
            ]
          },
          "metadata": {},
          "execution_count": 29
        }
      ]
    },
    {
      "cell_type": "code",
      "source": [
        "#wyraz wolny proste:\n",
        "b = (np.mean(x1, axis = 0)- np.mean(x0, axis = 0))@np.linalg.inv(cov_w)@(np.mean(x1, axis = 0)+np.mean(x0, axis = 0))/2-np.log(x1.shape[0]/x0.shape[0])"
      ],
      "metadata": {
        "id": "gZEPH9HpiBSv"
      },
      "execution_count": null,
      "outputs": []
    },
    {
      "cell_type": "code",
      "source": [
        "b"
      ],
      "metadata": {
        "colab": {
          "base_uri": "https://localhost:8080/"
        },
        "id": "HSz-rGWgiD_j",
        "outputId": "cb39cae3-d384-4efc-c943-ae3daa80b805"
      },
      "execution_count": null,
      "outputs": [
        {
          "output_type": "execute_result",
          "data": {
            "text/plain": [
              "52.35207447097909"
            ]
          },
          "metadata": {},
          "execution_count": 31
        }
      ]
    },
    {
      "cell_type": "markdown",
      "source": [
        "##c"
      ],
      "metadata": {
        "id": "5C1hkXSQkZPX"
      }
    },
    {
      "cell_type": "markdown",
      "source": [
        "** Teraz zajmujemy się LDA  - LinearDiscirminantAnalysis **\n",
        "\n",
        "---\n",
        "LDA instead makes the additional simplifying homoscedasticity assumption (i.e. that the class covariances are identical"
      ],
      "metadata": {
        "id": "nXdYkXRRMfDX"
      }
    },
    {
      "cell_type": "code",
      "source": [
        "from sklearn.discriminant_analysis import LinearDiscriminantAnalysis"
      ],
      "metadata": {
        "id": "ZJ26O0GujdYm"
      },
      "execution_count": null,
      "outputs": []
    },
    {
      "cell_type": "code",
      "source": [
        "clf = LinearDiscriminantAnalysis(store_covariance = True)\n",
        "clf.fit(X,y)"
      ],
      "metadata": {
        "colab": {
          "base_uri": "https://localhost:8080/"
        },
        "id": "ZyJzSiypkLHL",
        "outputId": "e3d35316-a4bd-49b7-dffc-5d7707b69e81"
      },
      "execution_count": null,
      "outputs": [
        {
          "output_type": "execute_result",
          "data": {
            "text/plain": [
              "LinearDiscriminantAnalysis(store_covariance=True)"
            ]
          },
          "metadata": {},
          "execution_count": 39
        }
      ]
    },
    {
      "cell_type": "code",
      "source": [
        "#wspólczynniki kierunkowe prostej:\n",
        "print(clf.coef_)"
      ],
      "metadata": {
        "colab": {
          "base_uri": "https://localhost:8080/"
        },
        "id": "ehJuEp3nOihe",
        "outputId": "e393fc3c-7a4e-4ddb-8065-967645068865"
      },
      "execution_count": null,
      "outputs": [
        {
          "output_type": "stream",
          "name": "stdout",
          "text": [
            "[[14.83189373 -7.05928137]]\n"
          ]
        }
      ]
    },
    {
      "cell_type": "code",
      "source": [
        "#tej kowariamcji używamy do wzynaczenia współczynników prostej dzielącej klasy\n",
        "clf.covariance_"
      ],
      "metadata": {
        "colab": {
          "base_uri": "https://localhost:8080/"
        },
        "id": "baMWPWP_kSY5",
        "outputId": "27b5818f-619e-4566-c83f-edfc416615de"
      },
      "execution_count": null,
      "outputs": [
        {
          "output_type": "execute_result",
          "data": {
            "text/plain": [
              "array([[0.11126444, 0.13750843],\n",
              "       [0.13750843, 0.35426973]])"
            ]
          },
          "metadata": {},
          "execution_count": 135
        }
      ]
    },
    {
      "cell_type": "markdown",
      "source": [
        "##d"
      ],
      "metadata": {
        "id": "ZKosPprsRMZw"
      }
    },
    {
      "cell_type": "markdown",
      "source": [
        "![Zrzut ekranu 2022-11-29 o 17.38.15.png](data:image/png;base64,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)"
      ],
      "metadata": {
        "id": "VXmnL80MRPoc"
      }
    },
    {
      "cell_type": "code",
      "source": [
        "U = x0@clf.coef_[0]\n",
        "V = x1@clf.coef_[0]"
      ],
      "metadata": {
        "id": "Encr_bfmlGer"
      },
      "execution_count": null,
      "outputs": []
    },
    {
      "cell_type": "code",
      "source": [
        "U"
      ],
      "metadata": {
        "colab": {
          "base_uri": "https://localhost:8080/"
        },
        "id": "Eix0xk-XlU1D",
        "outputId": "0fecdcd5-30fd-40da-e27e-9c47ad0bfab8"
      },
      "execution_count": null,
      "outputs": [
        {
          "output_type": "execute_result",
          "data": {
            "text/plain": [
              "array([53.05665908, 49.08623375, 49.11577682, 47.80277705, 43.28927868,\n",
              "       46.81373737, 40.67855561, 39.3906572 , 40.59517674, 42.68220706,\n",
              "       47.03264913, 45.05605034, 48.02586097, 49.25595262, 42.71787361,\n",
              "       40.90386038, 42.35851652, 38.83156743, 39.28661869, 41.85232105])"
            ]
          },
          "metadata": {},
          "execution_count": 47
        }
      ]
    },
    {
      "cell_type": "code",
      "source": [
        "V"
      ],
      "metadata": {
        "colab": {
          "base_uri": "https://localhost:8080/"
        },
        "id": "ytYdrdxDlZG-",
        "outputId": "f0944a1d-23e5-4ae8-a83a-16156a2fd049"
      },
      "execution_count": null,
      "outputs": [
        {
          "output_type": "execute_result",
          "data": {
            "text/plain": [
              "array([59.01794981, 57.55616037, 55.91038544, 56.65123984, 59.53201887,\n",
              "       64.85945485, 55.34490264, 59.89285653, 59.67468506])"
            ]
          },
          "metadata": {},
          "execution_count": 48
        }
      ]
    },
    {
      "cell_type": "code",
      "source": [
        "# wyznaczenie progu oddzielającego klasy:\n",
        "- clf.intercept_ # wyraz wolny"
      ],
      "metadata": {
        "colab": {
          "base_uri": "https://localhost:8080/"
        },
        "id": "DZJU1cTRlcTz",
        "outputId": "300a817a-7cdd-4b24-c887-34267713dbf4"
      },
      "execution_count": null,
      "outputs": [
        {
          "output_type": "execute_result",
          "data": {
            "text/plain": [
              "array([52.35207447])"
            ]
          },
          "metadata": {},
          "execution_count": 50
        }
      ]
    },
    {
      "cell_type": "code",
      "source": [
        "#na podstawie powyższych danych widzimy, że zerowa obserwacja z klasy 0 zostałą źle zaklasyfikowana"
      ],
      "metadata": {
        "id": "CkRU7BltS-yo"
      },
      "execution_count": null,
      "outputs": []
    },
    {
      "cell_type": "markdown",
      "source": [
        "## d"
      ],
      "metadata": {
        "id": "6NYFeXUPTfIn"
      }
    },
    {
      "cell_type": "code",
      "source": [
        "body = 6\n",
        "surface = 4"
      ],
      "metadata": {
        "id": "GjEAImM9Tewe"
      },
      "execution_count": null,
      "outputs": []
    },
    {
      "cell_type": "code",
      "source": [
        "#dokonanie predykcji za pomocą wbudowanej funkcji LDA:\n",
        "print('predict:',clf.predict([[body, surface]]))\n",
        "# bardziej ręcznie:\n",
        "print('recznie:',np.array([6,4])@clf.coef_[0] )"
      ],
      "metadata": {
        "colab": {
          "base_uri": "https://localhost:8080/"
        },
        "id": "6dPytTV5Tiah",
        "outputId": "93ccf13d-3e4f-4ccc-eeea-04446e021316"
      },
      "execution_count": null,
      "outputs": [
        {
          "output_type": "stream",
          "name": "stdout",
          "text": [
            "predict: [1.]\n",
            "recznie: 60.75423691481414\n"
          ]
        }
      ]
    },
    {
      "cell_type": "code",
      "source": [
        "[6,4]@cl"
      ],
      "metadata": {
        "colab": {
          "base_uri": "https://localhost:8080/"
        },
        "id": "_k8MIfs9Tr5D",
        "outputId": "8830b7a2-91d5-423a-a479-0a53f69c9214"
      },
      "execution_count": null,
      "outputs": [
        {
          "output_type": "execute_result",
          "data": {
            "text/plain": [
              "(1, 2)"
            ]
          },
          "metadata": {},
          "execution_count": 64
        }
      ]
    },
    {
      "cell_type": "markdown",
      "source": [
        "##e"
      ],
      "metadata": {
        "id": "Lt5yyGqmV9jm"
      }
    },
    {
      "cell_type": "code",
      "source": [
        "print(clf.predict_proba(np.array([[6,4]]))[0][1])"
      ],
      "metadata": {
        "colab": {
          "base_uri": "https://localhost:8080/"
        },
        "id": "wr-SFhUtUkE3",
        "outputId": "1c6d024c-12cf-4088-e51a-19bc38a91f79"
      },
      "execution_count": null,
      "outputs": [
        {
          "output_type": "stream",
          "name": "stdout",
          "text": [
            "0.9997756687492025\n"
          ]
        }
      ]
    },
    {
      "cell_type": "markdown",
      "source": [
        "# 5.3"
      ],
      "metadata": {
        "id": "UeyMReHaWQo0"
      }
    },
    {
      "cell_type": "code",
      "source": [
        "df3 = pd.read_csv('prostate.csv')"
      ],
      "metadata": {
        "id": "omPZiR6fWRwl"
      },
      "execution_count": null,
      "outputs": []
    },
    {
      "cell_type": "markdown",
      "source": [
        "##a"
      ],
      "metadata": {
        "id": "4n52ax71X2GI"
      }
    },
    {
      "cell_type": "markdown",
      "source": [],
      "metadata": {
        "id": "NI6fqFyIidv4"
      }
    },
    {
      "cell_type": "code",
      "source": [
        "x, y = df3.values[:,0:100], df3.values[:,-1]\n",
        "#dzieki temu, że do train_test_split wkładamy jednoczesnie x i y dane sie mieszają jednocześnie\n",
        "xrest, xte, yrest, yte = train_test_split(x, y, test_size = 0.4)"
      ],
      "metadata": {
        "id": "-o0TE6T9WkVL"
      },
      "execution_count": null,
      "outputs": []
    },
    {
      "cell_type": "code",
      "source": [
        "xtr, xval, ytr, yval = train_test_split(xte, yte, test_size = 0.25)"
      ],
      "metadata": {
        "id": "BXWAkBjIYYdS"
      },
      "execution_count": null,
      "outputs": []
    },
    {
      "cell_type": "markdown",
      "source": [
        "## b"
      ],
      "metadata": {
        "id": "FAHolvrSZLHt"
      }
    },
    {
      "cell_type": "code",
      "source": [
        "alphas = [0, 0.2, 0.5, 0.7, 1]"
      ],
      "metadata": {
        "id": "IUb5ebOJalE2"
      },
      "execution_count": null,
      "outputs": []
    },
    {
      "cell_type": "code",
      "source": [
        "for i in alphas:\n",
        "  modelLDA  = LinearDiscriminantAnalysis(solver = 'lsqr',shrinkage = i).fit(xtr, ytr) # shrinkage <- im większy tym bardziej regularyzujemy\n",
        "  pred = modelLDA.predict_proba(xval)\n",
        "  prediction_of_1_class = pred[:,1]\n",
        "  auc  = roc_auc_score(yval, prediction_of_1_class)  #wybieramy parametr gdzie AUC było największe na zb. walidacyjnym \n",
        "  print(i, auc)"
      ],
      "metadata": {
        "colab": {
          "base_uri": "https://localhost:8080/"
        },
        "id": "dp3OVCB4YrTM",
        "outputId": "ad67414e-2657-4ded-efc4-33f62b51e5c4"
      },
      "execution_count": null,
      "outputs": [
        {
          "output_type": "stream",
          "name": "stdout",
          "text": [
            "0 0.5416666666666666\n",
            "0.2 0.75\n",
            "0.5 0.75\n",
            "0.7 0.75\n",
            "1 0.75\n"
          ]
        }
      ]
    },
    {
      "cell_type": "markdown",
      "source": [
        "## c"
      ],
      "metadata": {
        "id": "ge2zAgYMgbva"
      }
    },
    {
      "cell_type": "code",
      "source": [
        "# wg powyższych obliczen optymalne alfa to: 0.7\n",
        "modelLDAopt = LinearDiscriminantAnalysis(solver = 'lsqr', shrinkage = 0.7).fit(xrest, yrest)"
      ],
      "metadata": {
        "id": "YAfRBf08aI6r"
      },
      "execution_count": null,
      "outputs": []
    },
    {
      "cell_type": "code",
      "source": [
        "#wspolczynnik AUC\n",
        "czy1 = modelLDAopt.predict_proba(xte)[:,1]\n",
        "auc_opt = roc_auc_score(yte, czy1)\n",
        "auc_opt\n",
        "fpr, tpr, _ = roc_curve(yte, czy1)"
      ],
      "metadata": {
        "id": "BbowaFk5aPzm"
      },
      "execution_count": null,
      "outputs": []
    },
    {
      "cell_type": "code",
      "source": [
        "import matplotlib.pyplot as plt\n",
        "plt.plot(fpr, tpr, c = 'blue', label='LDA-Shrinkage')\n",
        "plt.plot([0, 1], [0, 1], color='black', linestyle='--',label = 'random')\n",
        "plt.xlabel('False Positive Rate')\n",
        "plt.ylabel('True Positive Rate')\n",
        "plt.legend()"
      ],
      "metadata": {
        "colab": {
          "base_uri": "https://localhost:8080/",
          "height": 302
        },
        "id": "hqKmMeOhbKzP",
        "outputId": "d1117ae9-2700-411f-b9fd-f19cf12605c3"
      },
      "execution_count": null,
      "outputs": [
        {
          "output_type": "execute_result",
          "data": {
            "text/plain": [
              "<matplotlib.legend.Legend at 0x7f5b85ad0d90>"
            ]
          },
          "metadata": {},
          "execution_count": 133
        },
        {
          "output_type": "display_data",
          "data": {
            "text/plain": [
              "<Figure size 432x288 with 1 Axes>"
            ],
            "image/png": "[encoded data removed]"
          },
          "metadata": {
            "needs_background": "light"
          }
        }
      ]
    },
    {
      "cell_type": "code",
      "source": [],
      "metadata": {
        "id": "zXm9b4Uzisj7"
      },
      "execution_count": null,
      "outputs": []
    }
  ]
}