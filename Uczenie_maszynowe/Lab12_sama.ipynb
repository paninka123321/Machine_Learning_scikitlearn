{
  "nbformat": 4,
  "nbformat_minor": 0,
  "metadata": {
    "colab": {
      "provenance": []
    },
    "kernelspec": {
      "name": "python3",
      "display_name": "Python 3"
    },
    "language_info": {
      "name": "python"
    }
  },
  "cells": [
    {
      "cell_type": "code",
      "execution_count": null,
      "metadata": {
        "id": "Vm5hpBub1xT5"
      },
      "outputs": [],
      "source": [
        "import numpy as np\n",
        "import pandas as pd\n",
        "import matplotlib.pyplot as plt\n",
        "from scipy.stats import norm\n",
        "from sklearn.preprocessing import LabelEncoder\n",
        "from sklearn.model_selection import train_test_split, GridSearchCV\n",
        "from sklearn.metrics import roc_auc_score\n",
        "from sklearn.linear_model import LogisticRegression\n",
        "from sklearn.tree import DecisionTreeClassifier\n",
        "from sklearn.ensemble import BaggingClassifier, AdaBoostClassifier, RandomForestClassifier #wszystkie komitety pochodzą z podpakietu sklearn.ensemble"
      ]
    },
    {
      "cell_type": "markdown",
      "source": [
        "# 12.1"
      ],
      "metadata": {
        "id": "MWvSqLtW2TQT"
      }
    },
    {
      "cell_type": "code",
      "source": [
        "df1 = pd.read_csv('prostate.csv')"
      ],
      "metadata": {
        "id": "l04GDUZH2PRW"
      },
      "execution_count": null,
      "outputs": []
    },
    {
      "cell_type": "code",
      "source": [
        "df1"
      ],
      "metadata": {
        "colab": {
          "base_uri": "https://localhost:8080/",
          "height": 476
        },
        "id": "ScGGjPbE2hq5",
        "outputId": "7db13c41-fd53-4525-ddbe-37c21b8de6c6"
      },
      "execution_count": null,
      "outputs": [
        {
          "output_type": "execute_result",
          "data": {
            "text/plain": [
              "            1         2         3         4         5         6         7  \\\n",
              "0   -0.930895 -0.839996  0.062508 -0.361594 -1.124427 -1.180492 -1.092276   \n",
              "1   -0.751885 -0.848271  0.102895  2.421034  0.182211  0.639267 -0.224728   \n",
              "2   -0.545781 -0.851687 -0.003043 -0.122089  0.837907 -1.195882 -0.931749   \n",
              "3   -1.078519 -0.159610  0.215347 -0.096277  1.050548  0.654914  1.086128   \n",
              "4   -0.994677 -0.751905 -1.163109 -1.130144  1.695673  0.878677 -1.097698   \n",
              "..        ...       ...       ...       ...       ...       ...       ...   \n",
              "97   2.054122 -0.450853 -1.049600  0.553022  3.995967 -1.105746 -1.164153   \n",
              "98   2.799498  1.385720  1.186599  0.118476  0.115477  0.378246 -0.102450   \n",
              "99   1.294162 -1.143997  0.962634  1.220066 -1.167392 -0.135083 -0.159211   \n",
              "100  2.905588 -0.282119 -0.026753 -1.138651 -1.195660 -0.389769  0.952723   \n",
              "101  3.434504 -1.174233  1.533532  0.174831 -0.203642  1.316810 -1.166670   \n",
              "\n",
              "            8         9        10  ...      6025      6026      6027  \\\n",
              "0   -1.149624 -1.157503  0.219849  ...  0.492456 -0.753197  0.377710   \n",
              "1    0.119039  1.694874 -0.074817  ... -0.959873  1.374652 -0.903991   \n",
              "2   -1.164679 -0.549045  3.828663  ... -0.869585 -0.362556 -0.907472   \n",
              "3   -1.127224  0.603476 -0.532284  ... -0.928211 -0.909437 -0.872889   \n",
              "4    1.490272  1.314783 -1.112842  ...  0.407184 -0.935771 -0.898889   \n",
              "..        ...       ...       ...  ...       ...       ...       ...   \n",
              "97   0.138336 -0.282382 -0.938565  ... -0.892589  1.461973 -0.163629   \n",
              "98  -1.149203 -0.659127 -0.920858  ... -0.875918 -0.495349 -0.490171   \n",
              "99  -1.144376 -1.094105 -0.914736  ... -0.869541 -0.881752 -0.877622   \n",
              "100 -0.887806 -1.030068  0.862200  ... -0.309148 -0.905544 -0.567570   \n",
              "101  0.579443  0.708166  0.337700  ...  0.151368 -0.910070 -0.574877   \n",
              "\n",
              "         6028      6029      6030      6031      6032      6033  y  \n",
              "0   -0.845797  0.686091 -1.091779  0.347228 -0.901310 -0.252259  0  \n",
              "1    1.332845 -0.574808  2.143548  0.101821  1.326812 -0.091503  0  \n",
              "2   -0.341481 -0.577905 -0.006464 -0.920312 -0.085084 -0.704808  0  \n",
              "3   -0.823525 -1.055268 -1.069403 -0.792237 -0.879015 -0.672488  0  \n",
              "4   -0.849075 -1.082933 -1.097196 -0.911702 -0.905071 -0.696659  0  \n",
              "..        ...       ...       ...       ...       ...       ... ..  \n",
              "97   2.157779 -0.841948  1.419036  0.090991  0.898067 -0.546613  1  \n",
              "98  -0.508972  0.488729 -0.006916 -0.795695 -0.086979 -0.859999  1  \n",
              "99  -1.064419 -1.167889 -0.894468 -0.788863 -0.681033 -0.853532  1  \n",
              "100 -1.091074  0.351666 -0.918460 -0.811200 -0.701681 -0.876882  1  \n",
              "101 -1.094074 -1.198300 -0.342060 -0.243875 -0.707884 -0.161796  1  \n",
              "\n",
              "[102 rows x 6034 columns]"
            ],
            "text/html": [
              "\n",
              "  <div id=\"df-f96d7c7c-e0be-4c18-aa6f-4e78e9f776c0\">\n",
              "    <div class=\"colab-df-container\">\n",
              "      <div>\n",
              "<style scoped>\n",
              "    .dataframe tbody tr th:only-of-type {\n",
              "        vertical-align: middle;\n",
              "    }\n",
              "\n",
              "    .dataframe tbody tr th {\n",
              "        vertical-align: top;\n",
              "    }\n",
              "\n",
              "    .dataframe thead th {\n",
              "        text-align: right;\n",
              "    }\n",
              "</style>\n",
              "<table border=\"1\" class=\"dataframe\">\n",
              "  <thead>\n",
              "    <tr style=\"text-align: right;\">\n",
              "      <th></th>\n",
              "      <th>1</th>\n",
              "      <th>2</th>\n",
              "      <th>3</th>\n",
              "      <th>4</th>\n",
              "      <th>5</th>\n",
              "      <th>6</th>\n",
              "      <th>7</th>\n",
              "      <th>8</th>\n",
              "      <th>9</th>\n",
              "      <th>10</th>\n",
              "      <th>...</th>\n",
              "      <th>6025</th>\n",
              "      <th>6026</th>\n",
              "      <th>6027</th>\n",
              "      <th>6028</th>\n",
              "      <th>6029</th>\n",
              "      <th>6030</th>\n",
              "      <th>6031</th>\n",
              "      <th>6032</th>\n",
              "      <th>6033</th>\n",
              "      <th>y</th>\n",
              "    </tr>\n",
              "  </thead>\n",
              "  <tbody>\n",
              "    <tr>\n",
              "      <th>0</th>\n",
              "      <td>-0.930895</td>\n",
              "      <td>-0.839996</td>\n",
              "      <td>0.062508</td>\n",
              "      <td>-0.361594</td>\n",
              "      <td>-1.124427</td>\n",
              "      <td>-1.180492</td>\n",
              "      <td>-1.092276</td>\n",
              "      <td>-1.149624</td>\n",
              "      <td>-1.157503</td>\n",
              "      <td>0.219849</td>\n",
              "      <td>...</td>\n",
              "      <td>0.492456</td>\n",
              "      <td>-0.753197</td>\n",
              "      <td>0.377710</td>\n",
              "      <td>-0.845797</td>\n",
              "      <td>0.686091</td>\n",
              "      <td>-1.091779</td>\n",
              "      <td>0.347228</td>\n",
              "      <td>-0.901310</td>\n",
              "      <td>-0.252259</td>\n",
              "      <td>0</td>\n",
              "    </tr>\n",
              "    <tr>\n",
              "      <th>1</th>\n",
              "      <td>-0.751885</td>\n",
              "      <td>-0.848271</td>\n",
              "      <td>0.102895</td>\n",
              "      <td>2.421034</td>\n",
              "      <td>0.182211</td>\n",
              "      <td>0.639267</td>\n",
              "      <td>-0.224728</td>\n",
              "      <td>0.119039</td>\n",
              "      <td>1.694874</td>\n",
              "      <td>-0.074817</td>\n",
              "      <td>...</td>\n",
              "      <td>-0.959873</td>\n",
              "      <td>1.374652</td>\n",
              "      <td>-0.903991</td>\n",
              "      <td>1.332845</td>\n",
              "      <td>-0.574808</td>\n",
              "      <td>2.143548</td>\n",
              "      <td>0.101821</td>\n",
              "      <td>1.326812</td>\n",
              "      <td>-0.091503</td>\n",
              "      <td>0</td>\n",
              "    </tr>\n",
              "    <tr>\n",
              "      <th>2</th>\n",
              "      <td>-0.545781</td>\n",
              "      <td>-0.851687</td>\n",
              "      <td>-0.003043</td>\n",
              "      <td>-0.122089</td>\n",
              "      <td>0.837907</td>\n",
              "      <td>-1.195882</td>\n",
              "      <td>-0.931749</td>\n",
              "      <td>-1.164679</td>\n",
              "      <td>-0.549045</td>\n",
              "      <td>3.828663</td>\n",
              "      <td>...</td>\n",
              "      <td>-0.869585</td>\n",
              "      <td>-0.362556</td>\n",
              "      <td>-0.907472</td>\n",
              "      <td>-0.341481</td>\n",
              "      <td>-0.577905</td>\n",
              "      <td>-0.006464</td>\n",
              "      <td>-0.920312</td>\n",
              "      <td>-0.085084</td>\n",
              "      <td>-0.704808</td>\n",
              "      <td>0</td>\n",
              "    </tr>\n",
              "    <tr>\n",
              "      <th>3</th>\n",
              "      <td>-1.078519</td>\n",
              "      <td>-0.159610</td>\n",
              "      <td>0.215347</td>\n",
              "      <td>-0.096277</td>\n",
              "      <td>1.050548</td>\n",
              "      <td>0.654914</td>\n",
              "      <td>1.086128</td>\n",
              "      <td>-1.127224</td>\n",
              "      <td>0.603476</td>\n",
              "      <td>-0.532284</td>\n",
              "      <td>...</td>\n",
              "      <td>-0.928211</td>\n",
              "      <td>-0.909437</td>\n",
              "      <td>-0.872889</td>\n",
              "      <td>-0.823525</td>\n",
              "      <td>-1.055268</td>\n",
              "      <td>-1.069403</td>\n",
              "      <td>-0.792237</td>\n",
              "      <td>-0.879015</td>\n",
              "      <td>-0.672488</td>\n",
              "      <td>0</td>\n",
              "    </tr>\n",
              "    <tr>\n",
              "      <th>4</th>\n",
              "      <td>-0.994677</td>\n",
              "      <td>-0.751905</td>\n",
              "      <td>-1.163109</td>\n",
              "      <td>-1.130144</td>\n",
              "      <td>1.695673</td>\n",
              "      <td>0.878677</td>\n",
              "      <td>-1.097698</td>\n",
              "      <td>1.490272</td>\n",
              "      <td>1.314783</td>\n",
              "      <td>-1.112842</td>\n",
              "      <td>...</td>\n",
              "      <td>0.407184</td>\n",
              "      <td>-0.935771</td>\n",
              "      <td>-0.898889</td>\n",
              "      <td>-0.849075</td>\n",
              "      <td>-1.082933</td>\n",
              "      <td>-1.097196</td>\n",
              "      <td>-0.911702</td>\n",
              "      <td>-0.905071</td>\n",
              "      <td>-0.696659</td>\n",
              "      <td>0</td>\n",
              "    </tr>\n",
              "    <tr>\n",
              "      <th>...</th>\n",
              "      <td>...</td>\n",
              "      <td>...</td>\n",
              "      <td>...</td>\n",
              "      <td>...</td>\n",
              "      <td>...</td>\n",
              "      <td>...</td>\n",
              "      <td>...</td>\n",
              "      <td>...</td>\n",
              "      <td>...</td>\n",
              "      <td>...</td>\n",
              "      <td>...</td>\n",
              "      <td>...</td>\n",
              "      <td>...</td>\n",
              "      <td>...</td>\n",
              "      <td>...</td>\n",
              "      <td>...</td>\n",
              "      <td>...</td>\n",
              "      <td>...</td>\n",
              "      <td>...</td>\n",
              "      <td>...</td>\n",
              "      <td>...</td>\n",
              "    </tr>\n",
              "    <tr>\n",
              "      <th>97</th>\n",
              "      <td>2.054122</td>\n",
              "      <td>-0.450853</td>\n",
              "      <td>-1.049600</td>\n",
              "      <td>0.553022</td>\n",
              "      <td>3.995967</td>\n",
              "      <td>-1.105746</td>\n",
              "      <td>-1.164153</td>\n",
              "      <td>0.138336</td>\n",
              "      <td>-0.282382</td>\n",
              "      <td>-0.938565</td>\n",
              "      <td>...</td>\n",
              "      <td>-0.892589</td>\n",
              "      <td>1.461973</td>\n",
              "      <td>-0.163629</td>\n",
              "      <td>2.157779</td>\n",
              "      <td>-0.841948</td>\n",
              "      <td>1.419036</td>\n",
              "      <td>0.090991</td>\n",
              "      <td>0.898067</td>\n",
              "      <td>-0.546613</td>\n",
              "      <td>1</td>\n",
              "    </tr>\n",
              "    <tr>\n",
              "      <th>98</th>\n",
              "      <td>2.799498</td>\n",
              "      <td>1.385720</td>\n",
              "      <td>1.186599</td>\n",
              "      <td>0.118476</td>\n",
              "      <td>0.115477</td>\n",
              "      <td>0.378246</td>\n",
              "      <td>-0.102450</td>\n",
              "      <td>-1.149203</td>\n",
              "      <td>-0.659127</td>\n",
              "      <td>-0.920858</td>\n",
              "      <td>...</td>\n",
              "      <td>-0.875918</td>\n",
              "      <td>-0.495349</td>\n",
              "      <td>-0.490171</td>\n",
              "      <td>-0.508972</td>\n",
              "      <td>0.488729</td>\n",
              "      <td>-0.006916</td>\n",
              "      <td>-0.795695</td>\n",
              "      <td>-0.086979</td>\n",
              "      <td>-0.859999</td>\n",
              "      <td>1</td>\n",
              "    </tr>\n",
              "    <tr>\n",
              "      <th>99</th>\n",
              "      <td>1.294162</td>\n",
              "      <td>-1.143997</td>\n",
              "      <td>0.962634</td>\n",
              "      <td>1.220066</td>\n",
              "      <td>-1.167392</td>\n",
              "      <td>-0.135083</td>\n",
              "      <td>-0.159211</td>\n",
              "      <td>-1.144376</td>\n",
              "      <td>-1.094105</td>\n",
              "      <td>-0.914736</td>\n",
              "      <td>...</td>\n",
              "      <td>-0.869541</td>\n",
              "      <td>-0.881752</td>\n",
              "      <td>-0.877622</td>\n",
              "      <td>-1.064419</td>\n",
              "      <td>-1.167889</td>\n",
              "      <td>-0.894468</td>\n",
              "      <td>-0.788863</td>\n",
              "      <td>-0.681033</td>\n",
              "      <td>-0.853532</td>\n",
              "      <td>1</td>\n",
              "    </tr>\n",
              "    <tr>\n",
              "      <th>100</th>\n",
              "      <td>2.905588</td>\n",
              "      <td>-0.282119</td>\n",
              "      <td>-0.026753</td>\n",
              "      <td>-1.138651</td>\n",
              "      <td>-1.195660</td>\n",
              "      <td>-0.389769</td>\n",
              "      <td>0.952723</td>\n",
              "      <td>-0.887806</td>\n",
              "      <td>-1.030068</td>\n",
              "      <td>0.862200</td>\n",
              "      <td>...</td>\n",
              "      <td>-0.309148</td>\n",
              "      <td>-0.905544</td>\n",
              "      <td>-0.567570</td>\n",
              "      <td>-1.091074</td>\n",
              "      <td>0.351666</td>\n",
              "      <td>-0.918460</td>\n",
              "      <td>-0.811200</td>\n",
              "      <td>-0.701681</td>\n",
              "      <td>-0.876882</td>\n",
              "      <td>1</td>\n",
              "    </tr>\n",
              "    <tr>\n",
              "      <th>101</th>\n",
              "      <td>3.434504</td>\n",
              "      <td>-1.174233</td>\n",
              "      <td>1.533532</td>\n",
              "      <td>0.174831</td>\n",
              "      <td>-0.203642</td>\n",
              "      <td>1.316810</td>\n",
              "      <td>-1.166670</td>\n",
              "      <td>0.579443</td>\n",
              "      <td>0.708166</td>\n",
              "      <td>0.337700</td>\n",
              "      <td>...</td>\n",
              "      <td>0.151368</td>\n",
              "      <td>-0.910070</td>\n",
              "      <td>-0.574877</td>\n",
              "      <td>-1.094074</td>\n",
              "      <td>-1.198300</td>\n",
              "      <td>-0.342060</td>\n",
              "      <td>-0.243875</td>\n",
              "      <td>-0.707884</td>\n",
              "      <td>-0.161796</td>\n",
              "      <td>1</td>\n",
              "    </tr>\n",
              "  </tbody>\n",
              "</table>\n",
              "<p>102 rows × 6034 columns</p>\n",
              "</div>\n",
              "      <button class=\"colab-df-convert\" onclick=\"convertToInteractive('df-f96d7c7c-e0be-4c18-aa6f-4e78e9f776c0')\"\n",
              "              title=\"Convert this dataframe to an interactive table.\"\n",
              "              style=\"display:none;\">\n",
              "        \n",
              "  <svg xmlns=\"http://www.w3.org/2000/svg\" height=\"24px\"viewBox=\"0 0 24 24\"\n",
              "       width=\"24px\">\n",
              "    <path d=\"M0 0h24v24H0V0z\" fill=\"none\"/>\n",
              "    <path d=\"M18.56 5.44l.94 2.06.94-2.06 2.06-.94-2.06-.94-.94-2.06-.94 2.06-2.06.94zm-11 1L8.5 8.5l.94-2.06 2.06-.94-2.06-.94L8.5 2.5l-.94 2.06-2.06.94zm10 10l.94 2.06.94-2.06 2.06-.94-2.06-.94-.94-2.06-.94 2.06-2.06.94z\"/><path d=\"M17.41 7.96l-1.37-1.37c-.4-.4-.92-.59-1.43-.59-.52 0-1.04.2-1.43.59L10.3 9.45l-7.72 7.72c-.78.78-.78 2.05 0 2.83L4 21.41c.39.39.9.59 1.41.59.51 0 1.02-.2 1.41-.59l7.78-7.78 2.81-2.81c.8-.78.8-2.07 0-2.86zM5.41 20L4 18.59l7.72-7.72 1.47 1.35L5.41 20z\"/>\n",
              "  </svg>\n",
              "      </button>\n",
              "      \n",
              "  <style>\n",
              "    .colab-df-container {\n",
              "      display:flex;\n",
              "      flex-wrap:wrap;\n",
              "      gap: 12px;\n",
              "    }\n",
              "\n",
              "    .colab-df-convert {\n",
              "      background-color: #E8F0FE;\n",
              "      border: none;\n",
              "      border-radius: 50%;\n",
              "      cursor: pointer;\n",
              "      display: none;\n",
              "      fill: #1967D2;\n",
              "      height: 32px;\n",
              "      padding: 0 0 0 0;\n",
              "      width: 32px;\n",
              "    }\n",
              "\n",
              "    .colab-df-convert:hover {\n",
              "      background-color: #E2EBFA;\n",
              "      box-shadow: 0px 1px 2px rgba(60, 64, 67, 0.3), 0px 1px 3px 1px rgba(60, 64, 67, 0.15);\n",
              "      fill: #174EA6;\n",
              "    }\n",
              "\n",
              "    [theme=dark] .colab-df-convert {\n",
              "      background-color: #3B4455;\n",
              "      fill: #D2E3FC;\n",
              "    }\n",
              "\n",
              "    [theme=dark] .colab-df-convert:hover {\n",
              "      background-color: #434B5C;\n",
              "      box-shadow: 0px 1px 3px 1px rgba(0, 0, 0, 0.15);\n",
              "      filter: drop-shadow(0px 1px 2px rgba(0, 0, 0, 0.3));\n",
              "      fill: #FFFFFF;\n",
              "    }\n",
              "  </style>\n",
              "\n",
              "      <script>\n",
              "        const buttonEl =\n",
              "          document.querySelector('#df-f96d7c7c-e0be-4c18-aa6f-4e78e9f776c0 button.colab-df-convert');\n",
              "        buttonEl.style.display =\n",
              "          google.colab.kernel.accessAllowed ? 'block' : 'none';\n",
              "\n",
              "        async function convertToInteractive(key) {\n",
              "          const element = document.querySelector('#df-f96d7c7c-e0be-4c18-aa6f-4e78e9f776c0');\n",
              "          const dataTable =\n",
              "            await google.colab.kernel.invokeFunction('convertToInteractive',\n",
              "                                                     [key], {});\n",
              "          if (!dataTable) return;\n",
              "\n",
              "          const docLinkHtml = 'Like what you see? Visit the ' +\n",
              "            '<a target=\"_blank\" href=https://colab.research.google.com/notebooks/data_table.ipynb>data table notebook</a>'\n",
              "            + ' to learn more about interactive tables.';\n",
              "          element.innerHTML = '';\n",
              "          dataTable['output_type'] = 'display_data';\n",
              "          await google.colab.output.renderOutput(dataTable, element);\n",
              "          const docLink = document.createElement('div');\n",
              "          docLink.innerHTML = docLinkHtml;\n",
              "          element.appendChild(docLink);\n",
              "        }\n",
              "      </script>\n",
              "    </div>\n",
              "  </div>\n",
              "  "
            ]
          },
          "metadata": {},
          "execution_count": 4
        }
      ]
    },
    {
      "cell_type": "code",
      "source": [
        "x_train, x_test, y_train, y_test = train_test_split(df1.values[:,:-1], df1.values[:,-1], test_size = 0.3)"
      ],
      "metadata": {
        "id": "J5KrtJMl2Z_Y"
      },
      "execution_count": null,
      "outputs": []
    },
    {
      "cell_type": "markdown",
      "source": [
        "## b"
      ],
      "metadata": {
        "id": "_oLCQEKT2q95"
      }
    },
    {
      "cell_type": "code",
      "source": [
        "m1 = LogisticRegression(penalty = 'none', max_iter=1000)\n",
        "m1.fit(x_train, y_train)"
      ],
      "metadata": {
        "colab": {
          "base_uri": "https://localhost:8080/"
        },
        "id": "QW9ulZyz2nxP",
        "outputId": "c7c9a8c8-887d-4547-b813-94852f0b9b9c"
      },
      "execution_count": null,
      "outputs": [
        {
          "output_type": "execute_result",
          "data": {
            "text/plain": [
              "LogisticRegression(max_iter=1000, penalty='none')"
            ]
          },
          "metadata": {},
          "execution_count": 7
        }
      ]
    },
    {
      "cell_type": "code",
      "source": [
        "m2 = BaggingClassifier(base_estimator = LogisticRegression(penalty = 'none',max_iter=1000),n_estimators=100)\n",
        "m2.fit(x_train, y_train)"
      ],
      "metadata": {
        "colab": {
          "base_uri": "https://localhost:8080/"
        },
        "id": "zO_hWdNo24r4",
        "outputId": "adfa336a-3463-44a3-dbcc-e83b36057a80"
      },
      "execution_count": null,
      "outputs": [
        {
          "output_type": "execute_result",
          "data": {
            "text/plain": [
              "BaggingClassifier(base_estimator=LogisticRegression(max_iter=1000,\n",
              "                                                    penalty='none'),\n",
              "                  n_estimators=100)"
            ]
          },
          "metadata": {},
          "execution_count": 10
        }
      ]
    },
    {
      "cell_type": "markdown",
      "source": [
        "## d"
      ],
      "metadata": {
        "id": "1D2rmfjj5WmC"
      }
    },
    {
      "cell_type": "code",
      "source": [
        "pred1 = m1.predict_proba(x_test)[:,1]\n",
        "pred2 = m2.predict_proba(x_test)[:,1]\n",
        "print(roc_auc_score(y_test, pred1))\n",
        "print(roc_auc_score(y_test, pred2))"
      ],
      "metadata": {
        "colab": {
          "base_uri": "https://localhost:8080/"
        },
        "id": "hFHxOMY_4nQE",
        "outputId": "d524e620-8116-4efc-b72a-f64bf7d5034d"
      },
      "execution_count": null,
      "outputs": [
        {
          "output_type": "stream",
          "name": "stdout",
          "text": [
            "0.8201754385964912\n",
            "0.881578947368421\n"
          ]
        }
      ]
    },
    {
      "cell_type": "markdown",
      "source": [
        "# 12.2"
      ],
      "metadata": {
        "id": "OdrY0pCD6jHN"
      }
    },
    {
      "cell_type": "code",
      "source": [
        "\n",
        "#a\n",
        "# zbior\n",
        "url = 'titanic.csv'\n",
        "dataframe = pd.read_csv(url,header=0)\n",
        "print(dataframe)\n",
        "data = dataframe.values\n",
        "data = data[::-1,:]\n",
        "X, y = data[:,1:], data[:, 0]\n",
        "y = y.astype(int)\n",
        "X_train,X_test,y_train,y_test = train_test_split(X,y,train_size = 0.7,test_size = 0.3) #podział zbioru na część treningową i testową\n",
        "print(X_train.shape)"
      ],
      "metadata": {
        "colab": {
          "base_uri": "https://localhost:8080/"
        },
        "id": "GPXCjmha5mYf",
        "outputId": "40fb717d-c95d-43df-f34b-6fd62daaff52"
      },
      "execution_count": null,
      "outputs": [
        {
          "output_type": "stream",
          "name": "stdout",
          "text": [
            "     Survived  Pclass  Sex   Age  Siblings.Spouses.Aboard  \\\n",
            "0           0       3    0  22.0                        1   \n",
            "1           1       1    1  38.0                        1   \n",
            "2           1       3    1  26.0                        0   \n",
            "3           1       1    1  35.0                        1   \n",
            "4           0       3    0  35.0                        0   \n",
            "..        ...     ...  ...   ...                      ...   \n",
            "882         0       2    0  27.0                        0   \n",
            "883         1       1    1  19.0                        0   \n",
            "884         0       3    1   7.0                        1   \n",
            "885         1       1    0  26.0                        0   \n",
            "886         0       3    0  32.0                        0   \n",
            "\n",
            "     Parents.Children.Aboard     Fare  \n",
            "0                          0   7.2500  \n",
            "1                          0  71.2833  \n",
            "2                          0   7.9250  \n",
            "3                          0  53.1000  \n",
            "4                          0   8.0500  \n",
            "..                       ...      ...  \n",
            "882                        0  13.0000  \n",
            "883                        0  30.0000  \n",
            "884                        2  23.4500  \n",
            "885                        0  30.0000  \n",
            "886                        0   7.7500  \n",
            "\n",
            "[887 rows x 7 columns]\n",
            "(620, 6)\n"
          ]
        }
      ]
    },
    {
      "cell_type": "markdown",
      "source": [
        "## b"
      ],
      "metadata": {
        "id": "yuZNTMoF6ztm"
      }
    },
    {
      "cell_type": "code",
      "source": [
        "b1 = DecisionTreeClassifier().fit(X_train, y_train)"
      ],
      "metadata": {
        "id": "AApvr8Ll6rsP"
      },
      "execution_count": null,
      "outputs": []
    },
    {
      "cell_type": "markdown",
      "source": [
        "## c"
      ],
      "metadata": {
        "id": "zKfMbpOe7PwF"
      }
    },
    {
      "cell_type": "code",
      "source": [
        "grid = GridSearchCV(BaggingClassifier(base_estimator = DecisionTreeClassifier(random_state=123)),\n",
        "                    param_grid = {'n_estimators' : [50, 100, 1000]},\n",
        "                    n_jobs=-1)\n",
        "g = grid.fit(X_train, y_train)"
      ],
      "metadata": {
        "id": "S9simvTF7CuH"
      },
      "execution_count": null,
      "outputs": []
    },
    {
      "cell_type": "code",
      "source": [
        "g.best_estimator_"
      ],
      "metadata": {
        "colab": {
          "base_uri": "https://localhost:8080/"
        },
        "id": "5Yjjwsh28gLF",
        "outputId": "0d91ba58-2dfe-450f-f93e-3fe96b5eb340"
      },
      "execution_count": null,
      "outputs": [
        {
          "output_type": "execute_result",
          "data": {
            "text/plain": [
              "BaggingClassifier(base_estimator=DecisionTreeClassifier(random_state=123),\n",
              "                  n_estimators=50)"
            ]
          },
          "metadata": {},
          "execution_count": 31
        }
      ]
    },
    {
      "cell_type": "code",
      "source": [
        "boost = GridSearchCV(AdaBoostClassifier(base_estimator = DecisionTreeClassifier(random_state=123)), param_grid={'n_estimators': [50,100,1000]}, n_jobs=-1)\n",
        "b = boost.fit(X_train, y_train)"
      ],
      "metadata": {
        "id": "aVGqiZnL9Pd7"
      },
      "execution_count": null,
      "outputs": []
    },
    {
      "cell_type": "code",
      "source": [
        "drzewa = GridSearchCV(RandomForestClassifier(random_state = 123), param_grid = {'n_estimators': [50,100,1000]}, n_jobs = -1)\n",
        "drzewa = drzewa.fit(X_train, y_train)"
      ],
      "metadata": {
        "id": "0oqXQw02AloG"
      },
      "execution_count": null,
      "outputs": []
    },
    {
      "cell_type": "code",
      "source": [
        "a =g.predict_proba(X_test)[:,1]\n",
        "abc = b.predict_proba(X_test)[:,1]\n",
        "abcde = drzewa.predict_proba(X_test)[:,1]\n",
        "print(roc_auc_score(y_test, a),\n",
        "roc_auc_score(y_test, abc)),\n",
        "roc_auc_score(y_test, abcde)"
      ],
      "metadata": {
        "colab": {
          "base_uri": "https://localhost:8080/"
        },
        "id": "QlWZEPFsB9LZ",
        "outputId": "5fc532de-24ed-4aba-ed99-c875ac253a79"
      },
      "execution_count": null,
      "outputs": [
        {
          "output_type": "stream",
          "name": "stdout",
          "text": [
            "0.8554491017964072 0.822185628742515\n"
          ]
        },
        {
          "output_type": "execute_result",
          "data": {
            "text/plain": [
              "0.8440119760479042"
            ]
          },
          "metadata": {},
          "execution_count": 38
        }
      ]
    },
    {
      "cell_type": "markdown",
      "source": [
        "# 12.3"
      ],
      "metadata": {
        "id": "Vv8o4vd2DOYW"
      }
    },
    {
      "cell_type": "code",
      "source": [
        "n = 100\n",
        "p = 10\n",
        "beta0 = 1\n",
        "beta1 = [2,1,0.5,0.01,0,2,1,0.5,0.01,0]\n",
        "X = np.random.normal(0, 1, size = (n, p))\n",
        "probs = norm.cdf(X@beta1+beta0) #p_i uzyskujemy przez obłożenie kombinacji liniowej X i beta dystrybuantą rozkładu normalnego, norm ma też inne funkcje, jak np. gęstość (norm.pdf)\n",
        "y = np.random.binomial(1, probs) #używamy pi do generowania wartości 0 lub 1 za pomocą rozkładu Bernoulliego (dokładnie rozkładu dwumianowego z parametrem n=1)\n",
        "X_test,X_train,y_test,y_train = train_test_split(X,y,train_size = 0.3,test_size = 0.7,shuffle = False) #dzielimy zbiór na zasadzie 30% pierwszych do testa, reszta do traina"
      ],
      "metadata": {
        "id": "WoBepdYoDNjr"
      },
      "execution_count": null,
      "outputs": []
    },
    {
      "cell_type": "code",
      "source": [
        "m1 = DecisionTreeClassifier(random_state=123).fit(X_train, y_train)\n",
        "m2 = BaggingClassifier(base_estimator=DecisionTreeClassifier(random_state=123), n_estimators = 100)\n",
        "m3 = AdaBoostClassifier(base_estimator=DecisionTreeClassifier(random_state=123), n_estimators = 100)\n",
        "m4 = RandomForestClassifier(n_estimators=100, random_state=123)\n",
        "m1.fit(X_train, y_train)\n",
        "m2.fit(X_train, y_train)\n",
        "m3.fit(X_train, y_train)\n",
        "m4.fit(X_train, y_train)"
      ],
      "metadata": {
        "colab": {
          "base_uri": "https://localhost:8080/"
        },
        "id": "4c-I5i4YCczQ",
        "outputId": "e7e24201-6688-4757-f484-15a917386dfe"
      },
      "execution_count": null,
      "outputs": [
        {
          "output_type": "execute_result",
          "data": {
            "text/plain": [
              "RandomForestClassifier(random_state=123)"
            ]
          },
          "metadata": {},
          "execution_count": 5
        }
      ]
    },
    {
      "cell_type": "code",
      "source": [
        "a =m1.predict_proba(X_test)[:,1]\n",
        "b = m2.predict_proba(X_test)[:,1]\n",
        "c = m3.predict_proba(X_test)[:,1]\n",
        "d = m4.predict_proba(X_test)[:,1]"
      ],
      "metadata": {
        "id": "qgGgReMBiFod"
      },
      "execution_count": null,
      "outputs": []
    },
    {
      "cell_type": "code",
      "source": [
        "print(roc_auc_score(y_test, a),\n",
        "      roc_auc_score(y_test, b),\n",
        "      roc_auc_score(y_test, c),\n",
        "      roc_auc_score(y_test, d))"
      ],
      "metadata": {
        "colab": {
          "base_uri": "https://localhost:8080/"
        },
        "id": "R8LW3LSKiYBZ",
        "outputId": "429f2ffe-3808-49ba-e00a-81bc2dad3337"
      },
      "execution_count": null,
      "outputs": [
        {
          "output_type": "stream",
          "name": "stdout",
          "text": [
            "0.6805555555555554 0.8935185185185185 0.6805555555555554 0.9282407407407407\n"
          ]
        }
      ]
    },
    {
      "cell_type": "code",
      "source": [],
      "metadata": {
        "id": "KCNBL4U-io1m"
      },
      "execution_count": null,
      "outputs": []
    }
  ]
}