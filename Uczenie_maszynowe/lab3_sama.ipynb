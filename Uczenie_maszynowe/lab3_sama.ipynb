{
  "nbformat": 4,
  "nbformat_minor": 0,
  "metadata": {
    "colab": {
      "provenance": []
    },
    "kernelspec": {
      "name": "python3",
      "display_name": "Python 3"
    },
    "language_info": {
      "name": "python"
    }
  },
  "cells": [
    {
      "cell_type": "markdown",
      "source": [
        "# Zadanie 3.1"
      ],
      "metadata": {
        "id": "kyB91ZeOeQ2b"
      }
    },
    {
      "cell_type": "code",
      "source": [
        "import numpy as np\n",
        "import pandas as pd \n",
        "import matplotlib.pyplot as plt\n",
        "from sklearn.preprocessing import LabelEncoder\n",
        "from google.colab import files"
      ],
      "metadata": {
        "id": "H1n7VXz4eW69"
      },
      "execution_count": null,
      "outputs": []
    },
    {
      "cell_type": "code",
      "source": [
        "uploaded = files.upload()"
      ],
      "metadata": {
        "colab": {
          "base_uri": "https://localhost:8080/",
          "height": 86
        },
        "id": "R7umBz-Fe8wl",
        "outputId": "68c14f6b-7c55-400d-cad5-793a9b42e859"
      },
      "execution_count": null,
      "outputs": [
        {
          "output_type": "display_data",
          "data": {
            "text/plain": [
              "<IPython.core.display.HTML object>"
            ],
            "text/html": [
              "\n",
              "     <input type=\"file\" id=\"files-9d68db8e-0398-4c29-b14d-2527f006f007\" name=\"files[]\" multiple disabled\n",
              "        style=\"border:none\" />\n",
              "     <output id=\"result-9d68db8e-0398-4c29-b14d-2527f006f007\">\n",
              "      Upload widget is only available when the cell has been executed in the\n",
              "      current browser session. Please rerun this cell to enable.\n",
              "      </output>\n",
              "      <script>// Copyright 2017 Google LLC\n",
              "//\n",
              "// Licensed under the Apache License, Version 2.0 (the \"License\");\n",
              "// you may not use this file except in compliance with the License.\n",
              "// You may obtain a copy of the License at\n",
              "//\n",
              "//      http://www.apache.org/licenses/LICENSE-2.0\n",
              "//\n",
              "// Unless required by applicable law or agreed to in writing, software\n",
              "// distributed under the License is distributed on an \"AS IS\" BASIS,\n",
              "// WITHOUT WARRANTIES OR CONDITIONS OF ANY KIND, either express or implied.\n",
              "// See the License for the specific language governing permissions and\n",
              "// limitations under the License.\n",
              "\n",
              "/**\n",
              " * @fileoverview Helpers for google.colab Python module.\n",
              " */\n",
              "(function(scope) {\n",
              "function span(text, styleAttributes = {}) {\n",
              "  const element = document.createElement('span');\n",
              "  element.textContent = text;\n",
              "  for (const key of Object.keys(styleAttributes)) {\n",
              "    element.style[key] = styleAttributes[key];\n",
              "  }\n",
              "  return element;\n",
              "}\n",
              "\n",
              "// Max number of bytes which will be uploaded at a time.\n",
              "const MAX_PAYLOAD_SIZE = 100 * 1024;\n",
              "\n",
              "function _uploadFiles(inputId, outputId) {\n",
              "  const steps = uploadFilesStep(inputId, outputId);\n",
              "  const outputElement = document.getElementById(outputId);\n",
              "  // Cache steps on the outputElement to make it available for the next call\n",
              "  // to uploadFilesContinue from Python.\n",
              "  outputElement.steps = steps;\n",
              "\n",
              "  return _uploadFilesContinue(outputId);\n",
              "}\n",
              "\n",
              "// This is roughly an async generator (not supported in the browser yet),\n",
              "// where there are multiple asynchronous steps and the Python side is going\n",
              "// to poll for completion of each step.\n",
              "// This uses a Promise to block the python side on completion of each step,\n",
              "// then passes the result of the previous step as the input to the next step.\n",
              "function _uploadFilesContinue(outputId) {\n",
              "  const outputElement = document.getElementById(outputId);\n",
              "  const steps = outputElement.steps;\n",
              "\n",
              "  const next = steps.next(outputElement.lastPromiseValue);\n",
              "  return Promise.resolve(next.value.promise).then((value) => {\n",
              "    // Cache the last promise value to make it available to the next\n",
              "    // step of the generator.\n",
              "    outputElement.lastPromiseValue = value;\n",
              "    return next.value.response;\n",
              "  });\n",
              "}\n",
              "\n",
              "/**\n",
              " * Generator function which is called between each async step of the upload\n",
              " * process.\n",
              " * @param {string} inputId Element ID of the input file picker element.\n",
              " * @param {string} outputId Element ID of the output display.\n",
              " * @return {!Iterable<!Object>} Iterable of next steps.\n",
              " */\n",
              "function* uploadFilesStep(inputId, outputId) {\n",
              "  const inputElement = document.getElementById(inputId);\n",
              "  inputElement.disabled = false;\n",
              "\n",
              "  const outputElement = document.getElementById(outputId);\n",
              "  outputElement.innerHTML = '';\n",
              "\n",
              "  const pickedPromise = new Promise((resolve) => {\n",
              "    inputElement.addEventListener('change', (e) => {\n",
              "      resolve(e.target.files);\n",
              "    });\n",
              "  });\n",
              "\n",
              "  const cancel = document.createElement('button');\n",
              "  inputElement.parentElement.appendChild(cancel);\n",
              "  cancel.textContent = 'Cancel upload';\n",
              "  const cancelPromise = new Promise((resolve) => {\n",
              "    cancel.onclick = () => {\n",
              "      resolve(null);\n",
              "    };\n",
              "  });\n",
              "\n",
              "  // Wait for the user to pick the files.\n",
              "  const files = yield {\n",
              "    promise: Promise.race([pickedPromise, cancelPromise]),\n",
              "    response: {\n",
              "      action: 'starting',\n",
              "    }\n",
              "  };\n",
              "\n",
              "  cancel.remove();\n",
              "\n",
              "  // Disable the input element since further picks are not allowed.\n",
              "  inputElement.disabled = true;\n",
              "\n",
              "  if (!files) {\n",
              "    return {\n",
              "      response: {\n",
              "        action: 'complete',\n",
              "      }\n",
              "    };\n",
              "  }\n",
              "\n",
              "  for (const file of files) {\n",
              "    const li = document.createElement('li');\n",
              "    li.append(span(file.name, {fontWeight: 'bold'}));\n",
              "    li.append(span(\n",
              "        `(${file.type || 'n/a'}) - ${file.size} bytes, ` +\n",
              "        `last modified: ${\n",
              "            file.lastModifiedDate ? file.lastModifiedDate.toLocaleDateString() :\n",
              "                                    'n/a'} - `));\n",
              "    const percent = span('0% done');\n",
              "    li.appendChild(percent);\n",
              "\n",
              "    outputElement.appendChild(li);\n",
              "\n",
              "    const fileDataPromise = new Promise((resolve) => {\n",
              "      const reader = new FileReader();\n",
              "      reader.onload = (e) => {\n",
              "        resolve(e.target.result);\n",
              "      };\n",
              "      reader.readAsArrayBuffer(file);\n",
              "    });\n",
              "    // Wait for the data to be ready.\n",
              "    let fileData = yield {\n",
              "      promise: fileDataPromise,\n",
              "      response: {\n",
              "        action: 'continue',\n",
              "      }\n",
              "    };\n",
              "\n",
              "    // Use a chunked sending to avoid message size limits. See b/62115660.\n",
              "    let position = 0;\n",
              "    do {\n",
              "      const length = Math.min(fileData.byteLength - position, MAX_PAYLOAD_SIZE);\n",
              "      const chunk = new Uint8Array(fileData, position, length);\n",
              "      position += length;\n",
              "\n",
              "      const base64 = btoa(String.fromCharCode.apply(null, chunk));\n",
              "      yield {\n",
              "        response: {\n",
              "          action: 'append',\n",
              "          file: file.name,\n",
              "          data: base64,\n",
              "        },\n",
              "      };\n",
              "\n",
              "      let percentDone = fileData.byteLength === 0 ?\n",
              "          100 :\n",
              "          Math.round((position / fileData.byteLength) * 100);\n",
              "      percent.textContent = `${percentDone}% done`;\n",
              "\n",
              "    } while (position < fileData.byteLength);\n",
              "  }\n",
              "\n",
              "  // All done.\n",
              "  yield {\n",
              "    response: {\n",
              "      action: 'complete',\n",
              "    }\n",
              "  };\n",
              "}\n",
              "\n",
              "scope.google = scope.google || {};\n",
              "scope.google.colab = scope.google.colab || {};\n",
              "scope.google.colab._files = {\n",
              "  _uploadFiles,\n",
              "  _uploadFilesContinue,\n",
              "};\n",
              "})(self);\n",
              "</script> "
            ]
          },
          "metadata": {}
        },
        {
          "output_type": "stream",
          "name": "stdout",
          "text": [
            "Saving SAheart.csv to SAheart (1).csv\n"
          ]
        }
      ]
    },
    {
      "cell_type": "code",
      "source": [
        "from sklearn.linear_model import LogisticRegression\n",
        "from sklearn.preprocessing import LabelEncoder\n",
        "from sklearn.model_selection import train_test_split\n",
        "from sklearn.metrics import roc_curve\n",
        "from sklearn.metrics import roc_auc_score"
      ],
      "metadata": {
        "id": "H4iCcSIBfCFU"
      },
      "execution_count": null,
      "outputs": []
    },
    {
      "cell_type": "code",
      "source": [
        "df = pd.read_csv('SAheart.csv')\n",
        "df.head"
      ],
      "metadata": {
        "colab": {
          "base_uri": "https://localhost:8080/"
        },
        "id": "1Z_8hgrO4UB8",
        "outputId": "4af9cf72-1358-4705-91c4-c7affab8bbfc"
      },
      "execution_count": null,
      "outputs": [
        {
          "output_type": "execute_result",
          "data": {
            "text/plain": [
              "<bound method NDFrame.head of      sbp  tobacco    ldl  adiposity  famhist  typea  obesity  alcohol  age  \\\n",
              "0    160    12.00   5.73      23.11  Present     49    25.30    97.20   52   \n",
              "1    144     0.01   4.41      28.61   Absent     55    28.87     2.06   63   \n",
              "2    118     0.08   3.48      32.28  Present     52    29.14     3.81   46   \n",
              "3    170     7.50   6.41      38.03  Present     51    31.99    24.26   58   \n",
              "4    134    13.60   3.50      27.78  Present     60    25.99    57.34   49   \n",
              "..   ...      ...    ...        ...      ...    ...      ...      ...  ...   \n",
              "457  214     0.40   5.98      31.72   Absent     64    28.45     0.00   58   \n",
              "458  182     4.20   4.41      32.10   Absent     52    28.61    18.72   52   \n",
              "459  108     3.00   1.59      15.23   Absent     40    20.09    26.64   55   \n",
              "460  118     5.40  11.61      30.79   Absent     64    27.35    23.97   40   \n",
              "461  132     0.00   4.82      33.41  Present     62    14.70     0.00   46   \n",
              "\n",
              "     chd  \n",
              "0      1  \n",
              "1      1  \n",
              "2      0  \n",
              "3      1  \n",
              "4      1  \n",
              "..   ...  \n",
              "457    0  \n",
              "458    1  \n",
              "459    0  \n",
              "460    0  \n",
              "461    1  \n",
              "\n",
              "[462 rows x 10 columns]>"
            ]
          },
          "metadata": {},
          "execution_count": 35
        }
      ]
    },
    {
      "cell_type": "code",
      "source": [
        "for col in df:\n",
        "    print(df[col].unique())"
      ],
      "metadata": {
        "colab": {
          "base_uri": "https://localhost:8080/"
        },
        "id": "nZeWyHm24zrV",
        "outputId": "b6569011-429d-4353-bfdd-85b1fa63512f"
      },
      "execution_count": null,
      "outputs": [
        {
          "output_type": "stream",
          "name": "stdout",
          "text": [
            "[160 144 118 170 134 132 142 114 206 112 117 120 146 158 124 106 150 138\n",
            " 145 136 122 126 148 140 110 130 128 162 116 152 156 103 121 168 108 143\n",
            " 194 164 166 174 154 153 123 109 127 208 129 102 180 188 176 190 161 101\n",
            " 137 198 178 218 200 216 214 182]\n",
            "[1.200e+01 1.000e-02 8.000e-02 7.500e+00 1.360e+01 6.200e+00 4.050e+00\n",
            " 4.080e+00 0.000e+00 6.000e+00 1.410e+01 9.650e+00 1.530e+00 1.050e+01\n",
            " 2.600e+00 1.400e+01 1.610e+00 7.900e+00 3.000e-01 6.000e-01 1.820e+01\n",
            " 4.000e+00 9.100e+00 4.090e+00 2.520e+00 1.020e+00 6.600e+00 8.750e+00\n",
            " 5.500e+00 4.260e+00 3.900e+00 4.640e+00 1.120e+01 2.800e-01 4.000e-02\n",
            " 2.610e+00 4.650e+00 7.400e+00 1.910e+00 3.800e+00 2.500e+00 9.000e-01\n",
            " 8.080e+00 3.000e+00 5.990e+00 5.100e+00 3.000e-02 8.000e-01 1.150e+00\n",
            " 1.010e+01 4.500e-01 7.360e+00 4.820e+00 4.100e-01 4.460e+00 1.720e+00\n",
            " 5.600e+00 9.000e-02 4.000e-01 4.500e+00 8.140e+00 4.800e+00 1.220e+01\n",
            " 5.600e-01 7.200e-01 1.030e+00 3.700e+00 4.600e-01 1.700e+00 2.160e+00\n",
            " 3.200e+00 8.000e+00 7.000e-02 4.200e-01 1.500e+00 3.600e+00 7.600e+00\n",
            " 1.000e+00 9.000e+00 2.000e+00 3.120e+01 7.000e-01 3.500e+00 1.400e+00\n",
            " 7.800e+00 8.600e+00 4.040e+00 3.960e+00 8.800e+00 1.218e+01 1.350e+01\n",
            " 7.440e+00 4.180e+00 2.700e+00 5.000e-01 2.780e+00 2.800e+00 1.200e+00\n",
            " 1.050e+00 3.460e+00 1.550e+01 3.040e+00 9.450e+00 6.750e+00 1.800e+00\n",
            " 2.740e+01 7.000e+00 1.216e+01 1.520e+00 5.400e-01 5.300e+00 2.550e+00\n",
            " 7.500e-01 1.500e+01 4.200e+00 4.400e+00 2.000e+01 2.150e+00 5.000e-02\n",
            " 2.920e+00 1.600e-01 3.150e+00 2.750e+00 7.300e-01 5.800e+00 7.770e+00\n",
            " 5.200e-01 8.100e-01 2.400e+00 7.280e+00 5.040e+00 1.000e+01 2.350e+00\n",
            " 1.320e+01 1.750e+00 1.800e+01 5.760e+00 5.200e+00 7.600e-01 4.600e+00\n",
            " 6.170e+00 1.302e+01 5.080e+00 4.480e+00 6.100e-01 1.040e+00 5.000e+00\n",
            " 9.900e+00 1.200e-01 1.000e-01 6.800e+00 2.200e+00 1.360e+00 2.020e+00\n",
            " 4.250e+00 1.080e+00 2.100e-01 2.000e-02 4.800e-01 1.800e-01 4.100e+00\n",
            " 2.270e+00 1.440e+01 8.400e+00 9.600e+00 5.150e+00 1.140e+01 3.720e+00\n",
            " 4.360e+00 3.100e-01 3.100e+00 6.400e+00 1.945e+01 1.350e+00 6.940e+00\n",
            " 1.620e+00 4.280e+00 6.300e+00 8.700e-01 5.400e+00 3.990e+00 1.179e+01\n",
            " 1.680e+00 1.230e+01 3.020e+00 3.400e+00 8.200e+00 1.600e+00 5.160e+00\n",
            " 1.250e+00 9.600e-01 1.440e+00 1.960e+01 9.500e-01 3.570e+00 1.250e+01\n",
            " 6.100e+00 2.380e+00 2.501e+01 1.920e+01 9.200e-01 1.100e+00 1.600e+01\n",
            " 1.380e+01 1.320e+00 1.160e+00 7.200e+00 6.000e-02 1.220e+00 5.700e-01\n",
            " 1.810e+00 5.530e+00 6.400e-01 2.240e+00]\n",
            "[ 5.73  4.41  3.48  6.41  3.5   6.47  3.38  4.59  3.83  5.8   2.95  4.44\n",
            "  1.88  1.87  2.29  2.44 15.33  8.29  7.46  6.23  1.74  2.85  6.38  3.81\n",
            "  4.34 12.42  9.65  5.24  5.55  6.62  3.95  6.33  5.58  6.53  7.1   7.32\n",
            "  4.55  2.82  5.81  1.07  2.72  2.99  3.31  8.55  7.56  1.94  3.88  5.75\n",
            "  3.66  9.12  1.55  1.82  7.99  2.96  4.21  5.29  1.8   5.09  4.71  4.3\n",
            "  2.19  3.24  7.27  3.37  3.67  2.66  5.03  6.17  4.12  5.9   5.56  6.68\n",
            "  5.91  7.04  4.93  6.09  3.79  2.43  3.3   4.49  5.08  5.64  4.04  2.83\n",
            "  4.02  2.4   6.32  4.37  4.9   5.   11.32  3.91  7.85  4.03  4.6   5.38\n",
            "  2.97  4.33  5.5   5.76  3.04  8.01  8.53  8.46  3.17 10.58  6.99  3.92\n",
            "  6.13  6.25  5.01  3.96 11.17  3.99  2.76  7.41  5.04  3.08  3.73  5.52\n",
            "  9.05  3.69  3.7   3.68  4.89  5.53  5.86  6.14  3.84  3.16  6.06  5.05\n",
            "  6.49  3.58  4.19  2.74  4.8   3.12  2.81  5.13  3.05  5.45  6.22  2.68\n",
            "  3.2   4.99  8.12  4.39  7.95  6.89  2.58  4.79  2.42  2.51  2.7   8.22\n",
            "  4.91  4.31  4.67  2.05  6.73  3.18  6.4   5.17  6.58  5.98  3.72  3.41\n",
            "  2.79  1.96  3.09  3.63  9.19  4.66  5.51  3.97  3.59  4.64  6.65  4.26\n",
            "  8.03  5.88  0.98  8.07  4.23  6.16  4.97  3.14  6.95  8.13  7.39  3.52\n",
            "  4.86  7.18  5.11  5.47  3.36  5.46  3.76  4.13  3.78  5.49  3.23 10.53\n",
            "  7.4   2.63  4.18  6.94  5.21  6.34  3.82  7.21  4.65  6.26  7.03  3.57\n",
            "  7.13  2.39  2.69  2.84  4.63  4.16  4.96  7.84  5.59  2.47  4.69  6.57\n",
            "  3.26  3.51  4.17  4.98  2.8   4.61  5.28  1.71  7.26  4.14  7.22  5.63\n",
            "  3.28  2.28  4.51  4.    8.41  2.78  3.22  2.55  5.26  2.46  3.27  6.03\n",
            "  1.72  3.98  4.24  4.81  3.02  3.9   3.53  3.47  6.63  2.98  2.33  2.01\n",
            "  8.49  4.22  6.39  3.56  7.24  5.32  2.94  9.01  7.02 11.89  4.75  2.36\n",
            "  8.28  4.01  6.08  5.15  5.96  2.91  5.35  3.4   4.87  5.97  7.75  5.41\n",
            "  4.68  2.71  4.42 11.41  4.94  6.76 10.49  4.92  2.73  3.54  7.67  2.77\n",
            "  4.77  5.19 10.19  5.67  4.43  3.1   9.78 14.16  5.62  3.86  5.1   3.29\n",
            "  7.63  3.65  3.89  1.43  3.55  1.77  1.86  4.15  7.14  8.8   2.53  4.32\n",
            "  3.74  4.82  4.11  1.59 11.61]\n",
            "[23.11 28.61 32.28 38.03 27.78 36.21 16.2  14.6  19.4  30.96 32.27 22.39\n",
            " 10.05 17.21 17.2  28.95 22.   35.36 34.07 35.96 12.32 26.5  33.99 28.66\n",
            " 24.38 31.29 33.91 27.55 31.4  25.69 25.63 23.88 35.95 34.02 25.31 13.04\n",
            " 25.05 30.46 19.63 31.85 33.7  23.61 16.02 22.99  9.74 22.74 24.65 26.45\n",
            " 11.02 31.79 30.9  30.23 17.5  32.48 16.17 18.96 18.95 21.03 27.87 24.33\n",
            " 10.45 28.11 21.1  10.29 29.13 16.1  12.13 10.38 24.8  13.27 26.35 17.42\n",
            " 30.84 33.39 28.47 22.92 22.64 42.49 36.55 34.15 13.15 30.86 17.33 27.33\n",
            " 17.78 32.38 10.85 39.66 22.87 33.67 23.07 24.83 27.58 19.59 23.81 29.29\n",
            " 30.12 26.68 25.84 30.11 24.99 37.83 22.1  21.64 24.48 14.69 35.1  14.99\n",
            " 31.81 18.01 25.   25.39 25.55 21.31 20.47 26.13 25.73 35.28 20.69 30.28\n",
            " 26.84 30.79 35.39 21.53 33.97 28.45 29.27 13.52 12.81 12.24 36.35 37.12\n",
            "  9.39 14.29 37.43 29.26 18.72 12.98 32.25 26.54 24.06 26.47 20.71 19.97\n",
            " 11.17 19.52 22.41 15.7  35.54 23.51 29.81 19.71 26.63 17.04 17.26 16.3\n",
            " 23.26 28.56 29.3  21.13 33.58 33.88 20.25 34.71 34.46 29.35 27.89 21.57\n",
            " 16.66 28.17 34.65 34.27 41.05 35.45 19.48 28.81 11.59 35.04 27.57 29.89\n",
            " 29.06 25.68 37.42 17.22 25.98 10.35 11.82 20.57 31.33 24.39 16.67 20.22\n",
            " 26.17 23.52 22.49 24.6  32.03 27.95 34.81 30.31 21.39 21.11 34.8  16.38\n",
            " 11.61  9.69 12.   39.64 35.61 28.04 12.33 23.59 26.25 34.72 32.44 26.72\n",
            " 34.34 24.59 27.68 27.43 26.1  19.56  9.64 22.98 35.66 31.99 30.53 33.02\n",
            " 30.75 11.87 26.75 25.93 15.16 29.38 27.41 19.75 28.34 34.04 17.15 16.42\n",
            " 23.99 27.86 20.31  9.37 29.79 15.89 30.74 39.43 38.02 14.97 25.02 17.53\n",
            " 36.07 31.9  30.77 12.26 26.08 22.67 33.23 17.91 36.94 15.11 13.92 18.84\n",
            " 13.69 25.71 15.96 13.   14.4  28.69 29.12 18.04 10.73 18.14 21.93 34.3\n",
            " 24.7  29.07 37.15 28.82  7.12 26.55 26.52 13.68 23.89 28.25 21.97 29.18\n",
            " 19.39 35.4  36.59 18.86 24.86 14.9  26.66 32.57 18.44 32.16 20.13 29.58\n",
            " 12.59 12.3  30.09 16.48 32.97 37.25 34.21 33.36 23.29 37.05 26.71 27.59\n",
            " 21.7  19.99 22.61 23.87 25.42 22.53 29.87 36.16 26.57 32.23 23.66 22.24\n",
            " 32.74 26.51 25.43 32.79 25.76 28.83 34.03 25.72 19.54 27.73 21.18 32.88\n",
            " 31.35 27.64 22.58 31.58 29.74 39.97 33.15 29.54 21.36 34.99 37.99 29.63\n",
            " 33.27 18.53 30.98 22.03 42.17 21.06 36.1  39.35 16.64 32.72 26.01 36.57\n",
            " 23.92 39.71 29.01 38.11 40.6  27.14 26.97 33.55 36.85 19.85 33.05 20.41\n",
            " 31.04 23.23 21.73 29.45 22.7  21.61 29.98 34.53 17.16 23.22 26.26 19.06\n",
            " 13.39  8.66 20.37 18.35 20.66 13.65 28.28 13.19 37.89 25.1   9.28 25.22\n",
            " 12.51 25.78  6.74 13.35 39.68 28.02 26.48 42.06 31.72 32.1  15.23 33.41]\n",
            "['Present' 'Absent']\n",
            "[49 55 52 51 60 62 59 69 72 65 54 35 78 61 45 74 66 53 56 57 47 48 70 75\n",
            " 30 64 46 41 39 67 68 58 50 43 63 34 42 13 44 77 26 71 36 37 38 73 32 33\n",
            " 28 20 29 31 25 40]\n",
            "[25.3  28.87 29.14 31.99 25.99 30.77 20.81 23.11 24.86 30.11 26.81 23.09\n",
            " 21.57 23.63 23.53 25.89 25.31 32.73 29.3  30.09 20.92 26.16 24.64 28.7\n",
            " 26.19 23.23 38.8  20.96 29.43 28.07 21.86 22.13 30.25 29.84 19.49 27.36\n",
            " 30.9  27.68 30.98 23.75 22.15 26.29 46.58 22.95 25.71 30.01 20.17 30.53\n",
            " 29.01 27.19 28.64 22.65 23.91 26.57 23.83 25.52 22.94 22.51 23.65 25.65\n",
            " 26.21 27.23 22.07 25.   28.49 22.08 21.06 19.15 17.81 25.76 17.75 27.86\n",
            " 21.66 29.16 24.25 25.72 22.59 45.72 25.44 26.38 20.75 27.52 19.37 27.83\n",
            " 21.94 28.34 21.59 30.57 29.17 25.15 30.16 20.54 26.06 27.59 27.07 23.44\n",
            " 22.69 28.37 32.18 30.97 28.63 26.64 22.29 37.41 23.48 22.04 25.51 26.18\n",
            " 21.03 25.27 19.4  28.41 21.91 20.6  23.35 28.02 22.86 25.85 24.78 25.91\n",
            " 33.14 27.78 34.42 29.44 34.57 24.79 31.44 24.7  29.29 26.09 24.05 21.13\n",
            " 21.25 20.52 32.83 33.87 19.3  24.97 31.21 24.72 22.1  22.09 28.73 29.38\n",
            " 23.22 24.15 25.63 22.61 21.78 23.33 22.03 30.71 25.81 25.62 24.81 27.45\n",
            " 22.16 20.   23.64 27.14 25.87 36.06 29.33 24.46 29.83 22.05 26.52 27.95\n",
            " 20.16 26.24 27.96 30.14 40.34 21.48 26.74 28.88 25.42 24.73 25.39 24.37\n",
            " 35.94 23.59 30.42 21.62 22.01 31.59 28.25 25.26 24.58 25.12 29.87 23.81\n",
            " 24.96 29.34 26.71 28.4  26.88 31.27 26.75 22.45 31.15 22.56 21.47 22.6\n",
            " 27.62 20.28 41.76 27.38 25.01 19.48 24.69 27.29 28.33 27.25 28.99 26.08\n",
            " 29.19 29.42 24.36 25.7  27.44 28.85 27.3  23.12 22.7  26.01 34.35 28.67\n",
            " 22.3  25.11 25.68 29.37 27.84 23.14 20.86 23.76 22.75 36.46 23.54 24.49\n",
            " 35.51 18.46 22.76 27.8  23.39 20.01 19.61 20.31 26.2  37.24 24.98 25.02\n",
            " 22.18 26.56 28.75 25.8  17.89 24.07 26.37 31.83 22.17 27.66 24.82 27.02\n",
            " 19.82 23.43 27.87 32.33 20.42 26.07 29.51 23.8  30.22 35.42 26.86 26.59\n",
            " 28.84 18.75 30.86 25.67 24.32 37.71 30.31 22.67 22.24 23.79 27.04 24.38\n",
            " 28.51 19.44 29.41 20.74 20.29 27.39 24.   28.94 23.95 26.43 27.09 26.8\n",
            " 28.69 32.21 23.31 20.43 26.76 24.13 18.36 22.91 24.5  22.41 27.81 21.79\n",
            " 24.08 23.26 26.49 33.28 26.67 27.03 30.12 28.08 26.96 25.22 26.11 30.92\n",
            " 26.27 29.27 26.53 24.18 26.42 30.74 27.16 33.35 33.17 32.77 30.75 21.3\n",
            " 26.99 32.91 21.83 25.92 24.2  24.34 35.07 23.74 26.7  35.58 25.97 27.\n",
            " 26.3  23.82 30.61 21.26 31.65 27.26 30.54 32.04 26.83 24.8  34.72 28.5\n",
            " 20.58 31.03 24.54 30.18 24.94 22.4  23.37 27.92 21.07 23.66 24.92 31.16\n",
            " 28.71 23.25 27.2  20.18 19.38 18.5  21.51 25.38 21.4  29.   21.89 26.33\n",
            " 30.08 20.7  28.92 22.26 27.55 19.57 26.15 31.5  28.11 23.96 33.1  28.45\n",
            " 28.61 20.09 27.35 14.7 ]\n",
            "[ 97.2    2.06   3.81  24.26  57.34  14.14   2.62   6.72   2.49   0.\n",
            "  56.06   0.97   0.68  30.03  34.49  13.89  53.28  13.37  25.71   1.46\n",
            "  21.6    5.55   8.23  24.99  12.55   3.6   48.99  36.77  15.22  22.94\n",
            "   4.66   0.51   5.86  38.98   4.11  23.66   0.37  66.65  54.   100.32\n",
            "   3.22  12.34   2.93   2.34  24.53  10.08  61.71   8.42  20.98  11.11\n",
            "   0.6   11.1   43.2    4.63  12.86  24.38  72.     6.43   0.88  14.4\n",
            "  33.33   1.25   1.75  15.43   8.33   0.19   9.65  28.29   1.47  19.75\n",
            "   2.78   3.91  10.33   3.89 108.     6.17   7.71  49.06  14.66  22.09\n",
            "  23.48  11.83   8.51  12.24  24.89  27.03  18.51  29.52   4.17  21.5\n",
            "  79.82  24.27  58.11  19.34  22.73   9.59   3.52  17.47  32.3   10.46\n",
            "   4.8   16.35   3.13  14.5    0.95 147.19 120.03   1.03  59.79  26.23\n",
            "   0.69  33.07  23.14   9.26   1.37  11.73  13.27   7.92  27.77  40.94\n",
            "  11.52   5.25   3.09  14.71   8.13   4.03  74.91  47.16  19.2   36.17\n",
            "   4.53  33.51  34.35  15.94   0.86  14.77  10.49   7.85  18.72  28.8\n",
            "   7.41 109.8   88.66   3.18  19.44  14.02  20.17  82.85   6.54   1.42\n",
            "   7.61  92.62  37.03  24.48   3.29  32.81  39.36   0.26  11.55  25.86\n",
            "   2.42  17.14   7.3    1.54  17.74  43.71  15.12  66.27   3.5    5.19\n",
            "  37.65   2.02  20.78  64.8    3.41  16.71  59.14  40.32  40.63  24.95\n",
            "   8.26  25.82   2.61  75.77  10.8   38.06   2.57   0.74  26.74  32.06\n",
            "  51.87  32.78  85.06  21.19  62.54  42.99  45.    78.99   6.69   6.27\n",
            "   5.66  16.46  27.67  11.6   38.88  27.36  41.66   2.72  16.3   20.57\n",
            "  47.52  28.11  49.37  14.21   6.04 145.29  23.97 144.    65.31  58.32\n",
            "  66.86  55.89  34.97  24.69  19.95   8.36  90.93  62.43   7.97  18.\n",
            "  20.52  15.77  36.     2.88  17.02  39.91  90.31  77.76  32.61  72.93\n",
            "   3.87   6.51   4.55   6.53  90.    24.94  42.79  47.42  26.64]\n",
            "[52 63 46 58 49 45 38 29 53 60 40 17 15 62 59 20 44 50 42 48 61 56 41 28\n",
            " 32 30 51 33 16 31 18 57 54 27 26 36 34 55 39 21 64 37 25 43 24 47 23 35\n",
            " 19]\n",
            "[1 0]\n"
          ]
        }
      ]
    },
    {
      "cell_type": "code",
      "source": [
        "df = df.values"
      ],
      "metadata": {
        "id": "o6AYEr8E95uG"
      },
      "execution_count": null,
      "outputs": []
    },
    {
      "cell_type": "code",
      "source": [
        "X, y = df[:,:-1], df[:,-1]\n",
        "le = LabelEncoder()\n",
        "X[:,4] = le.fit_transform(X[:,4])"
      ],
      "metadata": {
        "id": "H_Ybyent49ry"
      },
      "execution_count": null,
      "outputs": []
    },
    {
      "cell_type": "code",
      "source": [
        "X_pocz = le.inverse_transform(X[:,4])\n",
        "X_pocz"
      ],
      "metadata": {
        "colab": {
          "base_uri": "https://localhost:8080/",
          "height": 378
        },
        "id": "28zWXqzj81wq",
        "outputId": "e1a54a60-cae5-411f-db34-4ee80de43a84"
      },
      "execution_count": null,
      "outputs": [
        {
          "output_type": "error",
          "ename": "IndexError",
          "evalue": "ignored",
          "traceback": [
            "\u001b[0;31m---------------------------------------------------------------------------\u001b[0m",
            "\u001b[0;31mIndexError\u001b[0m                                Traceback (most recent call last)",
            "\u001b[0;32m<ipython-input-44-28fcbc0d2e37>\u001b[0m in \u001b[0;36m<module>\u001b[0;34m\u001b[0m\n\u001b[0;32m----> 1\u001b[0;31m \u001b[0mX_pocz\u001b[0m \u001b[0;34m=\u001b[0m \u001b[0mle\u001b[0m\u001b[0;34m.\u001b[0m\u001b[0minverse_transform\u001b[0m\u001b[0;34m(\u001b[0m\u001b[0mX\u001b[0m\u001b[0;34m[\u001b[0m\u001b[0;34m:\u001b[0m\u001b[0;34m,\u001b[0m\u001b[0;36m4\u001b[0m\u001b[0;34m]\u001b[0m\u001b[0;34m)\u001b[0m\u001b[0;34m\u001b[0m\u001b[0;34m\u001b[0m\u001b[0m\n\u001b[0m\u001b[1;32m      2\u001b[0m \u001b[0mX_pocz\u001b[0m\u001b[0;34m\u001b[0m\u001b[0;34m\u001b[0m\u001b[0m\n",
            "\u001b[0;32m/usr/local/lib/python3.7/dist-packages/sklearn/preprocessing/_label.py\u001b[0m in \u001b[0;36minverse_transform\u001b[0;34m(self, y)\u001b[0m\n\u001b[1;32m    161\u001b[0m             \u001b[0;32mraise\u001b[0m \u001b[0mValueError\u001b[0m\u001b[0;34m(\u001b[0m\u001b[0;34m\"y contains previously unseen labels: %s\"\u001b[0m \u001b[0;34m%\u001b[0m \u001b[0mstr\u001b[0m\u001b[0;34m(\u001b[0m\u001b[0mdiff\u001b[0m\u001b[0;34m)\u001b[0m\u001b[0;34m)\u001b[0m\u001b[0;34m\u001b[0m\u001b[0;34m\u001b[0m\u001b[0m\n\u001b[1;32m    162\u001b[0m         \u001b[0my\u001b[0m \u001b[0;34m=\u001b[0m \u001b[0mnp\u001b[0m\u001b[0;34m.\u001b[0m\u001b[0masarray\u001b[0m\u001b[0;34m(\u001b[0m\u001b[0my\u001b[0m\u001b[0;34m)\u001b[0m\u001b[0;34m\u001b[0m\u001b[0;34m\u001b[0m\u001b[0m\n\u001b[0;32m--> 163\u001b[0;31m         \u001b[0;32mreturn\u001b[0m \u001b[0mself\u001b[0m\u001b[0;34m.\u001b[0m\u001b[0mclasses_\u001b[0m\u001b[0;34m[\u001b[0m\u001b[0my\u001b[0m\u001b[0;34m]\u001b[0m\u001b[0;34m\u001b[0m\u001b[0;34m\u001b[0m\u001b[0m\n\u001b[0m\u001b[1;32m    164\u001b[0m \u001b[0;34m\u001b[0m\u001b[0m\n\u001b[1;32m    165\u001b[0m     \u001b[0;32mdef\u001b[0m \u001b[0m_more_tags\u001b[0m\u001b[0;34m(\u001b[0m\u001b[0mself\u001b[0m\u001b[0;34m)\u001b[0m\u001b[0;34m:\u001b[0m\u001b[0;34m\u001b[0m\u001b[0;34m\u001b[0m\u001b[0m\n",
            "\u001b[0;31mIndexError\u001b[0m: arrays used as indices must be of integer (or boolean) type"
          ]
        }
      ]
    },
    {
      "cell_type": "markdown",
      "source": [
        "##a"
      ],
      "metadata": {
        "id": "dEK1ATj38kR9"
      }
    },
    {
      "cell_type": "code",
      "source": [
        "logreg = LogisticRegression(penalty = 'none',max_iter = 1000) #definiujemy model logistyczny\n",
        "logreg.fit(X,y) #dopasowujemy do danych treningowych\n",
        "print(logreg.coef_) #współczynniki przy zmiennych, przyporządkowywuje poszczegolnym cecha wagi\n",
        "print(logreg.intercept_) #współczynnik przy wyazie wolnym"
      ],
      "metadata": {
        "colab": {
          "base_uri": "https://localhost:8080/"
        },
        "id": "eKxQqjJI8ltp",
        "outputId": "4164d212-5d86-4106-fb4b-d33de778ef2b"
      },
      "execution_count": null,
      "outputs": [
        {
          "output_type": "stream",
          "name": "stdout",
          "text": [
            "[[ 6.50486172e-03  7.93317383e-02  1.74062462e-01  1.86906587e-02\n",
            "   9.24299271e-01  3.95707055e-02 -6.31141731e-02  1.24259856e-04\n",
            "   4.52017204e-02]]\n",
            "[-6.14599762]\n"
          ]
        }
      ]
    },
    {
      "cell_type": "markdown",
      "source": [
        "##b"
      ],
      "metadata": {
        "id": "ynaNHm-YCyC8"
      }
    },
    {
      "cell_type": "code",
      "source": [
        "#obliczenie wektora Xbeta dla pierwszego wiersza:\n",
        "logreg.decision_function(X)[0]\n",
        "#ręcznie:\n",
        "np.sum(X[0,:]*logreg.coef_)+logreg.intercept_"
      ],
      "metadata": {
        "colab": {
          "base_uri": "https://localhost:8080/"
        },
        "id": "BhCjUdEt8w0f",
        "outputId": "b4480f94-169e-42d5-9f3b-c1bfc8b5c349"
      },
      "execution_count": null,
      "outputs": [
        {
          "output_type": "execute_result",
          "data": {
            "text/plain": [
              "array([0.90512292])"
            ]
          },
          "metadata": {},
          "execution_count": 52
        }
      ]
    },
    {
      "cell_type": "code",
      "source": [
        "Xb = logreg.decision_function(X)\n",
        "print((np.exp(Xb)/(1+np.exp(Xb)))[0:5]) #pstwo przydziału do klasy 1\n",
        "print(logreg.predict_proba(X)[0:5,1]) #pstwo przydziału do klasy 1\n",
        "print((1/(1+np.exp(Xb))[0:5])) #pstwo przydziału do klasy 0\n",
        "print(logreg.predict_proba(X)[0:5,0]) #pstwo przydziału do klasy 0"
      ],
      "metadata": {
        "colab": {
          "base_uri": "https://localhost:8080/"
        },
        "id": "JBp6HGcnAm6a",
        "outputId": "01d4f89b-7071-4f30-c4f6-a8d78d6ec9cd"
      },
      "execution_count": null,
      "outputs": [
        {
          "output_type": "stream",
          "name": "stdout",
          "text": [
            "[0.71200113 0.33094767 0.2808147  0.71696576 0.69279614]\n",
            "[0.71200113 0.33094767 0.2808147  0.71696576 0.69279614]\n",
            "[0.28799887 0.66905233 0.7191853  0.28303424 0.30720386]\n",
            "[0.28799887 0.66905233 0.7191853  0.28303424 0.30720386]\n"
          ]
        }
      ]
    },
    {
      "cell_type": "markdown",
      "source": [
        "##c"
      ],
      "metadata": {
        "id": "BGI2Kuc7HBUo"
      }
    },
    {
      "cell_type": "code",
      "source": [
        "np.exp(logreg.coef_[0,-1]) #szansa w modelu logistycznym wyraża się przez p/(1-p)=exp(xb)\n",
        "#teraz załóżmy, że mamy drugą obserwację x', jej szansa to p'/(1-p')=exp(x'b)\n",
        "#zatem iloraz szans to p/(1-p) / p'/(1-p') = exp((x-x')b)\n",
        "#u nas osoby x i x' są identyczne tyko różnią się wiekiem o 1, zatem x-x'=(0,...,0,1,0...,0)\n",
        "#więc iloraz szans to exp((x-x')b) = exp(b_age)"
      ],
      "metadata": {
        "colab": {
          "base_uri": "https://localhost:8080/"
        },
        "id": "-2BvNN6gED8Q",
        "outputId": "b8e22106-2de8-4fa2-d4fd-89ec3d18228a"
      },
      "execution_count": null,
      "outputs": [
        {
          "output_type": "execute_result",
          "data": {
            "text/plain": [
              "1.0462388863556833"
            ]
          },
          "metadata": {},
          "execution_count": 61
        }
      ]
    },
    {
      "cell_type": "markdown",
      "source": [
        "##d"
      ],
      "metadata": {
        "id": "YqMYk8XOKVn_"
      }
    },
    {
      "cell_type": "code",
      "source": [
        "#d\n",
        "print(logreg.predict_proba(np.array([[128,0,4.44,20,1,51,22,0,31]]))) #predykcja prawdopodobieństwa, widzimy, że większe dla klasy 0\n",
        "print(logreg.predict(np.array([[128,0,4.44,20,1,51,22,0,31]]))) #w predict treshold jest ustawiony na 0.5, zatem 0.77>0.5 więc pzypisujemy do klasy 1"
      ],
      "metadata": {
        "colab": {
          "base_uri": "https://localhost:8080/"
        },
        "id": "Kh8jS6p_Jx1c",
        "outputId": "7944a7c0-23f0-4ed6-ce59-ceb3d72adaac"
      },
      "execution_count": null,
      "outputs": [
        {
          "output_type": "stream",
          "name": "stdout",
          "text": [
            "[[0.77057805 0.22942195]]\n",
            "[0]\n"
          ]
        }
      ]
    },
    {
      "cell_type": "markdown",
      "source": [
        "#3.2"
      ],
      "metadata": {
        "id": "nkr0HahuY0eO"
      }
    },
    {
      "cell_type": "code",
      "source": [],
      "metadata": {
        "id": "oMsp8Xl4bHa8"
      },
      "execution_count": null,
      "outputs": []
    },
    {
      "cell_type": "code",
      "source": [
        "uploaded2 = files.upload()"
      ],
      "metadata": {
        "colab": {
          "base_uri": "https://localhost:8080/",
          "height": 86
        },
        "id": "ZM1Fym3AJ5eY",
        "outputId": "5b3d2275-fb94-4f2f-8b62-0590353fa5b8"
      },
      "execution_count": null,
      "outputs": [
        {
          "output_type": "display_data",
          "data": {
            "text/plain": [
              "<IPython.core.display.HTML object>"
            ],
            "text/html": [
              "\n",
              "     <input type=\"file\" id=\"files-07f31d10-6fef-4897-8b92-5c28c2339e34\" name=\"files[]\" multiple disabled\n",
              "        style=\"border:none\" />\n",
              "     <output id=\"result-07f31d10-6fef-4897-8b92-5c28c2339e34\">\n",
              "      Upload widget is only available when the cell has been executed in the\n",
              "      current browser session. Please rerun this cell to enable.\n",
              "      </output>\n",
              "      <script>// Copyright 2017 Google LLC\n",
              "//\n",
              "// Licensed under the Apache License, Version 2.0 (the \"License\");\n",
              "// you may not use this file except in compliance with the License.\n",
              "// You may obtain a copy of the License at\n",
              "//\n",
              "//      http://www.apache.org/licenses/LICENSE-2.0\n",
              "//\n",
              "// Unless required by applicable law or agreed to in writing, software\n",
              "// distributed under the License is distributed on an \"AS IS\" BASIS,\n",
              "// WITHOUT WARRANTIES OR CONDITIONS OF ANY KIND, either express or implied.\n",
              "// See the License for the specific language governing permissions and\n",
              "// limitations under the License.\n",
              "\n",
              "/**\n",
              " * @fileoverview Helpers for google.colab Python module.\n",
              " */\n",
              "(function(scope) {\n",
              "function span(text, styleAttributes = {}) {\n",
              "  const element = document.createElement('span');\n",
              "  element.textContent = text;\n",
              "  for (const key of Object.keys(styleAttributes)) {\n",
              "    element.style[key] = styleAttributes[key];\n",
              "  }\n",
              "  return element;\n",
              "}\n",
              "\n",
              "// Max number of bytes which will be uploaded at a time.\n",
              "const MAX_PAYLOAD_SIZE = 100 * 1024;\n",
              "\n",
              "function _uploadFiles(inputId, outputId) {\n",
              "  const steps = uploadFilesStep(inputId, outputId);\n",
              "  const outputElement = document.getElementById(outputId);\n",
              "  // Cache steps on the outputElement to make it available for the next call\n",
              "  // to uploadFilesContinue from Python.\n",
              "  outputElement.steps = steps;\n",
              "\n",
              "  return _uploadFilesContinue(outputId);\n",
              "}\n",
              "\n",
              "// This is roughly an async generator (not supported in the browser yet),\n",
              "// where there are multiple asynchronous steps and the Python side is going\n",
              "// to poll for completion of each step.\n",
              "// This uses a Promise to block the python side on completion of each step,\n",
              "// then passes the result of the previous step as the input to the next step.\n",
              "function _uploadFilesContinue(outputId) {\n",
              "  const outputElement = document.getElementById(outputId);\n",
              "  const steps = outputElement.steps;\n",
              "\n",
              "  const next = steps.next(outputElement.lastPromiseValue);\n",
              "  return Promise.resolve(next.value.promise).then((value) => {\n",
              "    // Cache the last promise value to make it available to the next\n",
              "    // step of the generator.\n",
              "    outputElement.lastPromiseValue = value;\n",
              "    return next.value.response;\n",
              "  });\n",
              "}\n",
              "\n",
              "/**\n",
              " * Generator function which is called between each async step of the upload\n",
              " * process.\n",
              " * @param {string} inputId Element ID of the input file picker element.\n",
              " * @param {string} outputId Element ID of the output display.\n",
              " * @return {!Iterable<!Object>} Iterable of next steps.\n",
              " */\n",
              "function* uploadFilesStep(inputId, outputId) {\n",
              "  const inputElement = document.getElementById(inputId);\n",
              "  inputElement.disabled = false;\n",
              "\n",
              "  const outputElement = document.getElementById(outputId);\n",
              "  outputElement.innerHTML = '';\n",
              "\n",
              "  const pickedPromise = new Promise((resolve) => {\n",
              "    inputElement.addEventListener('change', (e) => {\n",
              "      resolve(e.target.files);\n",
              "    });\n",
              "  });\n",
              "\n",
              "  const cancel = document.createElement('button');\n",
              "  inputElement.parentElement.appendChild(cancel);\n",
              "  cancel.textContent = 'Cancel upload';\n",
              "  const cancelPromise = new Promise((resolve) => {\n",
              "    cancel.onclick = () => {\n",
              "      resolve(null);\n",
              "    };\n",
              "  });\n",
              "\n",
              "  // Wait for the user to pick the files.\n",
              "  const files = yield {\n",
              "    promise: Promise.race([pickedPromise, cancelPromise]),\n",
              "    response: {\n",
              "      action: 'starting',\n",
              "    }\n",
              "  };\n",
              "\n",
              "  cancel.remove();\n",
              "\n",
              "  // Disable the input element since further picks are not allowed.\n",
              "  inputElement.disabled = true;\n",
              "\n",
              "  if (!files) {\n",
              "    return {\n",
              "      response: {\n",
              "        action: 'complete',\n",
              "      }\n",
              "    };\n",
              "  }\n",
              "\n",
              "  for (const file of files) {\n",
              "    const li = document.createElement('li');\n",
              "    li.append(span(file.name, {fontWeight: 'bold'}));\n",
              "    li.append(span(\n",
              "        `(${file.type || 'n/a'}) - ${file.size} bytes, ` +\n",
              "        `last modified: ${\n",
              "            file.lastModifiedDate ? file.lastModifiedDate.toLocaleDateString() :\n",
              "                                    'n/a'} - `));\n",
              "    const percent = span('0% done');\n",
              "    li.appendChild(percent);\n",
              "\n",
              "    outputElement.appendChild(li);\n",
              "\n",
              "    const fileDataPromise = new Promise((resolve) => {\n",
              "      const reader = new FileReader();\n",
              "      reader.onload = (e) => {\n",
              "        resolve(e.target.result);\n",
              "      };\n",
              "      reader.readAsArrayBuffer(file);\n",
              "    });\n",
              "    // Wait for the data to be ready.\n",
              "    let fileData = yield {\n",
              "      promise: fileDataPromise,\n",
              "      response: {\n",
              "        action: 'continue',\n",
              "      }\n",
              "    };\n",
              "\n",
              "    // Use a chunked sending to avoid message size limits. See b/62115660.\n",
              "    let position = 0;\n",
              "    do {\n",
              "      const length = Math.min(fileData.byteLength - position, MAX_PAYLOAD_SIZE);\n",
              "      const chunk = new Uint8Array(fileData, position, length);\n",
              "      position += length;\n",
              "\n",
              "      const base64 = btoa(String.fromCharCode.apply(null, chunk));\n",
              "      yield {\n",
              "        response: {\n",
              "          action: 'append',\n",
              "          file: file.name,\n",
              "          data: base64,\n",
              "        },\n",
              "      };\n",
              "\n",
              "      let percentDone = fileData.byteLength === 0 ?\n",
              "          100 :\n",
              "          Math.round((position / fileData.byteLength) * 100);\n",
              "      percent.textContent = `${percentDone}% done`;\n",
              "\n",
              "    } while (position < fileData.byteLength);\n",
              "  }\n",
              "\n",
              "  // All done.\n",
              "  yield {\n",
              "    response: {\n",
              "      action: 'complete',\n",
              "    }\n",
              "  };\n",
              "}\n",
              "\n",
              "scope.google = scope.google || {};\n",
              "scope.google.colab = scope.google.colab || {};\n",
              "scope.google.colab._files = {\n",
              "  _uploadFiles,\n",
              "  _uploadFilesContinue,\n",
              "};\n",
              "})(self);\n",
              "</script> "
            ]
          },
          "metadata": {}
        },
        {
          "output_type": "stream",
          "name": "stdout",
          "text": [
            "Saving earthquake.csv to earthquake.csv\n"
          ]
        }
      ]
    },
    {
      "cell_type": "code",
      "source": [
        "df2 = pd.read_csv('earthquake.csv')"
      ],
      "metadata": {
        "id": "yDxkSunFZEe1"
      },
      "execution_count": null,
      "outputs": []
    },
    {
      "cell_type": "code",
      "source": [
        "df2"
      ],
      "metadata": {
        "id": "pRAEYKK6c12q"
      },
      "execution_count": null,
      "outputs": []
    },
    {
      "cell_type": "code",
      "source": [
        "df2\n",
        "df2_raw = df2.values"
      ],
      "metadata": {
        "id": "QipTzNyKZcJ5"
      },
      "execution_count": null,
      "outputs": []
    },
    {
      "cell_type": "code",
      "source": [
        "X = df2_raw[:,1:]\n",
        "y = df2_raw[:,0]\n",
        "y = LabelEncoder().fit_transform(y)"
      ],
      "metadata": {
        "id": "MVJilUXQaDfx"
      },
      "execution_count": null,
      "outputs": []
    },
    {
      "cell_type": "code",
      "source": [
        "#zobrazowanie - wykres rozproszenia\n",
        "colormap = np.array(['green','blue'])\n",
        "plt.scatter(X[:,0],X[:,1], c = colormap[y]) #mozna zauwazyc ze dane sa liniowo separowalne\n",
        "plt.xlabel('body')\n",
        "plt.ylabel('surface')"
      ],
      "metadata": {
        "colab": {
          "base_uri": "https://localhost:8080/",
          "height": 304
        },
        "id": "Y1b6IwV5Zdxe",
        "outputId": "82565c73-6423-4523-8d74-afe44a399541"
      },
      "execution_count": null,
      "outputs": [
        {
          "output_type": "execute_result",
          "data": {
            "text/plain": [
              "Text(0, 0.5, 'surface')"
            ]
          },
          "metadata": {},
          "execution_count": 82
        },
        {
          "output_type": "display_data",
          "data": {
            "text/plain": [
              "<Figure size 432x288 with 1 Axes>"
            ],
            "image/png": "[encoded data removed]"
          },
          "metadata": {
            "needs_background": "light"
          }
        }
      ]
    },
    {
      "cell_type": "code",
      "source": [
        "colormap[y]"
      ],
      "metadata": {
        "id": "TIODeHzaasRw"
      },
      "execution_count": null,
      "outputs": []
    },
    {
      "cell_type": "code",
      "source": [
        "colormap"
      ],
      "metadata": {
        "id": "yPij9XSoaw9l"
      },
      "execution_count": null,
      "outputs": []
    },
    {
      "cell_type": "code",
      "source": [
        "le = LogisticRegression(penalty = 'none', max_iter = 1000).fit(X,y)\n",
        "print(le.coef_)\n",
        "print(le.intercept_) "
      ],
      "metadata": {
        "colab": {
          "base_uri": "https://localhost:8080/"
        },
        "id": "CN5daVncbAv9",
        "outputId": "50cbaa1b-83f1-491d-f7bd-3eb214c78917"
      },
      "execution_count": null,
      "outputs": [
        {
          "output_type": "stream",
          "name": "stdout",
          "text": [
            "[[ 146.40894937 -151.81204304]]\n",
            "[-184.8930899]\n"
          ]
        }
      ]
    },
    {
      "cell_type": "markdown",
      "source": [
        "współczynniki sa ogromne poniewaz model regresji logistycznej zle dziala na danych liniowo separowalnych, bo algorytm iteracyjny ma nieskonczenie wiele dobrych rozwiazan"
      ],
      "metadata": {
        "id": "7N02pKVWd3P3"
      }
    },
    {
      "cell_type": "code",
      "source": [
        "le2 = LogisticRegression(penalty = 'l2', max_iter = 1000)\n",
        "le2.fit(X,y)\n",
        "print(le2.coef_)\n",
        "print(le2.intercept_)"
      ],
      "metadata": {
        "colab": {
          "base_uri": "https://localhost:8080/"
        },
        "id": "h8w32lwJdV74",
        "outputId": "0af04032-e86c-4ce1-f86c-6be037949d32"
      },
      "execution_count": null,
      "outputs": [
        {
          "output_type": "stream",
          "name": "stdout",
          "text": [
            "[[ 2.16923577 -1.18171285]]\n",
            "[-7.46941588]\n"
          ]
        }
      ]
    },
    {
      "cell_type": "markdown",
      "source": [
        "# 3.3"
      ],
      "metadata": {
        "id": "tHP9ptsfvd0u"
      }
    },
    {
      "cell_type": "code",
      "source": [
        "uploaded3 = files.upload()"
      ],
      "metadata": {
        "id": "kWtuZY8qdam_",
        "colab": {
          "base_uri": "https://localhost:8080/",
          "height": 86
        },
        "outputId": "80367bc1-60f8-4c95-8ca1-fe3e88540c3c"
      },
      "execution_count": null,
      "outputs": [
        {
          "output_type": "display_data",
          "data": {
            "text/plain": [
              "<IPython.core.display.HTML object>"
            ],
            "text/html": [
              "\n",
              "     <input type=\"file\" id=\"files-f17b1eca-009c-4daa-b853-ca4d00c564ad\" name=\"files[]\" multiple disabled\n",
              "        style=\"border:none\" />\n",
              "     <output id=\"result-f17b1eca-009c-4daa-b853-ca4d00c564ad\">\n",
              "      Upload widget is only available when the cell has been executed in the\n",
              "      current browser session. Please rerun this cell to enable.\n",
              "      </output>\n",
              "      <script>// Copyright 2017 Google LLC\n",
              "//\n",
              "// Licensed under the Apache License, Version 2.0 (the \"License\");\n",
              "// you may not use this file except in compliance with the License.\n",
              "// You may obtain a copy of the License at\n",
              "//\n",
              "//      http://www.apache.org/licenses/LICENSE-2.0\n",
              "//\n",
              "// Unless required by applicable law or agreed to in writing, software\n",
              "// distributed under the License is distributed on an \"AS IS\" BASIS,\n",
              "// WITHOUT WARRANTIES OR CONDITIONS OF ANY KIND, either express or implied.\n",
              "// See the License for the specific language governing permissions and\n",
              "// limitations under the License.\n",
              "\n",
              "/**\n",
              " * @fileoverview Helpers for google.colab Python module.\n",
              " */\n",
              "(function(scope) {\n",
              "function span(text, styleAttributes = {}) {\n",
              "  const element = document.createElement('span');\n",
              "  element.textContent = text;\n",
              "  for (const key of Object.keys(styleAttributes)) {\n",
              "    element.style[key] = styleAttributes[key];\n",
              "  }\n",
              "  return element;\n",
              "}\n",
              "\n",
              "// Max number of bytes which will be uploaded at a time.\n",
              "const MAX_PAYLOAD_SIZE = 100 * 1024;\n",
              "\n",
              "function _uploadFiles(inputId, outputId) {\n",
              "  const steps = uploadFilesStep(inputId, outputId);\n",
              "  const outputElement = document.getElementById(outputId);\n",
              "  // Cache steps on the outputElement to make it available for the next call\n",
              "  // to uploadFilesContinue from Python.\n",
              "  outputElement.steps = steps;\n",
              "\n",
              "  return _uploadFilesContinue(outputId);\n",
              "}\n",
              "\n",
              "// This is roughly an async generator (not supported in the browser yet),\n",
              "// where there are multiple asynchronous steps and the Python side is going\n",
              "// to poll for completion of each step.\n",
              "// This uses a Promise to block the python side on completion of each step,\n",
              "// then passes the result of the previous step as the input to the next step.\n",
              "function _uploadFilesContinue(outputId) {\n",
              "  const outputElement = document.getElementById(outputId);\n",
              "  const steps = outputElement.steps;\n",
              "\n",
              "  const next = steps.next(outputElement.lastPromiseValue);\n",
              "  return Promise.resolve(next.value.promise).then((value) => {\n",
              "    // Cache the last promise value to make it available to the next\n",
              "    // step of the generator.\n",
              "    outputElement.lastPromiseValue = value;\n",
              "    return next.value.response;\n",
              "  });\n",
              "}\n",
              "\n",
              "/**\n",
              " * Generator function which is called between each async step of the upload\n",
              " * process.\n",
              " * @param {string} inputId Element ID of the input file picker element.\n",
              " * @param {string} outputId Element ID of the output display.\n",
              " * @return {!Iterable<!Object>} Iterable of next steps.\n",
              " */\n",
              "function* uploadFilesStep(inputId, outputId) {\n",
              "  const inputElement = document.getElementById(inputId);\n",
              "  inputElement.disabled = false;\n",
              "\n",
              "  const outputElement = document.getElementById(outputId);\n",
              "  outputElement.innerHTML = '';\n",
              "\n",
              "  const pickedPromise = new Promise((resolve) => {\n",
              "    inputElement.addEventListener('change', (e) => {\n",
              "      resolve(e.target.files);\n",
              "    });\n",
              "  });\n",
              "\n",
              "  const cancel = document.createElement('button');\n",
              "  inputElement.parentElement.appendChild(cancel);\n",
              "  cancel.textContent = 'Cancel upload';\n",
              "  const cancelPromise = new Promise((resolve) => {\n",
              "    cancel.onclick = () => {\n",
              "      resolve(null);\n",
              "    };\n",
              "  });\n",
              "\n",
              "  // Wait for the user to pick the files.\n",
              "  const files = yield {\n",
              "    promise: Promise.race([pickedPromise, cancelPromise]),\n",
              "    response: {\n",
              "      action: 'starting',\n",
              "    }\n",
              "  };\n",
              "\n",
              "  cancel.remove();\n",
              "\n",
              "  // Disable the input element since further picks are not allowed.\n",
              "  inputElement.disabled = true;\n",
              "\n",
              "  if (!files) {\n",
              "    return {\n",
              "      response: {\n",
              "        action: 'complete',\n",
              "      }\n",
              "    };\n",
              "  }\n",
              "\n",
              "  for (const file of files) {\n",
              "    const li = document.createElement('li');\n",
              "    li.append(span(file.name, {fontWeight: 'bold'}));\n",
              "    li.append(span(\n",
              "        `(${file.type || 'n/a'}) - ${file.size} bytes, ` +\n",
              "        `last modified: ${\n",
              "            file.lastModifiedDate ? file.lastModifiedDate.toLocaleDateString() :\n",
              "                                    'n/a'} - `));\n",
              "    const percent = span('0% done');\n",
              "    li.appendChild(percent);\n",
              "\n",
              "    outputElement.appendChild(li);\n",
              "\n",
              "    const fileDataPromise = new Promise((resolve) => {\n",
              "      const reader = new FileReader();\n",
              "      reader.onload = (e) => {\n",
              "        resolve(e.target.result);\n",
              "      };\n",
              "      reader.readAsArrayBuffer(file);\n",
              "    });\n",
              "    // Wait for the data to be ready.\n",
              "    let fileData = yield {\n",
              "      promise: fileDataPromise,\n",
              "      response: {\n",
              "        action: 'continue',\n",
              "      }\n",
              "    };\n",
              "\n",
              "    // Use a chunked sending to avoid message size limits. See b/62115660.\n",
              "    let position = 0;\n",
              "    do {\n",
              "      const length = Math.min(fileData.byteLength - position, MAX_PAYLOAD_SIZE);\n",
              "      const chunk = new Uint8Array(fileData, position, length);\n",
              "      position += length;\n",
              "\n",
              "      const base64 = btoa(String.fromCharCode.apply(null, chunk));\n",
              "      yield {\n",
              "        response: {\n",
              "          action: 'append',\n",
              "          file: file.name,\n",
              "          data: base64,\n",
              "        },\n",
              "      };\n",
              "\n",
              "      let percentDone = fileData.byteLength === 0 ?\n",
              "          100 :\n",
              "          Math.round((position / fileData.byteLength) * 100);\n",
              "      percent.textContent = `${percentDone}% done`;\n",
              "\n",
              "    } while (position < fileData.byteLength);\n",
              "  }\n",
              "\n",
              "  // All done.\n",
              "  yield {\n",
              "    response: {\n",
              "      action: 'complete',\n",
              "    }\n",
              "  };\n",
              "}\n",
              "\n",
              "scope.google = scope.google || {};\n",
              "scope.google.colab = scope.google.colab || {};\n",
              "scope.google.colab._files = {\n",
              "  _uploadFiles,\n",
              "  _uploadFilesContinue,\n",
              "};\n",
              "})(self);\n",
              "</script> "
            ]
          },
          "metadata": {}
        },
        {
          "output_type": "stream",
          "name": "stdout",
          "text": [
            "Saving pima.csv to pima.csv\n"
          ]
        }
      ]
    },
    {
      "cell_type": "code",
      "source": [
        "df3 = pd.read_csv('pima.csv')"
      ],
      "metadata": {
        "id": "da4JVbc7vxrd"
      },
      "execution_count": null,
      "outputs": []
    },
    {
      "cell_type": "code",
      "source": [
        "for col in df3:\n",
        "    print(df3[col].unique())"
      ],
      "metadata": {
        "id": "XmZ6EuSTwwWL"
      },
      "execution_count": null,
      "outputs": []
    },
    {
      "cell_type": "markdown",
      "source": [
        "##a"
      ],
      "metadata": {
        "id": "PaxjXv5cvuLl"
      }
    },
    {
      "cell_type": "code",
      "source": [
        "df3_raw = df3.values\n",
        "df3_train, df3_test = train_test_split(df3_raw, test_size=0.3)\n",
        "X_train, y_train = df3_train[:,:-1], df3_train[:,-1]\n",
        "X_test, y_test = df3_train[:,:-1], df3_train[:,-1]"
      ],
      "metadata": {
        "id": "b0DRfVwcvjf9"
      },
      "execution_count": null,
      "outputs": []
    },
    {
      "cell_type": "markdown",
      "source": [],
      "metadata": {
        "id": "3HPsGwTHxrTa"
      }
    },
    {
      "cell_type": "code",
      "source": [
        "df3.shape"
      ],
      "metadata": {
        "colab": {
          "base_uri": "https://localhost:8080/"
        },
        "id": "ft4R6uZbxCVT",
        "outputId": "cb88351f-a845-41a8-8458-521bd9cce8d4"
      },
      "execution_count": null,
      "outputs": [
        {
          "output_type": "execute_result",
          "data": {
            "text/plain": [
              "(768, 9)"
            ]
          },
          "metadata": {},
          "execution_count": 17
        }
      ]
    },
    {
      "cell_type": "code",
      "source": [
        "X_train.shape"
      ],
      "metadata": {
        "colab": {
          "base_uri": "https://localhost:8080/"
        },
        "id": "fNCZEKtExFJ7",
        "outputId": "1f45286f-94e4-44c2-dbff-2fa5b5c4d4fe"
      },
      "execution_count": null,
      "outputs": [
        {
          "output_type": "execute_result",
          "data": {
            "text/plain": [
              "(537, 8)"
            ]
          },
          "metadata": {},
          "execution_count": 18
        }
      ]
    },
    {
      "cell_type": "markdown",
      "source": [
        "##b"
      ],
      "metadata": {
        "id": "jjGyGk6GyN6p"
      }
    },
    {
      "cell_type": "code",
      "source": [
        "from sklearn import tree"
      ],
      "metadata": {
        "id": "26WFyGMYxIui"
      },
      "execution_count": null,
      "outputs": []
    },
    {
      "cell_type": "code",
      "source": [
        "model_tree = tree.DecisionTreeClassifier(min_samples_split = 5, random_state=123)\n",
        "dtc3 = model_tree.fit(X_train, y_train)"
      ],
      "metadata": {
        "id": "2nMtYSjRyLsF"
      },
      "execution_count": null,
      "outputs": []
    },
    {
      "cell_type": "code",
      "source": [
        "plt.figure(figsize = (28,16))\n",
        "tree.plot_tree(dtc3)\n",
        "plt.show()"
      ],
      "metadata": {
        "colab": {
          "base_uri": "https://localhost:8080/",
          "height": 922
        },
        "id": "qeBV9TuFy1VK",
        "outputId": "79fde192-269d-4e9c-aa60-b5a1cb23105c"
      },
      "execution_count": null,
      "outputs": [
        {
          "output_type": "display_data",
          "data": {
            "text/plain": [
              "<Figure size 2016x1152 with 1 Axes>"
            ],
            "image/png": "[encoded data removed]"
          },
          "metadata": {
            "needs_background": "light"
          }
        }
      ]
    },
    {
      "cell_type": "markdown",
      "source": [
        "## c - model logistyczny"
      ],
      "metadata": {
        "id": "AxBDdkJJ0cKk"
      }
    },
    {
      "cell_type": "code",
      "source": [
        "from sklearn.linear_model import LogisticRegression"
      ],
      "metadata": {
        "id": "T89M_RzCz2WT"
      },
      "execution_count": null,
      "outputs": []
    },
    {
      "cell_type": "code",
      "source": [
        "LR = LogisticRegression(penalty = 'none', max_iter=1000)\n",
        "LR_fit = LR.fit(X_train, y_train)"
      ],
      "metadata": {
        "id": "3h0Fs0UY0lGv"
      },
      "execution_count": null,
      "outputs": []
    },
    {
      "cell_type": "markdown",
      "source": [
        "##d"
      ],
      "metadata": {
        "id": "uGkSgHAO1YgQ"
      }
    },
    {
      "cell_type": "code",
      "source": [
        "dtc3_prob = dtc3.predict_proba(X_test)\n",
        "LR_fit_prob = LR_fit.predict_proba(X_test)\n",
        "dtc3_prob1 = dtc3_prob[:,1]\n",
        "LR_prob1 =LR_fit_prob[:,1]\n"
      ],
      "metadata": {
        "id": "LWz13eXi1YN4"
      },
      "execution_count": null,
      "outputs": []
    },
    {
      "cell_type": "code",
      "source": [
        "#predykcje prawdopodobieństw dla drzewa i regresji logistycznej\n",
        "dtc3_fpr, dtc3_tpr, _ = roc_curve(y_test, dtc3_prob1) #liczymy fpr-y i tpr-y dla drzewa\n",
        "logreg_fpr, logreg_tpr, _ = roc_curve(y_test, LR_prob1) #i regresji logistycznej"
      ],
      "metadata": {
        "id": "yclQGKS90_3y"
      },
      "execution_count": null,
      "outputs": []
    },
    {
      "cell_type": "markdown",
      "source": [
        "##e - krzywa ROC"
      ],
      "metadata": {
        "id": "B3RLI3FA5us-"
      }
    },
    {
      "cell_type": "code",
      "source": [
        "roc_curve(y_test, LR_prob1)"
      ],
      "metadata": {
        "colab": {
          "base_uri": "https://localhost:8080/"
        },
        "id": "KhYyMXHT1y30",
        "outputId": "f530a20e-63e8-4174-febf-f39ec2b80590"
      },
      "execution_count": null,
      "outputs": [
        {
          "output_type": "execute_result",
          "data": {
            "text/plain": [
              "(array([0.        , 0.00657895, 0.00657895, 0.01315789, 0.01315789,\n",
              "        0.01973684, 0.01973684, 0.02631579, 0.02631579, 0.03289474,\n",
              "        0.03289474, 0.03947368, 0.03947368, 0.04605263, 0.04605263,\n",
              "        0.05921053, 0.05921053, 0.07894737, 0.07894737, 0.10526316,\n",
              "        0.10526316, 0.11184211, 0.11184211, 0.11842105, 0.11842105,\n",
              "        0.13157895, 0.13157895, 0.13815789, 0.13815789, 0.15131579,\n",
              "        0.15131579, 0.19736842, 0.19736842, 0.21052632, 0.21052632,\n",
              "        0.23684211, 0.23684211, 0.24342105, 0.24342105, 0.25      ,\n",
              "        0.25      , 0.26315789, 0.26315789, 0.27631579, 0.27631579,\n",
              "        0.28947368, 0.28947368, 0.33552632, 0.33552632, 0.36184211,\n",
              "        0.36184211, 0.42105263, 0.42105263, 0.46052632, 0.46052632,\n",
              "        0.48684211, 0.48684211, 0.50657895, 0.50657895, 0.55921053,\n",
              "        0.55921053, 0.56578947, 0.56578947, 0.59210526, 0.59210526,\n",
              "        0.68421053, 0.68421053, 0.83552632, 0.83552632, 0.94078947,\n",
              "        0.94078947, 1.        ]),\n",
              " array([0.        , 0.        , 0.08860759, 0.08860759, 0.17721519,\n",
              "        0.17721519, 0.26582278, 0.26582278, 0.27848101, 0.27848101,\n",
              "        0.30379747, 0.30379747, 0.37974684, 0.37974684, 0.39240506,\n",
              "        0.39240506, 0.40506329, 0.40506329, 0.43037975, 0.43037975,\n",
              "        0.50632911, 0.50632911, 0.5443038 , 0.5443038 , 0.58227848,\n",
              "        0.58227848, 0.62025316, 0.62025316, 0.63291139, 0.63291139,\n",
              "        0.65822785, 0.65822785, 0.69620253, 0.69620253, 0.73417722,\n",
              "        0.73417722, 0.74683544, 0.74683544, 0.75949367, 0.75949367,\n",
              "        0.78481013, 0.78481013, 0.79746835, 0.79746835, 0.81012658,\n",
              "        0.81012658, 0.82278481, 0.82278481, 0.83544304, 0.83544304,\n",
              "        0.86075949, 0.86075949, 0.87341772, 0.87341772, 0.89873418,\n",
              "        0.89873418, 0.91139241, 0.91139241, 0.92405063, 0.92405063,\n",
              "        0.93670886, 0.93670886, 0.94936709, 0.94936709, 0.96202532,\n",
              "        0.96202532, 0.97468354, 0.97468354, 0.98734177, 0.98734177,\n",
              "        1.        , 1.        ]),\n",
              " array([1.96635062, 0.96635062, 0.91618003, 0.9059759 , 0.82738416,\n",
              "        0.82503212, 0.7410899 , 0.73541717, 0.7326193 , 0.72473012,\n",
              "        0.72177824, 0.72073902, 0.68770317, 0.68558325, 0.68496211,\n",
              "        0.67563181, 0.67246835, 0.66185839, 0.63422599, 0.58808644,\n",
              "        0.5118711 , 0.50986672, 0.50456168, 0.48881451, 0.45804736,\n",
              "        0.45075319, 0.44250096, 0.41714321, 0.41057656, 0.40235429,\n",
              "        0.39511191, 0.38071846, 0.36344565, 0.34587788, 0.33112953,\n",
              "        0.31450233, 0.31392064, 0.31230414, 0.31209496, 0.3106921 ,\n",
              "        0.30120412, 0.29622476, 0.29508166, 0.2848643 , 0.28091717,\n",
              "        0.27520832, 0.25952996, 0.24702989, 0.24420691, 0.23449026,\n",
              "        0.23046149, 0.1989397 , 0.19817657, 0.18531217, 0.18231201,\n",
              "        0.17335159, 0.17285841, 0.15622351, 0.15396696, 0.14272278,\n",
              "        0.13405163, 0.13242319, 0.12138851, 0.11760395, 0.11730429,\n",
              "        0.09867508, 0.09251917, 0.06449518, 0.06268211, 0.03327123,\n",
              "        0.0324945 , 0.0063376 ]))"
            ]
          },
          "metadata": {},
          "execution_count": 49
        }
      ]
    },
    {
      "cell_type": "code",
      "source": [],
      "metadata": {
        "id": "3uTRh3CH5YTQ"
      },
      "execution_count": null,
      "outputs": []
    }
  ]
}