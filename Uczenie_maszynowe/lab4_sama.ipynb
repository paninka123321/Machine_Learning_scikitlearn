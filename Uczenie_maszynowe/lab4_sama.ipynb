{
  "nbformat": 4,
  "nbformat_minor": 0,
  "metadata": {
    "colab": {
      "provenance": [],
      "collapsed_sections": [
        "NXLBwCRIAzXi",
        "zXA6QSJWnd0I",
        "zHie2eiqnfx4"
      ]
    },
    "kernelspec": {
      "name": "python3",
      "display_name": "Python 3"
    },
    "language_info": {
      "name": "python"
    }
  },
  "cells": [
    {
      "cell_type": "code",
      "execution_count": null,
      "metadata": {
        "id": "GcuAZ_R8v6Rb"
      },
      "outputs": [],
      "source": []
    },
    {
      "cell_type": "markdown",
      "source": [
        "# 4.1"
      ],
      "metadata": {
        "id": "bjFQ-Ioxv70Z"
      }
    },
    {
      "cell_type": "code",
      "source": [
        "n = 100\n",
        "p = 5\n",
        "beta_0 = 1 #wartosc interceptu i odpowiada ona pstwu ze wartosc y=0\n",
        "beta_1 = [2,3,0.5,0.001,0] #exp(beta_1) - szanse na 1 (1 ma exp(beta_0) razy wiecej) szans ze wystapi niz 0\n",
        "pi=[]"
      ],
      "metadata": {
        "id": "8pAnGsy8v9lp"
      },
      "execution_count": null,
      "outputs": []
    },
    {
      "cell_type": "code",
      "source": [
        "import numpy as np"
      ],
      "metadata": {
        "id": "cdIuJ1q7wGOz"
      },
      "execution_count": null,
      "outputs": []
    },
    {
      "cell_type": "code",
      "source": [
        "X = np.random.normal(0,1, size = (n,p))"
      ],
      "metadata": {
        "id": "s1QnWJbywsIy"
      },
      "execution_count": null,
      "outputs": []
    },
    {
      "cell_type": "code",
      "source": [
        "X"
      ],
      "metadata": {
        "colab": {
          "base_uri": "https://localhost:8080/"
        },
        "id": "wzHe5xL7UTL6",
        "outputId": "74c6af63-ba43-4bdf-ecdc-8e90f7e889bf"
      },
      "execution_count": null,
      "outputs": [
        {
          "output_type": "execute_result",
          "data": {
            "text/plain": [
              "array([[ 0.16774975, -0.15581378, -2.23651881,  2.60032804,  0.88201639],\n",
              "       [ 0.35033912,  0.25070262,  2.17757506, -0.98540802,  1.14826532],\n",
              "       [-0.41493397,  0.63868156,  0.01628758, -1.93969261,  0.13886051],\n",
              "       [-0.27819104,  0.26687113,  0.9437318 ,  1.15270877, -0.11409495],\n",
              "       [ 0.6195913 , -1.37280667, -0.15795509,  0.84090723, -1.15149338],\n",
              "       [-0.33094961,  0.27152925, -0.98464066, -0.53260328, -0.14514477],\n",
              "       [ 0.42159196,  0.75580432,  1.33088057,  0.42580593, -2.73454328],\n",
              "       [-1.32966649, -0.34648526, -0.20342529, -0.18207362, -2.23376945],\n",
              "       [ 0.76659972, -0.85320622, -0.36392314, -1.51796555, -0.93518627],\n",
              "       [ 0.32044736,  0.64607121,  0.60454211, -0.74765971,  0.04355586],\n",
              "       [-0.7856007 , -0.41502167,  0.76287796, -0.29821532,  0.34934805],\n",
              "       [-0.18260183, -0.30344231,  1.0388948 ,  0.79603431, -0.46326193],\n",
              "       [-0.68843921, -0.18541968,  0.16090819,  1.77747967, -1.3100583 ],\n",
              "       [ 0.07809171,  0.91371477, -0.28291835, -0.18215004,  0.42342153],\n",
              "       [-1.72351673,  0.36152983,  0.68383778,  0.64828499, -1.01211431],\n",
              "       [ 0.72207217,  0.1192986 , -0.7728282 ,  1.04726863,  0.39488763],\n",
              "       [ 0.88697922, -0.26606646, -1.21097551, -0.74165841, -0.89176323],\n",
              "       [ 0.1371669 , -1.01196838,  1.24495774,  1.02749707, -1.07591932],\n",
              "       [-1.1322607 , -0.55868222, -0.10138363, -0.60339214,  0.73680283],\n",
              "       [-1.08645745,  0.2866112 ,  2.15220621,  1.30277447, -0.03608883],\n",
              "       [ 0.13857744, -1.1561262 , -1.39476755, -0.67133264,  0.86072359],\n",
              "       [ 0.74313171, -0.60710228, -1.87639927,  1.47960294, -0.92073362],\n",
              "       [-1.19808868,  0.41088441,  1.27699119,  0.09930951, -1.04382711],\n",
              "       [-1.52237274,  0.26657394, -0.01178073,  0.22020084, -0.20581629],\n",
              "       [-0.54848758,  0.78206348, -0.97270918, -0.05422668, -1.15352492],\n",
              "       [ 0.66923752,  0.9256602 , -0.19669324, -1.35070591,  0.23481267],\n",
              "       [-0.2453575 , -0.76252694, -0.29111529,  0.55118629,  0.01101936],\n",
              "       [-1.19204032,  0.60618995,  1.91019894,  0.18412662, -1.31334193],\n",
              "       [-0.29085578, -0.293719  , -0.84285718, -0.35832231,  0.81077726],\n",
              "       [-2.12345733,  1.01658606,  0.70867596,  0.56605547, -0.29911537],\n",
              "       [ 0.1192669 ,  1.2097822 , -0.28476455, -0.33222126,  0.3549916 ],\n",
              "       [-0.01451346, -0.65509658,  1.12030219, -0.87320241,  0.44995178],\n",
              "       [-1.43157826, -2.04448611, -0.25696986,  1.15810775,  0.31258627],\n",
              "       [ 0.86729645,  1.03706678,  1.72477115, -1.91033147, -1.57122538],\n",
              "       [ 0.79778313, -0.24442761,  2.93219947,  0.99135456, -0.05270147],\n",
              "       [ 2.1829726 , -1.07069608, -0.00375755,  1.63076017, -1.44690083],\n",
              "       [ 1.43230748,  0.53987219, -0.33863295,  0.94228546,  0.97517891],\n",
              "       [-0.86840178,  2.05267521,  0.98191829,  0.56634642, -0.03586946],\n",
              "       [ 0.45367501, -1.57497395, -1.29020556, -0.63960587,  0.70281697],\n",
              "       [-0.29409237,  0.27787729, -0.15859811,  1.1880717 , -0.99837327],\n",
              "       [-0.39006358,  0.94699411, -0.50356605,  0.1452519 ,  1.14309412],\n",
              "       [-0.70468578,  1.14476921, -2.06970652, -0.7355783 , -0.40834995],\n",
              "       [ 1.38411462, -0.33590217,  1.75672654, -1.14535204, -1.35205327],\n",
              "       [-1.01846527, -1.40993832,  2.13639251,  0.47237793,  0.87005998],\n",
              "       [-0.44192312, -1.19071516,  1.55630216, -0.88574855, -0.89959959],\n",
              "       [ 1.46112789,  0.26115328, -0.49960622, -0.5598689 ,  1.64921868],\n",
              "       [-0.85511442,  0.29230429, -0.32018397, -0.32238198,  0.4735642 ],\n",
              "       [ 0.78815674,  0.05829862, -0.7265854 , -0.36280747, -1.44194954],\n",
              "       [-0.99307549,  0.03225815,  0.69129507, -2.48099591,  1.70605251],\n",
              "       [-0.37963892,  0.03546209, -0.38419502, -0.56075242,  0.34436671],\n",
              "       [-0.20472336,  0.53589311,  0.94584041, -2.09712968,  0.80936695],\n",
              "       [-0.41162818, -0.13757269, -1.13741748, -0.10311857, -0.75750393],\n",
              "       [ 1.31447114,  0.67751633,  0.12646847,  0.12667132,  0.47279134],\n",
              "       [-0.56994367,  1.44977256, -1.02651076, -0.13180633,  0.1408924 ],\n",
              "       [-1.34799423, -0.46642012,  0.01632892,  0.60356266,  0.29308911],\n",
              "       [ 0.01393994, -0.20575635,  0.14749793,  1.40713853, -1.28022522],\n",
              "       [ 1.14588793, -0.4114101 , -0.42026044, -1.48262205, -1.01595319],\n",
              "       [-0.01794196,  1.25140094,  0.76776133,  1.7064412 ,  1.57841382],\n",
              "       [ 0.18073578,  1.17136694,  1.52862622, -1.7674922 , -0.99986083],\n",
              "       [-0.0323247 ,  0.5523876 , -0.80183678, -0.44722446, -0.11372984],\n",
              "       [ 1.28533505, -0.1250781 , -1.22979491, -0.99076739, -0.71865896],\n",
              "       [ 0.04206245,  0.07958493, -0.18190826, -0.0873388 , -0.1743241 ],\n",
              "       [ 0.31013722, -1.25204887, -0.21002144,  0.88265297, -0.45988111],\n",
              "       [-0.43940812, -0.26360283, -0.21442199, -0.23483682,  0.20640277],\n",
              "       [-1.68702228,  0.02655623, -0.72596329, -1.09732705,  2.26587808],\n",
              "       [ 0.68979504,  0.84389789,  0.05683516, -0.36184116,  2.75864581],\n",
              "       [-1.36296596,  0.97899607, -0.09391604, -0.22380758,  1.15758794],\n",
              "       [-0.74050701, -2.24881505, -1.09982886,  1.42908697,  1.08330557],\n",
              "       [-1.89866597,  1.97219307,  2.43821832,  1.04347129, -0.14073121],\n",
              "       [-0.30654603, -0.50085465,  1.10875867, -0.04205345,  0.30306636],\n",
              "       [ 1.06768048, -0.83110694, -0.17862921,  1.10103225,  0.46473046],\n",
              "       [ 0.61725325,  0.06962849,  0.11827893, -1.72382923,  0.64948008],\n",
              "       [ 0.12037915, -3.64515788,  0.33181401, -0.7496282 ,  0.89467787],\n",
              "       [-0.11543836,  0.40892616,  1.14691114,  0.1976133 ,  0.45087271],\n",
              "       [ 0.34523466,  0.04619743, -0.74858449,  0.39425395, -1.02747996],\n",
              "       [ 1.76263925, -0.11157278,  0.79521419,  1.07237386, -0.6111192 ],\n",
              "       [ 0.49204228, -0.15704906,  0.50911304, -0.44397058, -1.80013473],\n",
              "       [ 0.83983939, -0.09354276,  1.4713622 ,  1.7020861 ,  1.19606058],\n",
              "       [-0.11003496, -0.57060313,  0.70394883, -0.90788431,  0.36508237],\n",
              "       [-0.5480646 , -0.47597006, -0.66094155,  2.5938349 , -0.03452322],\n",
              "       [-0.25600067, -0.61110447,  1.60360323, -0.73233356,  0.34462319],\n",
              "       [ 0.15823236, -0.07907695,  2.59022722, -0.24376463,  0.88514722],\n",
              "       [-1.14284727,  1.38846147, -2.00333113,  1.65676822, -0.41705802],\n",
              "       [-0.80497655, -1.82052644,  0.72182724, -0.77740926, -0.14556879],\n",
              "       [-0.34391791, -0.01650292, -1.94564989, -2.01506163,  0.87101313],\n",
              "       [-1.11388147, -0.54971606,  2.02346352, -0.59091273, -0.77999601],\n",
              "       [ 1.36263491, -1.0056687 , -1.14952507, -0.15764293,  0.31223769],\n",
              "       [ 0.02389402,  0.65786011,  0.55638163,  0.22099792, -0.70012637],\n",
              "       [-1.55961614, -1.64083915, -0.35116164, -0.28490569,  0.10669608],\n",
              "       [-1.73577664,  0.42941379, -0.72160087,  2.27187029, -0.65301207],\n",
              "       [ 0.22162306,  1.1155515 ,  0.54022282,  0.67600484, -0.94647732],\n",
              "       [ 0.40428457, -1.44628052, -1.03589984, -1.21890927,  0.30629314],\n",
              "       [ 1.12487286,  1.56450655, -1.50315254,  1.41814576,  0.46547183],\n",
              "       [-2.32946009,  1.14597701,  0.13154344,  0.10554008,  0.69626384],\n",
              "       [-0.30699274, -0.20133601, -1.03867073,  0.75386855,  0.17530214],\n",
              "       [-0.05356287,  0.26862851,  0.78552934, -1.95151019, -0.97737427],\n",
              "       [ 0.32913692,  1.59911902, -0.38797974,  2.0963485 ,  0.45787168],\n",
              "       [-0.32201933, -1.31699638,  1.64639056,  2.03542626, -1.65023402],\n",
              "       [-1.22660852, -1.75357428,  1.64689673,  0.08632708, -0.04788163],\n",
              "       [ 1.1290258 , -0.49229369,  1.19533551, -1.72144121,  0.52753702]])"
            ]
          },
          "metadata": {},
          "execution_count": 5
        }
      ]
    },
    {
      "cell_type": "code",
      "source": [
        "Xbeta = X@beta_1 + beta_0\n",
        "probs = np.exp(Xbeta)/(1+np.exp(Xbeta))\n",
        "y = np.random.binomial(1,probs)\n",
        "y"
      ],
      "metadata": {
        "colab": {
          "base_uri": "https://localhost:8080/"
        },
        "id": "QJKPk_3OxChK",
        "outputId": "c6e420d9-6353-4a1b-ebe5-400a16238b36"
      },
      "execution_count": null,
      "outputs": [
        {
          "output_type": "execute_result",
          "data": {
            "text/plain": [
              "array([1, 0, 1, 0, 1, 1, 1, 1, 0, 1, 1, 1, 1, 0, 1, 0, 0, 1, 1, 1, 0, 0,\n",
              "       1, 1, 1, 1, 1, 1, 1, 1, 1, 0, 0, 1, 1, 1, 0, 0, 0, 1, 1, 1, 1, 1,\n",
              "       0, 1, 1, 1, 1, 1, 0, 1, 0, 0, 0, 1, 1, 1, 0, 0, 0, 0, 0, 0, 1, 0,\n",
              "       1, 1, 0, 1, 1, 0, 0, 0, 1, 0, 1, 1, 1, 1, 0, 1, 1, 0, 1, 0, 1, 0,\n",
              "       1, 1, 0, 0, 0, 1, 0, 1, 0, 0, 0, 1])"
            ]
          },
          "metadata": {},
          "execution_count": 24
        }
      ]
    },
    {
      "cell_type": "markdown",
      "source": [
        "##a"
      ],
      "metadata": {
        "id": "fNoUB3eM0KcS"
      }
    },
    {
      "cell_type": "code",
      "source": [
        "from sklearn.linear_model import LogisticRegression"
      ],
      "metadata": {
        "id": "3OhXBesXyKEp"
      },
      "execution_count": null,
      "outputs": []
    },
    {
      "cell_type": "code",
      "source": [
        "a = LogisticRegression(random_state = 123).fit(X,y)"
      ],
      "metadata": {
        "id": "7kxBKL090SbS"
      },
      "execution_count": null,
      "outputs": []
    },
    {
      "cell_type": "code",
      "source": [
        "a.coef_ #odpowiada wartości beta1 (wagi cech)"
      ],
      "metadata": {
        "colab": {
          "base_uri": "https://localhost:8080/"
        },
        "id": "Z_ZPU8Ve0kKD",
        "outputId": "266984be-3d6f-403d-effe-6e96985dab9c"
      },
      "execution_count": null,
      "outputs": [
        {
          "output_type": "execute_result",
          "data": {
            "text/plain": [
              "array([[ 0.90488398,  2.02324425,  0.34231231, -0.12523947, -0.16885705]])"
            ]
          },
          "metadata": {},
          "execution_count": 29
        }
      ]
    },
    {
      "cell_type": "code",
      "source": [
        "a.intercept_ #odpowiada wartosci Beta0"
      ],
      "metadata": {
        "colab": {
          "base_uri": "https://localhost:8080/"
        },
        "id": "Vx8WQuFo0rwX",
        "outputId": "9c143841-23d6-4080-bbaa-58d5bc7dd0cf"
      },
      "execution_count": null,
      "outputs": [
        {
          "output_type": "execute_result",
          "data": {
            "text/plain": [
              "array([1.05215921])"
            ]
          },
          "metadata": {},
          "execution_count": 30
        }
      ]
    },
    {
      "cell_type": "markdown",
      "source": [
        "##b"
      ],
      "metadata": {
        "id": "dxfvakFh8fPt"
      }
    },
    {
      "cell_type": "code",
      "source": [
        "# c = [10,2,1,0.2,0.2,0.01,0.005]\n",
        "# coefy = []\n",
        "# intercepty = []"
      ],
      "metadata": {
        "id": "lYorPdsj8e6V"
      },
      "execution_count": null,
      "outputs": []
    },
    {
      "cell_type": "code",
      "source": [
        "c = np.array([10,2,1,0.2,0.2,0.01,0.005]) # wraz ze spadkiem c (wiec wzrostem lambda) zmniejszamy wagi, które przypisujemy cechą, zapobiega di overfittingu\n",
        "coefy = []\n",
        "intercepty = []"
      ],
      "metadata": {
        "id": "FgxHFb5__dd3"
      },
      "execution_count": null,
      "outputs": []
    },
    {
      "cell_type": "code",
      "source": [
        "for i in c:\n",
        "  b = LogisticRegression(random_state = 123, penalty = \"l2\", C = i).fit(X,y)\n",
        "  print(i, \":\", b.coef_[0], b.intercept_[0])\n",
        "  coefy.append(b.coef_[0])\n",
        "  intercepty.append(b.intercept_)"
      ],
      "metadata": {
        "colab": {
          "base_uri": "https://localhost:8080/"
        },
        "id": "zcPtG5143wk4",
        "outputId": "832b4e11-6c77-4a52-8224-3fe40fda5781"
      },
      "execution_count": null,
      "outputs": [
        {
          "output_type": "stream",
          "name": "stdout",
          "text": [
            "10.0 : [ 1.22394489  2.49903591  0.46442019 -0.14625506 -0.17951756] 1.2632762904383037\n",
            "2.0 : [ 1.04453936  2.23564215  0.39579952 -0.13498691 -0.17505306] 1.1454366468865733\n",
            "1.0 : [ 0.90488398  2.02324425  0.34231231 -0.12523947 -0.16885705] 1.0521592068588979\n",
            "0.2 : [ 0.51162052  1.35367855  0.19127888 -0.08806907 -0.13091858] 0.7715824611093741\n",
            "0.2 : [ 0.51162052  1.35367855  0.19127888 -0.08806907 -0.13091858] 0.7715824611093741\n",
            "0.01 : [ 0.06873969  0.25742378  0.01855999 -0.00983847 -0.02502891] 0.41287485997263107\n",
            "0.005 : [ 0.03680039  0.14331944  0.00878562 -0.00460659 -0.01362646] 0.38912876239384103\n"
          ]
        }
      ]
    },
    {
      "cell_type": "code",
      "source": [
        "# for i in c:\n",
        "#   b = LogisticRegression(random_state = 123, penalty = \"l2\", C = i).fit(X,y)\n",
        "#   print(i, \":\", b.coef_, b.intercept_)\n",
        "#   coefy.append(b.coef_)\n",
        "#   intercepty.append(b.intercept_)"
      ],
      "metadata": {
        "colab": {
          "base_uri": "https://localhost:8080/"
        },
        "id": "CZxIziB9_SuK",
        "outputId": "cb84d643-ade6-4ff6-f7ca-c87082e2ef63"
      },
      "execution_count": null,
      "outputs": [
        {
          "output_type": "stream",
          "name": "stdout",
          "text": [
            "10 : [[ 1.22394489  2.49903591  0.46442019 -0.14625506 -0.17951756]] [1.26327629]\n",
            "2 : [[ 1.04453936  2.23564215  0.39579952 -0.13498691 -0.17505306]] [1.14543665]\n",
            "1 : [[ 0.90488398  2.02324425  0.34231231 -0.12523947 -0.16885705]] [1.05215921]\n",
            "0.2 : [[ 0.51162052  1.35367855  0.19127888 -0.08806907 -0.13091858]] [0.77158246]\n",
            "0.2 : [[ 0.51162052  1.35367855  0.19127888 -0.08806907 -0.13091858]] [0.77158246]\n",
            "0.01 : [[ 0.06873969  0.25742378  0.01855999 -0.00983847 -0.02502891]] [0.41287486]\n",
            "0.005 : [[ 0.03680039  0.14331944  0.00878562 -0.00460659 -0.01362646]] [0.38912876]\n"
          ]
        }
      ]
    },
    {
      "cell_type": "code",
      "source": [
        "import matplotlib.pyplot as plt\n",
        "plt.plot(1/c, np.array(coefy))"
      ],
      "metadata": {
        "colab": {
          "base_uri": "https://localhost:8080/",
          "height": 350
        },
        "id": "O1gVqWsy9QY6",
        "outputId": "f0c42cd5-2802-46fa-c292-36c8bc04b0f9"
      },
      "execution_count": null,
      "outputs": [
        {
          "output_type": "execute_result",
          "data": {
            "text/plain": [
              "[<matplotlib.lines.Line2D at 0x7f0cf42725d0>,\n",
              " <matplotlib.lines.Line2D at 0x7f0cf3cdb810>,\n",
              " <matplotlib.lines.Line2D at 0x7f0cf3cdbf90>,\n",
              " <matplotlib.lines.Line2D at 0x7f0cf3cdb790>,\n",
              " <matplotlib.lines.Line2D at 0x7f0cf3cdba50>]"
            ]
          },
          "metadata": {},
          "execution_count": 56
        },
        {
          "output_type": "display_data",
          "data": {
            "text/plain": [
              "<Figure size 432x288 with 1 Axes>"
            ],
            "image/png": "[encoded data removed]"
          },
          "metadata": {
            "needs_background": "light"
          }
        }
      ]
    },
    {
      "cell_type": "code",
      "source": [
        "np.array(coefy)"
      ],
      "metadata": {
        "colab": {
          "base_uri": "https://localhost:8080/"
        },
        "id": "64Nw3oiO-A0n",
        "outputId": "4d7d51ef-6c09-471b-f689-540e675a9405"
      },
      "execution_count": null,
      "outputs": [
        {
          "output_type": "execute_result",
          "data": {
            "text/plain": [
              "array([[[ 1.22394489,  2.49903591,  0.46442019, -0.14625506,\n",
              "         -0.17951756]],\n",
              "\n",
              "       [[ 1.04453936,  2.23564215,  0.39579952, -0.13498691,\n",
              "         -0.17505306]],\n",
              "\n",
              "       [[ 0.90488398,  2.02324425,  0.34231231, -0.12523947,\n",
              "         -0.16885705]],\n",
              "\n",
              "       [[ 0.51162052,  1.35367855,  0.19127888, -0.08806907,\n",
              "         -0.13091858]],\n",
              "\n",
              "       [[ 0.51162052,  1.35367855,  0.19127888, -0.08806907,\n",
              "         -0.13091858]],\n",
              "\n",
              "       [[ 0.06873969,  0.25742378,  0.01855999, -0.00983847,\n",
              "         -0.02502891]],\n",
              "\n",
              "       [[ 0.03680039,  0.14331944,  0.00878562, -0.00460659,\n",
              "         -0.01362646]]])"
            ]
          },
          "metadata": {},
          "execution_count": 41
        }
      ]
    },
    {
      "cell_type": "code",
      "source": [
        "1/np.array(c)"
      ],
      "metadata": {
        "colab": {
          "base_uri": "https://localhost:8080/"
        },
        "id": "Vx9fMm8_-PH4",
        "outputId": "f7eb47e7-3705-4f35-f79f-0f4672ceb306"
      },
      "execution_count": null,
      "outputs": [
        {
          "output_type": "execute_result",
          "data": {
            "text/plain": [
              "array([1.e-01, 5.e-01, 1.e+00, 5.e+00, 5.e+00, 1.e+02, 2.e+02])"
            ]
          },
          "metadata": {},
          "execution_count": 42
        }
      ]
    },
    {
      "cell_type": "markdown",
      "source": [
        "## d "
      ],
      "metadata": {
        "id": "NXLBwCRIAzXi"
      }
    },
    {
      "cell_type": "code",
      "source": [
        "coefy_z =np.array([])\n",
        "coefy_l1 = np.array([])\n",
        "coefy_l2 = np.array([])\n",
        "in_z = np.array([])\n",
        "in_l1 = np.array([])\n",
        "in_l2 = np.array([])\n",
        "beta_k_z = np.array([])\n",
        "beta_k_l1 = np.array([])\n",
        "for i in range(1000):\n",
        "  zwykle = LogisticRegression(random_state=123).fit(X,y)\n",
        "  l1 = LogisticRegression(random_state=123, penalty ='l2').fit(X,y)\n",
        "  l2 = LogisticRegression(random_state=123, penalty = 'l1').fit(X,y)\n",
        "  coefy_z.append(zwykle.coef_[0])\n",
        "  coefy_l1.append(l1.coef_[0])\n",
        "  coefy_l2.append(l2.coef_[0])\n",
        "  in_z.append(zwykle.intercept_[0])\n",
        "  in_l1(l1.intercept_[0])\n",
        "  in_l2(l2.intercept_[0])\n",
        "  beta_k_z.append()"
      ],
      "metadata": {
        "id": "KxB5cxXC-jVl"
      },
      "execution_count": null,
      "outputs": []
    },
    {
      "cell_type": "code",
      "source": [
        "a = np.array([1,2,3])\n",
        "b = np.array([3,4,5])\n",
        "np.sum(a-b)"
      ],
      "metadata": {
        "colab": {
          "base_uri": "https://localhost:8080/"
        },
        "id": "skcpu8YWEaXL",
        "outputId": "01c53dfb-056f-41ed-d3eb-7e05f2f978b7"
      },
      "execution_count": null,
      "outputs": [
        {
          "output_type": "execute_result",
          "data": {
            "text/plain": [
              "-6"
            ]
          },
          "metadata": {},
          "execution_count": 60
        }
      ]
    },
    {
      "cell_type": "markdown",
      "source": [
        "# 4.2"
      ],
      "metadata": {
        "id": "UpLOv7kLEZ-F"
      }
    },
    {
      "cell_type": "markdown",
      "source": [
        "##a"
      ],
      "metadata": {
        "id": "zXA6QSJWnd0I"
      }
    },
    {
      "cell_type": "code",
      "source": [
        "from google.colab import files "
      ],
      "metadata": {
        "id": "98-JqeEuhUu6"
      },
      "execution_count": null,
      "outputs": []
    },
    {
      "cell_type": "code",
      "source": [
        "uploaded2 = files.upload()"
      ],
      "metadata": {
        "colab": {
          "base_uri": "https://localhost:8080/",
          "height": 65
        },
        "id": "6W67QtZYhXyc",
        "outputId": "5973f701-5df1-4748-c95a-2c688407ec3d"
      },
      "execution_count": null,
      "outputs": [
        {
          "output_type": "display_data",
          "data": {
            "text/plain": [
              "<IPython.core.display.HTML object>"
            ],
            "text/html": [
              "\n",
              "     <input type=\"file\" id=\"files-d02e71f3-2bdc-45c0-8498-b3bda1a1fbbf\" name=\"files[]\" multiple disabled\n",
              "        style=\"border:none\" />\n",
              "     <output id=\"result-d02e71f3-2bdc-45c0-8498-b3bda1a1fbbf\">\n",
              "      Upload widget is only available when the cell has been executed in the\n",
              "      current browser session. Please rerun this cell to enable.\n",
              "      </output>\n",
              "      <script>// Copyright 2017 Google LLC\n",
              "//\n",
              "// Licensed under the Apache License, Version 2.0 (the \"License\");\n",
              "// you may not use this file except in compliance with the License.\n",
              "// You may obtain a copy of the License at\n",
              "//\n",
              "//      http://www.apache.org/licenses/LICENSE-2.0\n",
              "//\n",
              "// Unless required by applicable law or agreed to in writing, software\n",
              "// distributed under the License is distributed on an \"AS IS\" BASIS,\n",
              "// WITHOUT WARRANTIES OR CONDITIONS OF ANY KIND, either express or implied.\n",
              "// See the License for the specific language governing permissions and\n",
              "// limitations under the License.\n",
              "\n",
              "/**\n",
              " * @fileoverview Helpers for google.colab Python module.\n",
              " */\n",
              "(function(scope) {\n",
              "function span(text, styleAttributes = {}) {\n",
              "  const element = document.createElement('span');\n",
              "  element.textContent = text;\n",
              "  for (const key of Object.keys(styleAttributes)) {\n",
              "    element.style[key] = styleAttributes[key];\n",
              "  }\n",
              "  return element;\n",
              "}\n",
              "\n",
              "// Max number of bytes which will be uploaded at a time.\n",
              "const MAX_PAYLOAD_SIZE = 100 * 1024;\n",
              "\n",
              "function _uploadFiles(inputId, outputId) {\n",
              "  const steps = uploadFilesStep(inputId, outputId);\n",
              "  const outputElement = document.getElementById(outputId);\n",
              "  // Cache steps on the outputElement to make it available for the next call\n",
              "  // to uploadFilesContinue from Python.\n",
              "  outputElement.steps = steps;\n",
              "\n",
              "  return _uploadFilesContinue(outputId);\n",
              "}\n",
              "\n",
              "// This is roughly an async generator (not supported in the browser yet),\n",
              "// where there are multiple asynchronous steps and the Python side is going\n",
              "// to poll for completion of each step.\n",
              "// This uses a Promise to block the python side on completion of each step,\n",
              "// then passes the result of the previous step as the input to the next step.\n",
              "function _uploadFilesContinue(outputId) {\n",
              "  const outputElement = document.getElementById(outputId);\n",
              "  const steps = outputElement.steps;\n",
              "\n",
              "  const next = steps.next(outputElement.lastPromiseValue);\n",
              "  return Promise.resolve(next.value.promise).then((value) => {\n",
              "    // Cache the last promise value to make it available to the next\n",
              "    // step of the generator.\n",
              "    outputElement.lastPromiseValue = value;\n",
              "    return next.value.response;\n",
              "  });\n",
              "}\n",
              "\n",
              "/**\n",
              " * Generator function which is called between each async step of the upload\n",
              " * process.\n",
              " * @param {string} inputId Element ID of the input file picker element.\n",
              " * @param {string} outputId Element ID of the output display.\n",
              " * @return {!Iterable<!Object>} Iterable of next steps.\n",
              " */\n",
              "function* uploadFilesStep(inputId, outputId) {\n",
              "  const inputElement = document.getElementById(inputId);\n",
              "  inputElement.disabled = false;\n",
              "\n",
              "  const outputElement = document.getElementById(outputId);\n",
              "  outputElement.innerHTML = '';\n",
              "\n",
              "  const pickedPromise = new Promise((resolve) => {\n",
              "    inputElement.addEventListener('change', (e) => {\n",
              "      resolve(e.target.files);\n",
              "    });\n",
              "  });\n",
              "\n",
              "  const cancel = document.createElement('button');\n",
              "  inputElement.parentElement.appendChild(cancel);\n",
              "  cancel.textContent = 'Cancel upload';\n",
              "  const cancelPromise = new Promise((resolve) => {\n",
              "    cancel.onclick = () => {\n",
              "      resolve(null);\n",
              "    };\n",
              "  });\n",
              "\n",
              "  // Wait for the user to pick the files.\n",
              "  const files = yield {\n",
              "    promise: Promise.race([pickedPromise, cancelPromise]),\n",
              "    response: {\n",
              "      action: 'starting',\n",
              "    }\n",
              "  };\n",
              "\n",
              "  cancel.remove();\n",
              "\n",
              "  // Disable the input element since further picks are not allowed.\n",
              "  inputElement.disabled = true;\n",
              "\n",
              "  if (!files) {\n",
              "    return {\n",
              "      response: {\n",
              "        action: 'complete',\n",
              "      }\n",
              "    };\n",
              "  }\n",
              "\n",
              "  for (const file of files) {\n",
              "    const li = document.createElement('li');\n",
              "    li.append(span(file.name, {fontWeight: 'bold'}));\n",
              "    li.append(span(\n",
              "        `(${file.type || 'n/a'}) - ${file.size} bytes, ` +\n",
              "        `last modified: ${\n",
              "            file.lastModifiedDate ? file.lastModifiedDate.toLocaleDateString() :\n",
              "                                    'n/a'} - `));\n",
              "    const percent = span('0% done');\n",
              "    li.appendChild(percent);\n",
              "\n",
              "    outputElement.appendChild(li);\n",
              "\n",
              "    const fileDataPromise = new Promise((resolve) => {\n",
              "      const reader = new FileReader();\n",
              "      reader.onload = (e) => {\n",
              "        resolve(e.target.result);\n",
              "      };\n",
              "      reader.readAsArrayBuffer(file);\n",
              "    });\n",
              "    // Wait for the data to be ready.\n",
              "    let fileData = yield {\n",
              "      promise: fileDataPromise,\n",
              "      response: {\n",
              "        action: 'continue',\n",
              "      }\n",
              "    };\n",
              "\n",
              "    // Use a chunked sending to avoid message size limits. See b/62115660.\n",
              "    let position = 0;\n",
              "    do {\n",
              "      const length = Math.min(fileData.byteLength - position, MAX_PAYLOAD_SIZE);\n",
              "      const chunk = new Uint8Array(fileData, position, length);\n",
              "      position += length;\n",
              "\n",
              "      const base64 = btoa(String.fromCharCode.apply(null, chunk));\n",
              "      yield {\n",
              "        response: {\n",
              "          action: 'append',\n",
              "          file: file.name,\n",
              "          data: base64,\n",
              "        },\n",
              "      };\n",
              "\n",
              "      let percentDone = fileData.byteLength === 0 ?\n",
              "          100 :\n",
              "          Math.round((position / fileData.byteLength) * 100);\n",
              "      percent.textContent = `${percentDone}% done`;\n",
              "\n",
              "    } while (position < fileData.byteLength);\n",
              "  }\n",
              "\n",
              "  // All done.\n",
              "  yield {\n",
              "    response: {\n",
              "      action: 'complete',\n",
              "    }\n",
              "  };\n",
              "}\n",
              "\n",
              "scope.google = scope.google || {};\n",
              "scope.google.colab = scope.google.colab || {};\n",
              "scope.google.colab._files = {\n",
              "  _uploadFiles,\n",
              "  _uploadFilesContinue,\n",
              "};\n",
              "})(self);\n",
              "</script> "
            ]
          },
          "metadata": {}
        },
        {
          "output_type": "stream",
          "name": "stdout",
          "text": [
            "Saving SAheart.csv to SAheart.csv\n"
          ]
        }
      ]
    },
    {
      "cell_type": "code",
      "source": [
        "import pandas as pd\n",
        "import numpy as np\n",
        "from sklearn.linear_model import LogisticRegressionCV\n",
        "from sklearn.preprocessing import LabelEncoder"
      ],
      "metadata": {
        "id": "KZLvAfhVhiC5"
      },
      "execution_count": null,
      "outputs": []
    },
    {
      "cell_type": "code",
      "source": [
        "df2 = pd.read_csv('SAheart.csv')"
      ],
      "metadata": {
        "id": "Ejj2gyWNh_sN"
      },
      "execution_count": null,
      "outputs": []
    },
    {
      "cell_type": "code",
      "source": [
        "df2.head()"
      ],
      "metadata": {
        "colab": {
          "base_uri": "https://localhost:8080/",
          "height": 201
        },
        "id": "so4YKzkLiGUh",
        "outputId": "35bf75e9-b3e6-454c-ee02-6e24fbed99bd"
      },
      "execution_count": null,
      "outputs": [
        {
          "output_type": "execute_result",
          "data": {
            "text/plain": [
              "   sbp  tobacco   ldl  adiposity  famhist  typea  obesity  alcohol  age  chd\n",
              "0  160    12.00  5.73      23.11  Present     49    25.30    97.20   52    1\n",
              "1  144     0.01  4.41      28.61   Absent     55    28.87     2.06   63    1\n",
              "2  118     0.08  3.48      32.28  Present     52    29.14     3.81   46    0\n",
              "3  170     7.50  6.41      38.03  Present     51    31.99    24.26   58    1\n",
              "4  134    13.60  3.50      27.78  Present     60    25.99    57.34   49    1"
            ],
            "text/html": [
              "\n",
              "  <div id=\"df-723d312c-4e8f-44df-a47a-94eca6a1a2a7\">\n",
              "    <div class=\"colab-df-container\">\n",
              "      <div>\n",
              "<style scoped>\n",
              "    .dataframe tbody tr th:only-of-type {\n",
              "        vertical-align: middle;\n",
              "    }\n",
              "\n",
              "    .dataframe tbody tr th {\n",
              "        vertical-align: top;\n",
              "    }\n",
              "\n",
              "    .dataframe thead th {\n",
              "        text-align: right;\n",
              "    }\n",
              "</style>\n",
              "<table border=\"1\" class=\"dataframe\">\n",
              "  <thead>\n",
              "    <tr style=\"text-align: right;\">\n",
              "      <th></th>\n",
              "      <th>sbp</th>\n",
              "      <th>tobacco</th>\n",
              "      <th>ldl</th>\n",
              "      <th>adiposity</th>\n",
              "      <th>famhist</th>\n",
              "      <th>typea</th>\n",
              "      <th>obesity</th>\n",
              "      <th>alcohol</th>\n",
              "      <th>age</th>\n",
              "      <th>chd</th>\n",
              "    </tr>\n",
              "  </thead>\n",
              "  <tbody>\n",
              "    <tr>\n",
              "      <th>0</th>\n",
              "      <td>160</td>\n",
              "      <td>12.00</td>\n",
              "      <td>5.73</td>\n",
              "      <td>23.11</td>\n",
              "      <td>Present</td>\n",
              "      <td>49</td>\n",
              "      <td>25.30</td>\n",
              "      <td>97.20</td>\n",
              "      <td>52</td>\n",
              "      <td>1</td>\n",
              "    </tr>\n",
              "    <tr>\n",
              "      <th>1</th>\n",
              "      <td>144</td>\n",
              "      <td>0.01</td>\n",
              "      <td>4.41</td>\n",
              "      <td>28.61</td>\n",
              "      <td>Absent</td>\n",
              "      <td>55</td>\n",
              "      <td>28.87</td>\n",
              "      <td>2.06</td>\n",
              "      <td>63</td>\n",
              "      <td>1</td>\n",
              "    </tr>\n",
              "    <tr>\n",
              "      <th>2</th>\n",
              "      <td>118</td>\n",
              "      <td>0.08</td>\n",
              "      <td>3.48</td>\n",
              "      <td>32.28</td>\n",
              "      <td>Present</td>\n",
              "      <td>52</td>\n",
              "      <td>29.14</td>\n",
              "      <td>3.81</td>\n",
              "      <td>46</td>\n",
              "      <td>0</td>\n",
              "    </tr>\n",
              "    <tr>\n",
              "      <th>3</th>\n",
              "      <td>170</td>\n",
              "      <td>7.50</td>\n",
              "      <td>6.41</td>\n",
              "      <td>38.03</td>\n",
              "      <td>Present</td>\n",
              "      <td>51</td>\n",
              "      <td>31.99</td>\n",
              "      <td>24.26</td>\n",
              "      <td>58</td>\n",
              "      <td>1</td>\n",
              "    </tr>\n",
              "    <tr>\n",
              "      <th>4</th>\n",
              "      <td>134</td>\n",
              "      <td>13.60</td>\n",
              "      <td>3.50</td>\n",
              "      <td>27.78</td>\n",
              "      <td>Present</td>\n",
              "      <td>60</td>\n",
              "      <td>25.99</td>\n",
              "      <td>57.34</td>\n",
              "      <td>49</td>\n",
              "      <td>1</td>\n",
              "    </tr>\n",
              "  </tbody>\n",
              "</table>\n",
              "</div>\n",
              "      <button class=\"colab-df-convert\" onclick=\"convertToInteractive('df-723d312c-4e8f-44df-a47a-94eca6a1a2a7')\"\n",
              "              title=\"Convert this dataframe to an interactive table.\"\n",
              "              style=\"display:none;\">\n",
              "        \n",
              "  <svg xmlns=\"http://www.w3.org/2000/svg\" height=\"24px\"viewBox=\"0 0 24 24\"\n",
              "       width=\"24px\">\n",
              "    <path d=\"M0 0h24v24H0V0z\" fill=\"none\"/>\n",
              "    <path d=\"M18.56 5.44l.94 2.06.94-2.06 2.06-.94-2.06-.94-.94-2.06-.94 2.06-2.06.94zm-11 1L8.5 8.5l.94-2.06 2.06-.94-2.06-.94L8.5 2.5l-.94 2.06-2.06.94zm10 10l.94 2.06.94-2.06 2.06-.94-2.06-.94-.94-2.06-.94 2.06-2.06.94z\"/><path d=\"M17.41 7.96l-1.37-1.37c-.4-.4-.92-.59-1.43-.59-.52 0-1.04.2-1.43.59L10.3 9.45l-7.72 7.72c-.78.78-.78 2.05 0 2.83L4 21.41c.39.39.9.59 1.41.59.51 0 1.02-.2 1.41-.59l7.78-7.78 2.81-2.81c.8-.78.8-2.07 0-2.86zM5.41 20L4 18.59l7.72-7.72 1.47 1.35L5.41 20z\"/>\n",
              "  </svg>\n",
              "      </button>\n",
              "      \n",
              "  <style>\n",
              "    .colab-df-container {\n",
              "      display:flex;\n",
              "      flex-wrap:wrap;\n",
              "      gap: 12px;\n",
              "    }\n",
              "\n",
              "    .colab-df-convert {\n",
              "      background-color: #E8F0FE;\n",
              "      border: none;\n",
              "      border-radius: 50%;\n",
              "      cursor: pointer;\n",
              "      display: none;\n",
              "      fill: #1967D2;\n",
              "      height: 32px;\n",
              "      padding: 0 0 0 0;\n",
              "      width: 32px;\n",
              "    }\n",
              "\n",
              "    .colab-df-convert:hover {\n",
              "      background-color: #E2EBFA;\n",
              "      box-shadow: 0px 1px 2px rgba(60, 64, 67, 0.3), 0px 1px 3px 1px rgba(60, 64, 67, 0.15);\n",
              "      fill: #174EA6;\n",
              "    }\n",
              "\n",
              "    [theme=dark] .colab-df-convert {\n",
              "      background-color: #3B4455;\n",
              "      fill: #D2E3FC;\n",
              "    }\n",
              "\n",
              "    [theme=dark] .colab-df-convert:hover {\n",
              "      background-color: #434B5C;\n",
              "      box-shadow: 0px 1px 3px 1px rgba(0, 0, 0, 0.15);\n",
              "      filter: drop-shadow(0px 1px 2px rgba(0, 0, 0, 0.3));\n",
              "      fill: #FFFFFF;\n",
              "    }\n",
              "  </style>\n",
              "\n",
              "      <script>\n",
              "        const buttonEl =\n",
              "          document.querySelector('#df-723d312c-4e8f-44df-a47a-94eca6a1a2a7 button.colab-df-convert');\n",
              "        buttonEl.style.display =\n",
              "          google.colab.kernel.accessAllowed ? 'block' : 'none';\n",
              "\n",
              "        async function convertToInteractive(key) {\n",
              "          const element = document.querySelector('#df-723d312c-4e8f-44df-a47a-94eca6a1a2a7');\n",
              "          const dataTable =\n",
              "            await google.colab.kernel.invokeFunction('convertToInteractive',\n",
              "                                                     [key], {});\n",
              "          if (!dataTable) return;\n",
              "\n",
              "          const docLinkHtml = 'Like what you see? Visit the ' +\n",
              "            '<a target=\"_blank\" href=https://colab.research.google.com/notebooks/data_table.ipynb>data table notebook</a>'\n",
              "            + ' to learn more about interactive tables.';\n",
              "          element.innerHTML = '';\n",
              "          dataTable['output_type'] = 'display_data';\n",
              "          await google.colab.output.renderOutput(dataTable, element);\n",
              "          const docLink = document.createElement('div');\n",
              "          docLink.innerHTML = docLinkHtml;\n",
              "          element.appendChild(docLink);\n",
              "        }\n",
              "      </script>\n",
              "    </div>\n",
              "  </div>\n",
              "  "
            ]
          },
          "metadata": {},
          "execution_count": 6
        }
      ]
    },
    {
      "cell_type": "code",
      "source": [
        "from sklearn.model_selection import train_test_split"
      ],
      "metadata": {
        "id": "FWKBC3a_iIp5"
      },
      "execution_count": null,
      "outputs": []
    },
    {
      "cell_type": "code",
      "source": [
        "df2_raw = np.array(df2)"
      ],
      "metadata": {
        "id": "SoqbKHKLibvl"
      },
      "execution_count": null,
      "outputs": []
    },
    {
      "cell_type": "code",
      "source": [
        "X, y = df2_raw[:,:-1], df2_raw[:,-1]"
      ],
      "metadata": {
        "id": "nkz4oZNNikEt"
      },
      "execution_count": null,
      "outputs": []
    },
    {
      "cell_type": "code",
      "source": [
        "X[:,4] = LabelEncoder().fit_transform(X[:,4])\n",
        "y = LabelEncoder().fit_transform(y)"
      ],
      "metadata": {
        "id": "ghhvZJD9jzP3"
      },
      "execution_count": null,
      "outputs": []
    },
    {
      "cell_type": "code",
      "source": [
        "model = LogisticRegressionCV(penalty = 'l1', solver = 'liblinear').fit(X,y)"
      ],
      "metadata": {
        "id": "ddVDvF6siroE"
      },
      "execution_count": null,
      "outputs": []
    },
    {
      "cell_type": "code",
      "source": [],
      "metadata": {
        "colab": {
          "base_uri": "https://localhost:8080/",
          "height": 32
        },
        "id": "CUez7rwLi96F",
        "outputId": "059a5d1f-c2e1-4fab-975b-c5e6c87044bc"
      },
      "execution_count": null,
      "outputs": [
        {
          "output_type": "display_data",
          "data": {
            "text/plain": [
              "<Figure size 864x864 with 0 Axes>"
            ]
          },
          "metadata": {}
        }
      ]
    },
    {
      "cell_type": "code",
      "source": [],
      "metadata": {
        "id": "1XbJhDkUjCTV"
      },
      "execution_count": null,
      "outputs": []
    },
    {
      "cell_type": "markdown",
      "source": [
        "##b"
      ],
      "metadata": {
        "id": "zHie2eiqnfx4"
      }
    },
    {
      "cell_type": "code",
      "source": [
        "#siatka parametrów \n",
        "#STRATIFIEDKFOLD KTORY JEST DOMYSLNYM CV ma default = 5\n",
        "print('optymalne C', model.C_)\n",
        "print('siatka Cs', model.Cs_)\n",
        "print('wspolczynniki wybarengo modelu', model.coef_)\n",
        "print('współczynniki dla konkretnych wartości Cs w konkretnych iteracjach pętli kroswalidacyjnej', model.coefs_paths_)"
      ],
      "metadata": {
        "colab": {
          "base_uri": "https://localhost:8080/"
        },
        "id": "2tBM9QJWnhHe",
        "outputId": "41671f77-11ac-43be-a8f4-cb04eca7fdcd"
      },
      "execution_count": null,
      "outputs": [
        {
          "output_type": "stream",
          "name": "stdout",
          "text": [
            "optymalne C [21.5443469]\n",
            "siatka Cs [1.00000000e-04 7.74263683e-04 5.99484250e-03 4.64158883e-02\n",
            " 3.59381366e-01 2.78255940e+00 2.15443469e+01 1.66810054e+02\n",
            " 1.29154967e+03 1.00000000e+04]\n",
            "wspolczynniki wybarengo modelu [[ 6.28495128e-03  7.93322505e-02  1.73440028e-01  1.95577283e-02\n",
            "   9.22157298e-01  3.90773397e-02 -6.49337987e-02  1.16048957e-04\n",
            "   4.48541350e-02]]\n",
            "współczynniki dla konkretnych wartości Cs w konkretnych iteracjach pętli kroswalidacyjnej {1: array([[[ 0.00000000e+00,  0.00000000e+00,  0.00000000e+00,\n",
            "          0.00000000e+00,  0.00000000e+00,  0.00000000e+00,\n",
            "          0.00000000e+00,  0.00000000e+00,  0.00000000e+00,\n",
            "          0.00000000e+00],\n",
            "        [-3.26510314e-03,  0.00000000e+00,  0.00000000e+00,\n",
            "          0.00000000e+00,  0.00000000e+00,  0.00000000e+00,\n",
            "          0.00000000e+00,  0.00000000e+00,  0.00000000e+00,\n",
            "          0.00000000e+00],\n",
            "        [-1.19009758e-02,  0.00000000e+00,  0.00000000e+00,\n",
            "          0.00000000e+00,  0.00000000e+00, -7.38857344e-03,\n",
            "          0.00000000e+00,  0.00000000e+00,  3.40658492e-02,\n",
            "          0.00000000e+00],\n",
            "        [-8.72785766e-03,  6.71307553e-02,  9.70990142e-02,\n",
            "          2.79798237e-02,  0.00000000e+00, -1.11178786e-03,\n",
            "         -9.09555229e-02,  4.55472218e-04,  3.59517553e-02,\n",
            "          0.00000000e+00],\n",
            "        [-5.19044470e-03,  8.21929049e-02,  1.57254296e-01,\n",
            "          3.99309658e-02,  8.62500874e-01,  6.02692721e-03,\n",
            "         -1.15324452e-01, -9.27054480e-05,  3.05514062e-02,\n",
            "         -1.06709478e+00],\n",
            "        [ 4.02466103e-03,  8.10618833e-02,  1.79220266e-01,\n",
            "          1.14758210e-02,  9.87426784e-01,  2.84020033e-02,\n",
            "         -5.01633959e-02, -7.54411068e-05,  4.41605687e-02,\n",
            "         -5.34548695e+00],\n",
            "        [ 5.38457236e-03,  8.15832307e-02,  1.83282219e-01,\n",
            "          6.88063426e-03,  1.00982416e+00,  3.19536698e-02,\n",
            "         -4.04592047e-02, -5.14225097e-05,  4.65714092e-02,\n",
            "         -6.01287067e+00],\n",
            "        [ 5.55945594e-03,  8.16668493e-02,  1.83813296e-01,\n",
            "          6.32728945e-03,  1.01285570e+00,  3.24160008e-02,\n",
            "         -3.92782289e-02, -4.89764317e-05,  4.68806861e-02,\n",
            "         -6.09842560e+00],\n",
            "        [ 5.54881279e-03,  8.16774414e-02,  1.83744513e-01,\n",
            "          6.58314803e-03,  1.01354311e+00,  3.24016029e-02,\n",
            "         -3.96880584e-02, -5.14322435e-05,  4.68113436e-02,\n",
            "         -6.08889796e+00],\n",
            "        [ 5.55502610e-03,  8.16760490e-02,  1.83764989e-01,\n",
            "          6.56806299e-03,  1.01336844e+00,  3.24119208e-02,\n",
            "         -3.96689094e-02, -5.14760315e-05,  4.68207092e-02,\n",
            "         -6.09090174e+00]],\n",
            "\n",
            "       [[ 0.00000000e+00,  0.00000000e+00,  0.00000000e+00,\n",
            "          0.00000000e+00,  0.00000000e+00,  0.00000000e+00,\n",
            "          0.00000000e+00,  0.00000000e+00,  0.00000000e+00,\n",
            "          0.00000000e+00],\n",
            "        [-3.23127534e-03,  0.00000000e+00,  0.00000000e+00,\n",
            "          0.00000000e+00,  0.00000000e+00,  0.00000000e+00,\n",
            "          0.00000000e+00,  0.00000000e+00,  0.00000000e+00,\n",
            "          0.00000000e+00],\n",
            "        [-1.41579007e-02,  0.00000000e+00,  0.00000000e+00,\n",
            "          0.00000000e+00,  0.00000000e+00,  0.00000000e+00,\n",
            "          0.00000000e+00,  0.00000000e+00,  3.29443413e-02,\n",
            "          0.00000000e+00],\n",
            "        [-7.56812557e-03,  6.10449046e-02,  9.05497052e-02,\n",
            "          5.69498181e-02,  0.00000000e+00,  1.21350298e-02,\n",
            "         -1.44045151e-01, -1.41789567e-03,  3.34128120e-02,\n",
            "          0.00000000e+00],\n",
            "        [-1.43950349e-03,  6.82499838e-02,  1.58785286e-01,\n",
            "          7.18535597e-02,  7.95277151e-01,  2.63015304e-02,\n",
            "         -1.78293966e-01, -3.18981485e-03,  2.82962289e-02,\n",
            "         -1.62006208e+00],\n",
            "        [ 9.04697405e-03,  7.15563454e-02,  1.68182043e-01,\n",
            "          4.06676308e-02,  9.75121502e-01,  4.97555316e-02,\n",
            "         -9.68393070e-02, -3.55362198e-03,  3.95775085e-02,\n",
            "         -6.36075022e+00],\n",
            "        [ 1.05676934e-02,  7.25048424e-02,  1.70429954e-01,\n",
            "          3.70527934e-02,  1.00631514e+00,  5.34333600e-02,\n",
            "         -8.73698515e-02, -3.61275548e-03,  4.13775260e-02,\n",
            "         -7.04467119e+00],\n",
            "        [ 1.07843950e-02,  7.26724746e-02,  1.70745293e-01,\n",
            "          3.64975521e-02,  1.01043684e+00,  5.39330259e-02,\n",
            "         -8.59494614e-02, -3.62149920e-03,  4.16181616e-02,\n",
            "         -7.14083238e+00],\n",
            "        [ 1.08440396e-02,  7.27246438e-02,  1.70760063e-01,\n",
            "          3.60689028e-02,  1.01103664e+00,  5.40685443e-02,\n",
            "         -8.50766135e-02, -3.62095331e-03,  4.17560541e-02,\n",
            "         -7.17530156e+00],\n",
            "        [ 1.08475789e-02,  7.27275964e-02,  1.70774266e-01,\n",
            "          3.60760067e-02,  1.01113639e+00,  5.40747458e-02,\n",
            "         -8.50832012e-02, -3.62089811e-03,  4.17525002e-02,\n",
            "         -7.17611782e+00]],\n",
            "\n",
            "       [[ 0.00000000e+00,  0.00000000e+00,  0.00000000e+00,\n",
            "          0.00000000e+00,  0.00000000e+00,  0.00000000e+00,\n",
            "          0.00000000e+00,  0.00000000e+00,  0.00000000e+00,\n",
            "          0.00000000e+00],\n",
            "        [-3.24930609e-03,  0.00000000e+00,  0.00000000e+00,\n",
            "          0.00000000e+00,  0.00000000e+00,  0.00000000e+00,\n",
            "          0.00000000e+00,  0.00000000e+00,  0.00000000e+00,\n",
            "          0.00000000e+00],\n",
            "        [-1.13360920e-02,  4.55975859e-03,  0.00000000e+00,\n",
            "          0.00000000e+00,  0.00000000e+00, -6.32703483e-03,\n",
            "         -8.75697084e-03,  0.00000000e+00,  3.57024416e-02,\n",
            "          0.00000000e+00],\n",
            "        [-4.80621695e-03,  7.83663480e-02,  1.22768807e-01,\n",
            "          3.15696278e-02,  0.00000000e+00,  0.00000000e+00,\n",
            "         -1.32657519e-01,  1.00951155e-03,  3.99666325e-02,\n",
            "          0.00000000e+00],\n",
            "        [-2.04667642e-03,  8.96214473e-02,  1.78873074e-01,\n",
            "          4.78977821e-02,  5.74492040e-01,  8.33432916e-03,\n",
            "         -1.70171597e-01,  6.77838307e-04,  3.54401607e-02,\n",
            "         -6.76179040e-01],\n",
            "        [ 7.46331106e-03,  8.56134355e-02,  1.98801454e-01,\n",
            "          1.52404408e-02,  7.29912178e-01,  2.96387471e-02,\n",
            "         -8.89406123e-02,  8.07888248e-04,  4.78262967e-02,\n",
            "         -5.17525324e+00],\n",
            "        [ 8.81995073e-03,  8.57652016e-02,  2.02486870e-01,\n",
            "          1.08122882e-02,  7.55965936e-01,  3.29067327e-02,\n",
            "         -7.85420574e-02,  8.28190188e-04,  4.98520860e-02,\n",
            "         -5.82787880e+00],\n",
            "        [ 8.99566177e-03,  8.58025971e-02,  2.03004394e-01,\n",
            "          1.02334163e-02,  7.59436536e-01,  3.33360178e-02,\n",
            "         -7.72019426e-02,  8.30604033e-04,  5.01186193e-02,\n",
            "         -5.91296360e+00],\n",
            "        [ 8.99464110e-03,  8.58261625e-02,  2.02994254e-01,\n",
            "          1.04881245e-02,  7.59809776e-01,  3.33358389e-02,\n",
            "         -7.76281959e-02,  8.27137916e-04,  5.00659109e-02,\n",
            "         -5.90614967e+00],\n",
            "        [ 9.02585631e-03,  8.58143985e-02,  2.03071298e-01,\n",
            "          1.01359986e-02,  7.60065237e-01,  3.33944499e-02,\n",
            "         -7.69817933e-02,  8.30803718e-04,  5.01574365e-02,\n",
            "         -5.92615544e+00]],\n",
            "\n",
            "       [[ 0.00000000e+00,  0.00000000e+00,  0.00000000e+00,\n",
            "          0.00000000e+00,  0.00000000e+00,  0.00000000e+00,\n",
            "          0.00000000e+00,  0.00000000e+00,  0.00000000e+00,\n",
            "          0.00000000e+00],\n",
            "        [-3.32707316e-03,  0.00000000e+00,  0.00000000e+00,\n",
            "          0.00000000e+00,  0.00000000e+00,  0.00000000e+00,\n",
            "          0.00000000e+00,  0.00000000e+00,  0.00000000e+00,\n",
            "          0.00000000e+00],\n",
            "        [-1.46173380e-02,  0.00000000e+00,  0.00000000e+00,\n",
            "          0.00000000e+00,  0.00000000e+00, -2.49006006e-03,\n",
            "          0.00000000e+00,  2.81542836e-03,  3.56653855e-02,\n",
            "          0.00000000e+00],\n",
            "        [-9.70774790e-03,  6.97188803e-02,  5.43185027e-02,\n",
            "          3.82319000e-02,  0.00000000e+00,  2.47184110e-03,\n",
            "         -1.01942419e-01,  3.41088379e-03,  3.80415387e-02,\n",
            "          0.00000000e+00],\n",
            "        [-6.65327058e-03,  8.28092833e-02,  1.04980731e-01,\n",
            "          6.66924167e-02,  8.91690128e-01,  1.21157676e-02,\n",
            "         -1.56588161e-01,  3.38238125e-03,  2.96186608e-02,\n",
            "         -6.05634564e-01],\n",
            "        [ 3.31806885e-03,  7.74008334e-02,  1.24979046e-01,\n",
            "          4.12124424e-02,  1.03008799e+00,  3.63626406e-02,\n",
            "         -8.94858381e-02,  4.29844928e-03,  3.88329511e-02,\n",
            "         -5.01592767e+00],\n",
            "        [ 4.76540653e-03,  7.72791178e-02,  1.28582233e-01,\n",
            "          3.72723159e-02,  1.05421691e+00,  4.02553986e-02,\n",
            "         -7.98897296e-02,  4.46900857e-03,  4.05234456e-02,\n",
            "         -5.69418187e+00],\n",
            "        [ 4.94713185e-03,  7.72765522e-02,  1.29039884e-01,\n",
            "          3.68452263e-02,  1.05747705e+00,  4.07549629e-02,\n",
            "         -7.88041652e-02,  4.49029845e-03,  4.07295456e-02,\n",
            "         -5.77854194e+00],\n",
            "        [ 4.93581605e-03,  7.73060248e-02,  1.29034653e-01,\n",
            "          3.71501247e-02,  1.05820474e+00,  4.07488908e-02,\n",
            "         -7.92948455e-02,  4.48742239e-03,  4.06630096e-02,\n",
            "         -5.76914281e+00],\n",
            "        [ 4.92870408e-03,  7.73003392e-02,  1.28996839e-01,\n",
            "          3.72185369e-02,  1.05813624e+00,  4.07257226e-02,\n",
            "         -7.94238432e-02,  4.48573250e-03,  4.06403106e-02,\n",
            "         -5.76394646e+00]],\n",
            "\n",
            "       [[ 0.00000000e+00,  0.00000000e+00,  0.00000000e+00,\n",
            "          0.00000000e+00,  0.00000000e+00,  0.00000000e+00,\n",
            "          0.00000000e+00,  0.00000000e+00,  0.00000000e+00,\n",
            "          0.00000000e+00],\n",
            "        [-3.50394764e-03,  0.00000000e+00,  0.00000000e+00,\n",
            "          0.00000000e+00,  0.00000000e+00,  0.00000000e+00,\n",
            "          0.00000000e+00,  0.00000000e+00,  0.00000000e+00,\n",
            "          0.00000000e+00],\n",
            "        [-1.56216443e-02,  0.00000000e+00,  0.00000000e+00,\n",
            "          0.00000000e+00,  0.00000000e+00,  0.00000000e+00,\n",
            "          0.00000000e+00,  0.00000000e+00,  3.59623781e-02,\n",
            "          0.00000000e+00],\n",
            "        [-1.42032101e-02,  6.81200973e-02,  1.16191895e-01,\n",
            "          3.03707485e-02,  0.00000000e+00,  5.17210793e-03,\n",
            "         -8.18721630e-02,  8.84597891e-04,  3.59917604e-02,\n",
            "          0.00000000e+00],\n",
            "        [-1.18282478e-02,  8.33521878e-02,  1.75346920e-01,\n",
            "          5.10922234e-02,  6.06254878e-01,  1.36557009e-02,\n",
            "         -1.30143660e-01,  3.84636987e-05,  2.94744592e-02,\n",
            "         -3.94168590e-01],\n",
            "        [-4.24781382e-04,  7.84420008e-02,  1.90549690e-01,\n",
            "          1.71007181e-02,  7.57885292e-01,  3.51894391e-02,\n",
            "         -5.59604833e-02, -4.96839750e-04,  4.23560258e-02,\n",
            "         -4.93301141e+00],\n",
            "        [ 1.15686889e-03,  7.84334469e-02,  1.93699315e-01,\n",
            "          1.20009186e-02,  7.82850710e-01,  3.85293718e-02,\n",
            "         -4.55015503e-02, -5.76338705e-04,  4.45412369e-02,\n",
            "         -5.60728450e+00],\n",
            "        [ 1.31510683e-03,  7.84702874e-02,  1.94003450e-01,\n",
            "          1.18260182e-02,  7.86356222e-01,  3.88848139e-02,\n",
            "         -4.49789150e-02, -5.89541557e-04,  4.46894643e-02,\n",
            "         -5.66822866e+00],\n",
            "        [ 1.38325406e-03,  7.84554186e-02,  1.94149017e-01,\n",
            "          1.13681375e-02,  7.86633249e-01,  3.90130154e-02,\n",
            "         -4.41740211e-02, -5.88988538e-04,  4.48363958e-02,\n",
            "         -5.70161326e+00],\n",
            "        [ 1.38885581e-03,  7.84503830e-02,  1.94165502e-01,\n",
            "          1.13286896e-02,  7.86686960e-01,  3.90225982e-02,\n",
            "         -4.41012736e-02, -5.88659884e-04,  4.48475168e-02,\n",
            "         -5.70439368e+00]]])}\n"
          ]
        }
      ]
    },
    {
      "cell_type": "code",
      "source": [],
      "metadata": {
        "id": "0g2NyQ8npKCm"
      },
      "execution_count": null,
      "outputs": []
    },
    {
      "cell_type": "markdown",
      "source": [
        "# Jeszcze raz 4.1"
      ],
      "metadata": {
        "id": "cMZ5q-NigkEP"
      }
    },
    {
      "cell_type": "markdown",
      "source": [
        "generowanie danych"
      ],
      "metadata": {
        "id": "S0Op8Emrgn5m"
      }
    },
    {
      "cell_type": "code",
      "source": [
        "n = 100\n",
        "p = 5\n",
        "beta_0 = 1\n",
        "beta_1 = [2, 1, 0.5, 0.01, 0]"
      ],
      "metadata": {
        "id": "tFgSglG6gmeG"
      },
      "execution_count": null,
      "outputs": []
    },
    {
      "cell_type": "code",
      "source": [
        "import numpy as np\n",
        "import pandas as pd"
      ],
      "metadata": {
        "id": "y1tQmy4Wgweq"
      },
      "execution_count": null,
      "outputs": []
    },
    {
      "cell_type": "code",
      "source": [
        "# x z rozkladu normalnego bedacy wektorem o wymiarze 5 \n",
        "x = np.random.normal(0,1,[n,p])"
      ],
      "metadata": {
        "id": "pTmpH-yNgqPw"
      },
      "execution_count": null,
      "outputs": []
    },
    {
      "cell_type": "code",
      "source": [
        "x[1]"
      ],
      "metadata": {
        "colab": {
          "base_uri": "https://localhost:8080/"
        },
        "id": "xA0tV4WEhWU6",
        "outputId": "72294eb7-a13c-4d31-cffd-fd8428ac9d70"
      },
      "execution_count": null,
      "outputs": [
        {
          "output_type": "execute_result",
          "data": {
            "text/plain": [
              "array([1.63827026, 0.23353954, 0.6266452 , 0.04630261, 2.13282581])"
            ]
          },
          "metadata": {},
          "execution_count": 70
        }
      ]
    },
    {
      "cell_type": "code",
      "source": [
        "p_y = np.exp(beta_0 + x@beta_1)/(1+np.exp(beta_0 + x@beta_1))"
      ],
      "metadata": {
        "id": "IUj6GwPfhXFh"
      },
      "execution_count": null,
      "outputs": []
    },
    {
      "cell_type": "code",
      "source": [
        "y = np.random.binomial(1, p_y)"
      ],
      "metadata": {
        "id": "4p1it719hsMm"
      },
      "execution_count": null,
      "outputs": []
    },
    {
      "cell_type": "markdown",
      "source": [
        "## a"
      ],
      "metadata": {
        "id": "IWi0SU9ujE1Z"
      }
    },
    {
      "cell_type": "code",
      "source": [
        "from sklearn.linear_model import LogisticRegression"
      ],
      "metadata": {
        "id": "gvQwRvO8iUh7"
      },
      "execution_count": null,
      "outputs": []
    },
    {
      "cell_type": "code",
      "source": [
        "model1 = LogisticRegression(penalty = 'none').fit(x,y)"
      ],
      "metadata": {
        "id": "gVmzrR1si63O"
      },
      "execution_count": null,
      "outputs": []
    },
    {
      "cell_type": "code",
      "source": [
        "print('intercept:', model1.intercept_,'\\n', 'coef:', model1.coef_)"
      ],
      "metadata": {
        "colab": {
          "base_uri": "https://localhost:8080/"
        },
        "id": "cZikBVgjjhZO",
        "outputId": "1ea599d7-dc41-4b0f-9b75-97294173b2e1"
      },
      "execution_count": null,
      "outputs": [
        {
          "output_type": "stream",
          "name": "stdout",
          "text": [
            "intercept: [0.79240905] \n",
            " coef: [[1.96583919 0.63290994 0.5898888  0.10519756 0.07030428]]\n"
          ]
        }
      ]
    },
    {
      "cell_type": "markdown",
      "source": [
        "## b"
      ],
      "metadata": {
        "id": "bObb3Dh5kijw"
      }
    },
    {
      "cell_type": "markdown",
      "source": [
        "**Regularyzacja - im wieksza alfa tym bardziej zapobiegamy przerewnowaniu modelu**"
      ],
      "metadata": {
        "id": "ZAcaJ1v9nNdu"
      }
    },
    {
      "cell_type": "markdown",
      "source": [
        "Teraz posłużymy się karą l2 <- zmniejsza wagi ale nie elminuje zadnej z cech\n",
        "\n",
        "> \n",
        "\n",
        "Dodatkowo będziemy manewrować wartością C - odpowiada ona 1/alfa - wraz ze spadkiem C (wzrostem alfa) będziemy obcinać wagi coraz mocniej, bo funkcja kosztu ma człon alfa*1/2*sum(waga i-tej cechy)"
      ],
      "metadata": {
        "id": "NIsDh74Skpeu"
      }
    },
    {
      "cell_type": "code",
      "source": [
        "C = np.array([10, 2, 1, 0.2, 0.1, 0.01, 0.005])\n",
        "wspolczynniki = []\n",
        "for i in C:\n",
        "  model1_2 = LogisticRegression(penalty = 'l2', C = i).fit(x,y)\n",
        "  print('alfa:', 1/i, '\\n', 'intercept:', model1_2.intercept_,'\\n', 'coef:', model1_2.coef_)\n",
        "  wspolczynniki.append(model1_2.coef_[0])"
      ],
      "metadata": {
        "colab": {
          "base_uri": "https://localhost:8080/"
        },
        "id": "4QDMHA90j_jp",
        "outputId": "d6a57777-8ebd-4a55-9ba2-83af4580563b"
      },
      "execution_count": null,
      "outputs": [
        {
          "output_type": "stream",
          "name": "stdout",
          "text": [
            "alfa: 0.1 \n",
            " intercept: [0.781942] \n",
            " coef: [[1.92826544 0.61684299 0.57813689 0.1000831  0.07065839]]\n",
            "alfa: 0.5 \n",
            " intercept: [0.74710128] \n",
            " coef: [[1.80078811 0.56300456 0.53853545 0.08308514 0.07189924]]\n",
            "alfa: 1.0 \n",
            " intercept: [0.71431062] \n",
            " coef: [[1.67678165 0.51174665 0.50040443 0.06719157 0.07313604]]\n",
            "alfa: 5.0 \n",
            " intercept: [0.59707024] \n",
            " coef: [[1.18240859 0.32194425 0.35164454 0.0133095  0.07691267]]\n",
            "alfa: 10.0 \n",
            " intercept: [0.54507437] \n",
            " coef: [[ 0.91785232  0.23292981  0.27325644 -0.00669     0.07593133]]\n",
            "alfa: 100.0 \n",
            " intercept: [0.45574443] \n",
            " coef: [[ 0.22084821  0.04656562  0.06558107 -0.01453913  0.03571503]]\n",
            "alfa: 200.0 \n",
            " intercept: [0.45048293] \n",
            " coef: [[ 0.12175379  0.02500829  0.03607476 -0.00908951  0.02163593]]\n"
          ]
        }
      ]
    },
    {
      "cell_type": "code",
      "source": [
        "import matplotlib.pyplot as plt"
      ],
      "metadata": {
        "id": "h3m7EBe9l_so"
      },
      "execution_count": null,
      "outputs": []
    },
    {
      "cell_type": "code",
      "source": [
        "plt.figure(figsize = (10,10))\n",
        "plt.plot(1/C, wspolczynniki)\n",
        "plt.show()"
      ],
      "metadata": {
        "colab": {
          "base_uri": "https://localhost:8080/",
          "height": 594
        },
        "id": "Bm9M0uWongEI",
        "outputId": "0916101b-61de-40c3-d896-6f4aecb368f6"
      },
      "execution_count": null,
      "outputs": [
        {
          "output_type": "display_data",
          "data": {
            "text/plain": [
              "<Figure size 720x720 with 1 Axes>"
            ],
            "image/png": "[encoded data removed]"
          },
          "metadata": {
            "needs_background": "light"
          }
        }
      ]
    },
    {
      "cell_type": "code",
      "source": [
        "C = np.array([10, 2, 1, 0.2, 0.1, 0.01, 0.005])\n",
        "wspolczynnikib = []\n",
        "for i in C:\n",
        "  model1_3 = LogisticRegression(penalty = 'l1', C = i, solver = \"liblinear\").fit(x,y)\n",
        "  print('alfa:', 1/i, '\\n', 'intercept:', model1_3.intercept_,'\\n', 'coef:', model1_3.coef_)\n",
        "  wspolczynnikib.append(model1_3.coef_[0])"
      ],
      "metadata": {
        "colab": {
          "base_uri": "https://localhost:8080/"
        },
        "id": "HCKK0f1Jny2h",
        "outputId": "d3c44cf0-e7f9-4947-f6cb-582849ad6004"
      },
      "execution_count": null,
      "outputs": [
        {
          "output_type": "stream",
          "name": "stdout",
          "text": [
            "alfa: 0.1 \n",
            " intercept: [0.83085908] \n",
            " coef: [[ 2.16557248  0.78397956  0.56852715 -0.30290955 -0.04386224]]\n",
            "alfa: 0.5 \n",
            " intercept: [0.76287265] \n",
            " coef: [[ 2.01728816  0.71919675  0.51132801 -0.26043059 -0.0127861 ]]\n",
            "alfa: 1.0 \n",
            " intercept: [0.69024887] \n",
            " coef: [[ 1.86443436  0.64757961  0.4489508  -0.21694763  0.        ]]\n",
            "alfa: 5.0 \n",
            " intercept: [0.34306945] \n",
            " coef: [[ 1.19080526  0.29395839  0.11327902 -0.00326203  0.        ]]\n",
            "alfa: 10.0 \n",
            " intercept: [0.09007504] \n",
            " coef: [[0.80591074 0.04816591 0.         0.         0.        ]]\n",
            "alfa: 100.0 \n",
            " intercept: [0.] \n",
            " coef: [[0. 0. 0. 0. 0.]]\n",
            "alfa: 200.0 \n",
            " intercept: [0.] \n",
            " coef: [[0. 0. 0. 0. 0.]]\n"
          ]
        }
      ]
    },
    {
      "cell_type": "code",
      "source": [
        "plt.figure(figsize = (10,10))\n",
        "plt.plot(1/C, wspolczynnikib)\n",
        "plt.show()"
      ],
      "metadata": {
        "colab": {
          "base_uri": "https://localhost:8080/",
          "height": 594
        },
        "id": "cYvEYzEQoS3D",
        "outputId": "92ab498b-e710-474e-a5df-911e946177d2"
      },
      "execution_count": null,
      "outputs": [
        {
          "output_type": "display_data",
          "data": {
            "text/plain": [
              "<Figure size 720x720 with 1 Axes>"
            ],
            "image/png": "[encoded data removed]"
          },
          "metadata": {
            "needs_background": "light"
          }
        }
      ]
    },
    {
      "cell_type": "markdown",
      "source": [
        "# 4.2 - lecimy!"
      ],
      "metadata": {
        "id": "hlM5LjKqrXiO"
      }
    },
    {
      "cell_type": "code",
      "source": [
        "from google.colab import files"
      ],
      "metadata": {
        "id": "hCdxKy-eo5Bm"
      },
      "execution_count": null,
      "outputs": []
    },
    {
      "cell_type": "code",
      "source": [
        "upload2 = files.upload()"
      ],
      "metadata": {
        "colab": {
          "base_uri": "https://localhost:8080/",
          "height": 86
        },
        "id": "HW8RPQgJrgAS",
        "outputId": "30e09c69-df51-4380-9a3a-85cbb5626f25"
      },
      "execution_count": null,
      "outputs": [
        {
          "output_type": "display_data",
          "data": {
            "text/plain": [
              "<IPython.core.display.HTML object>"
            ],
            "text/html": [
              "\n",
              "     <input type=\"file\" id=\"files-51072480-863f-4475-85a4-aa563f403ae0\" name=\"files[]\" multiple disabled\n",
              "        style=\"border:none\" />\n",
              "     <output id=\"result-51072480-863f-4475-85a4-aa563f403ae0\">\n",
              "      Upload widget is only available when the cell has been executed in the\n",
              "      current browser session. Please rerun this cell to enable.\n",
              "      </output>\n",
              "      <script>// Copyright 2017 Google LLC\n",
              "//\n",
              "// Licensed under the Apache License, Version 2.0 (the \"License\");\n",
              "// you may not use this file except in compliance with the License.\n",
              "// You may obtain a copy of the License at\n",
              "//\n",
              "//      http://www.apache.org/licenses/LICENSE-2.0\n",
              "//\n",
              "// Unless required by applicable law or agreed to in writing, software\n",
              "// distributed under the License is distributed on an \"AS IS\" BASIS,\n",
              "// WITHOUT WARRANTIES OR CONDITIONS OF ANY KIND, either express or implied.\n",
              "// See the License for the specific language governing permissions and\n",
              "// limitations under the License.\n",
              "\n",
              "/**\n",
              " * @fileoverview Helpers for google.colab Python module.\n",
              " */\n",
              "(function(scope) {\n",
              "function span(text, styleAttributes = {}) {\n",
              "  const element = document.createElement('span');\n",
              "  element.textContent = text;\n",
              "  for (const key of Object.keys(styleAttributes)) {\n",
              "    element.style[key] = styleAttributes[key];\n",
              "  }\n",
              "  return element;\n",
              "}\n",
              "\n",
              "// Max number of bytes which will be uploaded at a time.\n",
              "const MAX_PAYLOAD_SIZE = 100 * 1024;\n",
              "\n",
              "function _uploadFiles(inputId, outputId) {\n",
              "  const steps = uploadFilesStep(inputId, outputId);\n",
              "  const outputElement = document.getElementById(outputId);\n",
              "  // Cache steps on the outputElement to make it available for the next call\n",
              "  // to uploadFilesContinue from Python.\n",
              "  outputElement.steps = steps;\n",
              "\n",
              "  return _uploadFilesContinue(outputId);\n",
              "}\n",
              "\n",
              "// This is roughly an async generator (not supported in the browser yet),\n",
              "// where there are multiple asynchronous steps and the Python side is going\n",
              "// to poll for completion of each step.\n",
              "// This uses a Promise to block the python side on completion of each step,\n",
              "// then passes the result of the previous step as the input to the next step.\n",
              "function _uploadFilesContinue(outputId) {\n",
              "  const outputElement = document.getElementById(outputId);\n",
              "  const steps = outputElement.steps;\n",
              "\n",
              "  const next = steps.next(outputElement.lastPromiseValue);\n",
              "  return Promise.resolve(next.value.promise).then((value) => {\n",
              "    // Cache the last promise value to make it available to the next\n",
              "    // step of the generator.\n",
              "    outputElement.lastPromiseValue = value;\n",
              "    return next.value.response;\n",
              "  });\n",
              "}\n",
              "\n",
              "/**\n",
              " * Generator function which is called between each async step of the upload\n",
              " * process.\n",
              " * @param {string} inputId Element ID of the input file picker element.\n",
              " * @param {string} outputId Element ID of the output display.\n",
              " * @return {!Iterable<!Object>} Iterable of next steps.\n",
              " */\n",
              "function* uploadFilesStep(inputId, outputId) {\n",
              "  const inputElement = document.getElementById(inputId);\n",
              "  inputElement.disabled = false;\n",
              "\n",
              "  const outputElement = document.getElementById(outputId);\n",
              "  outputElement.innerHTML = '';\n",
              "\n",
              "  const pickedPromise = new Promise((resolve) => {\n",
              "    inputElement.addEventListener('change', (e) => {\n",
              "      resolve(e.target.files);\n",
              "    });\n",
              "  });\n",
              "\n",
              "  const cancel = document.createElement('button');\n",
              "  inputElement.parentElement.appendChild(cancel);\n",
              "  cancel.textContent = 'Cancel upload';\n",
              "  const cancelPromise = new Promise((resolve) => {\n",
              "    cancel.onclick = () => {\n",
              "      resolve(null);\n",
              "    };\n",
              "  });\n",
              "\n",
              "  // Wait for the user to pick the files.\n",
              "  const files = yield {\n",
              "    promise: Promise.race([pickedPromise, cancelPromise]),\n",
              "    response: {\n",
              "      action: 'starting',\n",
              "    }\n",
              "  };\n",
              "\n",
              "  cancel.remove();\n",
              "\n",
              "  // Disable the input element since further picks are not allowed.\n",
              "  inputElement.disabled = true;\n",
              "\n",
              "  if (!files) {\n",
              "    return {\n",
              "      response: {\n",
              "        action: 'complete',\n",
              "      }\n",
              "    };\n",
              "  }\n",
              "\n",
              "  for (const file of files) {\n",
              "    const li = document.createElement('li');\n",
              "    li.append(span(file.name, {fontWeight: 'bold'}));\n",
              "    li.append(span(\n",
              "        `(${file.type || 'n/a'}) - ${file.size} bytes, ` +\n",
              "        `last modified: ${\n",
              "            file.lastModifiedDate ? file.lastModifiedDate.toLocaleDateString() :\n",
              "                                    'n/a'} - `));\n",
              "    const percent = span('0% done');\n",
              "    li.appendChild(percent);\n",
              "\n",
              "    outputElement.appendChild(li);\n",
              "\n",
              "    const fileDataPromise = new Promise((resolve) => {\n",
              "      const reader = new FileReader();\n",
              "      reader.onload = (e) => {\n",
              "        resolve(e.target.result);\n",
              "      };\n",
              "      reader.readAsArrayBuffer(file);\n",
              "    });\n",
              "    // Wait for the data to be ready.\n",
              "    let fileData = yield {\n",
              "      promise: fileDataPromise,\n",
              "      response: {\n",
              "        action: 'continue',\n",
              "      }\n",
              "    };\n",
              "\n",
              "    // Use a chunked sending to avoid message size limits. See b/62115660.\n",
              "    let position = 0;\n",
              "    do {\n",
              "      const length = Math.min(fileData.byteLength - position, MAX_PAYLOAD_SIZE);\n",
              "      const chunk = new Uint8Array(fileData, position, length);\n",
              "      position += length;\n",
              "\n",
              "      const base64 = btoa(String.fromCharCode.apply(null, chunk));\n",
              "      yield {\n",
              "        response: {\n",
              "          action: 'append',\n",
              "          file: file.name,\n",
              "          data: base64,\n",
              "        },\n",
              "      };\n",
              "\n",
              "      let percentDone = fileData.byteLength === 0 ?\n",
              "          100 :\n",
              "          Math.round((position / fileData.byteLength) * 100);\n",
              "      percent.textContent = `${percentDone}% done`;\n",
              "\n",
              "    } while (position < fileData.byteLength);\n",
              "  }\n",
              "\n",
              "  // All done.\n",
              "  yield {\n",
              "    response: {\n",
              "      action: 'complete',\n",
              "    }\n",
              "  };\n",
              "}\n",
              "\n",
              "scope.google = scope.google || {};\n",
              "scope.google.colab = scope.google.colab || {};\n",
              "scope.google.colab._files = {\n",
              "  _uploadFiles,\n",
              "  _uploadFilesContinue,\n",
              "};\n",
              "})(self);\n",
              "</script> "
            ]
          },
          "metadata": {}
        },
        {
          "output_type": "stream",
          "name": "stdout",
          "text": [
            "Saving SAheart.csv to SAheart.csv\n"
          ]
        }
      ]
    },
    {
      "cell_type": "markdown",
      "source": [
        "W tym zadaniu będziemy zajmować się regresją logistyczną z crosswalidacja -  tworzy ona siatke k=crosswalidacyjna dzięki czemu można dobrać odpowiednią wartość alfa"
      ],
      "metadata": {
        "id": "X5sQWlVWrt5h"
      }
    },
    {
      "cell_type": "markdown",
      "source": [
        "## a"
      ],
      "metadata": {
        "id": "EWvSsUQZsGFH"
      }
    },
    {
      "cell_type": "code",
      "source": [
        "from sklearn.linear_model import LogisticRegressionCV"
      ],
      "metadata": {
        "id": "AJvxdFqurs_M"
      },
      "execution_count": null,
      "outputs": []
    },
    {
      "cell_type": "code",
      "source": [
        "model2 = LogisticRegressionCV(penalty = 'l1', solver = 'liblinear').fit(x,y)"
      ],
      "metadata": {
        "id": "bOotbbS1ribb"
      },
      "execution_count": null,
      "outputs": []
    },
    {
      "cell_type": "markdown",
      "source": [
        "## b"
      ],
      "metadata": {
        "id": "rKmxizmqsctf"
      }
    },
    {
      "cell_type": "code",
      "source": [
        "print('siatka par C:', model2.Cs_, '\\n',\n",
        "      'coefy dla poszczególnych C w siatce:', model2.coefs_paths_, '\\n',\n",
        "      'najlepsze C:', model2.C_,\n",
        "      'coefy:', model2.coef_) #mamy 5 cech wiec 5 coefów, te ostatnie to wspolczynniki odpowiadajace najlepszemu C"
      ],
      "metadata": {
        "colab": {
          "base_uri": "https://localhost:8080/"
        },
        "id": "a3OIUhr5sXcj",
        "outputId": "b2e84157-652c-4946-d25a-cd0de3d2312c"
      },
      "execution_count": null,
      "outputs": [
        {
          "output_type": "stream",
          "name": "stdout",
          "text": [
            "siatka par C: [1.00000000e-04 7.74263683e-04 5.99484250e-03 4.64158883e-02\n",
            " 3.59381366e-01 2.78255940e+00 2.15443469e+01 1.66810054e+02\n",
            " 1.29154967e+03 1.00000000e+04] \n",
            " coefy dla poszczególnych C w siatce: {1: array([[[ 0.        ,  0.        ,  0.        ,  0.        ,\n",
            "          0.        ,  0.        ],\n",
            "        [ 0.        ,  0.        ,  0.        ,  0.        ,\n",
            "          0.        ,  0.        ],\n",
            "        [ 0.        ,  0.        ,  0.        ,  0.        ,\n",
            "          0.        ,  0.        ],\n",
            "        [ 0.        ,  0.        ,  0.        ,  0.        ,\n",
            "          0.        ,  0.        ],\n",
            "        [ 1.19324409,  0.36314477,  0.25665509, -0.15684986,\n",
            "          0.        ,  0.5035884 ],\n",
            "        [ 1.79788752,  0.68120625,  0.53385655, -0.36506726,\n",
            "         -0.00686005,  0.84488928],\n",
            "        [ 1.93161262,  0.74255365,  0.5871125 , -0.41062169,\n",
            "         -0.04452151,  0.91633987],\n",
            "        [ 1.95054267,  0.75114705,  0.5944478 , -0.41707413,\n",
            "         -0.0496804 ,  0.92632698],\n",
            "        [ 1.95315195,  0.75227812,  0.59544246, -0.41792464,\n",
            "         -0.05035049,  0.92776435],\n",
            "        [ 1.95345335,  0.75244152,  0.59557021, -0.41803459,\n",
            "         -0.05044118,  0.92794294]],\n",
            "\n",
            "       [[ 0.        ,  0.        ,  0.        ,  0.        ,\n",
            "          0.        ,  0.        ],\n",
            "        [ 0.        ,  0.        ,  0.        ,  0.        ,\n",
            "          0.        ,  0.        ],\n",
            "        [ 0.        ,  0.        ,  0.        ,  0.        ,\n",
            "          0.        ,  0.        ],\n",
            "        [ 0.1019137 ,  0.        ,  0.        ,  0.        ,\n",
            "          0.        ,  0.        ],\n",
            "        [ 1.36206121,  0.27632269,  0.03745665,  0.        ,\n",
            "          0.        ,  0.50196287],\n",
            "        [ 2.00581557,  0.55881469,  0.31079125, -0.12031377,\n",
            "         -0.15280117,  0.84509842],\n",
            "        [ 2.14609997,  0.61444183,  0.3581037 , -0.14936432,\n",
            "         -0.18333403,  0.91422777],\n",
            "        [ 2.16586277,  0.62217021,  0.36454323, -0.15336086,\n",
            "         -0.18758085,  0.92392509],\n",
            "        [ 2.16849931,  0.62318822,  0.36540354, -0.15387388,\n",
            "         -0.188134  ,  0.92521267],\n",
            "        [ 2.16879127,  0.6233122 ,  0.36549681, -0.15394255,\n",
            "         -0.18822136,  0.92531562]],\n",
            "\n",
            "       [[ 0.        ,  0.        ,  0.        ,  0.        ,\n",
            "          0.        ,  0.        ],\n",
            "        [ 0.        ,  0.        ,  0.        ,  0.        ,\n",
            "          0.        ,  0.        ],\n",
            "        [ 0.        ,  0.        ,  0.        ,  0.        ,\n",
            "          0.        ,  0.        ],\n",
            "        [ 0.15087816,  0.        ,  0.        ,  0.        ,\n",
            "          0.        ,  0.        ],\n",
            "        [ 1.52811484,  0.52445838,  0.17088106, -0.12976357,\n",
            "          0.        ,  0.43989957],\n",
            "        [ 2.3456751 ,  0.93407898,  0.50558949, -0.36419795,\n",
            "          0.03322625,  0.86485267],\n",
            "        [ 2.54566429,  1.03515638,  0.5787529 , -0.41207984,\n",
            "          0.07688702,  0.97035673],\n",
            "        [ 2.57506142,  1.04979079,  0.58917186, -0.41896704,\n",
            "          0.08289857,  0.98562466],\n",
            "        [ 2.57867615,  1.05162826,  0.59051369, -0.41986336,\n",
            "          0.08367733,  0.9875934 ],\n",
            "        [ 2.57935879,  1.05190073,  0.59073509, -0.41996227,\n",
            "          0.08379683,  0.98791668]],\n",
            "\n",
            "       [[ 0.        ,  0.        ,  0.        ,  0.        ,\n",
            "          0.        ,  0.        ],\n",
            "        [ 0.        ,  0.        ,  0.        ,  0.        ,\n",
            "          0.        ,  0.        ],\n",
            "        [ 0.        ,  0.        ,  0.        ,  0.        ,\n",
            "          0.        ,  0.        ],\n",
            "        [ 0.16515035,  0.        ,  0.        ,  0.        ,\n",
            "          0.        ,  0.        ],\n",
            "        [ 1.62522251,  0.54303115,  0.25412913, -0.03182361,\n",
            "          0.        ,  0.36392273],\n",
            "        [ 2.4790653 ,  0.97239895,  0.62165687, -0.22208659,\n",
            "         -0.04315398,  0.70358097],\n",
            "        [ 2.68833938,  1.0696712 ,  0.70001731, -0.26349595,\n",
            "         -0.07417253,  0.77846157],\n",
            "        [ 2.71878669,  1.08361535,  0.71121734, -0.26933577,\n",
            "         -0.07856503,  0.78927048],\n",
            "        [ 2.72291549,  1.08556879,  0.71274569, -0.27010444,\n",
            "         -0.07915743,  0.79071   ],\n",
            "        [ 2.72329044,  1.08579049,  0.71291104, -0.27019456,\n",
            "         -0.0792426 ,  0.79085303]],\n",
            "\n",
            "       [[ 0.        ,  0.        ,  0.        ,  0.        ,\n",
            "          0.        ,  0.        ],\n",
            "        [ 0.        ,  0.        ,  0.        ,  0.        ,\n",
            "          0.        ,  0.        ],\n",
            "        [ 0.        ,  0.        ,  0.        ,  0.        ,\n",
            "          0.        ,  0.        ],\n",
            "        [ 0.04011786,  0.        ,  0.        ,  0.        ,\n",
            "          0.        ,  0.        ],\n",
            "        [ 1.25684495,  0.33855116,  0.37782153, -0.04547779,\n",
            "          0.        ,  0.37828754],\n",
            "        [ 1.80482737,  0.62204844,  0.69288331, -0.24029648,\n",
            "         -0.01034209,  0.62411054],\n",
            "        [ 1.92372869,  0.67475456,  0.75572226, -0.28183093,\n",
            "         -0.04565372,  0.67450369],\n",
            "        [ 1.94029404,  0.6820651 ,  0.76429784, -0.28757664,\n",
            "         -0.05048277,  0.68158927],\n",
            "        [ 1.94252266,  0.68300591,  0.76545859, -0.2883383 ,\n",
            "         -0.05109426,  0.68251298],\n",
            "        [ 1.94276776,  0.68314649,  0.76559791, -0.2884337 ,\n",
            "         -0.05116977,  0.68265854]]])} \n",
            " najlepsze C: [0.35938137] coefy: [[ 1.48380284  0.45515977  0.2742619  -0.103365    0.        ]]\n"
          ]
        }
      ]
    },
    {
      "cell_type": "markdown",
      "source": [
        "## c"
      ],
      "metadata": {
        "id": "vq0rqi14wPAH"
      }
    },
    {
      "cell_type": "code",
      "source": [
        "LogisticRegressionCV(penalty = 'l1', solver = 'liblinear').fit(x,y).scores_"
      ],
      "metadata": {
        "colab": {
          "base_uri": "https://localhost:8080/"
        },
        "id": "voCYQh7fsqa1",
        "outputId": "b2439607-b87d-4221-d64a-850e9d2d3285"
      },
      "execution_count": null,
      "outputs": [
        {
          "output_type": "execute_result",
          "data": {
            "text/plain": [
              "{1: array([[0.4 , 0.4 , 0.4 , 0.4 , 0.9 , 0.9 , 0.9 , 0.9 , 0.9 , 0.9 ],\n",
              "        [0.4 , 0.4 , 0.4 , 0.75, 0.8 , 0.8 , 0.75, 0.75, 0.75, 0.75],\n",
              "        [0.35, 0.35, 0.35, 0.65, 0.7 , 0.75, 0.75, 0.75, 0.75, 0.75],\n",
              "        [0.35, 0.35, 0.35, 0.7 , 0.65, 0.6 , 0.6 , 0.6 , 0.6 , 0.6 ],\n",
              "        [0.35, 0.35, 0.35, 0.8 , 0.8 , 0.8 , 0.8 , 0.8 , 0.8 , 0.8 ]])}"
            ]
          },
          "metadata": {},
          "execution_count": 103
        }
      ]
    },
    {
      "cell_type": "code",
      "source": [
        "np.mean(LogisticRegressionCV(penalty = 'l1', solver = 'liblinear').fit(x,y).scores_[1],axis = 0)"
      ],
      "metadata": {
        "colab": {
          "base_uri": "https://localhost:8080/"
        },
        "id": "6b2ZbHiGwrCo",
        "outputId": "484948bb-8a43-401d-e9d1-f3fc6acf0ee1"
      },
      "execution_count": null,
      "outputs": [
        {
          "output_type": "execute_result",
          "data": {
            "text/plain": [
              "array([0.37, 0.37, 0.37, 0.66, 0.77, 0.77, 0.76, 0.76, 0.76, 0.76])"
            ]
          },
          "metadata": {},
          "execution_count": 114
        }
      ]
    },
    {
      "cell_type": "code",
      "source": [
        "logreg = LogisticRegressionCV(penalty = 'l1',solver='liblinear').fit(x,y)"
      ],
      "metadata": {
        "id": "2-oeeckg1PGe"
      },
      "execution_count": null,
      "outputs": []
    },
    {
      "cell_type": "code",
      "source": [
        "#c\n",
        "means = np.mean(logreg.scores_[1],axis = 0) #uśredniamy po obrotach pętli kroswalidacyjnej accuracy dla poszczególnych wartości z siatki Cs\n",
        "mean_max = max(means) #znajdujemy największą z tych średnich\n",
        "stds = np.std(logreg.scores_[1],axis = 0) #liczymy odchylenia standardowe po obrotach pętli kroswalidacyjnej \n",
        "                                          #dla poszczególnych wartości z siatki Cs\n",
        "std_of_mean_max = np.unique(stds[means==max(means)]) #liczymy odchylenie standardowe po obrotach pętli kroswalidacyjnej \n",
        "                                          #dla tego parametru z Cs gdzie średnia była największa\n",
        "Cs_min = min(logreg.Cs_[means>=mean_max-std_of_mean_max]) #znajdujemy najmniejszą wartość z Cs której średnia mieści się w pasie \n",
        "                                                          #od średnia maksymalna - odchylenie standardowe tego elementu Cs\n",
        "                                                          #dla którego ta średnią mieliśmy\n",
        "\n",
        "                                                          #oczywiście w tym pasie mogą być średnie wielu elementów z Cs, wybieramy najmniejszy,\n",
        "                                                          #bo wówczas jest to największa lambda więc najmniej wziętych zmiennych, \n",
        "                                                          #przy jednoczesnym zachowaniu accuracy zbliżonym do najlepszego przypadku"
      ],
      "metadata": {
        "colab": {
          "base_uri": "https://localhost:8080/",
          "height": 290
        },
        "id": "HavjWi5IxIlc",
        "outputId": "f7cf399f-6b65-46ec-b891-bcb6a0a1c815"
      },
      "execution_count": null,
      "outputs": [
        {
          "output_type": "error",
          "ename": "ValueError",
          "evalue": "ignored",
          "traceback": [
            "\u001b[0;31m---------------------------------------------------------------------------\u001b[0m",
            "\u001b[0;31mValueError\u001b[0m                                Traceback (most recent call last)",
            "\u001b[0;32m<ipython-input-120-deb6c78ca1d7>\u001b[0m in \u001b[0;36m<module>\u001b[0;34m\u001b[0m\n\u001b[1;32m      6\u001b[0m \u001b[0mstd_of_mean_max\u001b[0m \u001b[0;34m=\u001b[0m \u001b[0mnp\u001b[0m\u001b[0;34m.\u001b[0m\u001b[0munique\u001b[0m\u001b[0;34m(\u001b[0m\u001b[0mstds\u001b[0m\u001b[0;34m[\u001b[0m\u001b[0mmeans\u001b[0m\u001b[0;34m==\u001b[0m\u001b[0mmax\u001b[0m\u001b[0;34m(\u001b[0m\u001b[0mmeans\u001b[0m\u001b[0;34m)\u001b[0m\u001b[0;34m]\u001b[0m\u001b[0;34m)\u001b[0m \u001b[0;31m#liczymy odchylenie standardowe po obrotach pętli kroswalidacyjnej\u001b[0m\u001b[0;34m\u001b[0m\u001b[0;34m\u001b[0m\u001b[0m\n\u001b[1;32m      7\u001b[0m                                           \u001b[0;31m#dla tego parametru z Cs gdzie średnia była największa\u001b[0m\u001b[0;34m\u001b[0m\u001b[0;34m\u001b[0m\u001b[0;34m\u001b[0m\u001b[0m\n\u001b[0;32m----> 8\u001b[0;31m \u001b[0mCs_min\u001b[0m \u001b[0;34m=\u001b[0m \u001b[0mmin\u001b[0m\u001b[0;34m(\u001b[0m\u001b[0mlogreg\u001b[0m\u001b[0;34m.\u001b[0m\u001b[0mCs_\u001b[0m\u001b[0;34m[\u001b[0m\u001b[0mmeans\u001b[0m\u001b[0;34m>=\u001b[0m\u001b[0mmean_max\u001b[0m\u001b[0;34m-\u001b[0m\u001b[0mstd_of_mean_max\u001b[0m\u001b[0;34m]\u001b[0m\u001b[0;34m)\u001b[0m \u001b[0;31m#znajdujemy najmniejszą wartość z Cs której średnia mieści się w pasie\u001b[0m\u001b[0;34m\u001b[0m\u001b[0;34m\u001b[0m\u001b[0m\n\u001b[0m\u001b[1;32m      9\u001b[0m                                                           \u001b[0;31m#od średnia maksymalna - odchylenie standardowe tego elementu Cs\u001b[0m\u001b[0;34m\u001b[0m\u001b[0;34m\u001b[0m\u001b[0;34m\u001b[0m\u001b[0m\n\u001b[1;32m     10\u001b[0m                                                           \u001b[0;31m#dla którego ta średnią mieliśmy\u001b[0m\u001b[0;34m\u001b[0m\u001b[0;34m\u001b[0m\u001b[0;34m\u001b[0m\u001b[0m\n",
            "\u001b[0;31mValueError\u001b[0m: operands could not be broadcast together with shapes (10,) (2,) "
          ]
        }
      ]
    },
    {
      "cell_type": "markdown",
      "source": [
        "# pierdolic 4.2 robimy 4.3"
      ],
      "metadata": {
        "id": "jHzEI3f_2oZx"
      }
    },
    {
      "cell_type": "code",
      "source": [
        "files.upload()"
      ],
      "metadata": {
        "colab": {
          "base_uri": "https://localhost:8080/",
          "height": 150
        },
        "id": "DmczqHARz1so",
        "outputId": "9209f719-adb6-4429-b128-72ed95d9f875"
      },
      "execution_count": null,
      "outputs": [
        {
          "output_type": "display_data",
          "data": {
            "text/plain": [
              "<IPython.core.display.HTML object>"
            ],
            "text/html": [
              "\n",
              "     <input type=\"file\" id=\"files-e1acf817-4089-432a-a8e3-bb9814955298\" name=\"files[]\" multiple disabled\n",
              "        style=\"border:none\" />\n",
              "     <output id=\"result-e1acf817-4089-432a-a8e3-bb9814955298\">\n",
              "      Upload widget is only available when the cell has been executed in the\n",
              "      current browser session. Please rerun this cell to enable.\n",
              "      </output>\n",
              "      <script>// Copyright 2017 Google LLC\n",
              "//\n",
              "// Licensed under the Apache License, Version 2.0 (the \"License\");\n",
              "// you may not use this file except in compliance with the License.\n",
              "// You may obtain a copy of the License at\n",
              "//\n",
              "//      http://www.apache.org/licenses/LICENSE-2.0\n",
              "//\n",
              "// Unless required by applicable law or agreed to in writing, software\n",
              "// distributed under the License is distributed on an \"AS IS\" BASIS,\n",
              "// WITHOUT WARRANTIES OR CONDITIONS OF ANY KIND, either express or implied.\n",
              "// See the License for the specific language governing permissions and\n",
              "// limitations under the License.\n",
              "\n",
              "/**\n",
              " * @fileoverview Helpers for google.colab Python module.\n",
              " */\n",
              "(function(scope) {\n",
              "function span(text, styleAttributes = {}) {\n",
              "  const element = document.createElement('span');\n",
              "  element.textContent = text;\n",
              "  for (const key of Object.keys(styleAttributes)) {\n",
              "    element.style[key] = styleAttributes[key];\n",
              "  }\n",
              "  return element;\n",
              "}\n",
              "\n",
              "// Max number of bytes which will be uploaded at a time.\n",
              "const MAX_PAYLOAD_SIZE = 100 * 1024;\n",
              "\n",
              "function _uploadFiles(inputId, outputId) {\n",
              "  const steps = uploadFilesStep(inputId, outputId);\n",
              "  const outputElement = document.getElementById(outputId);\n",
              "  // Cache steps on the outputElement to make it available for the next call\n",
              "  // to uploadFilesContinue from Python.\n",
              "  outputElement.steps = steps;\n",
              "\n",
              "  return _uploadFilesContinue(outputId);\n",
              "}\n",
              "\n",
              "// This is roughly an async generator (not supported in the browser yet),\n",
              "// where there are multiple asynchronous steps and the Python side is going\n",
              "// to poll for completion of each step.\n",
              "// This uses a Promise to block the python side on completion of each step,\n",
              "// then passes the result of the previous step as the input to the next step.\n",
              "function _uploadFilesContinue(outputId) {\n",
              "  const outputElement = document.getElementById(outputId);\n",
              "  const steps = outputElement.steps;\n",
              "\n",
              "  const next = steps.next(outputElement.lastPromiseValue);\n",
              "  return Promise.resolve(next.value.promise).then((value) => {\n",
              "    // Cache the last promise value to make it available to the next\n",
              "    // step of the generator.\n",
              "    outputElement.lastPromiseValue = value;\n",
              "    return next.value.response;\n",
              "  });\n",
              "}\n",
              "\n",
              "/**\n",
              " * Generator function which is called between each async step of the upload\n",
              " * process.\n",
              " * @param {string} inputId Element ID of the input file picker element.\n",
              " * @param {string} outputId Element ID of the output display.\n",
              " * @return {!Iterable<!Object>} Iterable of next steps.\n",
              " */\n",
              "function* uploadFilesStep(inputId, outputId) {\n",
              "  const inputElement = document.getElementById(inputId);\n",
              "  inputElement.disabled = false;\n",
              "\n",
              "  const outputElement = document.getElementById(outputId);\n",
              "  outputElement.innerHTML = '';\n",
              "\n",
              "  const pickedPromise = new Promise((resolve) => {\n",
              "    inputElement.addEventListener('change', (e) => {\n",
              "      resolve(e.target.files);\n",
              "    });\n",
              "  });\n",
              "\n",
              "  const cancel = document.createElement('button');\n",
              "  inputElement.parentElement.appendChild(cancel);\n",
              "  cancel.textContent = 'Cancel upload';\n",
              "  const cancelPromise = new Promise((resolve) => {\n",
              "    cancel.onclick = () => {\n",
              "      resolve(null);\n",
              "    };\n",
              "  });\n",
              "\n",
              "  // Wait for the user to pick the files.\n",
              "  const files = yield {\n",
              "    promise: Promise.race([pickedPromise, cancelPromise]),\n",
              "    response: {\n",
              "      action: 'starting',\n",
              "    }\n",
              "  };\n",
              "\n",
              "  cancel.remove();\n",
              "\n",
              "  // Disable the input element since further picks are not allowed.\n",
              "  inputElement.disabled = true;\n",
              "\n",
              "  if (!files) {\n",
              "    return {\n",
              "      response: {\n",
              "        action: 'complete',\n",
              "      }\n",
              "    };\n",
              "  }\n",
              "\n",
              "  for (const file of files) {\n",
              "    const li = document.createElement('li');\n",
              "    li.append(span(file.name, {fontWeight: 'bold'}));\n",
              "    li.append(span(\n",
              "        `(${file.type || 'n/a'}) - ${file.size} bytes, ` +\n",
              "        `last modified: ${\n",
              "            file.lastModifiedDate ? file.lastModifiedDate.toLocaleDateString() :\n",
              "                                    'n/a'} - `));\n",
              "    const percent = span('0% done');\n",
              "    li.appendChild(percent);\n",
              "\n",
              "    outputElement.appendChild(li);\n",
              "\n",
              "    const fileDataPromise = new Promise((resolve) => {\n",
              "      const reader = new FileReader();\n",
              "      reader.onload = (e) => {\n",
              "        resolve(e.target.result);\n",
              "      };\n",
              "      reader.readAsArrayBuffer(file);\n",
              "    });\n",
              "    // Wait for the data to be ready.\n",
              "    let fileData = yield {\n",
              "      promise: fileDataPromise,\n",
              "      response: {\n",
              "        action: 'continue',\n",
              "      }\n",
              "    };\n",
              "\n",
              "    // Use a chunked sending to avoid message size limits. See b/62115660.\n",
              "    let position = 0;\n",
              "    do {\n",
              "      const length = Math.min(fileData.byteLength - position, MAX_PAYLOAD_SIZE);\n",
              "      const chunk = new Uint8Array(fileData, position, length);\n",
              "      position += length;\n",
              "\n",
              "      const base64 = btoa(String.fromCharCode.apply(null, chunk));\n",
              "      yield {\n",
              "        response: {\n",
              "          action: 'append',\n",
              "          file: file.name,\n",
              "          data: base64,\n",
              "        },\n",
              "      };\n",
              "\n",
              "      let percentDone = fileData.byteLength === 0 ?\n",
              "          100 :\n",
              "          Math.round((position / fileData.byteLength) * 100);\n",
              "      percent.textContent = `${percentDone}% done`;\n",
              "\n",
              "    } while (position < fileData.byteLength);\n",
              "  }\n",
              "\n",
              "  // All done.\n",
              "  yield {\n",
              "    response: {\n",
              "      action: 'complete',\n",
              "    }\n",
              "  };\n",
              "}\n",
              "\n",
              "scope.google = scope.google || {};\n",
              "scope.google.colab = scope.google.colab || {};\n",
              "scope.google.colab._files = {\n",
              "  _uploadFiles,\n",
              "  _uploadFilesContinue,\n",
              "};\n",
              "})(self);\n",
              "</script> "
            ]
          },
          "metadata": {}
        },
        {
          "output_type": "stream",
          "name": "stdout",
          "text": [
            "Saving pima.csv to pima.csv\n"
          ]
        },
        {
          "output_type": "execute_result",
          "data": {
            "text/plain": [
              "{'pima.csv': b'times,glucose,blood,skin,insulin,BMI,pedigree,age,class\\r\\n6,148,72,35,0,33.6,0.627,50,1\\r\\n1,85,66,29,0,26.6,0.351,31,0\\r\\n8,183,64,0,0,23.3,0.672,32,1\\r\\n1,89,66,23,94,28.1,0.167,21,0\\r\\n0,137,40,35,168,43.1,2.288,33,1\\r\\n5,116,74,0,0,25.6,0.201,30,0\\r\\n3,78,50,32,88,31.0,0.248,26,1\\r\\n10,115,0,0,0,35.3,0.134,29,0\\r\\n2,197,70,45,543,30.5,0.158,53,1\\r\\n8,125,96,0,0,0.0,0.232,54,1\\r\\n4,110,92,0,0,37.6,0.191,30,0\\r\\n10,168,74,0,0,38.0,0.537,34,1\\r\\n10,139,80,0,0,27.1,1.441,57,0\\r\\n1,189,60,23,846,30.1,0.398,59,1\\r\\n5,166,72,19,175,25.8,0.587,51,1\\r\\n7,100,0,0,0,30.0,0.484,32,1\\r\\n0,118,84,47,230,45.8,0.551,31,1\\r\\n7,107,74,0,0,29.6,0.254,31,1\\r\\n1,103,30,38,83,43.3,0.183,33,0\\r\\n1,115,70,30,96,34.6,0.529,32,1\\r\\n3,126,88,41,235,39.3,0.704,27,0\\r\\n8,99,84,0,0,35.4,0.388,50,0\\r\\n7,196,90,0,0,39.8,0.451,41,1\\r\\n9,119,80,35,0,29.0,0.263,29,1\\r\\n11,143,94,33,146,36.6,0.254,51,1\\r\\n10,125,70,26,115,31.1,0.205,41,1\\r\\n7,147,76,0,0,39.4,0.257,43,1\\r\\n1,97,66,15,140,23.2,0.487,22,0\\r\\n13,145,82,19,110,22.2,0.245,57,0\\r\\n5,117,92,0,0,34.1,0.337,38,0\\r\\n5,109,75,26,0,36.0,0.546,60,0\\r\\n3,158,76,36,245,31.6,0.851,28,1\\r\\n3,88,58,11,54,24.8,0.267,22,0\\r\\n6,92,92,0,0,19.9,0.188,28,0\\r\\n10,122,78,31,0,27.6,0.512,45,0\\r\\n4,103,60,33,192,24.0,0.966,33,0\\r\\n11,138,76,0,0,33.2,0.420,35,0\\r\\n9,102,76,37,0,32.9,0.665,46,1\\r\\n2,90,68,42,0,38.2,0.503,27,1\\r\\n4,111,72,47,207,37.1,1.390,56,1\\r\\n3,180,64,25,70,34.0,0.271,26,0\\r\\n7,133,84,0,0,40.2,0.696,37,0\\r\\n7,106,92,18,0,22.7,0.235,48,0\\r\\n9,171,110,24,240,45.4,0.721,54,1\\r\\n7,159,64,0,0,27.4,0.294,40,0\\r\\n0,180,66,39,0,42.0,1.893,25,1\\r\\n1,146,56,0,0,29.7,0.564,29,0\\r\\n2,71,70,27,0,28.0,0.586,22,0\\r\\n7,103,66,32,0,39.1,0.344,31,1\\r\\n7,105,0,0,0,0.0,0.305,24,0\\r\\n1,103,80,11,82,19.4,0.491,22,0\\r\\n1,101,50,15,36,24.2,0.526,26,0\\r\\n5,88,66,21,23,24.4,0.342,30,0\\r\\n8,176,90,34,300,33.7,0.467,58,1\\r\\n7,150,66,42,342,34.7,0.718,42,0\\r\\n1,73,50,10,0,23.0,0.248,21,0\\r\\n7,187,68,39,304,37.7,0.254,41,1\\r\\n0,100,88,60,110,46.8,0.962,31,0\\r\\n0,146,82,0,0,40.5,1.781,44,0\\r\\n0,105,64,41,142,41.5,0.173,22,0\\r\\n2,84,0,0,0,0.0,0.304,21,0\\r\\n8,133,72,0,0,32.9,0.270,39,1\\r\\n5,44,62,0,0,25.0,0.587,36,0\\r\\n2,141,58,34,128,25.4,0.699,24,0\\r\\n7,114,66,0,0,32.8,0.258,42,1\\r\\n5,99,74,27,0,29.0,0.203,32,0\\r\\n0,109,88,30,0,32.5,0.855,38,1\\r\\n2,109,92,0,0,42.7,0.845,54,0\\r\\n1,95,66,13,38,19.6,0.334,25,0\\r\\n4,146,85,27,100,28.9,0.189,27,0\\r\\n2,100,66,20,90,32.9,0.867,28,1\\r\\n5,139,64,35,140,28.6,0.411,26,0\\r\\n13,126,90,0,0,43.4,0.583,42,1\\r\\n4,129,86,20,270,35.1,0.231,23,0\\r\\n1,79,75,30,0,32.0,0.396,22,0\\r\\n1,0,48,20,0,24.7,0.140,22,0\\r\\n7,62,78,0,0,32.6,0.391,41,0\\r\\n5,95,72,33,0,37.7,0.370,27,0\\r\\n0,131,0,0,0,43.2,0.270,26,1\\r\\n2,112,66,22,0,25.0,0.307,24,0\\r\\n3,113,44,13,0,22.4,0.140,22,0\\r\\n2,74,0,0,0,0.0,0.102,22,0\\r\\n7,83,78,26,71,29.3,0.767,36,0\\r\\n0,101,65,28,0,24.6,0.237,22,0\\r\\n5,137,108,0,0,48.8,0.227,37,1\\r\\n2,110,74,29,125,32.4,0.698,27,0\\r\\n13,106,72,54,0,36.6,0.178,45,0\\r\\n2,100,68,25,71,38.5,0.324,26,0\\r\\n15,136,70,32,110,37.1,0.153,43,1\\r\\n1,107,68,19,0,26.5,0.165,24,0\\r\\n1,80,55,0,0,19.1,0.258,21,0\\r\\n4,123,80,15,176,32.0,0.443,34,0\\r\\n7,81,78,40,48,46.7,0.261,42,0\\r\\n4,134,72,0,0,23.8,0.277,60,1\\r\\n2,142,82,18,64,24.7,0.761,21,0\\r\\n6,144,72,27,228,33.9,0.255,40,0\\r\\n2,92,62,28,0,31.6,0.130,24,0\\r\\n1,71,48,18,76,20.4,0.323,22,0\\r\\n6,93,50,30,64,28.7,0.356,23,0\\r\\n1,122,90,51,220,49.7,0.325,31,1\\r\\n1,163,72,0,0,39.0,1.222,33,1\\r\\n1,151,60,0,0,26.1,0.179,22,0\\r\\n0,125,96,0,0,22.5,0.262,21,0\\r\\n1,81,72,18,40,26.6,0.283,24,0\\r\\n2,85,65,0,0,39.6,0.930,27,0\\r\\n1,126,56,29,152,28.7,0.801,21,0\\r\\n1,96,122,0,0,22.4,0.207,27,0\\r\\n4,144,58,28,140,29.5,0.287,37,0\\r\\n3,83,58,31,18,34.3,0.336,25,0\\r\\n0,95,85,25,36,37.4,0.247,24,1\\r\\n3,171,72,33,135,33.3,0.199,24,1\\r\\n8,155,62,26,495,34.0,0.543,46,1\\r\\n1,89,76,34,37,31.2,0.192,23,0\\r\\n4,76,62,0,0,34.0,0.391,25,0\\r\\n7,160,54,32,175,30.5,0.588,39,1\\r\\n4,146,92,0,0,31.2,0.539,61,1\\r\\n5,124,74,0,0,34.0,0.220,38,1\\r\\n5,78,48,0,0,33.7,0.654,25,0\\r\\n4,97,60,23,0,28.2,0.443,22,0\\r\\n4,99,76,15,51,23.2,0.223,21,0\\r\\n0,162,76,56,100,53.2,0.759,25,1\\r\\n6,111,64,39,0,34.2,0.260,24,0\\r\\n2,107,74,30,100,33.6,0.404,23,0\\r\\n5,132,80,0,0,26.8,0.186,69,0\\r\\n0,113,76,0,0,33.3,0.278,23,1\\r\\n1,88,30,42,99,55.0,0.496,26,1\\r\\n3,120,70,30,135,42.9,0.452,30,0\\r\\n1,118,58,36,94,33.3,0.261,23,0\\r\\n1,117,88,24,145,34.5,0.403,40,1\\r\\n0,105,84,0,0,27.9,0.741,62,1\\r\\n4,173,70,14,168,29.7,0.361,33,1\\r\\n9,122,56,0,0,33.3,1.114,33,1\\r\\n3,170,64,37,225,34.5,0.356,30,1\\r\\n8,84,74,31,0,38.3,0.457,39,0\\r\\n2,96,68,13,49,21.1,0.647,26,0\\r\\n2,125,60,20,140,33.8,0.088,31,0\\r\\n0,100,70,26,50,30.8,0.597,21,0\\r\\n0,93,60,25,92,28.7,0.532,22,0\\r\\n0,129,80,0,0,31.2,0.703,29,0\\r\\n5,105,72,29,325,36.9,0.159,28,0\\r\\n3,128,78,0,0,21.1,0.268,55,0\\r\\n5,106,82,30,0,39.5,0.286,38,0\\r\\n2,108,52,26,63,32.5,0.318,22,0\\r\\n10,108,66,0,0,32.4,0.272,42,1\\r\\n4,154,62,31,284,32.8,0.237,23,0\\r\\n0,102,75,23,0,0.0,0.572,21,0\\r\\n9,57,80,37,0,32.8,0.096,41,0\\r\\n2,106,64,35,119,30.5,1.400,34,0\\r\\n5,147,78,0,0,33.7,0.218,65,0\\r\\n2,90,70,17,0,27.3,0.085,22,0\\r\\n1,136,74,50,204,37.4,0.399,24,0\\r\\n4,114,65,0,0,21.9,0.432,37,0\\r\\n9,156,86,28,155,34.3,1.189,42,1\\r\\n1,153,82,42,485,40.6,0.687,23,0\\r\\n8,188,78,0,0,47.9,0.137,43,1\\r\\n7,152,88,44,0,50.0,0.337,36,1\\r\\n2,99,52,15,94,24.6,0.637,21,0\\r\\n1,109,56,21,135,25.2,0.833,23,0\\r\\n2,88,74,19,53,29.0,0.229,22,0\\r\\n17,163,72,41,114,40.9,0.817,47,1\\r\\n4,151,90,38,0,29.7,0.294,36,0\\r\\n7,102,74,40,105,37.2,0.204,45,0\\r\\n0,114,80,34,285,44.2,0.167,27,0\\r\\n2,100,64,23,0,29.7,0.368,21,0\\r\\n0,131,88,0,0,31.6,0.743,32,1\\r\\n6,104,74,18,156,29.9,0.722,41,1\\r\\n3,148,66,25,0,32.5,0.256,22,0\\r\\n4,120,68,0,0,29.6,0.709,34,0\\r\\n4,110,66,0,0,31.9,0.471,29,0\\r\\n3,111,90,12,78,28.4,0.495,29,0\\r\\n6,102,82,0,0,30.8,0.180,36,1\\r\\n6,134,70,23,130,35.4,0.542,29,1\\r\\n2,87,0,23,0,28.9,0.773,25,0\\r\\n1,79,60,42,48,43.5,0.678,23,0\\r\\n2,75,64,24,55,29.7,0.370,33,0\\r\\n8,179,72,42,130,32.7,0.719,36,1\\r\\n6,85,78,0,0,31.2,0.382,42,0\\r\\n0,129,110,46,130,67.1,0.319,26,1\\r\\n5,143,78,0,0,45.0,0.190,47,0\\r\\n5,130,82,0,0,39.1,0.956,37,1\\r\\n6,87,80,0,0,23.2,0.084,32,0\\r\\n0,119,64,18,92,34.9,0.725,23,0\\r\\n1,0,74,20,23,27.7,0.299,21,0\\r\\n5,73,60,0,0,26.8,0.268,27,0\\r\\n4,141,74,0,0,27.6,0.244,40,0\\r\\n7,194,68,28,0,35.9,0.745,41,1\\r\\n8,181,68,36,495,30.1,0.615,60,1\\r\\n1,128,98,41,58,32.0,1.321,33,1\\r\\n8,109,76,39,114,27.9,0.640,31,1\\r\\n5,139,80,35,160,31.6,0.361,25,1\\r\\n3,111,62,0,0,22.6,0.142,21,0\\r\\n9,123,70,44,94,33.1,0.374,40,0\\r\\n7,159,66,0,0,30.4,0.383,36,1\\r\\n11,135,0,0,0,52.3,0.578,40,1\\r\\n8,85,55,20,0,24.4,0.136,42,0\\r\\n5,158,84,41,210,39.4,0.395,29,1\\r\\n1,105,58,0,0,24.3,0.187,21,0\\r\\n3,107,62,13,48,22.9,0.678,23,1\\r\\n4,109,64,44,99,34.8,0.905,26,1\\r\\n4,148,60,27,318,30.9,0.150,29,1\\r\\n0,113,80,16,0,31.0,0.874,21,0\\r\\n1,138,82,0,0,40.1,0.236,28,0\\r\\n0,108,68,20,0,27.3,0.787,32,0\\r\\n2,99,70,16,44,20.4,0.235,27,0\\r\\n6,103,72,32,190,37.7,0.324,55,0\\r\\n5,111,72,28,0,23.9,0.407,27,0\\r\\n8,196,76,29,280,37.5,0.605,57,1\\r\\n5,162,104,0,0,37.7,0.151,52,1\\r\\n1,96,64,27,87,33.2,0.289,21,0\\r\\n7,184,84,33,0,35.5,0.355,41,1\\r\\n2,81,60,22,0,27.7,0.290,25,0\\r\\n0,147,85,54,0,42.8,0.375,24,0\\r\\n7,179,95,31,0,34.2,0.164,60,0\\r\\n0,140,65,26,130,42.6,0.431,24,1\\r\\n9,112,82,32,175,34.2,0.260,36,1\\r\\n12,151,70,40,271,41.8,0.742,38,1\\r\\n5,109,62,41,129,35.8,0.514,25,1\\r\\n6,125,68,30,120,30.0,0.464,32,0\\r\\n5,85,74,22,0,29.0,1.224,32,1\\r\\n5,112,66,0,0,37.8,0.261,41,1\\r\\n0,177,60,29,478,34.6,1.072,21,1\\r\\n2,158,90,0,0,31.6,0.805,66,1\\r\\n7,119,0,0,0,25.2,0.209,37,0\\r\\n7,142,60,33,190,28.8,0.687,61,0\\r\\n1,100,66,15,56,23.6,0.666,26,0\\r\\n1,87,78,27,32,34.6,0.101,22,0\\r\\n0,101,76,0,0,35.7,0.198,26,0\\r\\n3,162,52,38,0,37.2,0.652,24,1\\r\\n4,197,70,39,744,36.7,2.329,31,0\\r\\n0,117,80,31,53,45.2,0.089,24,0\\r\\n4,142,86,0,0,44.0,0.645,22,1\\r\\n6,134,80,37,370,46.2,0.238,46,1\\r\\n1,79,80,25,37,25.4,0.583,22,0\\r\\n4,122,68,0,0,35.0,0.394,29,0\\r\\n3,74,68,28,45,29.7,0.293,23,0\\r\\n4,171,72,0,0,43.6,0.479,26,1\\r\\n7,181,84,21,192,35.9,0.586,51,1\\r\\n0,179,90,27,0,44.1,0.686,23,1\\r\\n9,164,84,21,0,30.8,0.831,32,1\\r\\n0,104,76,0,0,18.4,0.582,27,0\\r\\n1,91,64,24,0,29.2,0.192,21,0\\r\\n4,91,70,32,88,33.1,0.446,22,0\\r\\n3,139,54,0,0,25.6,0.402,22,1\\r\\n6,119,50,22,176,27.1,1.318,33,1\\r\\n2,146,76,35,194,38.2,0.329,29,0\\r\\n9,184,85,15,0,30.0,1.213,49,1\\r\\n10,122,68,0,0,31.2,0.258,41,0\\r\\n0,165,90,33,680,52.3,0.427,23,0\\r\\n9,124,70,33,402,35.4,0.282,34,0\\r\\n1,111,86,19,0,30.1,0.143,23,0\\r\\n9,106,52,0,0,31.2,0.380,42,0\\r\\n2,129,84,0,0,28.0,0.284,27,0\\r\\n2,90,80,14,55,24.4,0.249,24,0\\r\\n0,86,68,32,0,35.8,0.238,25,0\\r\\n12,92,62,7,258,27.6,0.926,44,1\\r\\n1,113,64,35,0,33.6,0.543,21,1\\r\\n3,111,56,39,0,30.1,0.557,30,0\\r\\n2,114,68,22,0,28.7,0.092,25,0\\r\\n1,193,50,16,375,25.9,0.655,24,0\\r\\n11,155,76,28,150,33.3,1.353,51,1\\r\\n3,191,68,15,130,30.9,0.299,34,0\\r\\n3,141,0,0,0,30.0,0.761,27,1\\r\\n4,95,70,32,0,32.1,0.612,24,0\\r\\n3,142,80,15,0,32.4,0.200,63,0\\r\\n4,123,62,0,0,32.0,0.226,35,1\\r\\n5,96,74,18,67,33.6,0.997,43,0\\r\\n0,138,0,0,0,36.3,0.933,25,1\\r\\n2,128,64,42,0,40.0,1.101,24,0\\r\\n0,102,52,0,0,25.1,0.078,21,0\\r\\n2,146,0,0,0,27.5,0.240,28,1\\r\\n10,101,86,37,0,45.6,1.136,38,1\\r\\n2,108,62,32,56,25.2,0.128,21,0\\r\\n3,122,78,0,0,23.0,0.254,40,0\\r\\n1,71,78,50,45,33.2,0.422,21,0\\r\\n13,106,70,0,0,34.2,0.251,52,0\\r\\n2,100,70,52,57,40.5,0.677,25,0\\r\\n7,106,60,24,0,26.5,0.296,29,1\\r\\n0,104,64,23,116,27.8,0.454,23,0\\r\\n5,114,74,0,0,24.9,0.744,57,0\\r\\n2,108,62,10,278,25.3,0.881,22,0\\r\\n0,146,70,0,0,37.9,0.334,28,1\\r\\n10,129,76,28,122,35.9,0.280,39,0\\r\\n7,133,88,15,155,32.4,0.262,37,0\\r\\n7,161,86,0,0,30.4,0.165,47,1\\r\\n2,108,80,0,0,27.0,0.259,52,1\\r\\n7,136,74,26,135,26.0,0.647,51,0\\r\\n5,155,84,44,545,38.7,0.619,34,0\\r\\n1,119,86,39,220,45.6,0.808,29,1\\r\\n4,96,56,17,49,20.8,0.340,26,0\\r\\n5,108,72,43,75,36.1,0.263,33,0\\r\\n0,78,88,29,40,36.9,0.434,21,0\\r\\n0,107,62,30,74,36.6,0.757,25,1\\r\\n2,128,78,37,182,43.3,1.224,31,1\\r\\n1,128,48,45,194,40.5,0.613,24,1\\r\\n0,161,50,0,0,21.9,0.254,65,0\\r\\n6,151,62,31,120,35.5,0.692,28,0\\r\\n2,146,70,38,360,28.0,0.337,29,1\\r\\n0,126,84,29,215,30.7,0.520,24,0\\r\\n14,100,78,25,184,36.6,0.412,46,1\\r\\n8,112,72,0,0,23.6,0.840,58,0\\r\\n0,167,0,0,0,32.3,0.839,30,1\\r\\n2,144,58,33,135,31.6,0.422,25,1\\r\\n5,77,82,41,42,35.8,0.156,35,0\\r\\n5,115,98,0,0,52.9,0.209,28,1\\r\\n3,150,76,0,0,21.0,0.207,37,0\\r\\n2,120,76,37,105,39.7,0.215,29,0\\r\\n10,161,68,23,132,25.5,0.326,47,1\\r\\n0,137,68,14,148,24.8,0.143,21,0\\r\\n0,128,68,19,180,30.5,1.391,25,1\\r\\n2,124,68,28,205,32.9,0.875,30,1\\r\\n6,80,66,30,0,26.2,0.313,41,0\\r\\n0,106,70,37,148,39.4,0.605,22,0\\r\\n2,155,74,17,96,26.6,0.433,27,1\\r\\n3,113,50,10,85,29.5,0.626,25,0\\r\\n7,109,80,31,0,35.9,1.127,43,1\\r\\n2,112,68,22,94,34.1,0.315,26,0\\r\\n3,99,80,11,64,19.3,0.284,30,0\\r\\n3,182,74,0,0,30.5,0.345,29,1\\r\\n3,115,66,39,140,38.1,0.150,28,0\\r\\n6,194,78,0,0,23.5,0.129,59,1\\r\\n4,129,60,12,231,27.5,0.527,31,0\\r\\n3,112,74,30,0,31.6,0.197,25,1\\r\\n0,124,70,20,0,27.4,0.254,36,1\\r\\n13,152,90,33,29,26.8,0.731,43,1\\r\\n2,112,75,32,0,35.7,0.148,21,0\\r\\n1,157,72,21,168,25.6,0.123,24,0\\r\\n1,122,64,32,156,35.1,0.692,30,1\\r\\n10,179,70,0,0,35.1,0.200,37,0\\r\\n2,102,86,36,120,45.5,0.127,23,1\\r\\n6,105,70,32,68,30.8,0.122,37,0\\r\\n8,118,72,19,0,23.1,1.476,46,0\\r\\n2,87,58,16,52,32.7,0.166,25,0\\r\\n1,180,0,0,0,43.3,0.282,41,1\\r\\n12,106,80,0,0,23.6,0.137,44,0\\r\\n1,95,60,18,58,23.9,0.260,22,0\\r\\n0,165,76,43,255,47.9,0.259,26,0\\r\\n0,117,0,0,0,33.8,0.932,44,0\\r\\n5,115,76,0,0,31.2,0.343,44,1\\r\\n9,152,78,34,171,34.2,0.893,33,1\\r\\n7,178,84,0,0,39.9,0.331,41,1\\r\\n1,130,70,13,105,25.9,0.472,22,0\\r\\n1,95,74,21,73,25.9,0.673,36,0\\r\\n1,0,68,35,0,32.0,0.389,22,0\\r\\n5,122,86,0,0,34.7,0.290,33,0\\r\\n8,95,72,0,0,36.8,0.485,57,0\\r\\n8,126,88,36,108,38.5,0.349,49,0\\r\\n1,139,46,19,83,28.7,0.654,22,0\\r\\n3,116,0,0,0,23.5,0.187,23,0\\r\\n3,99,62,19,74,21.8,0.279,26,0\\r\\n5,0,80,32,0,41.0,0.346,37,1\\r\\n4,92,80,0,0,42.2,0.237,29,0\\r\\n4,137,84,0,0,31.2,0.252,30,0\\r\\n3,61,82,28,0,34.4,0.243,46,0\\r\\n1,90,62,12,43,27.2,0.580,24,0\\r\\n3,90,78,0,0,42.7,0.559,21,0\\r\\n9,165,88,0,0,30.4,0.302,49,1\\r\\n1,125,50,40,167,33.3,0.962,28,1\\r\\n13,129,0,30,0,39.9,0.569,44,1\\r\\n12,88,74,40,54,35.3,0.378,48,0\\r\\n1,196,76,36,249,36.5,0.875,29,1\\r\\n5,189,64,33,325,31.2,0.583,29,1\\r\\n5,158,70,0,0,29.8,0.207,63,0\\r\\n5,103,108,37,0,39.2,0.305,65,0\\r\\n4,146,78,0,0,38.5,0.520,67,1\\r\\n4,147,74,25,293,34.9,0.385,30,0\\r\\n5,99,54,28,83,34.0,0.499,30,0\\r\\n6,124,72,0,0,27.6,0.368,29,1\\r\\n0,101,64,17,0,21.0,0.252,21,0\\r\\n3,81,86,16,66,27.5,0.306,22,0\\r\\n1,133,102,28,140,32.8,0.234,45,1\\r\\n3,173,82,48,465,38.4,2.137,25,1\\r\\n0,118,64,23,89,0.0,1.731,21,0\\r\\n0,84,64,22,66,35.8,0.545,21,0\\r\\n2,105,58,40,94,34.9,0.225,25,0\\r\\n2,122,52,43,158,36.2,0.816,28,0\\r\\n12,140,82,43,325,39.2,0.528,58,1\\r\\n0,98,82,15,84,25.2,0.299,22,0\\r\\n1,87,60,37,75,37.2,0.509,22,0\\r\\n4,156,75,0,0,48.3,0.238,32,1\\r\\n0,93,100,39,72,43.4,1.021,35,0\\r\\n1,107,72,30,82,30.8,0.821,24,0\\r\\n0,105,68,22,0,20.0,0.236,22,0\\r\\n1,109,60,8,182,25.4,0.947,21,0\\r\\n1,90,62,18,59,25.1,1.268,25,0\\r\\n1,125,70,24,110,24.3,0.221,25,0\\r\\n1,119,54,13,50,22.3,0.205,24,0\\r\\n5,116,74,29,0,32.3,0.660,35,1\\r\\n8,105,100,36,0,43.3,0.239,45,1\\r\\n5,144,82,26,285,32.0,0.452,58,1\\r\\n3,100,68,23,81,31.6,0.949,28,0\\r\\n1,100,66,29,196,32.0,0.444,42,0\\r\\n5,166,76,0,0,45.7,0.340,27,1\\r\\n1,131,64,14,415,23.7,0.389,21,0\\r\\n4,116,72,12,87,22.1,0.463,37,0\\r\\n4,158,78,0,0,32.9,0.803,31,1\\r\\n2,127,58,24,275,27.7,1.600,25,0\\r\\n3,96,56,34,115,24.7,0.944,39,0\\r\\n0,131,66,40,0,34.3,0.196,22,1\\r\\n3,82,70,0,0,21.1,0.389,25,0\\r\\n3,193,70,31,0,34.9,0.241,25,1\\r\\n4,95,64,0,0,32.0,0.161,31,1\\r\\n6,137,61,0,0,24.2,0.151,55,0\\r\\n5,136,84,41,88,35.0,0.286,35,1\\r\\n9,72,78,25,0,31.6,0.280,38,0\\r\\n5,168,64,0,0,32.9,0.135,41,1\\r\\n2,123,48,32,165,42.1,0.520,26,0\\r\\n4,115,72,0,0,28.9,0.376,46,1\\r\\n0,101,62,0,0,21.9,0.336,25,0\\r\\n8,197,74,0,0,25.9,1.191,39,1\\r\\n1,172,68,49,579,42.4,0.702,28,1\\r\\n6,102,90,39,0,35.7,0.674,28,0\\r\\n1,112,72,30,176,34.4,0.528,25,0\\r\\n1,143,84,23,310,42.4,1.076,22,0\\r\\n1,143,74,22,61,26.2,0.256,21,0\\r\\n0,138,60,35,167,34.6,0.534,21,1\\r\\n3,173,84,33,474,35.7,0.258,22,1\\r\\n1,97,68,21,0,27.2,1.095,22,0\\r\\n4,144,82,32,0,38.5,0.554,37,1\\r\\n1,83,68,0,0,18.2,0.624,27,0\\r\\n3,129,64,29,115,26.4,0.219,28,1\\r\\n1,119,88,41,170,45.3,0.507,26,0\\r\\n2,94,68,18,76,26.0,0.561,21,0\\r\\n0,102,64,46,78,40.6,0.496,21,0\\r\\n2,115,64,22,0,30.8,0.421,21,0\\r\\n8,151,78,32,210,42.9,0.516,36,1\\r\\n4,184,78,39,277,37.0,0.264,31,1\\r\\n0,94,0,0,0,0.0,0.256,25,0\\r\\n1,181,64,30,180,34.1,0.328,38,1\\r\\n0,135,94,46,145,40.6,0.284,26,0\\r\\n1,95,82,25,180,35.0,0.233,43,1\\r\\n2,99,0,0,0,22.2,0.108,23,0\\r\\n3,89,74,16,85,30.4,0.551,38,0\\r\\n1,80,74,11,60,30.0,0.527,22,0\\r\\n2,139,75,0,0,25.6,0.167,29,0\\r\\n1,90,68,8,0,24.5,1.138,36,0\\r\\n0,141,0,0,0,42.4,0.205,29,1\\r\\n12,140,85,33,0,37.4,0.244,41,0\\r\\n5,147,75,0,0,29.9,0.434,28,0\\r\\n1,97,70,15,0,18.2,0.147,21,0\\r\\n6,107,88,0,0,36.8,0.727,31,0\\r\\n0,189,104,25,0,34.3,0.435,41,1\\r\\n2,83,66,23,50,32.2,0.497,22,0\\r\\n4,117,64,27,120,33.2,0.230,24,0\\r\\n8,108,70,0,0,30.5,0.955,33,1\\r\\n4,117,62,12,0,29.7,0.380,30,1\\r\\n0,180,78,63,14,59.4,2.420,25,1\\r\\n1,100,72,12,70,25.3,0.658,28,0\\r\\n0,95,80,45,92,36.5,0.330,26,0\\r\\n0,104,64,37,64,33.6,0.510,22,1\\r\\n0,120,74,18,63,30.5,0.285,26,0\\r\\n1,82,64,13,95,21.2,0.415,23,0\\r\\n2,134,70,0,0,28.9,0.542,23,1\\r\\n0,91,68,32,210,39.9,0.381,25,0\\r\\n2,119,0,0,0,19.6,0.832,72,0\\r\\n2,100,54,28,105,37.8,0.498,24,0\\r\\n14,175,62,30,0,33.6,0.212,38,1\\r\\n1,135,54,0,0,26.7,0.687,62,0\\r\\n5,86,68,28,71,30.2,0.364,24,0\\r\\n10,148,84,48,237,37.6,1.001,51,1\\r\\n9,134,74,33,60,25.9,0.460,81,0\\r\\n9,120,72,22,56,20.8,0.733,48,0\\r\\n1,71,62,0,0,21.8,0.416,26,0\\r\\n8,74,70,40,49,35.3,0.705,39,0\\r\\n5,88,78,30,0,27.6,0.258,37,0\\r\\n10,115,98,0,0,24.0,1.022,34,0\\r\\n0,124,56,13,105,21.8,0.452,21,0\\r\\n0,74,52,10,36,27.8,0.269,22,0\\r\\n0,97,64,36,100,36.8,0.600,25,0\\r\\n8,120,0,0,0,30.0,0.183,38,1\\r\\n6,154,78,41,140,46.1,0.571,27,0\\r\\n1,144,82,40,0,41.3,0.607,28,0\\r\\n0,137,70,38,0,33.2,0.170,22,0\\r\\n0,119,66,27,0,38.8,0.259,22,0\\r\\n7,136,90,0,0,29.9,0.210,50,0\\r\\n4,114,64,0,0,28.9,0.126,24,0\\r\\n0,137,84,27,0,27.3,0.231,59,0\\r\\n2,105,80,45,191,33.7,0.711,29,1\\r\\n7,114,76,17,110,23.8,0.466,31,0\\r\\n8,126,74,38,75,25.9,0.162,39,0\\r\\n4,132,86,31,0,28.0,0.419,63,0\\r\\n3,158,70,30,328,35.5,0.344,35,1\\r\\n0,123,88,37,0,35.2,0.197,29,0\\r\\n4,85,58,22,49,27.8,0.306,28,0\\r\\n0,84,82,31,125,38.2,0.233,23,0\\r\\n0,145,0,0,0,44.2,0.630,31,1\\r\\n0,135,68,42,250,42.3,0.365,24,1\\r\\n1,139,62,41,480,40.7,0.536,21,0\\r\\n0,173,78,32,265,46.5,1.159,58,0\\r\\n4,99,72,17,0,25.6,0.294,28,0\\r\\n8,194,80,0,0,26.1,0.551,67,0\\r\\n2,83,65,28,66,36.8,0.629,24,0\\r\\n2,89,90,30,0,33.5,0.292,42,0\\r\\n4,99,68,38,0,32.8,0.145,33,0\\r\\n4,125,70,18,122,28.9,1.144,45,1\\r\\n3,80,0,0,0,0.0,0.174,22,0\\r\\n6,166,74,0,0,26.6,0.304,66,0\\r\\n5,110,68,0,0,26.0,0.292,30,0\\r\\n2,81,72,15,76,30.1,0.547,25,0\\r\\n7,195,70,33,145,25.1,0.163,55,1\\r\\n6,154,74,32,193,29.3,0.839,39,0\\r\\n2,117,90,19,71,25.2,0.313,21,0\\r\\n3,84,72,32,0,37.2,0.267,28,0\\r\\n6,0,68,41,0,39.0,0.727,41,1\\r\\n7,94,64,25,79,33.3,0.738,41,0\\r\\n3,96,78,39,0,37.3,0.238,40,0\\r\\n10,75,82,0,0,33.3,0.263,38,0\\r\\n0,180,90,26,90,36.5,0.314,35,1\\r\\n1,130,60,23,170,28.6,0.692,21,0\\r\\n2,84,50,23,76,30.4,0.968,21,0\\r\\n8,120,78,0,0,25.0,0.409,64,0\\r\\n12,84,72,31,0,29.7,0.297,46,1\\r\\n0,139,62,17,210,22.1,0.207,21,0\\r\\n9,91,68,0,0,24.2,0.200,58,0\\r\\n2,91,62,0,0,27.3,0.525,22,0\\r\\n3,99,54,19,86,25.6,0.154,24,0\\r\\n3,163,70,18,105,31.6,0.268,28,1\\r\\n9,145,88,34,165,30.3,0.771,53,1\\r\\n7,125,86,0,0,37.6,0.304,51,0\\r\\n13,76,60,0,0,32.8,0.180,41,0\\r\\n6,129,90,7,326,19.6,0.582,60,0\\r\\n2,68,70,32,66,25.0,0.187,25,0\\r\\n3,124,80,33,130,33.2,0.305,26,0\\r\\n6,114,0,0,0,0.0,0.189,26,0\\r\\n9,130,70,0,0,34.2,0.652,45,1\\r\\n3,125,58,0,0,31.6,0.151,24,0\\r\\n3,87,60,18,0,21.8,0.444,21,0\\r\\n1,97,64,19,82,18.2,0.299,21,0\\r\\n3,116,74,15,105,26.3,0.107,24,0\\r\\n0,117,66,31,188,30.8,0.493,22,0\\r\\n0,111,65,0,0,24.6,0.660,31,0\\r\\n2,122,60,18,106,29.8,0.717,22,0\\r\\n0,107,76,0,0,45.3,0.686,24,0\\r\\n1,86,66,52,65,41.3,0.917,29,0\\r\\n6,91,0,0,0,29.8,0.501,31,0\\r\\n1,77,56,30,56,33.3,1.251,24,0\\r\\n4,132,0,0,0,32.9,0.302,23,1\\r\\n0,105,90,0,0,29.6,0.197,46,0\\r\\n0,57,60,0,0,21.7,0.735,67,0\\r\\n0,127,80,37,210,36.3,0.804,23,0\\r\\n3,129,92,49,155,36.4,0.968,32,1\\r\\n8,100,74,40,215,39.4,0.661,43,1\\r\\n3,128,72,25,190,32.4,0.549,27,1\\r\\n10,90,85,32,0,34.9,0.825,56,1\\r\\n4,84,90,23,56,39.5,0.159,25,0\\r\\n1,88,78,29,76,32.0,0.365,29,0\\r\\n8,186,90,35,225,34.5,0.423,37,1\\r\\n5,187,76,27,207,43.6,1.034,53,1\\r\\n4,131,68,21,166,33.1,0.160,28,0\\r\\n1,164,82,43,67,32.8,0.341,50,0\\r\\n4,189,110,31,0,28.5,0.680,37,0\\r\\n1,116,70,28,0,27.4,0.204,21,0\\r\\n3,84,68,30,106,31.9,0.591,25,0\\r\\n6,114,88,0,0,27.8,0.247,66,0\\r\\n1,88,62,24,44,29.9,0.422,23,0\\r\\n1,84,64,23,115,36.9,0.471,28,0\\r\\n7,124,70,33,215,25.5,0.161,37,0\\r\\n1,97,70,40,0,38.1,0.218,30,0\\r\\n8,110,76,0,0,27.8,0.237,58,0\\r\\n11,103,68,40,0,46.2,0.126,42,0\\r\\n11,85,74,0,0,30.1,0.300,35,0\\r\\n6,125,76,0,0,33.8,0.121,54,1\\r\\n0,198,66,32,274,41.3,0.502,28,1\\r\\n1,87,68,34,77,37.6,0.401,24,0\\r\\n6,99,60,19,54,26.9,0.497,32,0\\r\\n0,91,80,0,0,32.4,0.601,27,0\\r\\n2,95,54,14,88,26.1,0.748,22,0\\r\\n1,99,72,30,18,38.6,0.412,21,0\\r\\n6,92,62,32,126,32.0,0.085,46,0\\r\\n4,154,72,29,126,31.3,0.338,37,0\\r\\n0,121,66,30,165,34.3,0.203,33,1\\r\\n3,78,70,0,0,32.5,0.270,39,0\\r\\n2,130,96,0,0,22.6,0.268,21,0\\r\\n3,111,58,31,44,29.5,0.430,22,0\\r\\n2,98,60,17,120,34.7,0.198,22,0\\r\\n1,143,86,30,330,30.1,0.892,23,0\\r\\n1,119,44,47,63,35.5,0.280,25,0\\r\\n6,108,44,20,130,24.0,0.813,35,0\\r\\n2,118,80,0,0,42.9,0.693,21,1\\r\\n10,133,68,0,0,27.0,0.245,36,0\\r\\n2,197,70,99,0,34.7,0.575,62,1\\r\\n0,151,90,46,0,42.1,0.371,21,1\\r\\n6,109,60,27,0,25.0,0.206,27,0\\r\\n12,121,78,17,0,26.5,0.259,62,0\\r\\n8,100,76,0,0,38.7,0.190,42,0\\r\\n8,124,76,24,600,28.7,0.687,52,1\\r\\n1,93,56,11,0,22.5,0.417,22,0\\r\\n8,143,66,0,0,34.9,0.129,41,1\\r\\n6,103,66,0,0,24.3,0.249,29,0\\r\\n3,176,86,27,156,33.3,1.154,52,1\\r\\n0,73,0,0,0,21.1,0.342,25,0\\r\\n11,111,84,40,0,46.8,0.925,45,1\\r\\n2,112,78,50,140,39.4,0.175,24,0\\r\\n3,132,80,0,0,34.4,0.402,44,1\\r\\n2,82,52,22,115,28.5,1.699,25,0\\r\\n6,123,72,45,230,33.6,0.733,34,0\\r\\n0,188,82,14,185,32.0,0.682,22,1\\r\\n0,67,76,0,0,45.3,0.194,46,0\\r\\n1,89,24,19,25,27.8,0.559,21,0\\r\\n1,173,74,0,0,36.8,0.088,38,1\\r\\n1,109,38,18,120,23.1,0.407,26,0\\r\\n1,108,88,19,0,27.1,0.400,24,0\\r\\n6,96,0,0,0,23.7,0.190,28,0\\r\\n1,124,74,36,0,27.8,0.100,30,0\\r\\n7,150,78,29,126,35.2,0.692,54,1\\r\\n4,183,0,0,0,28.4,0.212,36,1\\r\\n1,124,60,32,0,35.8,0.514,21,0\\r\\n1,181,78,42,293,40.0,1.258,22,1\\r\\n1,92,62,25,41,19.5,0.482,25,0\\r\\n0,152,82,39,272,41.5,0.270,27,0\\r\\n1,111,62,13,182,24.0,0.138,23,0\\r\\n3,106,54,21,158,30.9,0.292,24,0\\r\\n3,174,58,22,194,32.9,0.593,36,1\\r\\n7,168,88,42,321,38.2,0.787,40,1\\r\\n6,105,80,28,0,32.5,0.878,26,0\\r\\n11,138,74,26,144,36.1,0.557,50,1\\r\\n3,106,72,0,0,25.8,0.207,27,0\\r\\n6,117,96,0,0,28.7,0.157,30,0\\r\\n2,68,62,13,15,20.1,0.257,23,0\\r\\n9,112,82,24,0,28.2,1.282,50,1\\r\\n0,119,0,0,0,32.4,0.141,24,1\\r\\n2,112,86,42,160,38.4,0.246,28,0\\r\\n2,92,76,20,0,24.2,1.698,28,0\\r\\n6,183,94,0,0,40.8,1.461,45,0\\r\\n0,94,70,27,115,43.5,0.347,21,0\\r\\n2,108,64,0,0,30.8,0.158,21,0\\r\\n4,90,88,47,54,37.7,0.362,29,0\\r\\n0,125,68,0,0,24.7,0.206,21,0\\r\\n0,132,78,0,0,32.4,0.393,21,0\\r\\n5,128,80,0,0,34.6,0.144,45,0\\r\\n4,94,65,22,0,24.7,0.148,21,0\\r\\n7,114,64,0,0,27.4,0.732,34,1\\r\\n0,102,78,40,90,34.5,0.238,24,0\\r\\n2,111,60,0,0,26.2,0.343,23,0\\r\\n1,128,82,17,183,27.5,0.115,22,0\\r\\n10,92,62,0,0,25.9,0.167,31,0\\r\\n13,104,72,0,0,31.2,0.465,38,1\\r\\n5,104,74,0,0,28.8,0.153,48,0\\r\\n2,94,76,18,66,31.6,0.649,23,0\\r\\n7,97,76,32,91,40.9,0.871,32,1\\r\\n1,100,74,12,46,19.5,0.149,28,0\\r\\n0,102,86,17,105,29.3,0.695,27,0\\r\\n4,128,70,0,0,34.3,0.303,24,0\\r\\n6,147,80,0,0,29.5,0.178,50,1\\r\\n4,90,0,0,0,28.0,0.610,31,0\\r\\n3,103,72,30,152,27.6,0.730,27,0\\r\\n2,157,74,35,440,39.4,0.134,30,0\\r\\n1,167,74,17,144,23.4,0.447,33,1\\r\\n0,179,50,36,159,37.8,0.455,22,1\\r\\n11,136,84,35,130,28.3,0.260,42,1\\r\\n0,107,60,25,0,26.4,0.133,23,0\\r\\n1,91,54,25,100,25.2,0.234,23,0\\r\\n1,117,60,23,106,33.8,0.466,27,0\\r\\n5,123,74,40,77,34.1,0.269,28,0\\r\\n2,120,54,0,0,26.8,0.455,27,0\\r\\n1,106,70,28,135,34.2,0.142,22,0\\r\\n2,155,52,27,540,38.7,0.240,25,1\\r\\n2,101,58,35,90,21.8,0.155,22,0\\r\\n1,120,80,48,200,38.9,1.162,41,0\\r\\n11,127,106,0,0,39.0,0.190,51,0\\r\\n3,80,82,31,70,34.2,1.292,27,1\\r\\n10,162,84,0,0,27.7,0.182,54,0\\r\\n1,199,76,43,0,42.9,1.394,22,1\\r\\n8,167,106,46,231,37.6,0.165,43,1\\r\\n9,145,80,46,130,37.9,0.637,40,1\\r\\n6,115,60,39,0,33.7,0.245,40,1\\r\\n1,112,80,45,132,34.8,0.217,24,0\\r\\n4,145,82,18,0,32.5,0.235,70,1\\r\\n10,111,70,27,0,27.5,0.141,40,1\\r\\n6,98,58,33,190,34.0,0.430,43,0\\r\\n9,154,78,30,100,30.9,0.164,45,0\\r\\n6,165,68,26,168,33.6,0.631,49,0\\r\\n1,99,58,10,0,25.4,0.551,21,0\\r\\n10,68,106,23,49,35.5,0.285,47,0\\r\\n3,123,100,35,240,57.3,0.880,22,0\\r\\n8,91,82,0,0,35.6,0.587,68,0\\r\\n6,195,70,0,0,30.9,0.328,31,1\\r\\n9,156,86,0,0,24.8,0.230,53,1\\r\\n0,93,60,0,0,35.3,0.263,25,0\\r\\n3,121,52,0,0,36.0,0.127,25,1\\r\\n2,101,58,17,265,24.2,0.614,23,0\\r\\n2,56,56,28,45,24.2,0.332,22,0\\r\\n0,162,76,36,0,49.6,0.364,26,1\\r\\n0,95,64,39,105,44.6,0.366,22,0\\r\\n4,125,80,0,0,32.3,0.536,27,1\\r\\n5,136,82,0,0,0.0,0.640,69,0\\r\\n2,129,74,26,205,33.2,0.591,25,0\\r\\n3,130,64,0,0,23.1,0.314,22,0\\r\\n1,107,50,19,0,28.3,0.181,29,0\\r\\n1,140,74,26,180,24.1,0.828,23,0\\r\\n1,144,82,46,180,46.1,0.335,46,1\\r\\n8,107,80,0,0,24.6,0.856,34,0\\r\\n13,158,114,0,0,42.3,0.257,44,1\\r\\n2,121,70,32,95,39.1,0.886,23,0\\r\\n7,129,68,49,125,38.5,0.439,43,1\\r\\n2,90,60,0,0,23.5,0.191,25,0\\r\\n7,142,90,24,480,30.4,0.128,43,1\\r\\n3,169,74,19,125,29.9,0.268,31,1\\r\\n0,99,0,0,0,25.0,0.253,22,0\\r\\n4,127,88,11,155,34.5,0.598,28,0\\r\\n4,118,70,0,0,44.5,0.904,26,0\\r\\n2,122,76,27,200,35.9,0.483,26,0\\r\\n6,125,78,31,0,27.6,0.565,49,1\\r\\n1,168,88,29,0,35.0,0.905,52,1\\r\\n2,129,0,0,0,38.5,0.304,41,0\\r\\n4,110,76,20,100,28.4,0.118,27,0\\r\\n6,80,80,36,0,39.8,0.177,28,0\\r\\n10,115,0,0,0,0.0,0.261,30,1\\r\\n2,127,46,21,335,34.4,0.176,22,0\\r\\n9,164,78,0,0,32.8,0.148,45,1\\r\\n2,93,64,32,160,38.0,0.674,23,1\\r\\n3,158,64,13,387,31.2,0.295,24,0\\r\\n5,126,78,27,22,29.6,0.439,40,0\\r\\n10,129,62,36,0,41.2,0.441,38,1\\r\\n0,134,58,20,291,26.4,0.352,21,0\\r\\n3,102,74,0,0,29.5,0.121,32,0\\r\\n7,187,50,33,392,33.9,0.826,34,1\\r\\n3,173,78,39,185,33.8,0.970,31,1\\r\\n10,94,72,18,0,23.1,0.595,56,0\\r\\n1,108,60,46,178,35.5,0.415,24,0\\r\\n5,97,76,27,0,35.6,0.378,52,1\\r\\n4,83,86,19,0,29.3,0.317,34,0\\r\\n1,114,66,36,200,38.1,0.289,21,0\\r\\n1,149,68,29,127,29.3,0.349,42,1\\r\\n5,117,86,30,105,39.1,0.251,42,0\\r\\n1,111,94,0,0,32.8,0.265,45,0\\r\\n4,112,78,40,0,39.4,0.236,38,0\\r\\n1,116,78,29,180,36.1,0.496,25,0\\r\\n0,141,84,26,0,32.4,0.433,22,0\\r\\n2,175,88,0,0,22.9,0.326,22,0\\r\\n2,92,52,0,0,30.1,0.141,22,0\\r\\n3,130,78,23,79,28.4,0.323,34,1\\r\\n8,120,86,0,0,28.4,0.259,22,1\\r\\n2,174,88,37,120,44.5,0.646,24,1\\r\\n2,106,56,27,165,29.0,0.426,22,0\\r\\n2,105,75,0,0,23.3,0.560,53,0\\r\\n4,95,60,32,0,35.4,0.284,28,0\\r\\n0,126,86,27,120,27.4,0.515,21,0\\r\\n8,65,72,23,0,32.0,0.600,42,0\\r\\n2,99,60,17,160,36.6,0.453,21,0\\r\\n1,102,74,0,0,39.5,0.293,42,1\\r\\n11,120,80,37,150,42.3,0.785,48,1\\r\\n3,102,44,20,94,30.8,0.400,26,0\\r\\n1,109,58,18,116,28.5,0.219,22,0\\r\\n9,140,94,0,0,32.7,0.734,45,1\\r\\n13,153,88,37,140,40.6,1.174,39,0\\r\\n12,100,84,33,105,30.0,0.488,46,0\\r\\n1,147,94,41,0,49.3,0.358,27,1\\r\\n1,81,74,41,57,46.3,1.096,32,0\\r\\n3,187,70,22,200,36.4,0.408,36,1\\r\\n6,162,62,0,0,24.3,0.178,50,1\\r\\n4,136,70,0,0,31.2,1.182,22,1\\r\\n1,121,78,39,74,39.0,0.261,28,0\\r\\n3,108,62,24,0,26.0,0.223,25,0\\r\\n0,181,88,44,510,43.3,0.222,26,1\\r\\n8,154,78,32,0,32.4,0.443,45,1\\r\\n1,128,88,39,110,36.5,1.057,37,1\\r\\n7,137,90,41,0,32.0,0.391,39,0\\r\\n0,123,72,0,0,36.3,0.258,52,1\\r\\n1,106,76,0,0,37.5,0.197,26,0\\r\\n6,190,92,0,0,35.5,0.278,66,1\\r\\n2,88,58,26,16,28.4,0.766,22,0\\r\\n9,170,74,31,0,44.0,0.403,43,1\\r\\n9,89,62,0,0,22.5,0.142,33,0\\r\\n10,101,76,48,180,32.9,0.171,63,0\\r\\n2,122,70,27,0,36.8,0.340,27,0\\r\\n5,121,72,23,112,26.2,0.245,30,0\\r\\n1,126,60,0,0,30.1,0.349,47,1\\r\\n1,93,70,31,0,30.4,0.315,23,0\\r\\n'}"
            ]
          },
          "metadata": {},
          "execution_count": 121
        }
      ]
    },
    {
      "cell_type": "code",
      "source": [
        "df3 = pd.read_csv('pima.csv')"
      ],
      "metadata": {
        "id": "C2GubxL7-SeY"
      },
      "execution_count": null,
      "outputs": []
    },
    {
      "cell_type": "code",
      "source": [
        "df3.head()"
      ],
      "metadata": {
        "colab": {
          "base_uri": "https://localhost:8080/",
          "height": 260
        },
        "id": "_g1l2_TyCcao",
        "outputId": "86ff1caa-f96a-4fbb-e04d-36896f07ccc7"
      },
      "execution_count": null,
      "outputs": [
        {
          "output_type": "execute_result",
          "data": {
            "text/plain": [
              "   times  glucose  blood  skin  insulin   BMI  pedigree  age  class\n",
              "0      6      148     72    35        0  33.6     0.627   50      1\n",
              "1      1       85     66    29        0  26.6     0.351   31      0\n",
              "2      8      183     64     0        0  23.3     0.672   32      1\n",
              "3      1       89     66    23       94  28.1     0.167   21      0\n",
              "4      0      137     40    35      168  43.1     2.288   33      1"
            ],
            "text/html": [
              "\n",
              "  <div id=\"df-63272ae6-8846-41de-86ce-53f413a68e64\">\n",
              "    <div class=\"colab-df-container\">\n",
              "      <div>\n",
              "<style scoped>\n",
              "    .dataframe tbody tr th:only-of-type {\n",
              "        vertical-align: middle;\n",
              "    }\n",
              "\n",
              "    .dataframe tbody tr th {\n",
              "        vertical-align: top;\n",
              "    }\n",
              "\n",
              "    .dataframe thead th {\n",
              "        text-align: right;\n",
              "    }\n",
              "</style>\n",
              "<table border=\"1\" class=\"dataframe\">\n",
              "  <thead>\n",
              "    <tr style=\"text-align: right;\">\n",
              "      <th></th>\n",
              "      <th>times</th>\n",
              "      <th>glucose</th>\n",
              "      <th>blood</th>\n",
              "      <th>skin</th>\n",
              "      <th>insulin</th>\n",
              "      <th>BMI</th>\n",
              "      <th>pedigree</th>\n",
              "      <th>age</th>\n",
              "      <th>class</th>\n",
              "    </tr>\n",
              "  </thead>\n",
              "  <tbody>\n",
              "    <tr>\n",
              "      <th>0</th>\n",
              "      <td>6</td>\n",
              "      <td>148</td>\n",
              "      <td>72</td>\n",
              "      <td>35</td>\n",
              "      <td>0</td>\n",
              "      <td>33.6</td>\n",
              "      <td>0.627</td>\n",
              "      <td>50</td>\n",
              "      <td>1</td>\n",
              "    </tr>\n",
              "    <tr>\n",
              "      <th>1</th>\n",
              "      <td>1</td>\n",
              "      <td>85</td>\n",
              "      <td>66</td>\n",
              "      <td>29</td>\n",
              "      <td>0</td>\n",
              "      <td>26.6</td>\n",
              "      <td>0.351</td>\n",
              "      <td>31</td>\n",
              "      <td>0</td>\n",
              "    </tr>\n",
              "    <tr>\n",
              "      <th>2</th>\n",
              "      <td>8</td>\n",
              "      <td>183</td>\n",
              "      <td>64</td>\n",
              "      <td>0</td>\n",
              "      <td>0</td>\n",
              "      <td>23.3</td>\n",
              "      <td>0.672</td>\n",
              "      <td>32</td>\n",
              "      <td>1</td>\n",
              "    </tr>\n",
              "    <tr>\n",
              "      <th>3</th>\n",
              "      <td>1</td>\n",
              "      <td>89</td>\n",
              "      <td>66</td>\n",
              "      <td>23</td>\n",
              "      <td>94</td>\n",
              "      <td>28.1</td>\n",
              "      <td>0.167</td>\n",
              "      <td>21</td>\n",
              "      <td>0</td>\n",
              "    </tr>\n",
              "    <tr>\n",
              "      <th>4</th>\n",
              "      <td>0</td>\n",
              "      <td>137</td>\n",
              "      <td>40</td>\n",
              "      <td>35</td>\n",
              "      <td>168</td>\n",
              "      <td>43.1</td>\n",
              "      <td>2.288</td>\n",
              "      <td>33</td>\n",
              "      <td>1</td>\n",
              "    </tr>\n",
              "  </tbody>\n",
              "</table>\n",
              "</div>\n",
              "      <button class=\"colab-df-convert\" onclick=\"convertToInteractive('df-63272ae6-8846-41de-86ce-53f413a68e64')\"\n",
              "              title=\"Convert this dataframe to an interactive table.\"\n",
              "              style=\"display:none;\">\n",
              "        \n",
              "  <svg xmlns=\"http://www.w3.org/2000/svg\" height=\"24px\"viewBox=\"0 0 24 24\"\n",
              "       width=\"24px\">\n",
              "    <path d=\"M0 0h24v24H0V0z\" fill=\"none\"/>\n",
              "    <path d=\"M18.56 5.44l.94 2.06.94-2.06 2.06-.94-2.06-.94-.94-2.06-.94 2.06-2.06.94zm-11 1L8.5 8.5l.94-2.06 2.06-.94-2.06-.94L8.5 2.5l-.94 2.06-2.06.94zm10 10l.94 2.06.94-2.06 2.06-.94-2.06-.94-.94-2.06-.94 2.06-2.06.94z\"/><path d=\"M17.41 7.96l-1.37-1.37c-.4-.4-.92-.59-1.43-.59-.52 0-1.04.2-1.43.59L10.3 9.45l-7.72 7.72c-.78.78-.78 2.05 0 2.83L4 21.41c.39.39.9.59 1.41.59.51 0 1.02-.2 1.41-.59l7.78-7.78 2.81-2.81c.8-.78.8-2.07 0-2.86zM5.41 20L4 18.59l7.72-7.72 1.47 1.35L5.41 20z\"/>\n",
              "  </svg>\n",
              "      </button>\n",
              "      \n",
              "  <style>\n",
              "    .colab-df-container {\n",
              "      display:flex;\n",
              "      flex-wrap:wrap;\n",
              "      gap: 12px;\n",
              "    }\n",
              "\n",
              "    .colab-df-convert {\n",
              "      background-color: #E8F0FE;\n",
              "      border: none;\n",
              "      border-radius: 50%;\n",
              "      cursor: pointer;\n",
              "      display: none;\n",
              "      fill: #1967D2;\n",
              "      height: 32px;\n",
              "      padding: 0 0 0 0;\n",
              "      width: 32px;\n",
              "    }\n",
              "\n",
              "    .colab-df-convert:hover {\n",
              "      background-color: #E2EBFA;\n",
              "      box-shadow: 0px 1px 2px rgba(60, 64, 67, 0.3), 0px 1px 3px 1px rgba(60, 64, 67, 0.15);\n",
              "      fill: #174EA6;\n",
              "    }\n",
              "\n",
              "    [theme=dark] .colab-df-convert {\n",
              "      background-color: #3B4455;\n",
              "      fill: #D2E3FC;\n",
              "    }\n",
              "\n",
              "    [theme=dark] .colab-df-convert:hover {\n",
              "      background-color: #434B5C;\n",
              "      box-shadow: 0px 1px 3px 1px rgba(0, 0, 0, 0.15);\n",
              "      filter: drop-shadow(0px 1px 2px rgba(0, 0, 0, 0.3));\n",
              "      fill: #FFFFFF;\n",
              "    }\n",
              "  </style>\n",
              "\n",
              "      <script>\n",
              "        const buttonEl =\n",
              "          document.querySelector('#df-63272ae6-8846-41de-86ce-53f413a68e64 button.colab-df-convert');\n",
              "        buttonEl.style.display =\n",
              "          google.colab.kernel.accessAllowed ? 'block' : 'none';\n",
              "\n",
              "        async function convertToInteractive(key) {\n",
              "          const element = document.querySelector('#df-63272ae6-8846-41de-86ce-53f413a68e64');\n",
              "          const dataTable =\n",
              "            await google.colab.kernel.invokeFunction('convertToInteractive',\n",
              "                                                     [key], {});\n",
              "          if (!dataTable) return;\n",
              "\n",
              "          const docLinkHtml = 'Like what you see? Visit the ' +\n",
              "            '<a target=\"_blank\" href=https://colab.research.google.com/notebooks/data_table.ipynb>data table notebook</a>'\n",
              "            + ' to learn more about interactive tables.';\n",
              "          element.innerHTML = '';\n",
              "          dataTable['output_type'] = 'display_data';\n",
              "          await google.colab.output.renderOutput(dataTable, element);\n",
              "          const docLink = document.createElement('div');\n",
              "          docLink.innerHTML = docLinkHtml;\n",
              "          element.appendChild(docLink);\n",
              "        }\n",
              "      </script>\n",
              "    </div>\n",
              "  </div>\n",
              "  "
            ]
          },
          "metadata": {},
          "execution_count": 134
        }
      ]
    },
    {
      "cell_type": "markdown",
      "source": [
        "##a"
      ],
      "metadata": {
        "id": "-_5F4Ji1-omw"
      }
    },
    {
      "cell_type": "code",
      "source": [
        "from sklearn.model_selection import train_test_split"
      ],
      "metadata": {
        "id": "swpBfvr7-e2d"
      },
      "execution_count": null,
      "outputs": []
    },
    {
      "cell_type": "code",
      "source": [
        "df_train, df_test = train_test_split(df3, test_size=0.7)"
      ],
      "metadata": {
        "id": "IPhVaw1j-nZL"
      },
      "execution_count": null,
      "outputs": []
    },
    {
      "cell_type": "code",
      "source": [
        "x_tr, y_tr = df_train.values[:,:-1], df_train.values[:,-1]\n",
        "x_te, y_te = df_test.values[:,:-1], df_test.values[:,-1]"
      ],
      "metadata": {
        "id": "476Z2p6M-tJe"
      },
      "execution_count": null,
      "outputs": []
    },
    {
      "cell_type": "code",
      "source": [
        "logreg = LogisticRegression(penalty='none', max_iter = 1000).fit(x_tr,y_tr)"
      ],
      "metadata": {
        "id": "AMhKMCUz_Ohi"
      },
      "execution_count": null,
      "outputs": []
    },
    {
      "cell_type": "markdown",
      "source": [
        "## b"
      ],
      "metadata": {
        "id": "1MQZ5IklAIRf"
      }
    },
    {
      "cell_type": "code",
      "source": [
        "# chcemy miec siatke wspolczynnikow od 0.0001 do 10 000 licznosci 20 \n",
        "logreg_z_siatka_cs =  LogisticRegressionCV(Cs=20,max_iter = 1000)\n",
        "logreg_z_siatka_cs.fit(x_tr, y_tr)\n",
        "print(logreg_z_siatka_cs.coefs_paths_,\n",
        "logreg_z_siatka_cs.intercept_,\n",
        "logreg_z_siatka_cs.Cs_)"
      ],
      "metadata": {
        "colab": {
          "base_uri": "https://localhost:8080/"
        },
        "id": "xJ9TawS0_4au",
        "outputId": "40aa950d-5fb0-42b0-e40c-ca64e8397d03"
      },
      "execution_count": null,
      "outputs": [
        {
          "output_type": "stream",
          "name": "stdout",
          "text": [
            "{1.0: array([[[ 2.59417076e-03,  3.20934772e-02, -4.01635612e-03,\n",
            "         -2.36192462e-03,  8.47696539e-04,  6.24977584e-03,\n",
            "          4.11374305e-05,  8.85907381e-03, -4.77362177e+00],\n",
            "        [ 5.50339587e-03,  3.89358395e-02, -6.63368051e-03,\n",
            "         -2.21557114e-03,  3.16578943e-04,  1.25384864e-02,\n",
            "          1.20604888e-04,  1.34581702e-02, -5.79058058e+00],\n",
            "        [ 1.13507759e-02,  4.27013470e-02, -9.02988223e-03,\n",
            "         -2.35251020e-03,  6.25688828e-06,  2.20885053e-02,\n",
            "          3.37476594e-04,  1.77688183e-02, -6.55821914e+00],\n",
            "        [ 2.18966054e-02,  4.43441294e-02, -1.06388636e-02,\n",
            "         -3.32083833e-03, -8.71428254e-05,  3.25283935e-02,\n",
            "          9.46687153e-04,  1.98167879e-02, -7.08595350e+00],\n",
            "        [ 3.67208036e-02,  4.50654937e-02, -1.15216958e-02,\n",
            "         -4.42551985e-03, -7.49477798e-05,  4.05219232e-02,\n",
            "          2.65744599e-03,  1.93211749e-02, -7.40489019e+00],\n",
            "        [ 5.03698078e-02,  4.49033679e-02, -1.22469013e-02,\n",
            "         -5.09597333e-03,  1.21838003e-05,  4.31554541e-02,\n",
            "          7.38901790e-03,  1.74109405e-02, -7.40667529e+00],\n",
            "        [ 5.97418151e-02,  4.57163218e-02, -1.21778603e-02,\n",
            "         -5.33117222e-03, -4.93303176e-05,  4.70481590e-02,\n",
            "          1.92629734e-02,  1.65995184e-02, -7.65312976e+00],\n",
            "        [ 6.41869981e-02,  4.57124810e-02, -1.23326206e-02,\n",
            "         -5.42540715e-03, -6.13055234e-05,  4.74148860e-02,\n",
            "          4.62472127e-02,  1.58034476e-02, -7.65449327e+00],\n",
            "        [ 6.65340802e-02,  4.57181792e-02, -1.24121464e-02,\n",
            "         -5.43132752e-03, -1.12892928e-04,  4.73548177e-02,\n",
            "          9.69281026e-02,  1.52998277e-02, -7.65908501e+00],\n",
            "        [ 6.83908581e-02,  4.60645326e-02, -1.23324030e-02,\n",
            "         -5.41721647e-03, -2.30179286e-04,  4.82918882e-02,\n",
            "          1.69619849e-01,  1.50825958e-02, -7.76506486e+00],\n",
            "        [ 6.93411347e-02,  4.60501762e-02, -1.23729084e-02,\n",
            "         -5.41159566e-03, -2.95620372e-04,  4.80030547e-02,\n",
            "          2.31198956e-01,  1.47435090e-02, -7.76595533e+00],\n",
            "        [ 6.93411739e-02,  4.60499383e-02, -1.23730961e-02,\n",
            "         -5.41161396e-03, -2.96252406e-04,  4.80029813e-02,\n",
            "          2.31199161e-01,  1.47434404e-02, -7.76595537e+00],\n",
            "        [ 6.93414271e-02,  4.60506463e-02, -1.23729605e-02,\n",
            "         -5.41137447e-03, -2.96637144e-04,  4.80031656e-02,\n",
            "          2.31200122e-01,  1.47435939e-02, -7.76595549e+00],\n",
            "        [ 6.93414611e-02,  4.60503768e-02, -1.23731474e-02,\n",
            "         -5.41138919e-03, -2.96848256e-04,  4.80030999e-02,\n",
            "          2.31200302e-01,  1.47435094e-02, -7.76595552e+00],\n",
            "        [ 6.93416492e-02,  4.60506300e-02, -1.23731857e-02,\n",
            "         -5.41120230e-03, -2.96509694e-04,  4.80031841e-02,\n",
            "          2.31201063e-01,  1.47435232e-02, -7.76595561e+00],\n",
            "        [ 6.93416870e-02,  4.60503761e-02, -1.23733630e-02,\n",
            "         -5.41121967e-03, -2.96758899e-04,  4.80031236e-02,\n",
            "          2.31201253e-01,  1.47434453e-02, -7.76595563e+00],\n",
            "        [ 6.93418800e-02,  4.60506924e-02, -1.23733561e-02,\n",
            "         -5.41103992e-03, -2.96519455e-04,  4.80032254e-02,\n",
            "          2.31202016e-01,  1.47434844e-02, -7.76595572e+00],\n",
            "        [ 6.93419182e-02,  4.60504371e-02, -1.23735319e-02,\n",
            "         -5.41105833e-03, -2.96771025e-04,  4.80031647e-02,\n",
            "          2.31202207e-01,  1.47434066e-02, -7.76595574e+00],\n",
            "        [ 6.93421114e-02,  4.60507517e-02, -1.23735164e-02,\n",
            "         -5.41088178e-03, -2.96534785e-04,  4.80032660e-02,\n",
            "          2.31202971e-01,  1.47434468e-02, -7.76595582e+00],\n",
            "        [ 6.93421497e-02,  4.60504959e-02, -1.23736903e-02,\n",
            "         -5.41090084e-03, -2.96786039e-04,  4.80032052e-02,\n",
            "          2.31203162e-01,  1.47433692e-02, -7.76595585e+00]],\n",
            "\n",
            "       [[ 2.61258429e-03,  3.01551135e-02, -2.77081551e-03,\n",
            "         -2.80689096e-03,  9.20908730e-04,  1.02198720e-02,\n",
            "          1.84037225e-04,  1.17755955e-02, -4.78350255e+00],\n",
            "        [ 5.03850062e-03,  3.59118089e-02, -5.15820103e-03,\n",
            "         -3.61729105e-03,  4.84871122e-04,  2.13303869e-02,\n",
            "          4.74356612e-04,  1.89611456e-02, -5.90226324e+00],\n",
            "        [ 9.34057269e-03,  3.84808662e-02, -7.61913743e-03,\n",
            "         -5.60591217e-03,  2.98997776e-04,  3.91442268e-02,\n",
            "          1.26060490e-03,  2.64959059e-02, -6.85669527e+00],\n",
            "        [ 1.66319656e-02,  3.92046036e-02, -9.53120493e-03,\n",
            "         -8.86203325e-03,  3.05189701e-04,  5.96500308e-02,\n",
            "          3.28930957e-03,  3.18672387e-02, -7.63845483e+00],\n",
            "        [ 2.63016071e-02,  3.93411586e-02, -1.07272540e-02,\n",
            "         -1.18884589e-02,  3.72847254e-04,  7.58785814e-02,\n",
            "          8.71334847e-03,  3.43180430e-02, -8.17830687e+00],\n",
            "        [ 3.51194609e-02,  3.93677620e-02, -1.13439250e-02,\n",
            "         -1.37701913e-02,  4.15968791e-04,  8.52578184e-02,\n",
            "          2.30672832e-02,  3.48873196e-02, -8.47662874e+00],\n",
            "        [ 4.10062505e-02,  3.93951330e-02, -1.16406685e-02,\n",
            "         -1.47337928e-02,  4.07928068e-04,  8.96907251e-02,\n",
            "          5.85901765e-02,  3.47440854e-02, -8.62221768e+00],\n",
            "        [ 4.40233134e-02,  3.92109428e-02, -1.19757359e-02,\n",
            "         -1.51599784e-02,  3.49907303e-04,  9.06433118e-02,\n",
            "          1.36251416e-01,  3.42241279e-02, -8.62427532e+00],\n",
            "        [ 4.59873426e-02,  3.91001295e-02, -1.22754469e-02,\n",
            "         -1.54608205e-02,  2.15484489e-04,  9.07993182e-02,\n",
            "          2.76424245e-01,  3.36215072e-02, -8.63149981e+00],\n",
            "        [ 4.78311339e-02,  3.96478327e-02, -1.21879323e-02,\n",
            "         -1.58739181e-02, -1.24339057e-05,  9.35195310e-02,\n",
            "          4.64706630e-01,  3.37770789e-02, -8.87686083e+00],\n",
            "        [ 4.90975548e-02,  3.95891611e-02, -1.24824015e-02,\n",
            "         -1.61222083e-02, -1.43612293e-04,  9.31300204e-02,\n",
            "          6.15579455e-01,  3.32126131e-02, -8.87756819e+00],\n",
            "        [ 4.98258863e-02,  3.95935788e-02, -1.26463424e-02,\n",
            "         -1.62686520e-02, -2.23099284e-04,  9.30508534e-02,\n",
            "          7.06094538e-01,  3.29350442e-02, -8.89112313e+00],\n",
            "        [ 4.98259412e-02,  3.95935780e-02, -1.26464152e-02,\n",
            "         -1.62690173e-02, -2.23503510e-04,  9.30506564e-02,\n",
            "          7.06094947e-01,  3.29348890e-02, -8.89112335e+00],\n",
            "        [ 4.98259773e-02,  3.95939095e-02, -1.26462638e-02,\n",
            "         -1.62690868e-02, -2.23271950e-04,  9.30506757e-02,\n",
            "          7.06095175e-01,  3.29349169e-02, -8.89112343e+00],\n",
            "        [ 4.98260338e-02,  3.95937367e-02, -1.26464292e-02,\n",
            "         -1.62694202e-02, -2.23555550e-04,  9.30504861e-02,\n",
            "          7.06095745e-01,  3.29347335e-02, -8.89112363e+00],\n",
            "        [ 4.98260719e-02,  3.95940828e-02, -1.26462671e-02,\n",
            "         -1.62694767e-02, -2.23283419e-04,  9.30505177e-02,\n",
            "          7.06095998e-01,  3.29347688e-02, -8.89112371e+00],\n",
            "        [ 4.98261285e-02,  3.95938797e-02, -1.26464413e-02,\n",
            "         -1.62697966e-02, -2.23547122e-04,  9.30503317e-02,\n",
            "          7.06096587e-01,  3.29345825e-02, -8.89112390e+00],\n",
            "        [ 4.98261669e-02,  3.95942232e-02, -1.26462772e-02,\n",
            "         -1.62698478e-02, -2.23269341e-04,  9.30503657e-02,\n",
            "          7.06096845e-01,  3.29346188e-02, -8.89112398e+00],\n",
            "        [ 4.98262237e-02,  3.95940113e-02, -1.26464481e-02,\n",
            "         -1.62701571e-02, -2.23526507e-04,  9.30501833e-02,\n",
            "          7.06097436e-01,  3.29344336e-02, -8.89112417e+00],\n",
            "        [ 4.98262622e-02,  3.95943504e-02, -1.26462831e-02,\n",
            "         -1.62702044e-02, -2.23249341e-04,  9.30502184e-02,\n",
            "          7.06097694e-01,  3.29344700e-02, -8.89112425e+00]],\n",
            "\n",
            "       [[ 1.38862594e-03,  3.18742020e-02, -3.48004745e-03,\n",
            "          5.64260496e-04,  1.90085862e-04,  1.06474955e-02,\n",
            "          1.03884986e-04,  5.39662981e-03, -4.84443755e+00],\n",
            "        [ 2.82183052e-03,  3.90860869e-02, -5.93387059e-03,\n",
            "          9.65124463e-04, -6.13364930e-04,  2.13130058e-02,\n",
            "          2.49757696e-04,  7.21417992e-03, -5.94457996e+00],\n",
            "        [ 6.20967408e-03,  4.31043949e-02, -8.08719872e-03,\n",
            "          3.31420784e-04, -1.14307682e-03,  3.73684479e-02,\n",
            "          6.12102135e-04,  8.94816189e-03, -6.85042106e+00],\n",
            "        [ 1.32242540e-02,  4.48305251e-02, -9.58710379e-03,\n",
            "         -1.35018155e-03, -1.38980159e-03,  5.46159797e-02,\n",
            "          1.65598786e-03,  9.89205489e-03, -7.54486419e+00],\n",
            "        [ 2.40891680e-02,  4.55078816e-02, -1.04807510e-02,\n",
            "         -2.87449297e-03, -1.47937860e-03,  6.74681223e-02,\n",
            "          4.39622957e-03,  9.58580047e-03, -7.99482178e+00],\n",
            "        [ 3.50015951e-02,  4.50854710e-02, -1.13809751e-02,\n",
            "         -3.69174811e-03, -1.43296131e-03,  7.18331350e-02,\n",
            "          1.19555090e-02,  7.86417470e-03, -7.99750346e+00],\n",
            "        [ 4.25988714e-02,  4.59880890e-02, -1.12226135e-02,\n",
            "         -4.02838414e-03, -1.53506934e-03,  7.79278143e-02,\n",
            "          2.98706300e-02,  7.65430082e-03, -8.34872916e+00],\n",
            "        [ 4.62747958e-02,  4.58610745e-02, -1.14473543e-02,\n",
            "         -4.21869008e-03, -1.54354244e-03,  7.87542509e-02,\n",
            "          6.90696801e-02,  7.00277057e-03, -8.35041568e+00],\n",
            "        [ 4.76436489e-02,  4.57366485e-02, -1.16263735e-02,\n",
            "         -4.40548684e-03, -1.57609055e-03,  7.91357648e-02,\n",
            "          1.41659672e-01,  6.65915056e-03, -8.35564765e+00],\n",
            "        [ 4.79958383e-02,  4.56127386e-02, -1.17938009e-02,\n",
            "         -4.61534170e-03, -1.62247911e-03,  7.93862196e-02,\n",
            "          2.36615747e-01,  6.45247320e-03, -8.36686049e+00],\n",
            "        [ 4.79959333e-02,  4.56131186e-02, -1.17936718e-02,\n",
            "         -4.61529586e-03, -1.62219938e-03,  7.93864378e-02,\n",
            "          2.36616149e-01,  6.45251970e-03, -8.36686057e+00],\n",
            "        [ 4.83509222e-02,  4.58808163e-02, -1.17844769e-02,\n",
            "         -4.92210021e-03, -1.72832549e-03,  8.12797399e-02,\n",
            "          3.69359998e-01,  6.54376088e-03, -8.51796569e+00],\n",
            "        [ 4.83508297e-02,  4.58820053e-02, -1.17865130e-02,\n",
            "         -4.92285200e-03, -1.72917330e-03,  8.12804188e-02,\n",
            "          3.69361797e-01,  6.54452065e-03, -8.51796568e+00],\n",
            "        [ 4.83508317e-02,  4.58821964e-02, -1.17864862e-02,\n",
            "         -4.92281998e-03, -1.72876540e-03,  8.12804899e-02,\n",
            "          3.69361885e-01,  6.54457598e-03, -8.51796568e+00],\n",
            "        [ 4.83508160e-02,  4.58818806e-02, -1.17868974e-02,\n",
            "         -4.92291541e-03, -1.72863595e-03,  8.12804869e-02,\n",
            "          3.69362208e-01,  6.54452479e-03, -8.51796568e+00],\n",
            "        [ 4.83508203e-02,  4.58820383e-02, -1.17868858e-02,\n",
            "         -4.92290422e-03, -1.72844722e-03,  8.12805548e-02,\n",
            "          3.69362318e-01,  6.54458089e-03, -8.51796568e+00],\n",
            "        [ 4.83508169e-02,  4.58819201e-02, -1.17871851e-02,\n",
            "         -4.92299659e-03, -1.72856521e-03,  8.12806158e-02,\n",
            "          3.69362688e-01,  6.54460530e-03, -8.51796568e+00],\n",
            "        [ 4.83508221e-02,  4.58820869e-02, -1.17871640e-02,\n",
            "         -4.92298473e-03, -1.72839686e-03,  8.12806869e-02,\n",
            "          3.69362800e-01,  6.54466525e-03, -8.51796568e+00],\n",
            "        [ 4.83508207e-02,  4.58819969e-02, -1.17874329e-02,\n",
            "         -4.92307302e-03, -1.72855688e-03,  8.12807570e-02,\n",
            "          3.69363173e-01,  6.54470064e-03, -8.51796568e+00],\n",
            "        [ 4.83508259e-02,  4.58821620e-02, -1.17874090e-02,\n",
            "         -4.92306052e-03, -1.72839171e-03,  8.12808280e-02,\n",
            "          3.69363285e-01,  6.54476036e-03, -8.51796568e+00]],\n",
            "\n",
            "       [[ 3.94956856e-03,  3.21944103e-02, -1.87705669e-03,\n",
            "         -3.25011286e-03,  6.71555783e-04,  7.58327238e-03,\n",
            "          1.90267751e-04,  1.28284263e-02, -5.10046572e+00],\n",
            "        [ 8.25908563e-03,  3.87444297e-02, -3.71098568e-03,\n",
            "         -4.01660350e-03,  2.59117754e-04,  1.55865864e-02,\n",
            "          4.95587939e-04,  2.10622698e-02, -6.30883003e+00],\n",
            "        [ 1.67919764e-02,  4.19556924e-02, -5.74281092e-03,\n",
            "         -5.18290184e-03,  1.23233483e-04,  2.84380151e-02,\n",
            "          1.27339918e-03,  2.97876268e-02, -7.29089525e+00],\n",
            "        [ 3.20414524e-02,  4.30437484e-02, -7.33626414e-03,\n",
            "         -7.12115765e-03,  1.86165758e-04,  4.35401237e-02,\n",
            "          3.40031966e-03,  3.54085563e-02, -8.03286907e+00],\n",
            "        [ 5.32404824e-02,  4.33857963e-02, -8.31509946e-03,\n",
            "         -9.00248378e-03,  3.04737275e-04,  5.58905275e-02,\n",
            "          9.06731685e-03,  3.68455351e-02, -8.52201479e+00],\n",
            "        [ 7.32857817e-02,  4.35835088e-02, -8.86359135e-03,\n",
            "         -1.02000074e-02,  3.92439421e-04,  6.33477980e-02,\n",
            "          2.39769758e-02,  3.60718246e-02, -8.79756420e+00],\n",
            "        [ 8.58877925e-02,  4.33046016e-02, -9.32152377e-03,\n",
            "         -1.08173702e-02,  4.54900996e-04,  6.52926139e-02,\n",
            "          6.10111002e-02,  3.45605984e-02, -8.79978495e+00],\n",
            "        [ 9.29188356e-02,  4.38159847e-02, -9.25835406e-03,\n",
            "         -1.13627512e-02,  3.93469802e-04,  6.86239608e-02,\n",
            "          1.47134699e-01,  3.43201707e-02, -9.02288730e+00],\n",
            "        [ 9.67070476e-02,  4.36835176e-02, -9.43377412e-03,\n",
            "         -1.19440145e-02,  3.28641643e-04,  6.84582103e-02,\n",
            "          3.10160243e-01,  3.33583102e-02, -9.02456135e+00],\n",
            "        [ 1.00241836e-01,  4.40847221e-02, -9.39653421e-03,\n",
            "         -1.27857393e-02,  1.95360338e-04,  6.99774315e-02,\n",
            "          5.45493814e-01,  3.28837511e-02, -9.20321637e+00],\n",
            "        [ 1.02442658e-01,  4.39959838e-02, -9.56767539e-03,\n",
            "         -1.34789126e-02,  1.18554171e-04,  6.92196629e-02,\n",
            "          7.57794937e-01,  3.19408031e-02, -9.20368995e+00],\n",
            "        [ 1.03983210e-01,  4.40196703e-02, -9.66160398e-03,\n",
            "         -1.39406777e-02,  6.91131698e-05,  6.88636282e-02,\n",
            "          8.98010450e-01,  3.13872911e-02, -9.22364692e+00],\n",
            "        [ 1.03983248e-01,  4.40200663e-02, -9.66144635e-03,\n",
            "         -1.39406855e-02,  6.93403915e-05,  6.88637553e-02,\n",
            "          8.98010622e-01,  3.13873765e-02, -9.22364701e+00],\n",
            "        [ 1.05228435e-01,  4.41101876e-02, -9.70956484e-03,\n",
            "         -1.43136046e-02,  3.12816938e-05,  6.88969510e-02,\n",
            "          1.00276228e+00,  3.10531463e-02, -9.26176839e+00],\n",
            "        [ 1.05228441e-01,  4.41100965e-02, -9.70962049e-03,\n",
            "         -1.43136205e-02,  3.11290444e-05,  6.88969299e-02,\n",
            "          1.00276228e+00,  3.10530787e-02, -9.26176851e+00],\n",
            "        [ 1.05228465e-01,  4.41102718e-02, -9.70954461e-03,\n",
            "         -1.43135856e-02,  3.11922922e-05,  6.88969799e-02,\n",
            "          1.00276229e+00,  3.10530310e-02, -9.26176875e+00],\n",
            "        [ 1.05228472e-01,  4.41101699e-02, -9.70960691e-03,\n",
            "         -1.43136008e-02,  3.10688441e-05,  6.88969571e-02,\n",
            "          1.00276230e+00,  3.10529592e-02, -9.26176887e+00],\n",
            "        [ 1.05228497e-01,  4.41103206e-02, -9.70954440e-03,\n",
            "         -1.43135664e-02,  3.11672095e-05,  6.88970018e-02,\n",
            "          1.00276233e+00,  3.10529045e-02, -9.26176911e+00],\n",
            "        [ 1.05228504e-01,  4.41102147e-02, -9.70960837e-03,\n",
            "         -1.43135816e-02,  3.10498128e-05,  6.88969783e-02,\n",
            "          1.00276235e+00,  3.10528321e-02, -9.26176923e+00],\n",
            "        [ 1.05228528e-01,  4.41103590e-02, -9.70954816e-03,\n",
            "         -1.43135475e-02,  3.11562145e-05,  6.88970216e-02,\n",
            "          1.00276238e+00,  3.10527769e-02, -9.26176947e+00]],\n",
            "\n",
            "       [[ 1.77086909e-03,  2.71840153e-02,  1.77776627e-03,\n",
            "         -3.42577379e-03,  9.90224500e-04,  1.13249866e-02,\n",
            "          1.83575176e-04,  8.80012188e-03, -4.69680180e+00],\n",
            "        [ 3.08557657e-03,  3.23555905e-02,  1.28221308e-03,\n",
            "         -5.20750515e-03,  5.37679148e-04,  2.44341063e-02,\n",
            "          4.85313529e-04,  1.32318744e-02, -5.81999222e+00],\n",
            "        [ 5.27500258e-03,  3.47459777e-02,  1.82453605e-04,\n",
            "         -8.20431742e-03,  2.92271661e-04,  4.56589756e-02,\n",
            "          1.32861399e-03,  1.78616853e-02, -6.82852028e+00],\n",
            "        [ 8.56391655e-03,  3.56229770e-02, -8.35621705e-04,\n",
            "         -1.20823943e-02,  1.97968819e-04,  7.02122667e-02,\n",
            "          3.69722635e-03,  2.16023687e-02, -7.73625555e+00],\n",
            "        [ 1.23977175e-02,  3.59991017e-02, -1.45280441e-03,\n",
            "         -1.53960652e-02,  1.66909516e-04,  8.99029998e-02,\n",
            "          1.00553640e-02,  2.38621420e-02, -8.41936817e+00],\n",
            "        [ 1.56463204e-02,  3.62095560e-02, -1.75372090e-03,\n",
            "         -1.73943510e-02,  1.50691903e-04,  1.01407989e-01,\n",
            "          2.68843532e-02,  2.48123043e-02, -8.81778026e+00],\n",
            "        [ 1.73820213e-02,  3.63315400e-02, -1.90362765e-03,\n",
            "         -1.84648756e-02,  1.30815164e-04,  1.07026661e-01,\n",
            "          6.86512088e-02,  2.51176166e-02, -9.02198524e+00],\n",
            "        [ 1.82717288e-02,  3.61312757e-02, -2.31603415e-03,\n",
            "         -1.90458234e-02,  1.11813304e-04,  1.08223117e-01,\n",
            "          1.62790243e-01,  2.47164788e-02, -9.02439368e+00],\n",
            "        [ 1.82191510e-02,  3.59884155e-02, -2.74647195e-03,\n",
            "         -1.97097157e-02,  5.78228510e-05,  1.08771967e-01,\n",
            "          3.38833912e-01,  2.41135902e-02, -9.03344465e+00],\n",
            "        [ 1.66434352e-02,  3.67232501e-02, -2.52747798e-03,\n",
            "         -2.08486278e-02, -9.05419457e-05,  1.13915217e-01,\n",
            "          5.90544736e-01,  2.44363220e-02, -9.39764577e+00],\n",
            "        [ 1.62236272e-02,  3.66365270e-02, -3.02729141e-03,\n",
            "         -2.15229692e-02, -1.49798582e-04,  1.13816769e-01,\n",
            "          8.00629047e-01,  2.37639972e-02, -9.39840816e+00],\n",
            "        [ 1.61066346e-02,  3.66478986e-02, -3.30919002e-03,\n",
            "         -2.19590398e-02, -1.90560835e-04,  1.14003669e-01,\n",
            "          9.32018101e-01,  2.33969567e-02, -9.41975916e+00],\n",
            "        [ 1.61066446e-02,  3.66480300e-02, -3.30911626e-03,\n",
            "         -2.19590180e-02, -1.89975631e-04,  1.14003766e-01,\n",
            "          9.32018295e-01,  2.33969736e-02, -9.41975927e+00],\n",
            "        [ 1.61066432e-02,  3.66475112e-02, -3.30938326e-03,\n",
            "         -2.19591467e-02, -1.89953107e-04,  1.14003752e-01,\n",
            "          9.32018752e-01,  2.33968202e-02, -9.41975946e+00],\n",
            "        [ 1.61066603e-02,  3.66477333e-02, -3.30925567e-03,\n",
            "         -2.19591330e-02, -1.89576536e-04,  1.14003887e-01,\n",
            "          9.32019069e-01,  2.33968757e-02, -9.41975957e+00],\n",
            "        [ 1.61066668e-02,  3.66473474e-02, -3.30944474e-03,\n",
            "         -2.19592629e-02, -1.89767003e-04,  1.14003915e-01,\n",
            "          9.32019604e-01,  2.33967733e-02, -9.41975977e+00],\n",
            "        [ 1.61066861e-02,  3.66476134e-02, -3.30929205e-03,\n",
            "         -2.19592476e-02, -1.89447365e-04,  1.14004062e-01,\n",
            "          9.32019936e-01,  2.33968447e-02, -9.41975988e+00],\n",
            "        [ 1.61066947e-02,  3.66472688e-02, -3.30945733e-03,\n",
            "         -2.19593764e-02, -1.89705556e-04,  1.14004101e-01,\n",
            "          9.32020481e-01,  2.33967577e-02, -9.41976007e+00],\n",
            "        [ 1.61067146e-02,  3.66475480e-02, -3.30929744e-03,\n",
            "         -2.19593602e-02, -1.89403146e-04,  1.14004251e-01,\n",
            "          9.32020815e-01,  2.33968338e-02, -9.41976019e+00],\n",
            "        [ 1.61067238e-02,  3.66472167e-02, -3.30945582e-03,\n",
            "         -2.19594879e-02, -1.89681529e-04,  1.14004292e-01,\n",
            "          9.32021360e-01,  2.33967513e-02, -9.41976038e+00]]])} [-5.10863961] [1.00000000e-04 2.63665090e-04 6.95192796e-04 1.83298071e-03\n",
            " 4.83293024e-03 1.27427499e-02 3.35981829e-02 8.85866790e-02\n",
            " 2.33572147e-01 6.15848211e-01 1.62377674e+00 4.28133240e+00\n",
            " 1.12883789e+01 2.97635144e+01 7.84759970e+01 2.06913808e+02\n",
            " 5.45559478e+02 1.43844989e+03 3.79269019e+03 1.00000000e+04]\n"
          ]
        }
      ]
    },
    {
      "cell_type": "markdown",
      "source": [
        "##e"
      ],
      "metadata": {
        "id": "NHM31H6lGxK5"
      }
    },
    {
      "cell_type": "code",
      "source": [
        "from sklearn.metrics import roc_curve\n",
        "from sklearn.metrics import roc_auc_score"
      ],
      "metadata": {
        "id": "nrgr7NC-CRU1"
      },
      "execution_count": null,
      "outputs": []
    },
    {
      "cell_type": "code",
      "source": [
        "y_prob = logreg.predict_proba(x_te)\n",
        "y_1 = y_prob[:,1]"
      ],
      "metadata": {
        "id": "A2LYKjdPHzsM"
      },
      "execution_count": null,
      "outputs": []
    },
    {
      "cell_type": "code",
      "source": [
        "fpr, tpr, _ = roc_curve(y_te, y_1)"
      ],
      "metadata": {
        "id": "FAUU591bIe-W"
      },
      "execution_count": null,
      "outputs": []
    },
    {
      "cell_type": "code",
      "source": [],
      "metadata": {
        "id": "Uzx43nHsJHaM"
      },
      "execution_count": null,
      "outputs": []
    }
  ]
}